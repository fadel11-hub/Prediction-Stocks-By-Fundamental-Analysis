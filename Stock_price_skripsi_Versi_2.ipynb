{
  "cells": [
    {
      "cell_type": "markdown",
      "metadata": {
        "id": "_b4v2mJBF3Zj"
      },
      "source": [
        "#Libary Yfinance"
      ]
    },
    {
      "cell_type": "code",
      "execution_count": 1,
      "metadata": {
        "colab": {
          "base_uri": "https://localhost:8080/"
        },
        "id": "eUFxhpX3noEu",
        "outputId": "3e8149f0-ab4f-484e-c500-c382b954893d"
      },
      "outputs": [
        {
          "output_type": "stream",
          "name": "stdout",
          "text": [
            "Requirement already satisfied: yfinance in /usr/local/lib/python3.11/dist-packages (0.2.63)\n",
            "Requirement already satisfied: pandas>=1.3.0 in /usr/local/lib/python3.11/dist-packages (from yfinance) (2.2.2)\n",
            "Requirement already satisfied: numpy>=1.16.5 in /usr/local/lib/python3.11/dist-packages (from yfinance) (2.0.2)\n",
            "Requirement already satisfied: requests>=2.31 in /usr/local/lib/python3.11/dist-packages (from yfinance) (2.32.3)\n",
            "Requirement already satisfied: multitasking>=0.0.7 in /usr/local/lib/python3.11/dist-packages (from yfinance) (0.0.11)\n",
            "Requirement already satisfied: platformdirs>=2.0.0 in /usr/local/lib/python3.11/dist-packages (from yfinance) (4.3.8)\n",
            "Requirement already satisfied: pytz>=2022.5 in /usr/local/lib/python3.11/dist-packages (from yfinance) (2025.2)\n",
            "Requirement already satisfied: frozendict>=2.3.4 in /usr/local/lib/python3.11/dist-packages (from yfinance) (2.4.6)\n",
            "Requirement already satisfied: peewee>=3.16.2 in /usr/local/lib/python3.11/dist-packages (from yfinance) (3.18.1)\n",
            "Requirement already satisfied: beautifulsoup4>=4.11.1 in /usr/local/lib/python3.11/dist-packages (from yfinance) (4.13.4)\n",
            "Requirement already satisfied: curl_cffi>=0.7 in /usr/local/lib/python3.11/dist-packages (from yfinance) (0.11.1)\n",
            "Requirement already satisfied: protobuf>=3.19.0 in /usr/local/lib/python3.11/dist-packages (from yfinance) (5.29.5)\n",
            "Requirement already satisfied: websockets>=13.0 in /usr/local/lib/python3.11/dist-packages (from yfinance) (15.0.1)\n",
            "Requirement already satisfied: soupsieve>1.2 in /usr/local/lib/python3.11/dist-packages (from beautifulsoup4>=4.11.1->yfinance) (2.7)\n",
            "Requirement already satisfied: typing-extensions>=4.0.0 in /usr/local/lib/python3.11/dist-packages (from beautifulsoup4>=4.11.1->yfinance) (4.14.0)\n",
            "Requirement already satisfied: cffi>=1.12.0 in /usr/local/lib/python3.11/dist-packages (from curl_cffi>=0.7->yfinance) (1.17.1)\n",
            "Requirement already satisfied: certifi>=2024.2.2 in /usr/local/lib/python3.11/dist-packages (from curl_cffi>=0.7->yfinance) (2025.4.26)\n",
            "Requirement already satisfied: python-dateutil>=2.8.2 in /usr/local/lib/python3.11/dist-packages (from pandas>=1.3.0->yfinance) (2.9.0.post0)\n",
            "Requirement already satisfied: tzdata>=2022.7 in /usr/local/lib/python3.11/dist-packages (from pandas>=1.3.0->yfinance) (2025.2)\n",
            "Requirement already satisfied: charset-normalizer<4,>=2 in /usr/local/lib/python3.11/dist-packages (from requests>=2.31->yfinance) (3.4.2)\n",
            "Requirement already satisfied: idna<4,>=2.5 in /usr/local/lib/python3.11/dist-packages (from requests>=2.31->yfinance) (3.10)\n",
            "Requirement already satisfied: urllib3<3,>=1.21.1 in /usr/local/lib/python3.11/dist-packages (from requests>=2.31->yfinance) (2.4.0)\n",
            "Requirement already satisfied: pycparser in /usr/local/lib/python3.11/dist-packages (from cffi>=1.12.0->curl_cffi>=0.7->yfinance) (2.22)\n",
            "Requirement already satisfied: six>=1.5 in /usr/local/lib/python3.11/dist-packages (from python-dateutil>=2.8.2->pandas>=1.3.0->yfinance) (1.17.0)\n"
          ]
        }
      ],
      "source": [
        "# prompt: Cek versi yfinance di upgrade sampai dengan 0.2.59\n",
        "\n",
        "!pip install --upgrade yfinance\n"
      ]
    },
    {
      "cell_type": "code",
      "execution_count": 2,
      "metadata": {
        "id": "1__H5qdh8fVP"
      },
      "outputs": [],
      "source": [
        "# pip install --upgrade tensorflow"
      ]
    },
    {
      "cell_type": "code",
      "execution_count": 3,
      "metadata": {
        "id": "JY4HC0cTqTq9"
      },
      "outputs": [],
      "source": [
        "import yfinance as yf\n",
        "import pandas as pd\n",
        "import numpy as np\n",
        "import sklearn\n",
        "from sklearn.preprocessing import MinMaxScaler\n",
        "import tensorflow as tf\n",
        "from tensorflow.keras.models import Sequential\n",
        "from tensorflow.keras.layers import Dense, LSTM, Bidirectional, Dropout\n",
        "from tensorflow.keras.metrics import MeanSquaredError, MeanAbsoluteError\n",
        "from sklearn.metrics import mean_squared_error, mean_absolute_error\n",
        "import matplotlib\n",
        "import matplotlib.pyplot as plt\n",
        "import seaborn as sns\n",
        "import joblib\n",
        "from joblib import load\n",
        "\n",
        "ticker = \"TLKM.JK\""
      ]
    },
    {
      "cell_type": "code",
      "execution_count": 4,
      "metadata": {
        "colab": {
          "base_uri": "https://localhost:8080/"
        },
        "id": "A5E5F1WvnvJX",
        "outputId": "9461d5f6-ecbb-4bdf-a051-cc114e98ceb5"
      },
      "outputs": [
        {
          "output_type": "stream",
          "name": "stdout",
          "text": [
            "Library Versions:\n",
            "------------------\n",
            "yfinance: 0.2.63\n",
            "pandas: 2.2.2\n",
            "numpy: 2.0.2\n",
            "scikit-learn: 1.6.1\n",
            "tensorflow: 2.18.0\n",
            "Keras: 3.8.0\n",
            "matplotlib: 3.10.0\n",
            "Seaborn 0.13.2\n",
            "joblib 1.5.1\n"
          ]
        }
      ],
      "source": [
        "# prompt: cek versi yfinance\n",
        "print(\"Library Versions:\")\n",
        "print(\"------------------\")\n",
        "print(\"yfinance:\", yf.__version__)\n",
        "print(\"pandas:\", pd.__version__)\n",
        "print(\"numpy:\", np.__version__)\n",
        "print(\"scikit-learn:\", sklearn.__version__)\n",
        "print(\"tensorflow:\", tf.__version__)\n",
        "print(\"Keras:\",tf.keras.__version__)\n",
        "print(\"matplotlib:\", matplotlib.__version__)\n",
        "print('Seaborn',sns.__version__ )\n",
        "print('joblib',joblib.__version__ )"
      ]
    },
    {
      "cell_type": "markdown",
      "metadata": {
        "id": "zDYM449Dqc5S"
      },
      "source": [
        "##Data harga saham"
      ]
    },
    {
      "cell_type": "code",
      "execution_count": 5,
      "metadata": {
        "colab": {
          "base_uri": "https://localhost:8080/"
        },
        "id": "Lb9HozzYF-jr",
        "outputId": "da04e55b-d142-4818-e407-3a066c970f73"
      },
      "outputs": [
        {
          "output_type": "stream",
          "name": "stderr",
          "text": [
            "<ipython-input-5-2553155971>:1: FutureWarning: YF.download() has changed argument auto_adjust default to True\n",
            "  data_stocks = yf.download(ticker, start = '2021-12-31', end='2025-05-11')\n",
            "[*********************100%***********************]  1 of 1 completed"
          ]
        },
        {
          "output_type": "stream",
          "name": "stdout",
          "text": [
            "Price             Close         High          Low         Open     Volume\n",
            "Ticker          TLKM.JK      TLKM.JK      TLKM.JK      TLKM.JK    TLKM.JK\n",
            "Date                                                                     \n",
            "2022-01-03  3380.564453  3380.564453  3275.427281  3283.514756   65937900\n",
            "2022-01-04  3372.476807  3396.739230  3356.301858  3380.564281   42984700\n",
            "2022-01-05  3275.427002  3388.651639  3259.252054  3356.301743  119584700\n",
            "2022-01-06  3332.039307  3332.039307  3259.252040  3307.776885   89197500\n",
            "2022-01-07  3372.476807  3388.651755  3307.777012  3332.039435   68415100\n",
            "...                 ...          ...          ...          ...        ...\n",
            "2025-05-05  2502.866211  2512.136086  2475.056586  2512.136086   85592500\n",
            "2025-05-06  2484.326416  2530.675789  2484.326416  2521.405915   76948300\n",
            "2025-05-07  2428.707275  2493.596401  2428.707275  2484.326526  100293700\n",
            "2025-05-08  2382.357910  2447.247036  2382.357910  2437.977161  122965300\n",
            "2025-05-09  2410.167480  2437.977105  2382.357856  2382.357856   59433500\n",
            "\n",
            "[802 rows x 5 columns]\n"
          ]
        },
        {
          "output_type": "stream",
          "name": "stderr",
          "text": [
            "\n"
          ]
        }
      ],
      "source": [
        "data_stocks = yf.download(ticker, start = '2021-12-31', end='2025-05-11')\n",
        "\n",
        "print(data_stocks)"
      ]
    },
    {
      "cell_type": "code",
      "execution_count": 6,
      "metadata": {
        "id": "Br5yOzchGFGn"
      },
      "outputs": [],
      "source": [
        "data_stocks.columns = data_stocks.columns.droplevel(1)\n",
        "\n",
        "# data_stocks.reset_index(inplace=True)\n",
        "\n"
      ]
    },
    {
      "cell_type": "code",
      "execution_count": 7,
      "metadata": {
        "colab": {
          "base_uri": "https://localhost:8080/"
        },
        "id": "Lq5BDMWRHBK_",
        "outputId": "7a4d0a0a-633c-440f-e9f1-84845a3f22fb"
      },
      "outputs": [
        {
          "output_type": "stream",
          "name": "stdout",
          "text": [
            "Price             Close         High          Low         Open     Volume\n",
            "Date                                                                     \n",
            "2022-01-03  3380.564453  3380.564453  3275.427281  3283.514756   65937900\n",
            "2022-01-04  3372.476807  3396.739230  3356.301858  3380.564281   42984700\n",
            "2022-01-05  3275.427002  3388.651639  3259.252054  3356.301743  119584700\n",
            "2022-01-06  3332.039307  3332.039307  3259.252040  3307.776885   89197500\n",
            "2022-01-07  3372.476807  3388.651755  3307.777012  3332.039435   68415100\n"
          ]
        }
      ],
      "source": [
        "print(data_stocks.head())"
      ]
    },
    {
      "cell_type": "code",
      "execution_count": 8,
      "metadata": {
        "colab": {
          "base_uri": "https://localhost:8080/"
        },
        "id": "mTbPX7ynqHBd",
        "outputId": "c5529a04-69b8-431b-f33e-bc9689fe8287"
      },
      "outputs": [
        {
          "output_type": "execute_result",
          "data": {
            "text/plain": [
              "Index(['Close', 'High', 'Low', 'Open', 'Volume'], dtype='object', name='Price')"
            ]
          },
          "metadata": {},
          "execution_count": 8
        }
      ],
      "source": [
        "data_stocks.columns"
      ]
    },
    {
      "cell_type": "code",
      "execution_count": 9,
      "metadata": {
        "id": "FGOWM7hH9xLa"
      },
      "outputs": [],
      "source": [
        "# data_stocks.to_csv('Data saham.csv')"
      ]
    },
    {
      "cell_type": "markdown",
      "metadata": {
        "id": "CQdNLAJStDUL"
      },
      "source": [
        "##Ambil data keuangan fundamental"
      ]
    },
    {
      "cell_type": "markdown",
      "metadata": {
        "id": "GDot6SA9yZI8"
      },
      "source": [
        "###Income Statement"
      ]
    },
    {
      "cell_type": "code",
      "execution_count": 10,
      "metadata": {
        "id": "hg-cdVkMumfO"
      },
      "outputs": [],
      "source": [
        "stock = yf.Ticker(ticker)"
      ]
    },
    {
      "cell_type": "code",
      "execution_count": 11,
      "metadata": {
        "colab": {
          "base_uri": "https://localhost:8080/"
        },
        "id": "sbbbs6rhp_Hw",
        "outputId": "3702cd90-929b-482f-da8d-6ec0d2bca1bb"
      },
      "outputs": [
        {
          "output_type": "execute_result",
          "data": {
            "text/plain": [
              "DatetimeIndex(['2025-03-31', '2024-12-31', '2024-09-30', '2024-06-30',\n",
              "               '2024-03-31', '2023-09-30'],\n",
              "              dtype='datetime64[ns]', freq=None)"
            ]
          },
          "metadata": {},
          "execution_count": 11
        }
      ],
      "source": [
        "quartaly_income = stock.quarterly_financials\n",
        "quartaly_income.columns"
      ]
    },
    {
      "cell_type": "code",
      "execution_count": 12,
      "metadata": {
        "id": "xU-RfA1uZ5-h"
      },
      "outputs": [],
      "source": [
        "# Ubah nama kolom '2023-09-30' menjadi '2023-12-31'\n",
        "quartaly_income.rename(columns={pd.to_datetime(\"2023-09-30\"): pd.to_datetime(\"2023-12-31\")}, inplace=True)\n",
        "quartaly_income[\"2023-12-31\"] = 5600000000000.0\n"
      ]
    },
    {
      "cell_type": "code",
      "execution_count": 13,
      "metadata": {
        "id": "8kJDSY7StbBU"
      },
      "outputs": [],
      "source": [
        "quartaly_income = quartaly_income.T"
      ]
    },
    {
      "cell_type": "code",
      "execution_count": 14,
      "metadata": {
        "colab": {
          "base_uri": "https://localhost:8080/"
        },
        "id": "Kx3qB656v7ZF",
        "outputId": "f063faa5-e8ce-4f35-a753-83caf1c6685d"
      },
      "outputs": [
        {
          "output_type": "execute_result",
          "data": {
            "text/plain": [
              "Index(['Tax Effect Of Unusual Items', 'Tax Rate For Calcs',\n",
              "       'Normalized EBITDA', 'Total Unusual Items',\n",
              "       'Total Unusual Items Excluding Goodwill',\n",
              "       'Net Income From Continuing Operation Net Minority Interest',\n",
              "       'Reconciled Depreciation', 'Reconciled Cost Of Revenue', 'EBITDA',\n",
              "       'EBIT', 'Net Interest Income', 'Interest Expense', 'Interest Income',\n",
              "       'Normalized Income',\n",
              "       'Net Income From Continuing And Discontinued Operation',\n",
              "       'Total Expenses', 'Rent Expense Supplemental',\n",
              "       'Total Operating Income As Reported', 'Diluted Average Shares',\n",
              "       'Basic Average Shares', 'Diluted EPS', 'Basic EPS',\n",
              "       'Diluted NI Availto Com Stockholders', 'Net Income Common Stockholders',\n",
              "       'Net Income', 'Minority Interests',\n",
              "       'Net Income Including Noncontrolling Interests',\n",
              "       'Net Income Continuous Operations', 'Tax Provision', 'Pretax Income',\n",
              "       'Other Income Expense', 'Other Non Operating Income Expenses',\n",
              "       'Earnings From Equity Interest', 'Gain On Sale Of Security',\n",
              "       'Net Non Operating Interest Income Expense',\n",
              "       'Interest Expense Non Operating', 'Interest Income Non Operating',\n",
              "       'Operating Income', 'Operating Expense', 'Other Operating Expenses',\n",
              "       'Provision For Doubtful Accounts',\n",
              "       'Depreciation Amortization Depletion Income Statement',\n",
              "       'Depreciation And Amortization In Income Statement',\n",
              "       'Selling General And Administration', 'Selling And Marketing Expense',\n",
              "       'General And Administrative Expense', 'Other Gand A',\n",
              "       'Salaries And Wages', 'Gross Profit', 'Cost Of Revenue',\n",
              "       'Total Revenue', 'Operating Revenue'],\n",
              "      dtype='object')"
            ]
          },
          "metadata": {},
          "execution_count": 14
        }
      ],
      "source": [
        "quartaly_income.columns"
      ]
    },
    {
      "cell_type": "code",
      "execution_count": 15,
      "metadata": {
        "colab": {
          "base_uri": "https://localhost:8080/",
          "height": 477
        },
        "id": "v5jDcLDKu8v3",
        "outputId": "c5e1f256-e345-452f-8fdc-198699ee03a2"
      },
      "outputs": [
        {
          "output_type": "execute_result",
          "data": {
            "text/plain": [
              "           Tax Effect Of Unusual Items Tax Rate For Calcs Normalized EBITDA  \\\n",
              "2025-03-31          80426590198.123047           0.207821  18574000000000.0   \n",
              "2024-12-31         158843412640.184479           0.192537  18426000000000.0   \n",
              "2024-09-30          36125335258.923042           0.216319  19086000000000.0   \n",
              "2024-06-30         -76093251533.742325           0.222495  19386000000000.0   \n",
              "2024-03-31         -74662131519.274384           0.229025  19753000000000.0   \n",
              "2023-12-31             5600000000000.0    5600000000000.0   5600000000000.0   \n",
              "\n",
              "           Total Unusual Items Total Unusual Items Excluding Goodwill  \\\n",
              "2025-03-31      387000000000.0                         387000000000.0   \n",
              "2024-12-31      825000000000.0                         825000000000.0   \n",
              "2024-09-30      167000000000.0                         167000000000.0   \n",
              "2024-06-30     -342000000000.0                        -342000000000.0   \n",
              "2024-03-31     -326000000000.0                        -326000000000.0   \n",
              "2023-12-31     5600000000000.0                        5600000000000.0   \n",
              "\n",
              "           Net Income From Continuing Operation Net Minority Interest  \\\n",
              "2025-03-31                                    5810000000000.0           \n",
              "2024-12-31                                    5936000000000.0           \n",
              "2024-09-30                                    5914000000000.0           \n",
              "2024-06-30                                    5708000000000.0           \n",
              "2024-03-31                                    6053000000000.0           \n",
              "2023-12-31                                    5600000000000.0           \n",
              "\n",
              "           Reconciled Depreciation Reconciled Cost Of Revenue  \\\n",
              "2025-03-31         8055000000000.0           11672000000000.0   \n",
              "2024-12-31         8346000000000.0           13097000000000.0   \n",
              "2024-09-30         8121000000000.0           11975000000000.0   \n",
              "2024-06-30         8044000000000.0           11448000000000.0   \n",
              "2024-03-31         8085000000000.0           11562000000000.0   \n",
              "2023-12-31         5600000000000.0            5600000000000.0   \n",
              "\n",
              "                      EBITDA              EBIT  ...  \\\n",
              "2025-03-31  18961000000000.0  10906000000000.0  ...   \n",
              "2024-12-31  19251000000000.0  10905000000000.0  ...   \n",
              "2024-09-30  19253000000000.0  11132000000000.0  ...   \n",
              "2024-06-30  19044000000000.0  11000000000000.0  ...   \n",
              "2024-03-31  19427000000000.0  11342000000000.0  ...   \n",
              "2023-12-31   5600000000000.0   5600000000000.0  ...   \n",
              "\n",
              "           Depreciation And Amortization In Income Statement  \\\n",
              "2025-03-31                                   8055000000000.0   \n",
              "2024-12-31                                   8346000000000.0   \n",
              "2024-09-30                                   8121000000000.0   \n",
              "2024-06-30                                   8044000000000.0   \n",
              "2024-03-31                                   8085000000000.0   \n",
              "2023-12-31                                   5600000000000.0   \n",
              "\n",
              "           Selling General And Administration Selling And Marketing Expense  \\\n",
              "2025-03-31                    6060000000000.0                766000000000.0   \n",
              "2024-12-31                    6334000000000.0               1297000000000.0   \n",
              "2024-09-30                    5972000000000.0                956000000000.0   \n",
              "2024-06-30                    7646000000000.0                777000000000.0   \n",
              "2024-03-31                    6000000000000.0                794000000000.0   \n",
              "2023-12-31                    5600000000000.0               5600000000000.0   \n",
              "\n",
              "           General And Administrative Expense     Other Gand A  \\\n",
              "2025-03-31                    5294000000000.0  1136000000000.0   \n",
              "2024-12-31                    5037000000000.0   933000000000.0   \n",
              "2024-09-30                    5016000000000.0  1345000000000.0   \n",
              "2024-06-30                    6869000000000.0  1613000000000.0   \n",
              "2024-03-31                    5206000000000.0   977000000000.0   \n",
              "2023-12-31                    5600000000000.0  5600000000000.0   \n",
              "\n",
              "           Salaries And Wages      Gross Profit   Cost Of Revenue  \\\n",
              "2025-03-31    4158000000000.0  24967000000000.0  11672000000000.0   \n",
              "2024-12-31    4104000000000.0  24651000000000.0  13097000000000.0   \n",
              "2024-09-30    3671000000000.0  24952000000000.0  11975000000000.0   \n",
              "2024-06-30    5256000000000.0  26415000000000.0  11448000000000.0   \n",
              "2024-03-31    4229000000000.0  25867000000000.0  11562000000000.0   \n",
              "2023-12-31    5600000000000.0   5600000000000.0   5600000000000.0   \n",
              "\n",
              "               Total Revenue Operating Revenue  \n",
              "2025-03-31  36639000000000.0  36639000000000.0  \n",
              "2024-12-31  37748000000000.0  30515000000000.0  \n",
              "2024-09-30  36927000000000.0  36927000000000.0  \n",
              "2024-06-30  37863000000000.0  37863000000000.0  \n",
              "2024-03-31  37429000000000.0  37429000000000.0  \n",
              "2023-12-31   5600000000000.0   5600000000000.0  \n",
              "\n",
              "[6 rows x 52 columns]"
            ],
            "text/html": [
              "\n",
              "  <div id=\"df-09de915c-fe60-4dc7-a123-f5b2dd759d5b\" class=\"colab-df-container\">\n",
              "    <div>\n",
              "<style scoped>\n",
              "    .dataframe tbody tr th:only-of-type {\n",
              "        vertical-align: middle;\n",
              "    }\n",
              "\n",
              "    .dataframe tbody tr th {\n",
              "        vertical-align: top;\n",
              "    }\n",
              "\n",
              "    .dataframe thead th {\n",
              "        text-align: right;\n",
              "    }\n",
              "</style>\n",
              "<table border=\"1\" class=\"dataframe\">\n",
              "  <thead>\n",
              "    <tr style=\"text-align: right;\">\n",
              "      <th></th>\n",
              "      <th>Tax Effect Of Unusual Items</th>\n",
              "      <th>Tax Rate For Calcs</th>\n",
              "      <th>Normalized EBITDA</th>\n",
              "      <th>Total Unusual Items</th>\n",
              "      <th>Total Unusual Items Excluding Goodwill</th>\n",
              "      <th>Net Income From Continuing Operation Net Minority Interest</th>\n",
              "      <th>Reconciled Depreciation</th>\n",
              "      <th>Reconciled Cost Of Revenue</th>\n",
              "      <th>EBITDA</th>\n",
              "      <th>EBIT</th>\n",
              "      <th>...</th>\n",
              "      <th>Depreciation And Amortization In Income Statement</th>\n",
              "      <th>Selling General And Administration</th>\n",
              "      <th>Selling And Marketing Expense</th>\n",
              "      <th>General And Administrative Expense</th>\n",
              "      <th>Other Gand A</th>\n",
              "      <th>Salaries And Wages</th>\n",
              "      <th>Gross Profit</th>\n",
              "      <th>Cost Of Revenue</th>\n",
              "      <th>Total Revenue</th>\n",
              "      <th>Operating Revenue</th>\n",
              "    </tr>\n",
              "  </thead>\n",
              "  <tbody>\n",
              "    <tr>\n",
              "      <th>2025-03-31</th>\n",
              "      <td>80426590198.123047</td>\n",
              "      <td>0.207821</td>\n",
              "      <td>18574000000000.0</td>\n",
              "      <td>387000000000.0</td>\n",
              "      <td>387000000000.0</td>\n",
              "      <td>5810000000000.0</td>\n",
              "      <td>8055000000000.0</td>\n",
              "      <td>11672000000000.0</td>\n",
              "      <td>18961000000000.0</td>\n",
              "      <td>10906000000000.0</td>\n",
              "      <td>...</td>\n",
              "      <td>8055000000000.0</td>\n",
              "      <td>6060000000000.0</td>\n",
              "      <td>766000000000.0</td>\n",
              "      <td>5294000000000.0</td>\n",
              "      <td>1136000000000.0</td>\n",
              "      <td>4158000000000.0</td>\n",
              "      <td>24967000000000.0</td>\n",
              "      <td>11672000000000.0</td>\n",
              "      <td>36639000000000.0</td>\n",
              "      <td>36639000000000.0</td>\n",
              "    </tr>\n",
              "    <tr>\n",
              "      <th>2024-12-31</th>\n",
              "      <td>158843412640.184479</td>\n",
              "      <td>0.192537</td>\n",
              "      <td>18426000000000.0</td>\n",
              "      <td>825000000000.0</td>\n",
              "      <td>825000000000.0</td>\n",
              "      <td>5936000000000.0</td>\n",
              "      <td>8346000000000.0</td>\n",
              "      <td>13097000000000.0</td>\n",
              "      <td>19251000000000.0</td>\n",
              "      <td>10905000000000.0</td>\n",
              "      <td>...</td>\n",
              "      <td>8346000000000.0</td>\n",
              "      <td>6334000000000.0</td>\n",
              "      <td>1297000000000.0</td>\n",
              "      <td>5037000000000.0</td>\n",
              "      <td>933000000000.0</td>\n",
              "      <td>4104000000000.0</td>\n",
              "      <td>24651000000000.0</td>\n",
              "      <td>13097000000000.0</td>\n",
              "      <td>37748000000000.0</td>\n",
              "      <td>30515000000000.0</td>\n",
              "    </tr>\n",
              "    <tr>\n",
              "      <th>2024-09-30</th>\n",
              "      <td>36125335258.923042</td>\n",
              "      <td>0.216319</td>\n",
              "      <td>19086000000000.0</td>\n",
              "      <td>167000000000.0</td>\n",
              "      <td>167000000000.0</td>\n",
              "      <td>5914000000000.0</td>\n",
              "      <td>8121000000000.0</td>\n",
              "      <td>11975000000000.0</td>\n",
              "      <td>19253000000000.0</td>\n",
              "      <td>11132000000000.0</td>\n",
              "      <td>...</td>\n",
              "      <td>8121000000000.0</td>\n",
              "      <td>5972000000000.0</td>\n",
              "      <td>956000000000.0</td>\n",
              "      <td>5016000000000.0</td>\n",
              "      <td>1345000000000.0</td>\n",
              "      <td>3671000000000.0</td>\n",
              "      <td>24952000000000.0</td>\n",
              "      <td>11975000000000.0</td>\n",
              "      <td>36927000000000.0</td>\n",
              "      <td>36927000000000.0</td>\n",
              "    </tr>\n",
              "    <tr>\n",
              "      <th>2024-06-30</th>\n",
              "      <td>-76093251533.742325</td>\n",
              "      <td>0.222495</td>\n",
              "      <td>19386000000000.0</td>\n",
              "      <td>-342000000000.0</td>\n",
              "      <td>-342000000000.0</td>\n",
              "      <td>5708000000000.0</td>\n",
              "      <td>8044000000000.0</td>\n",
              "      <td>11448000000000.0</td>\n",
              "      <td>19044000000000.0</td>\n",
              "      <td>11000000000000.0</td>\n",
              "      <td>...</td>\n",
              "      <td>8044000000000.0</td>\n",
              "      <td>7646000000000.0</td>\n",
              "      <td>777000000000.0</td>\n",
              "      <td>6869000000000.0</td>\n",
              "      <td>1613000000000.0</td>\n",
              "      <td>5256000000000.0</td>\n",
              "      <td>26415000000000.0</td>\n",
              "      <td>11448000000000.0</td>\n",
              "      <td>37863000000000.0</td>\n",
              "      <td>37863000000000.0</td>\n",
              "    </tr>\n",
              "    <tr>\n",
              "      <th>2024-03-31</th>\n",
              "      <td>-74662131519.274384</td>\n",
              "      <td>0.229025</td>\n",
              "      <td>19753000000000.0</td>\n",
              "      <td>-326000000000.0</td>\n",
              "      <td>-326000000000.0</td>\n",
              "      <td>6053000000000.0</td>\n",
              "      <td>8085000000000.0</td>\n",
              "      <td>11562000000000.0</td>\n",
              "      <td>19427000000000.0</td>\n",
              "      <td>11342000000000.0</td>\n",
              "      <td>...</td>\n",
              "      <td>8085000000000.0</td>\n",
              "      <td>6000000000000.0</td>\n",
              "      <td>794000000000.0</td>\n",
              "      <td>5206000000000.0</td>\n",
              "      <td>977000000000.0</td>\n",
              "      <td>4229000000000.0</td>\n",
              "      <td>25867000000000.0</td>\n",
              "      <td>11562000000000.0</td>\n",
              "      <td>37429000000000.0</td>\n",
              "      <td>37429000000000.0</td>\n",
              "    </tr>\n",
              "    <tr>\n",
              "      <th>2023-12-31</th>\n",
              "      <td>5600000000000.0</td>\n",
              "      <td>5600000000000.0</td>\n",
              "      <td>5600000000000.0</td>\n",
              "      <td>5600000000000.0</td>\n",
              "      <td>5600000000000.0</td>\n",
              "      <td>5600000000000.0</td>\n",
              "      <td>5600000000000.0</td>\n",
              "      <td>5600000000000.0</td>\n",
              "      <td>5600000000000.0</td>\n",
              "      <td>5600000000000.0</td>\n",
              "      <td>...</td>\n",
              "      <td>5600000000000.0</td>\n",
              "      <td>5600000000000.0</td>\n",
              "      <td>5600000000000.0</td>\n",
              "      <td>5600000000000.0</td>\n",
              "      <td>5600000000000.0</td>\n",
              "      <td>5600000000000.0</td>\n",
              "      <td>5600000000000.0</td>\n",
              "      <td>5600000000000.0</td>\n",
              "      <td>5600000000000.0</td>\n",
              "      <td>5600000000000.0</td>\n",
              "    </tr>\n",
              "  </tbody>\n",
              "</table>\n",
              "<p>6 rows × 52 columns</p>\n",
              "</div>\n",
              "    <div class=\"colab-df-buttons\">\n",
              "\n",
              "  <div class=\"colab-df-container\">\n",
              "    <button class=\"colab-df-convert\" onclick=\"convertToInteractive('df-09de915c-fe60-4dc7-a123-f5b2dd759d5b')\"\n",
              "            title=\"Convert this dataframe to an interactive table.\"\n",
              "            style=\"display:none;\">\n",
              "\n",
              "  <svg xmlns=\"http://www.w3.org/2000/svg\" height=\"24px\" viewBox=\"0 -960 960 960\">\n",
              "    <path d=\"M120-120v-720h720v720H120Zm60-500h600v-160H180v160Zm220 220h160v-160H400v160Zm0 220h160v-160H400v160ZM180-400h160v-160H180v160Zm440 0h160v-160H620v160ZM180-180h160v-160H180v160Zm440 0h160v-160H620v160Z\"/>\n",
              "  </svg>\n",
              "    </button>\n",
              "\n",
              "  <style>\n",
              "    .colab-df-container {\n",
              "      display:flex;\n",
              "      gap: 12px;\n",
              "    }\n",
              "\n",
              "    .colab-df-convert {\n",
              "      background-color: #E8F0FE;\n",
              "      border: none;\n",
              "      border-radius: 50%;\n",
              "      cursor: pointer;\n",
              "      display: none;\n",
              "      fill: #1967D2;\n",
              "      height: 32px;\n",
              "      padding: 0 0 0 0;\n",
              "      width: 32px;\n",
              "    }\n",
              "\n",
              "    .colab-df-convert:hover {\n",
              "      background-color: #E2EBFA;\n",
              "      box-shadow: 0px 1px 2px rgba(60, 64, 67, 0.3), 0px 1px 3px 1px rgba(60, 64, 67, 0.15);\n",
              "      fill: #174EA6;\n",
              "    }\n",
              "\n",
              "    .colab-df-buttons div {\n",
              "      margin-bottom: 4px;\n",
              "    }\n",
              "\n",
              "    [theme=dark] .colab-df-convert {\n",
              "      background-color: #3B4455;\n",
              "      fill: #D2E3FC;\n",
              "    }\n",
              "\n",
              "    [theme=dark] .colab-df-convert:hover {\n",
              "      background-color: #434B5C;\n",
              "      box-shadow: 0px 1px 3px 1px rgba(0, 0, 0, 0.15);\n",
              "      filter: drop-shadow(0px 1px 2px rgba(0, 0, 0, 0.3));\n",
              "      fill: #FFFFFF;\n",
              "    }\n",
              "  </style>\n",
              "\n",
              "    <script>\n",
              "      const buttonEl =\n",
              "        document.querySelector('#df-09de915c-fe60-4dc7-a123-f5b2dd759d5b button.colab-df-convert');\n",
              "      buttonEl.style.display =\n",
              "        google.colab.kernel.accessAllowed ? 'block' : 'none';\n",
              "\n",
              "      async function convertToInteractive(key) {\n",
              "        const element = document.querySelector('#df-09de915c-fe60-4dc7-a123-f5b2dd759d5b');\n",
              "        const dataTable =\n",
              "          await google.colab.kernel.invokeFunction('convertToInteractive',\n",
              "                                                    [key], {});\n",
              "        if (!dataTable) return;\n",
              "\n",
              "        const docLinkHtml = 'Like what you see? Visit the ' +\n",
              "          '<a target=\"_blank\" href=https://colab.research.google.com/notebooks/data_table.ipynb>data table notebook</a>'\n",
              "          + ' to learn more about interactive tables.';\n",
              "        element.innerHTML = '';\n",
              "        dataTable['output_type'] = 'display_data';\n",
              "        await google.colab.output.renderOutput(dataTable, element);\n",
              "        const docLink = document.createElement('div');\n",
              "        docLink.innerHTML = docLinkHtml;\n",
              "        element.appendChild(docLink);\n",
              "      }\n",
              "    </script>\n",
              "  </div>\n",
              "\n",
              "\n",
              "    <div id=\"df-4396a594-40a7-4422-8594-4e8a4f4a3abf\">\n",
              "      <button class=\"colab-df-quickchart\" onclick=\"quickchart('df-4396a594-40a7-4422-8594-4e8a4f4a3abf')\"\n",
              "                title=\"Suggest charts\"\n",
              "                style=\"display:none;\">\n",
              "\n",
              "<svg xmlns=\"http://www.w3.org/2000/svg\" height=\"24px\"viewBox=\"0 0 24 24\"\n",
              "     width=\"24px\">\n",
              "    <g>\n",
              "        <path d=\"M19 3H5c-1.1 0-2 .9-2 2v14c0 1.1.9 2 2 2h14c1.1 0 2-.9 2-2V5c0-1.1-.9-2-2-2zM9 17H7v-7h2v7zm4 0h-2V7h2v10zm4 0h-2v-4h2v4z\"/>\n",
              "    </g>\n",
              "</svg>\n",
              "      </button>\n",
              "\n",
              "<style>\n",
              "  .colab-df-quickchart {\n",
              "      --bg-color: #E8F0FE;\n",
              "      --fill-color: #1967D2;\n",
              "      --hover-bg-color: #E2EBFA;\n",
              "      --hover-fill-color: #174EA6;\n",
              "      --disabled-fill-color: #AAA;\n",
              "      --disabled-bg-color: #DDD;\n",
              "  }\n",
              "\n",
              "  [theme=dark] .colab-df-quickchart {\n",
              "      --bg-color: #3B4455;\n",
              "      --fill-color: #D2E3FC;\n",
              "      --hover-bg-color: #434B5C;\n",
              "      --hover-fill-color: #FFFFFF;\n",
              "      --disabled-bg-color: #3B4455;\n",
              "      --disabled-fill-color: #666;\n",
              "  }\n",
              "\n",
              "  .colab-df-quickchart {\n",
              "    background-color: var(--bg-color);\n",
              "    border: none;\n",
              "    border-radius: 50%;\n",
              "    cursor: pointer;\n",
              "    display: none;\n",
              "    fill: var(--fill-color);\n",
              "    height: 32px;\n",
              "    padding: 0;\n",
              "    width: 32px;\n",
              "  }\n",
              "\n",
              "  .colab-df-quickchart:hover {\n",
              "    background-color: var(--hover-bg-color);\n",
              "    box-shadow: 0 1px 2px rgba(60, 64, 67, 0.3), 0 1px 3px 1px rgba(60, 64, 67, 0.15);\n",
              "    fill: var(--button-hover-fill-color);\n",
              "  }\n",
              "\n",
              "  .colab-df-quickchart-complete:disabled,\n",
              "  .colab-df-quickchart-complete:disabled:hover {\n",
              "    background-color: var(--disabled-bg-color);\n",
              "    fill: var(--disabled-fill-color);\n",
              "    box-shadow: none;\n",
              "  }\n",
              "\n",
              "  .colab-df-spinner {\n",
              "    border: 2px solid var(--fill-color);\n",
              "    border-color: transparent;\n",
              "    border-bottom-color: var(--fill-color);\n",
              "    animation:\n",
              "      spin 1s steps(1) infinite;\n",
              "  }\n",
              "\n",
              "  @keyframes spin {\n",
              "    0% {\n",
              "      border-color: transparent;\n",
              "      border-bottom-color: var(--fill-color);\n",
              "      border-left-color: var(--fill-color);\n",
              "    }\n",
              "    20% {\n",
              "      border-color: transparent;\n",
              "      border-left-color: var(--fill-color);\n",
              "      border-top-color: var(--fill-color);\n",
              "    }\n",
              "    30% {\n",
              "      border-color: transparent;\n",
              "      border-left-color: var(--fill-color);\n",
              "      border-top-color: var(--fill-color);\n",
              "      border-right-color: var(--fill-color);\n",
              "    }\n",
              "    40% {\n",
              "      border-color: transparent;\n",
              "      border-right-color: var(--fill-color);\n",
              "      border-top-color: var(--fill-color);\n",
              "    }\n",
              "    60% {\n",
              "      border-color: transparent;\n",
              "      border-right-color: var(--fill-color);\n",
              "    }\n",
              "    80% {\n",
              "      border-color: transparent;\n",
              "      border-right-color: var(--fill-color);\n",
              "      border-bottom-color: var(--fill-color);\n",
              "    }\n",
              "    90% {\n",
              "      border-color: transparent;\n",
              "      border-bottom-color: var(--fill-color);\n",
              "    }\n",
              "  }\n",
              "</style>\n",
              "\n",
              "      <script>\n",
              "        async function quickchart(key) {\n",
              "          const quickchartButtonEl =\n",
              "            document.querySelector('#' + key + ' button');\n",
              "          quickchartButtonEl.disabled = true;  // To prevent multiple clicks.\n",
              "          quickchartButtonEl.classList.add('colab-df-spinner');\n",
              "          try {\n",
              "            const charts = await google.colab.kernel.invokeFunction(\n",
              "                'suggestCharts', [key], {});\n",
              "          } catch (error) {\n",
              "            console.error('Error during call to suggestCharts:', error);\n",
              "          }\n",
              "          quickchartButtonEl.classList.remove('colab-df-spinner');\n",
              "          quickchartButtonEl.classList.add('colab-df-quickchart-complete');\n",
              "        }\n",
              "        (() => {\n",
              "          let quickchartButtonEl =\n",
              "            document.querySelector('#df-4396a594-40a7-4422-8594-4e8a4f4a3abf button');\n",
              "          quickchartButtonEl.style.display =\n",
              "            google.colab.kernel.accessAllowed ? 'block' : 'none';\n",
              "        })();\n",
              "      </script>\n",
              "    </div>\n",
              "\n",
              "  <div id=\"id_38069046-e19b-44d7-9c8f-3f5186b47fac\">\n",
              "    <style>\n",
              "      .colab-df-generate {\n",
              "        background-color: #E8F0FE;\n",
              "        border: none;\n",
              "        border-radius: 50%;\n",
              "        cursor: pointer;\n",
              "        display: none;\n",
              "        fill: #1967D2;\n",
              "        height: 32px;\n",
              "        padding: 0 0 0 0;\n",
              "        width: 32px;\n",
              "      }\n",
              "\n",
              "      .colab-df-generate:hover {\n",
              "        background-color: #E2EBFA;\n",
              "        box-shadow: 0px 1px 2px rgba(60, 64, 67, 0.3), 0px 1px 3px 1px rgba(60, 64, 67, 0.15);\n",
              "        fill: #174EA6;\n",
              "      }\n",
              "\n",
              "      [theme=dark] .colab-df-generate {\n",
              "        background-color: #3B4455;\n",
              "        fill: #D2E3FC;\n",
              "      }\n",
              "\n",
              "      [theme=dark] .colab-df-generate:hover {\n",
              "        background-color: #434B5C;\n",
              "        box-shadow: 0px 1px 3px 1px rgba(0, 0, 0, 0.15);\n",
              "        filter: drop-shadow(0px 1px 2px rgba(0, 0, 0, 0.3));\n",
              "        fill: #FFFFFF;\n",
              "      }\n",
              "    </style>\n",
              "    <button class=\"colab-df-generate\" onclick=\"generateWithVariable('quartaly_income')\"\n",
              "            title=\"Generate code using this dataframe.\"\n",
              "            style=\"display:none;\">\n",
              "\n",
              "  <svg xmlns=\"http://www.w3.org/2000/svg\" height=\"24px\"viewBox=\"0 0 24 24\"\n",
              "       width=\"24px\">\n",
              "    <path d=\"M7,19H8.4L18.45,9,17,7.55,7,17.6ZM5,21V16.75L18.45,3.32a2,2,0,0,1,2.83,0l1.4,1.43a1.91,1.91,0,0,1,.58,1.4,1.91,1.91,0,0,1-.58,1.4L9.25,21ZM18.45,9,17,7.55Zm-12,3A5.31,5.31,0,0,0,4.9,8.1,5.31,5.31,0,0,0,1,6.5,5.31,5.31,0,0,0,4.9,4.9,5.31,5.31,0,0,0,6.5,1,5.31,5.31,0,0,0,8.1,4.9,5.31,5.31,0,0,0,12,6.5,5.46,5.46,0,0,0,6.5,12Z\"/>\n",
              "  </svg>\n",
              "    </button>\n",
              "    <script>\n",
              "      (() => {\n",
              "      const buttonEl =\n",
              "        document.querySelector('#id_38069046-e19b-44d7-9c8f-3f5186b47fac button.colab-df-generate');\n",
              "      buttonEl.style.display =\n",
              "        google.colab.kernel.accessAllowed ? 'block' : 'none';\n",
              "\n",
              "      buttonEl.onclick = () => {\n",
              "        google.colab.notebook.generateWithVariable('quartaly_income');\n",
              "      }\n",
              "      })();\n",
              "    </script>\n",
              "  </div>\n",
              "\n",
              "    </div>\n",
              "  </div>\n"
            ],
            "application/vnd.google.colaboratory.intrinsic+json": {
              "type": "dataframe",
              "variable_name": "quartaly_income"
            }
          },
          "metadata": {},
          "execution_count": 15
        }
      ],
      "source": [
        "quartaly_income"
      ]
    },
    {
      "cell_type": "code",
      "execution_count": 16,
      "metadata": {
        "colab": {
          "base_uri": "https://localhost:8080/"
        },
        "id": "1DEcS0g4wqCy",
        "outputId": "a55fa2da-c027-46be-952d-730d6811b891"
      },
      "outputs": [
        {
          "output_type": "stream",
          "name": "stdout",
          "text": [
            "                 Net Income\n",
            "2025-03-31  5810000000000.0\n",
            "2024-12-31  5936000000000.0\n",
            "2024-09-30  5914000000000.0\n",
            "2024-06-30  5708000000000.0\n",
            "2024-03-31  6053000000000.0\n",
            "2023-12-31  5600000000000.0\n"
          ]
        }
      ],
      "source": [
        "columns_needed = [\n",
        "    'Net Income'\n",
        "]\n",
        "\n",
        "filtered_data_income = quartaly_income[columns_needed]\n",
        "\n",
        "print(filtered_data_income)"
      ]
    },
    {
      "cell_type": "code",
      "execution_count": 17,
      "metadata": {
        "colab": {
          "base_uri": "https://localhost:8080/",
          "height": 118
        },
        "id": "JjgaoVPf9AIJ",
        "outputId": "9265c082-c316-4b2d-a1cb-a582f85e4a00"
      },
      "outputs": [
        {
          "output_type": "execute_result",
          "data": {
            "text/plain": [
              "                 2025-03-31       2024-12-31       2024-09-30  \\\n",
              "Net Income  5810000000000.0  5936000000000.0  5914000000000.0   \n",
              "\n",
              "                 2024-06-30       2024-03-31       2023-12-31  \n",
              "Net Income  5708000000000.0  6053000000000.0  5600000000000.0  "
            ],
            "text/html": [
              "\n",
              "  <div id=\"df-60cf5942-196d-4c1c-8ba0-75c79057ff44\" class=\"colab-df-container\">\n",
              "    <div>\n",
              "<style scoped>\n",
              "    .dataframe tbody tr th:only-of-type {\n",
              "        vertical-align: middle;\n",
              "    }\n",
              "\n",
              "    .dataframe tbody tr th {\n",
              "        vertical-align: top;\n",
              "    }\n",
              "\n",
              "    .dataframe thead th {\n",
              "        text-align: right;\n",
              "    }\n",
              "</style>\n",
              "<table border=\"1\" class=\"dataframe\">\n",
              "  <thead>\n",
              "    <tr style=\"text-align: right;\">\n",
              "      <th></th>\n",
              "      <th>2025-03-31</th>\n",
              "      <th>2024-12-31</th>\n",
              "      <th>2024-09-30</th>\n",
              "      <th>2024-06-30</th>\n",
              "      <th>2024-03-31</th>\n",
              "      <th>2023-12-31</th>\n",
              "    </tr>\n",
              "  </thead>\n",
              "  <tbody>\n",
              "    <tr>\n",
              "      <th>Net Income</th>\n",
              "      <td>5810000000000.0</td>\n",
              "      <td>5936000000000.0</td>\n",
              "      <td>5914000000000.0</td>\n",
              "      <td>5708000000000.0</td>\n",
              "      <td>6053000000000.0</td>\n",
              "      <td>5600000000000.0</td>\n",
              "    </tr>\n",
              "  </tbody>\n",
              "</table>\n",
              "</div>\n",
              "    <div class=\"colab-df-buttons\">\n",
              "\n",
              "  <div class=\"colab-df-container\">\n",
              "    <button class=\"colab-df-convert\" onclick=\"convertToInteractive('df-60cf5942-196d-4c1c-8ba0-75c79057ff44')\"\n",
              "            title=\"Convert this dataframe to an interactive table.\"\n",
              "            style=\"display:none;\">\n",
              "\n",
              "  <svg xmlns=\"http://www.w3.org/2000/svg\" height=\"24px\" viewBox=\"0 -960 960 960\">\n",
              "    <path d=\"M120-120v-720h720v720H120Zm60-500h600v-160H180v160Zm220 220h160v-160H400v160Zm0 220h160v-160H400v160ZM180-400h160v-160H180v160Zm440 0h160v-160H620v160ZM180-180h160v-160H180v160Zm440 0h160v-160H620v160Z\"/>\n",
              "  </svg>\n",
              "    </button>\n",
              "\n",
              "  <style>\n",
              "    .colab-df-container {\n",
              "      display:flex;\n",
              "      gap: 12px;\n",
              "    }\n",
              "\n",
              "    .colab-df-convert {\n",
              "      background-color: #E8F0FE;\n",
              "      border: none;\n",
              "      border-radius: 50%;\n",
              "      cursor: pointer;\n",
              "      display: none;\n",
              "      fill: #1967D2;\n",
              "      height: 32px;\n",
              "      padding: 0 0 0 0;\n",
              "      width: 32px;\n",
              "    }\n",
              "\n",
              "    .colab-df-convert:hover {\n",
              "      background-color: #E2EBFA;\n",
              "      box-shadow: 0px 1px 2px rgba(60, 64, 67, 0.3), 0px 1px 3px 1px rgba(60, 64, 67, 0.15);\n",
              "      fill: #174EA6;\n",
              "    }\n",
              "\n",
              "    .colab-df-buttons div {\n",
              "      margin-bottom: 4px;\n",
              "    }\n",
              "\n",
              "    [theme=dark] .colab-df-convert {\n",
              "      background-color: #3B4455;\n",
              "      fill: #D2E3FC;\n",
              "    }\n",
              "\n",
              "    [theme=dark] .colab-df-convert:hover {\n",
              "      background-color: #434B5C;\n",
              "      box-shadow: 0px 1px 3px 1px rgba(0, 0, 0, 0.15);\n",
              "      filter: drop-shadow(0px 1px 2px rgba(0, 0, 0, 0.3));\n",
              "      fill: #FFFFFF;\n",
              "    }\n",
              "  </style>\n",
              "\n",
              "    <script>\n",
              "      const buttonEl =\n",
              "        document.querySelector('#df-60cf5942-196d-4c1c-8ba0-75c79057ff44 button.colab-df-convert');\n",
              "      buttonEl.style.display =\n",
              "        google.colab.kernel.accessAllowed ? 'block' : 'none';\n",
              "\n",
              "      async function convertToInteractive(key) {\n",
              "        const element = document.querySelector('#df-60cf5942-196d-4c1c-8ba0-75c79057ff44');\n",
              "        const dataTable =\n",
              "          await google.colab.kernel.invokeFunction('convertToInteractive',\n",
              "                                                    [key], {});\n",
              "        if (!dataTable) return;\n",
              "\n",
              "        const docLinkHtml = 'Like what you see? Visit the ' +\n",
              "          '<a target=\"_blank\" href=https://colab.research.google.com/notebooks/data_table.ipynb>data table notebook</a>'\n",
              "          + ' to learn more about interactive tables.';\n",
              "        element.innerHTML = '';\n",
              "        dataTable['output_type'] = 'display_data';\n",
              "        await google.colab.output.renderOutput(dataTable, element);\n",
              "        const docLink = document.createElement('div');\n",
              "        docLink.innerHTML = docLinkHtml;\n",
              "        element.appendChild(docLink);\n",
              "      }\n",
              "    </script>\n",
              "  </div>\n",
              "\n",
              "\n",
              "  <div id=\"id_a49decaa-c032-4770-b941-d555917440c8\">\n",
              "    <style>\n",
              "      .colab-df-generate {\n",
              "        background-color: #E8F0FE;\n",
              "        border: none;\n",
              "        border-radius: 50%;\n",
              "        cursor: pointer;\n",
              "        display: none;\n",
              "        fill: #1967D2;\n",
              "        height: 32px;\n",
              "        padding: 0 0 0 0;\n",
              "        width: 32px;\n",
              "      }\n",
              "\n",
              "      .colab-df-generate:hover {\n",
              "        background-color: #E2EBFA;\n",
              "        box-shadow: 0px 1px 2px rgba(60, 64, 67, 0.3), 0px 1px 3px 1px rgba(60, 64, 67, 0.15);\n",
              "        fill: #174EA6;\n",
              "      }\n",
              "\n",
              "      [theme=dark] .colab-df-generate {\n",
              "        background-color: #3B4455;\n",
              "        fill: #D2E3FC;\n",
              "      }\n",
              "\n",
              "      [theme=dark] .colab-df-generate:hover {\n",
              "        background-color: #434B5C;\n",
              "        box-shadow: 0px 1px 3px 1px rgba(0, 0, 0, 0.15);\n",
              "        filter: drop-shadow(0px 1px 2px rgba(0, 0, 0, 0.3));\n",
              "        fill: #FFFFFF;\n",
              "      }\n",
              "    </style>\n",
              "    <button class=\"colab-df-generate\" onclick=\"generateWithVariable('quartaly_income')\"\n",
              "            title=\"Generate code using this dataframe.\"\n",
              "            style=\"display:none;\">\n",
              "\n",
              "  <svg xmlns=\"http://www.w3.org/2000/svg\" height=\"24px\"viewBox=\"0 0 24 24\"\n",
              "       width=\"24px\">\n",
              "    <path d=\"M7,19H8.4L18.45,9,17,7.55,7,17.6ZM5,21V16.75L18.45,3.32a2,2,0,0,1,2.83,0l1.4,1.43a1.91,1.91,0,0,1,.58,1.4,1.91,1.91,0,0,1-.58,1.4L9.25,21ZM18.45,9,17,7.55Zm-12,3A5.31,5.31,0,0,0,4.9,8.1,5.31,5.31,0,0,0,1,6.5,5.31,5.31,0,0,0,4.9,4.9,5.31,5.31,0,0,0,6.5,1,5.31,5.31,0,0,0,8.1,4.9,5.31,5.31,0,0,0,12,6.5,5.46,5.46,0,0,0,6.5,12Z\"/>\n",
              "  </svg>\n",
              "    </button>\n",
              "    <script>\n",
              "      (() => {\n",
              "      const buttonEl =\n",
              "        document.querySelector('#id_a49decaa-c032-4770-b941-d555917440c8 button.colab-df-generate');\n",
              "      buttonEl.style.display =\n",
              "        google.colab.kernel.accessAllowed ? 'block' : 'none';\n",
              "\n",
              "      buttonEl.onclick = () => {\n",
              "        google.colab.notebook.generateWithVariable('quartaly_income');\n",
              "      }\n",
              "      })();\n",
              "    </script>\n",
              "  </div>\n",
              "\n",
              "    </div>\n",
              "  </div>\n"
            ],
            "application/vnd.google.colaboratory.intrinsic+json": {
              "type": "dataframe",
              "variable_name": "quartaly_income",
              "summary": "{\n  \"name\": \"quartaly_income\",\n  \"rows\": 1,\n  \"fields\": [\n    {\n      \"column\": \"2025-03-31 00:00:00\",\n      \"properties\": {\n        \"dtype\": \"date\",\n        \"min\": 5810000000000.0,\n        \"max\": 5810000000000.0,\n        \"num_unique_values\": 1,\n        \"samples\": [\n          5810000000000.0\n        ],\n        \"semantic_type\": \"\",\n        \"description\": \"\"\n      }\n    },\n    {\n      \"column\": \"2024-12-31 00:00:00\",\n      \"properties\": {\n        \"dtype\": \"date\",\n        \"min\": 5936000000000.0,\n        \"max\": 5936000000000.0,\n        \"num_unique_values\": 1,\n        \"samples\": [\n          5936000000000.0\n        ],\n        \"semantic_type\": \"\",\n        \"description\": \"\"\n      }\n    },\n    {\n      \"column\": \"2024-09-30 00:00:00\",\n      \"properties\": {\n        \"dtype\": \"date\",\n        \"min\": 5914000000000.0,\n        \"max\": 5914000000000.0,\n        \"num_unique_values\": 1,\n        \"samples\": [\n          5914000000000.0\n        ],\n        \"semantic_type\": \"\",\n        \"description\": \"\"\n      }\n    },\n    {\n      \"column\": \"2024-06-30 00:00:00\",\n      \"properties\": {\n        \"dtype\": \"date\",\n        \"min\": 5708000000000.0,\n        \"max\": 5708000000000.0,\n        \"num_unique_values\": 1,\n        \"samples\": [\n          5708000000000.0\n        ],\n        \"semantic_type\": \"\",\n        \"description\": \"\"\n      }\n    },\n    {\n      \"column\": \"2024-03-31 00:00:00\",\n      \"properties\": {\n        \"dtype\": \"date\",\n        \"min\": 6053000000000.0,\n        \"max\": 6053000000000.0,\n        \"num_unique_values\": 1,\n        \"samples\": [\n          6053000000000.0\n        ],\n        \"semantic_type\": \"\",\n        \"description\": \"\"\n      }\n    },\n    {\n      \"column\": \"2023-12-31 00:00:00\",\n      \"properties\": {\n        \"dtype\": \"date\",\n        \"min\": 5600000000000.0,\n        \"max\": 5600000000000.0,\n        \"num_unique_values\": 1,\n        \"samples\": [\n          5600000000000.0\n        ],\n        \"semantic_type\": \"\",\n        \"description\": \"\"\n      }\n    }\n  ]\n}"
            }
          },
          "metadata": {},
          "execution_count": 17
        }
      ],
      "source": [
        "quartaly_income = filtered_data_income.T\n",
        "quartaly_income"
      ]
    },
    {
      "cell_type": "code",
      "execution_count": 18,
      "metadata": {
        "id": "IRI-S7HI9kZo"
      },
      "outputs": [],
      "source": [
        "# quartaly_income.to_csv('income statements.csv')"
      ]
    },
    {
      "cell_type": "markdown",
      "source": [
        "Dokumentasi"
      ],
      "metadata": {
        "id": "8VOouLbQel81"
      }
    },
    {
      "cell_type": "code",
      "source": [
        "# stock = yf.Ticker(ticker)\n",
        "# quartaly_income = stock.quarterly_financials\n",
        "\n",
        "# quartaly_income.rename(columns={pd.to_datetime(\"2023-09-30\"): pd.to_datetime(\"2023-12-31\")}, inplace=True)\n",
        "# quartaly_income[\"2023-12-31\"] = 5600000000000.0\n",
        "\n",
        "# quartaly_income = quartaly_income.T\n",
        "\n",
        "\n",
        "# columns_needed = [\n",
        "#     'Net Income'\n",
        "# ]\n",
        "\n",
        "# filtered_data_income = quartaly_income[columns_needed]\n",
        "\n",
        "# print(filtered_data_income)\n"
      ],
      "metadata": {
        "id": "MDSwQzVpTphe"
      },
      "execution_count": 19,
      "outputs": []
    },
    {
      "cell_type": "markdown",
      "metadata": {
        "id": "-AmSWeHmyceC"
      },
      "source": [
        "###Balance statement"
      ]
    },
    {
      "cell_type": "code",
      "execution_count": 20,
      "metadata": {
        "colab": {
          "base_uri": "https://localhost:8080/"
        },
        "id": "K6fGc4oYxWkD",
        "outputId": "60a44301-3c18-4c34-f053-8d9ea06b37c5"
      },
      "outputs": [
        {
          "output_type": "execute_result",
          "data": {
            "text/plain": [
              "DatetimeIndex(['2024-12-31', '2023-12-31', '2022-12-31', '2021-12-31',\n",
              "               '2020-12-31'],\n",
              "              dtype='datetime64[ns]', freq=None)"
            ]
          },
          "metadata": {},
          "execution_count": 20
        }
      ],
      "source": [
        "quartaly_balance = stock.balance_sheet\n",
        "quartaly_balance.columns"
      ]
    },
    {
      "cell_type": "code",
      "execution_count": 21,
      "metadata": {
        "colab": {
          "base_uri": "https://localhost:8080/"
        },
        "id": "aH68copI5OpP",
        "outputId": "7f96fdb7-079c-4862-9021-39b444183c20"
      },
      "outputs": [
        {
          "output_type": "stream",
          "name": "stdout",
          "text": [
            "                                                         2024-12-31  \\\n",
            "Ordinary Shares Number                                99062216600.0   \n",
            "Share Issued                                          99062216600.0   \n",
            "Net Debt                                           19004000000000.0   \n",
            "Total Debt                                         76834000000000.0   \n",
            "Tangible Book Value                               124242000000000.0   \n",
            "...                                                             ...   \n",
            "Cash Cash Equivalents And Short Term Investments   35027000000000.0   \n",
            "Other Short Term Investments                        1122000000000.0   \n",
            "Cash And Cash Equivalents                          33905000000000.0   \n",
            "Cash Equivalents                                   10536000000000.0   \n",
            "Cash Financial                                     23369000000000.0   \n",
            "\n",
            "                                                         2023-12-31  \\\n",
            "Ordinary Shares Number                                99062216600.0   \n",
            "Share Issued                                          99062216600.0   \n",
            "Net Debt                                           18692000000000.0   \n",
            "Total Debt                                         68001000000000.0   \n",
            "Tangible Book Value                               118724000000000.0   \n",
            "...                                                             ...   \n",
            "Cash Cash Equivalents And Short Term Investments   30430000000000.0   \n",
            "Other Short Term Investments                        1423000000000.0   \n",
            "Cash And Cash Equivalents                          29007000000000.0   \n",
            "Cash Equivalents                                   14374000000000.0   \n",
            "Cash Financial                                     14633000000000.0   \n",
            "\n",
            "                                                         2022-12-31  \\\n",
            "Ordinary Shares Number                                99062216600.0   \n",
            "Share Issued                                          99062216600.0   \n",
            "Net Debt                                           12433000000000.0   \n",
            "Total Debt                                         62853000000000.0   \n",
            "Tangible Book Value                               114183000000000.0   \n",
            "...                                                             ...   \n",
            "Cash Cash Equivalents And Short Term Investments   32883000000000.0   \n",
            "Other Short Term Investments                         936000000000.0   \n",
            "Cash And Cash Equivalents                          31947000000000.0   \n",
            "Cash Equivalents                                   10762000000000.0   \n",
            "Cash Financial                                     21185000000000.0   \n",
            "\n",
            "                                                         2021-12-31 2020-12-31  \n",
            "Ordinary Shares Number                                99062216600.0        NaN  \n",
            "Share Issued                                          99062216600.0        NaN  \n",
            "Net Debt                                           14380000000000.0        NaN  \n",
            "Total Debt                                         68579000000000.0        NaN  \n",
            "Tangible Book Value                               107215000000000.0        NaN  \n",
            "...                                                             ...        ...  \n",
            "Cash Cash Equivalents And Short Term Investments   38740000000000.0        NaN  \n",
            "Other Short Term Investments                         429000000000.0        NaN  \n",
            "Cash And Cash Equivalents                          38311000000000.0        NaN  \n",
            "Cash Equivalents                                   13989000000000.0        NaN  \n",
            "Cash Financial                                     24322000000000.0        NaN  \n",
            "\n",
            "[94 rows x 5 columns]\n"
          ]
        }
      ],
      "source": [
        "print(quartaly_balance)"
      ]
    },
    {
      "cell_type": "code",
      "execution_count": 22,
      "metadata": {
        "colab": {
          "base_uri": "https://localhost:8080/"
        },
        "id": "s48GktsKyxZI",
        "outputId": "1812a56a-e514-4d32-fa78-7563846e7846"
      },
      "outputs": [
        {
          "output_type": "execute_result",
          "data": {
            "text/plain": [
              "Index(['Ordinary Shares Number', 'Share Issued', 'Net Debt', 'Total Debt',\n",
              "       'Tangible Book Value', 'Invested Capital', 'Working Capital',\n",
              "       'Net Tangible Assets', 'Capital Lease Obligations',\n",
              "       'Common Stock Equity', 'Total Capitalization',\n",
              "       'Total Equity Gross Minority Interest', 'Minority Interest',\n",
              "       'Stockholders Equity', 'Gains Losses Not Affecting Retained Earnings',\n",
              "       'Other Equity Adjustments', 'Retained Earnings',\n",
              "       'Additional Paid In Capital', 'Capital Stock', 'Common Stock',\n",
              "       'Total Liabilities Net Minority Interest',\n",
              "       'Total Non Current Liabilities Net Minority Interest',\n",
              "       'Other Non Current Liabilities', 'Employee Benefits',\n",
              "       'Non Current Pension And Other Postretirement Benefit Plans',\n",
              "       'Non Current Deferred Liabilities', 'Non Current Deferred Revenue',\n",
              "       'Non Current Deferred Taxes Liabilities',\n",
              "       'Long Term Debt And Capital Lease Obligation',\n",
              "       'Long Term Capital Lease Obligation', 'Long Term Debt',\n",
              "       'Current Liabilities', 'Current Deferred Liabilities',\n",
              "       'Current Deferred Revenue', 'Current Debt And Capital Lease Obligation',\n",
              "       'Current Capital Lease Obligation', 'Current Debt',\n",
              "       'Other Current Borrowings', 'Line Of Credit',\n",
              "       'Payables And Accrued Expenses', 'Current Accrued Expenses',\n",
              "       'Interest Payable', 'Payables', 'Other Payable', 'Total Tax Payable',\n",
              "       'Income Tax Payable', 'Accounts Payable', 'Total Assets',\n",
              "       'Total Non Current Assets', 'Other Non Current Assets',\n",
              "       'Non Current Prepaid Assets', 'Non Current Deferred Assets',\n",
              "       'Non Current Deferred Taxes Assets', 'Non Current Accounts Receivable',\n",
              "       'Investments And Advances', 'Investmentin Financial Assets',\n",
              "       'Available For Sale Securities',\n",
              "       'Financial Assets Designatedas Fair Value Through Profitor Loss Total',\n",
              "       'Long Term Equity Investment', 'Investmentsin Associatesat Cost',\n",
              "       'Goodwill And Other Intangible Assets', 'Other Intangible Assets',\n",
              "       'Goodwill', 'Net PPE', 'Accumulated Depreciation', 'Gross PPE',\n",
              "       'Leases', 'Construction In Progress', 'Other Properties',\n",
              "       'Machinery Furniture Equipment', 'Buildings And Improvements',\n",
              "       'Properties', 'Current Assets', 'Other Current Assets',\n",
              "       'Assets Held For Sale Current', 'Current Deferred Assets',\n",
              "       'Restricted Cash', 'Prepaid Assets', 'Inventory',\n",
              "       'Inventories Adjustments Allowances', 'Other Inventories',\n",
              "       'Finished Goods', 'Raw Materials', 'Receivables',\n",
              "       'Receivables Adjustments Allowances', 'Other Receivables',\n",
              "       'Accounts Receivable', 'Allowance For Doubtful Accounts Receivable',\n",
              "       'Gross Accounts Receivable',\n",
              "       'Cash Cash Equivalents And Short Term Investments',\n",
              "       'Other Short Term Investments', 'Cash And Cash Equivalents',\n",
              "       'Cash Equivalents', 'Cash Financial'],\n",
              "      dtype='object')"
            ]
          },
          "metadata": {},
          "execution_count": 22
        }
      ],
      "source": [
        "quartaly_balance = quartaly_balance.T\n",
        "quartaly_balance.columns\n"
      ]
    },
    {
      "cell_type": "code",
      "execution_count": 23,
      "metadata": {
        "colab": {
          "base_uri": "https://localhost:8080/",
          "height": 394
        },
        "id": "y63mOWu0y7qJ",
        "outputId": "7495414c-87b7-4237-929e-62fe11880f51"
      },
      "outputs": [
        {
          "output_type": "execute_result",
          "data": {
            "text/plain": [
              "           Ordinary Shares Number   Share Issued          Net Debt  \\\n",
              "2024-12-31          99062216600.0  99062216600.0  19004000000000.0   \n",
              "2023-12-31          99062216600.0  99062216600.0  18692000000000.0   \n",
              "2022-12-31          99062216600.0  99062216600.0  12433000000000.0   \n",
              "2021-12-31          99062216600.0  99062216600.0  14380000000000.0   \n",
              "2020-12-31                    NaN            NaN               NaN   \n",
              "\n",
              "                  Total Debt Tangible Book Value   Invested Capital  \\\n",
              "2024-12-31  76834000000000.0   124242000000000.0  194797000000000.0   \n",
              "2023-12-31  68001000000000.0   118724000000000.0  183275000000000.0   \n",
              "2022-12-31  62853000000000.0   114183000000000.0  173604000000000.0   \n",
              "2021-12-31  68579000000000.0   107215000000000.0  174322000000000.0   \n",
              "2020-12-31               NaN                 NaN                NaN   \n",
              "\n",
              "             Working Capital Net Tangible Assets Capital Lease Obligations  \\\n",
              "2024-12-31 -13629000000000.0   124242000000000.0          23925000000000.0   \n",
              "2023-12-31 -15823000000000.0   118724000000000.0          20302000000000.0   \n",
              "2022-12-31 -15162000000000.0   114183000000000.0          18473000000000.0   \n",
              "2021-12-31  -7407000000000.0   107215000000000.0          15888000000000.0   \n",
              "2020-12-31               NaN                 NaN                       NaN   \n",
              "\n",
              "           Common Stock Equity  ... Receivables Adjustments Allowances  \\\n",
              "2024-12-31   141888000000000.0  ...                                NaN   \n",
              "2023-12-31   135576000000000.0  ...                                NaN   \n",
              "2022-12-31   129224000000000.0  ...                                NaN   \n",
              "2021-12-31   121631000000000.0  ...                                NaN   \n",
              "2020-12-31                 NaN  ...                    -227000000000.0   \n",
              "\n",
              "           Other Receivables Accounts Receivable  \\\n",
              "2024-12-31   3085000000000.0    12193000000000.0   \n",
              "2023-12-31   2985000000000.0    10667000000000.0   \n",
              "2022-12-31   2718000000000.0     8634000000000.0   \n",
              "2021-12-31   2525000000000.0     8510000000000.0   \n",
              "2020-12-31               NaN                 NaN   \n",
              "\n",
              "           Allowance For Doubtful Accounts Receivable  \\\n",
              "2024-12-31                           -6064000000000.0   \n",
              "2023-12-31                           -7506000000000.0   \n",
              "2022-12-31                           -7568000000000.0   \n",
              "2021-12-31                           -7802000000000.0   \n",
              "2020-12-31                                        NaN   \n",
              "\n",
              "           Gross Accounts Receivable  \\\n",
              "2024-12-31          18257000000000.0   \n",
              "2023-12-31          18173000000000.0   \n",
              "2022-12-31          16202000000000.0   \n",
              "2021-12-31          16312000000000.0   \n",
              "2020-12-31                       NaN   \n",
              "\n",
              "           Cash Cash Equivalents And Short Term Investments  \\\n",
              "2024-12-31                                 35027000000000.0   \n",
              "2023-12-31                                 30430000000000.0   \n",
              "2022-12-31                                 32883000000000.0   \n",
              "2021-12-31                                 38740000000000.0   \n",
              "2020-12-31                                              NaN   \n",
              "\n",
              "           Other Short Term Investments Cash And Cash Equivalents  \\\n",
              "2024-12-31              1122000000000.0          33905000000000.0   \n",
              "2023-12-31              1423000000000.0          29007000000000.0   \n",
              "2022-12-31               936000000000.0          31947000000000.0   \n",
              "2021-12-31               429000000000.0          38311000000000.0   \n",
              "2020-12-31                          NaN                       NaN   \n",
              "\n",
              "            Cash Equivalents    Cash Financial  \n",
              "2024-12-31  10536000000000.0  23369000000000.0  \n",
              "2023-12-31  14374000000000.0  14633000000000.0  \n",
              "2022-12-31  10762000000000.0  21185000000000.0  \n",
              "2021-12-31  13989000000000.0  24322000000000.0  \n",
              "2020-12-31               NaN               NaN  \n",
              "\n",
              "[5 rows x 94 columns]"
            ],
            "text/html": [
              "\n",
              "  <div id=\"df-a76ac2aa-54af-40de-b87a-d23ff1978165\" class=\"colab-df-container\">\n",
              "    <div>\n",
              "<style scoped>\n",
              "    .dataframe tbody tr th:only-of-type {\n",
              "        vertical-align: middle;\n",
              "    }\n",
              "\n",
              "    .dataframe tbody tr th {\n",
              "        vertical-align: top;\n",
              "    }\n",
              "\n",
              "    .dataframe thead th {\n",
              "        text-align: right;\n",
              "    }\n",
              "</style>\n",
              "<table border=\"1\" class=\"dataframe\">\n",
              "  <thead>\n",
              "    <tr style=\"text-align: right;\">\n",
              "      <th></th>\n",
              "      <th>Ordinary Shares Number</th>\n",
              "      <th>Share Issued</th>\n",
              "      <th>Net Debt</th>\n",
              "      <th>Total Debt</th>\n",
              "      <th>Tangible Book Value</th>\n",
              "      <th>Invested Capital</th>\n",
              "      <th>Working Capital</th>\n",
              "      <th>Net Tangible Assets</th>\n",
              "      <th>Capital Lease Obligations</th>\n",
              "      <th>Common Stock Equity</th>\n",
              "      <th>...</th>\n",
              "      <th>Receivables Adjustments Allowances</th>\n",
              "      <th>Other Receivables</th>\n",
              "      <th>Accounts Receivable</th>\n",
              "      <th>Allowance For Doubtful Accounts Receivable</th>\n",
              "      <th>Gross Accounts Receivable</th>\n",
              "      <th>Cash Cash Equivalents And Short Term Investments</th>\n",
              "      <th>Other Short Term Investments</th>\n",
              "      <th>Cash And Cash Equivalents</th>\n",
              "      <th>Cash Equivalents</th>\n",
              "      <th>Cash Financial</th>\n",
              "    </tr>\n",
              "  </thead>\n",
              "  <tbody>\n",
              "    <tr>\n",
              "      <th>2024-12-31</th>\n",
              "      <td>99062216600.0</td>\n",
              "      <td>99062216600.0</td>\n",
              "      <td>19004000000000.0</td>\n",
              "      <td>76834000000000.0</td>\n",
              "      <td>124242000000000.0</td>\n",
              "      <td>194797000000000.0</td>\n",
              "      <td>-13629000000000.0</td>\n",
              "      <td>124242000000000.0</td>\n",
              "      <td>23925000000000.0</td>\n",
              "      <td>141888000000000.0</td>\n",
              "      <td>...</td>\n",
              "      <td>NaN</td>\n",
              "      <td>3085000000000.0</td>\n",
              "      <td>12193000000000.0</td>\n",
              "      <td>-6064000000000.0</td>\n",
              "      <td>18257000000000.0</td>\n",
              "      <td>35027000000000.0</td>\n",
              "      <td>1122000000000.0</td>\n",
              "      <td>33905000000000.0</td>\n",
              "      <td>10536000000000.0</td>\n",
              "      <td>23369000000000.0</td>\n",
              "    </tr>\n",
              "    <tr>\n",
              "      <th>2023-12-31</th>\n",
              "      <td>99062216600.0</td>\n",
              "      <td>99062216600.0</td>\n",
              "      <td>18692000000000.0</td>\n",
              "      <td>68001000000000.0</td>\n",
              "      <td>118724000000000.0</td>\n",
              "      <td>183275000000000.0</td>\n",
              "      <td>-15823000000000.0</td>\n",
              "      <td>118724000000000.0</td>\n",
              "      <td>20302000000000.0</td>\n",
              "      <td>135576000000000.0</td>\n",
              "      <td>...</td>\n",
              "      <td>NaN</td>\n",
              "      <td>2985000000000.0</td>\n",
              "      <td>10667000000000.0</td>\n",
              "      <td>-7506000000000.0</td>\n",
              "      <td>18173000000000.0</td>\n",
              "      <td>30430000000000.0</td>\n",
              "      <td>1423000000000.0</td>\n",
              "      <td>29007000000000.0</td>\n",
              "      <td>14374000000000.0</td>\n",
              "      <td>14633000000000.0</td>\n",
              "    </tr>\n",
              "    <tr>\n",
              "      <th>2022-12-31</th>\n",
              "      <td>99062216600.0</td>\n",
              "      <td>99062216600.0</td>\n",
              "      <td>12433000000000.0</td>\n",
              "      <td>62853000000000.0</td>\n",
              "      <td>114183000000000.0</td>\n",
              "      <td>173604000000000.0</td>\n",
              "      <td>-15162000000000.0</td>\n",
              "      <td>114183000000000.0</td>\n",
              "      <td>18473000000000.0</td>\n",
              "      <td>129224000000000.0</td>\n",
              "      <td>...</td>\n",
              "      <td>NaN</td>\n",
              "      <td>2718000000000.0</td>\n",
              "      <td>8634000000000.0</td>\n",
              "      <td>-7568000000000.0</td>\n",
              "      <td>16202000000000.0</td>\n",
              "      <td>32883000000000.0</td>\n",
              "      <td>936000000000.0</td>\n",
              "      <td>31947000000000.0</td>\n",
              "      <td>10762000000000.0</td>\n",
              "      <td>21185000000000.0</td>\n",
              "    </tr>\n",
              "    <tr>\n",
              "      <th>2021-12-31</th>\n",
              "      <td>99062216600.0</td>\n",
              "      <td>99062216600.0</td>\n",
              "      <td>14380000000000.0</td>\n",
              "      <td>68579000000000.0</td>\n",
              "      <td>107215000000000.0</td>\n",
              "      <td>174322000000000.0</td>\n",
              "      <td>-7407000000000.0</td>\n",
              "      <td>107215000000000.0</td>\n",
              "      <td>15888000000000.0</td>\n",
              "      <td>121631000000000.0</td>\n",
              "      <td>...</td>\n",
              "      <td>NaN</td>\n",
              "      <td>2525000000000.0</td>\n",
              "      <td>8510000000000.0</td>\n",
              "      <td>-7802000000000.0</td>\n",
              "      <td>16312000000000.0</td>\n",
              "      <td>38740000000000.0</td>\n",
              "      <td>429000000000.0</td>\n",
              "      <td>38311000000000.0</td>\n",
              "      <td>13989000000000.0</td>\n",
              "      <td>24322000000000.0</td>\n",
              "    </tr>\n",
              "    <tr>\n",
              "      <th>2020-12-31</th>\n",
              "      <td>NaN</td>\n",
              "      <td>NaN</td>\n",
              "      <td>NaN</td>\n",
              "      <td>NaN</td>\n",
              "      <td>NaN</td>\n",
              "      <td>NaN</td>\n",
              "      <td>NaN</td>\n",
              "      <td>NaN</td>\n",
              "      <td>NaN</td>\n",
              "      <td>NaN</td>\n",
              "      <td>...</td>\n",
              "      <td>-227000000000.0</td>\n",
              "      <td>NaN</td>\n",
              "      <td>NaN</td>\n",
              "      <td>NaN</td>\n",
              "      <td>NaN</td>\n",
              "      <td>NaN</td>\n",
              "      <td>NaN</td>\n",
              "      <td>NaN</td>\n",
              "      <td>NaN</td>\n",
              "      <td>NaN</td>\n",
              "    </tr>\n",
              "  </tbody>\n",
              "</table>\n",
              "<p>5 rows × 94 columns</p>\n",
              "</div>\n",
              "    <div class=\"colab-df-buttons\">\n",
              "\n",
              "  <div class=\"colab-df-container\">\n",
              "    <button class=\"colab-df-convert\" onclick=\"convertToInteractive('df-a76ac2aa-54af-40de-b87a-d23ff1978165')\"\n",
              "            title=\"Convert this dataframe to an interactive table.\"\n",
              "            style=\"display:none;\">\n",
              "\n",
              "  <svg xmlns=\"http://www.w3.org/2000/svg\" height=\"24px\" viewBox=\"0 -960 960 960\">\n",
              "    <path d=\"M120-120v-720h720v720H120Zm60-500h600v-160H180v160Zm220 220h160v-160H400v160Zm0 220h160v-160H400v160ZM180-400h160v-160H180v160Zm440 0h160v-160H620v160ZM180-180h160v-160H180v160Zm440 0h160v-160H620v160Z\"/>\n",
              "  </svg>\n",
              "    </button>\n",
              "\n",
              "  <style>\n",
              "    .colab-df-container {\n",
              "      display:flex;\n",
              "      gap: 12px;\n",
              "    }\n",
              "\n",
              "    .colab-df-convert {\n",
              "      background-color: #E8F0FE;\n",
              "      border: none;\n",
              "      border-radius: 50%;\n",
              "      cursor: pointer;\n",
              "      display: none;\n",
              "      fill: #1967D2;\n",
              "      height: 32px;\n",
              "      padding: 0 0 0 0;\n",
              "      width: 32px;\n",
              "    }\n",
              "\n",
              "    .colab-df-convert:hover {\n",
              "      background-color: #E2EBFA;\n",
              "      box-shadow: 0px 1px 2px rgba(60, 64, 67, 0.3), 0px 1px 3px 1px rgba(60, 64, 67, 0.15);\n",
              "      fill: #174EA6;\n",
              "    }\n",
              "\n",
              "    .colab-df-buttons div {\n",
              "      margin-bottom: 4px;\n",
              "    }\n",
              "\n",
              "    [theme=dark] .colab-df-convert {\n",
              "      background-color: #3B4455;\n",
              "      fill: #D2E3FC;\n",
              "    }\n",
              "\n",
              "    [theme=dark] .colab-df-convert:hover {\n",
              "      background-color: #434B5C;\n",
              "      box-shadow: 0px 1px 3px 1px rgba(0, 0, 0, 0.15);\n",
              "      filter: drop-shadow(0px 1px 2px rgba(0, 0, 0, 0.3));\n",
              "      fill: #FFFFFF;\n",
              "    }\n",
              "  </style>\n",
              "\n",
              "    <script>\n",
              "      const buttonEl =\n",
              "        document.querySelector('#df-a76ac2aa-54af-40de-b87a-d23ff1978165 button.colab-df-convert');\n",
              "      buttonEl.style.display =\n",
              "        google.colab.kernel.accessAllowed ? 'block' : 'none';\n",
              "\n",
              "      async function convertToInteractive(key) {\n",
              "        const element = document.querySelector('#df-a76ac2aa-54af-40de-b87a-d23ff1978165');\n",
              "        const dataTable =\n",
              "          await google.colab.kernel.invokeFunction('convertToInteractive',\n",
              "                                                    [key], {});\n",
              "        if (!dataTable) return;\n",
              "\n",
              "        const docLinkHtml = 'Like what you see? Visit the ' +\n",
              "          '<a target=\"_blank\" href=https://colab.research.google.com/notebooks/data_table.ipynb>data table notebook</a>'\n",
              "          + ' to learn more about interactive tables.';\n",
              "        element.innerHTML = '';\n",
              "        dataTable['output_type'] = 'display_data';\n",
              "        await google.colab.output.renderOutput(dataTable, element);\n",
              "        const docLink = document.createElement('div');\n",
              "        docLink.innerHTML = docLinkHtml;\n",
              "        element.appendChild(docLink);\n",
              "      }\n",
              "    </script>\n",
              "  </div>\n",
              "\n",
              "\n",
              "    <div id=\"df-00d4cb72-5c2b-48fd-bb65-7b083b52ac0d\">\n",
              "      <button class=\"colab-df-quickchart\" onclick=\"quickchart('df-00d4cb72-5c2b-48fd-bb65-7b083b52ac0d')\"\n",
              "                title=\"Suggest charts\"\n",
              "                style=\"display:none;\">\n",
              "\n",
              "<svg xmlns=\"http://www.w3.org/2000/svg\" height=\"24px\"viewBox=\"0 0 24 24\"\n",
              "     width=\"24px\">\n",
              "    <g>\n",
              "        <path d=\"M19 3H5c-1.1 0-2 .9-2 2v14c0 1.1.9 2 2 2h14c1.1 0 2-.9 2-2V5c0-1.1-.9-2-2-2zM9 17H7v-7h2v7zm4 0h-2V7h2v10zm4 0h-2v-4h2v4z\"/>\n",
              "    </g>\n",
              "</svg>\n",
              "      </button>\n",
              "\n",
              "<style>\n",
              "  .colab-df-quickchart {\n",
              "      --bg-color: #E8F0FE;\n",
              "      --fill-color: #1967D2;\n",
              "      --hover-bg-color: #E2EBFA;\n",
              "      --hover-fill-color: #174EA6;\n",
              "      --disabled-fill-color: #AAA;\n",
              "      --disabled-bg-color: #DDD;\n",
              "  }\n",
              "\n",
              "  [theme=dark] .colab-df-quickchart {\n",
              "      --bg-color: #3B4455;\n",
              "      --fill-color: #D2E3FC;\n",
              "      --hover-bg-color: #434B5C;\n",
              "      --hover-fill-color: #FFFFFF;\n",
              "      --disabled-bg-color: #3B4455;\n",
              "      --disabled-fill-color: #666;\n",
              "  }\n",
              "\n",
              "  .colab-df-quickchart {\n",
              "    background-color: var(--bg-color);\n",
              "    border: none;\n",
              "    border-radius: 50%;\n",
              "    cursor: pointer;\n",
              "    display: none;\n",
              "    fill: var(--fill-color);\n",
              "    height: 32px;\n",
              "    padding: 0;\n",
              "    width: 32px;\n",
              "  }\n",
              "\n",
              "  .colab-df-quickchart:hover {\n",
              "    background-color: var(--hover-bg-color);\n",
              "    box-shadow: 0 1px 2px rgba(60, 64, 67, 0.3), 0 1px 3px 1px rgba(60, 64, 67, 0.15);\n",
              "    fill: var(--button-hover-fill-color);\n",
              "  }\n",
              "\n",
              "  .colab-df-quickchart-complete:disabled,\n",
              "  .colab-df-quickchart-complete:disabled:hover {\n",
              "    background-color: var(--disabled-bg-color);\n",
              "    fill: var(--disabled-fill-color);\n",
              "    box-shadow: none;\n",
              "  }\n",
              "\n",
              "  .colab-df-spinner {\n",
              "    border: 2px solid var(--fill-color);\n",
              "    border-color: transparent;\n",
              "    border-bottom-color: var(--fill-color);\n",
              "    animation:\n",
              "      spin 1s steps(1) infinite;\n",
              "  }\n",
              "\n",
              "  @keyframes spin {\n",
              "    0% {\n",
              "      border-color: transparent;\n",
              "      border-bottom-color: var(--fill-color);\n",
              "      border-left-color: var(--fill-color);\n",
              "    }\n",
              "    20% {\n",
              "      border-color: transparent;\n",
              "      border-left-color: var(--fill-color);\n",
              "      border-top-color: var(--fill-color);\n",
              "    }\n",
              "    30% {\n",
              "      border-color: transparent;\n",
              "      border-left-color: var(--fill-color);\n",
              "      border-top-color: var(--fill-color);\n",
              "      border-right-color: var(--fill-color);\n",
              "    }\n",
              "    40% {\n",
              "      border-color: transparent;\n",
              "      border-right-color: var(--fill-color);\n",
              "      border-top-color: var(--fill-color);\n",
              "    }\n",
              "    60% {\n",
              "      border-color: transparent;\n",
              "      border-right-color: var(--fill-color);\n",
              "    }\n",
              "    80% {\n",
              "      border-color: transparent;\n",
              "      border-right-color: var(--fill-color);\n",
              "      border-bottom-color: var(--fill-color);\n",
              "    }\n",
              "    90% {\n",
              "      border-color: transparent;\n",
              "      border-bottom-color: var(--fill-color);\n",
              "    }\n",
              "  }\n",
              "</style>\n",
              "\n",
              "      <script>\n",
              "        async function quickchart(key) {\n",
              "          const quickchartButtonEl =\n",
              "            document.querySelector('#' + key + ' button');\n",
              "          quickchartButtonEl.disabled = true;  // To prevent multiple clicks.\n",
              "          quickchartButtonEl.classList.add('colab-df-spinner');\n",
              "          try {\n",
              "            const charts = await google.colab.kernel.invokeFunction(\n",
              "                'suggestCharts', [key], {});\n",
              "          } catch (error) {\n",
              "            console.error('Error during call to suggestCharts:', error);\n",
              "          }\n",
              "          quickchartButtonEl.classList.remove('colab-df-spinner');\n",
              "          quickchartButtonEl.classList.add('colab-df-quickchart-complete');\n",
              "        }\n",
              "        (() => {\n",
              "          let quickchartButtonEl =\n",
              "            document.querySelector('#df-00d4cb72-5c2b-48fd-bb65-7b083b52ac0d button');\n",
              "          quickchartButtonEl.style.display =\n",
              "            google.colab.kernel.accessAllowed ? 'block' : 'none';\n",
              "        })();\n",
              "      </script>\n",
              "    </div>\n",
              "\n",
              "  <div id=\"id_295a1e29-0b8c-4285-8d0d-e57d852624cb\">\n",
              "    <style>\n",
              "      .colab-df-generate {\n",
              "        background-color: #E8F0FE;\n",
              "        border: none;\n",
              "        border-radius: 50%;\n",
              "        cursor: pointer;\n",
              "        display: none;\n",
              "        fill: #1967D2;\n",
              "        height: 32px;\n",
              "        padding: 0 0 0 0;\n",
              "        width: 32px;\n",
              "      }\n",
              "\n",
              "      .colab-df-generate:hover {\n",
              "        background-color: #E2EBFA;\n",
              "        box-shadow: 0px 1px 2px rgba(60, 64, 67, 0.3), 0px 1px 3px 1px rgba(60, 64, 67, 0.15);\n",
              "        fill: #174EA6;\n",
              "      }\n",
              "\n",
              "      [theme=dark] .colab-df-generate {\n",
              "        background-color: #3B4455;\n",
              "        fill: #D2E3FC;\n",
              "      }\n",
              "\n",
              "      [theme=dark] .colab-df-generate:hover {\n",
              "        background-color: #434B5C;\n",
              "        box-shadow: 0px 1px 3px 1px rgba(0, 0, 0, 0.15);\n",
              "        filter: drop-shadow(0px 1px 2px rgba(0, 0, 0, 0.3));\n",
              "        fill: #FFFFFF;\n",
              "      }\n",
              "    </style>\n",
              "    <button class=\"colab-df-generate\" onclick=\"generateWithVariable('quartaly_balance')\"\n",
              "            title=\"Generate code using this dataframe.\"\n",
              "            style=\"display:none;\">\n",
              "\n",
              "  <svg xmlns=\"http://www.w3.org/2000/svg\" height=\"24px\"viewBox=\"0 0 24 24\"\n",
              "       width=\"24px\">\n",
              "    <path d=\"M7,19H8.4L18.45,9,17,7.55,7,17.6ZM5,21V16.75L18.45,3.32a2,2,0,0,1,2.83,0l1.4,1.43a1.91,1.91,0,0,1,.58,1.4,1.91,1.91,0,0,1-.58,1.4L9.25,21ZM18.45,9,17,7.55Zm-12,3A5.31,5.31,0,0,0,4.9,8.1,5.31,5.31,0,0,0,1,6.5,5.31,5.31,0,0,0,4.9,4.9,5.31,5.31,0,0,0,6.5,1,5.31,5.31,0,0,0,8.1,4.9,5.31,5.31,0,0,0,12,6.5,5.46,5.46,0,0,0,6.5,12Z\"/>\n",
              "  </svg>\n",
              "    </button>\n",
              "    <script>\n",
              "      (() => {\n",
              "      const buttonEl =\n",
              "        document.querySelector('#id_295a1e29-0b8c-4285-8d0d-e57d852624cb button.colab-df-generate');\n",
              "      buttonEl.style.display =\n",
              "        google.colab.kernel.accessAllowed ? 'block' : 'none';\n",
              "\n",
              "      buttonEl.onclick = () => {\n",
              "        google.colab.notebook.generateWithVariable('quartaly_balance');\n",
              "      }\n",
              "      })();\n",
              "    </script>\n",
              "  </div>\n",
              "\n",
              "    </div>\n",
              "  </div>\n"
            ],
            "application/vnd.google.colaboratory.intrinsic+json": {
              "type": "dataframe",
              "variable_name": "quartaly_balance"
            }
          },
          "metadata": {},
          "execution_count": 23
        }
      ],
      "source": [
        "quartaly_balance"
      ]
    },
    {
      "cell_type": "code",
      "execution_count": 24,
      "metadata": {
        "colab": {
          "base_uri": "https://localhost:8080/"
        },
        "id": "L7or7bw3y97H",
        "outputId": "8ffac17e-7bcd-4d7c-aba5-c3fa57a3bfc1"
      },
      "outputs": [
        {
          "output_type": "stream",
          "name": "stdout",
          "text": [
            "           Stockholders Equity    Long Term Debt       Total Assets  \\\n",
            "2024-12-31   141888000000000.0  25518000000000.0  299297000000000.0   \n",
            "2023-12-31   135576000000000.0  27773000000000.0  286592000000000.0   \n",
            "2022-12-31   129224000000000.0  27331000000000.0  274817000000000.0   \n",
            "2021-12-31   121631000000000.0  36319000000000.0  276158000000000.0   \n",
            "2020-12-31                 NaN               NaN                NaN   \n",
            "\n",
            "           Total Liabilities Net Minority Interest  \n",
            "2024-12-31                       137151000000000.0  \n",
            "2023-12-31                       130357000000000.0  \n",
            "2022-12-31                       125742000000000.0  \n",
            "2021-12-31                       130986000000000.0  \n",
            "2020-12-31                                     NaN  \n"
          ]
        }
      ],
      "source": [
        "columns_needed_balaced = [\n",
        "    'Stockholders Equity',\n",
        "    'Long Term Debt',\n",
        "    'Total Assets',\n",
        "    'Total Liabilities Net Minority Interest'\n",
        "]\n",
        "\n",
        "filtered_data_balance = quartaly_balance[columns_needed_balaced]\n",
        "\n",
        "print(filtered_data_balance)"
      ]
    },
    {
      "cell_type": "code",
      "execution_count": 25,
      "metadata": {
        "colab": {
          "base_uri": "https://localhost:8080/",
          "height": 244
        },
        "id": "tltVo6_39JbG",
        "outputId": "b423ede0-682d-4b86-be59-4e6454cc39b3"
      },
      "outputs": [
        {
          "output_type": "execute_result",
          "data": {
            "text/plain": [
              "                                                2024-12-31         2023-12-31  \\\n",
              "Stockholders Equity                      141888000000000.0  135576000000000.0   \n",
              "Long Term Debt                            25518000000000.0   27773000000000.0   \n",
              "Total Assets                             299297000000000.0  286592000000000.0   \n",
              "Total Liabilities Net Minority Interest  137151000000000.0  130357000000000.0   \n",
              "\n",
              "                                                2022-12-31         2021-12-31  \\\n",
              "Stockholders Equity                      129224000000000.0  121631000000000.0   \n",
              "Long Term Debt                            27331000000000.0   36319000000000.0   \n",
              "Total Assets                             274817000000000.0  276158000000000.0   \n",
              "Total Liabilities Net Minority Interest  125742000000000.0  130986000000000.0   \n",
              "\n",
              "                                        2020-12-31  \n",
              "Stockholders Equity                            NaN  \n",
              "Long Term Debt                                 NaN  \n",
              "Total Assets                                   NaN  \n",
              "Total Liabilities Net Minority Interest        NaN  "
            ],
            "text/html": [
              "\n",
              "  <div id=\"df-91c75229-715f-4de1-9ab1-aa78e7ef215d\" class=\"colab-df-container\">\n",
              "    <div>\n",
              "<style scoped>\n",
              "    .dataframe tbody tr th:only-of-type {\n",
              "        vertical-align: middle;\n",
              "    }\n",
              "\n",
              "    .dataframe tbody tr th {\n",
              "        vertical-align: top;\n",
              "    }\n",
              "\n",
              "    .dataframe thead th {\n",
              "        text-align: right;\n",
              "    }\n",
              "</style>\n",
              "<table border=\"1\" class=\"dataframe\">\n",
              "  <thead>\n",
              "    <tr style=\"text-align: right;\">\n",
              "      <th></th>\n",
              "      <th>2024-12-31</th>\n",
              "      <th>2023-12-31</th>\n",
              "      <th>2022-12-31</th>\n",
              "      <th>2021-12-31</th>\n",
              "      <th>2020-12-31</th>\n",
              "    </tr>\n",
              "  </thead>\n",
              "  <tbody>\n",
              "    <tr>\n",
              "      <th>Stockholders Equity</th>\n",
              "      <td>141888000000000.0</td>\n",
              "      <td>135576000000000.0</td>\n",
              "      <td>129224000000000.0</td>\n",
              "      <td>121631000000000.0</td>\n",
              "      <td>NaN</td>\n",
              "    </tr>\n",
              "    <tr>\n",
              "      <th>Long Term Debt</th>\n",
              "      <td>25518000000000.0</td>\n",
              "      <td>27773000000000.0</td>\n",
              "      <td>27331000000000.0</td>\n",
              "      <td>36319000000000.0</td>\n",
              "      <td>NaN</td>\n",
              "    </tr>\n",
              "    <tr>\n",
              "      <th>Total Assets</th>\n",
              "      <td>299297000000000.0</td>\n",
              "      <td>286592000000000.0</td>\n",
              "      <td>274817000000000.0</td>\n",
              "      <td>276158000000000.0</td>\n",
              "      <td>NaN</td>\n",
              "    </tr>\n",
              "    <tr>\n",
              "      <th>Total Liabilities Net Minority Interest</th>\n",
              "      <td>137151000000000.0</td>\n",
              "      <td>130357000000000.0</td>\n",
              "      <td>125742000000000.0</td>\n",
              "      <td>130986000000000.0</td>\n",
              "      <td>NaN</td>\n",
              "    </tr>\n",
              "  </tbody>\n",
              "</table>\n",
              "</div>\n",
              "    <div class=\"colab-df-buttons\">\n",
              "\n",
              "  <div class=\"colab-df-container\">\n",
              "    <button class=\"colab-df-convert\" onclick=\"convertToInteractive('df-91c75229-715f-4de1-9ab1-aa78e7ef215d')\"\n",
              "            title=\"Convert this dataframe to an interactive table.\"\n",
              "            style=\"display:none;\">\n",
              "\n",
              "  <svg xmlns=\"http://www.w3.org/2000/svg\" height=\"24px\" viewBox=\"0 -960 960 960\">\n",
              "    <path d=\"M120-120v-720h720v720H120Zm60-500h600v-160H180v160Zm220 220h160v-160H400v160Zm0 220h160v-160H400v160ZM180-400h160v-160H180v160Zm440 0h160v-160H620v160ZM180-180h160v-160H180v160Zm440 0h160v-160H620v160Z\"/>\n",
              "  </svg>\n",
              "    </button>\n",
              "\n",
              "  <style>\n",
              "    .colab-df-container {\n",
              "      display:flex;\n",
              "      gap: 12px;\n",
              "    }\n",
              "\n",
              "    .colab-df-convert {\n",
              "      background-color: #E8F0FE;\n",
              "      border: none;\n",
              "      border-radius: 50%;\n",
              "      cursor: pointer;\n",
              "      display: none;\n",
              "      fill: #1967D2;\n",
              "      height: 32px;\n",
              "      padding: 0 0 0 0;\n",
              "      width: 32px;\n",
              "    }\n",
              "\n",
              "    .colab-df-convert:hover {\n",
              "      background-color: #E2EBFA;\n",
              "      box-shadow: 0px 1px 2px rgba(60, 64, 67, 0.3), 0px 1px 3px 1px rgba(60, 64, 67, 0.15);\n",
              "      fill: #174EA6;\n",
              "    }\n",
              "\n",
              "    .colab-df-buttons div {\n",
              "      margin-bottom: 4px;\n",
              "    }\n",
              "\n",
              "    [theme=dark] .colab-df-convert {\n",
              "      background-color: #3B4455;\n",
              "      fill: #D2E3FC;\n",
              "    }\n",
              "\n",
              "    [theme=dark] .colab-df-convert:hover {\n",
              "      background-color: #434B5C;\n",
              "      box-shadow: 0px 1px 3px 1px rgba(0, 0, 0, 0.15);\n",
              "      filter: drop-shadow(0px 1px 2px rgba(0, 0, 0, 0.3));\n",
              "      fill: #FFFFFF;\n",
              "    }\n",
              "  </style>\n",
              "\n",
              "    <script>\n",
              "      const buttonEl =\n",
              "        document.querySelector('#df-91c75229-715f-4de1-9ab1-aa78e7ef215d button.colab-df-convert');\n",
              "      buttonEl.style.display =\n",
              "        google.colab.kernel.accessAllowed ? 'block' : 'none';\n",
              "\n",
              "      async function convertToInteractive(key) {\n",
              "        const element = document.querySelector('#df-91c75229-715f-4de1-9ab1-aa78e7ef215d');\n",
              "        const dataTable =\n",
              "          await google.colab.kernel.invokeFunction('convertToInteractive',\n",
              "                                                    [key], {});\n",
              "        if (!dataTable) return;\n",
              "\n",
              "        const docLinkHtml = 'Like what you see? Visit the ' +\n",
              "          '<a target=\"_blank\" href=https://colab.research.google.com/notebooks/data_table.ipynb>data table notebook</a>'\n",
              "          + ' to learn more about interactive tables.';\n",
              "        element.innerHTML = '';\n",
              "        dataTable['output_type'] = 'display_data';\n",
              "        await google.colab.output.renderOutput(dataTable, element);\n",
              "        const docLink = document.createElement('div');\n",
              "        docLink.innerHTML = docLinkHtml;\n",
              "        element.appendChild(docLink);\n",
              "      }\n",
              "    </script>\n",
              "  </div>\n",
              "\n",
              "\n",
              "    <div id=\"df-3cb9b37a-ed4d-45a2-ad38-8583f56f4abd\">\n",
              "      <button class=\"colab-df-quickchart\" onclick=\"quickchart('df-3cb9b37a-ed4d-45a2-ad38-8583f56f4abd')\"\n",
              "                title=\"Suggest charts\"\n",
              "                style=\"display:none;\">\n",
              "\n",
              "<svg xmlns=\"http://www.w3.org/2000/svg\" height=\"24px\"viewBox=\"0 0 24 24\"\n",
              "     width=\"24px\">\n",
              "    <g>\n",
              "        <path d=\"M19 3H5c-1.1 0-2 .9-2 2v14c0 1.1.9 2 2 2h14c1.1 0 2-.9 2-2V5c0-1.1-.9-2-2-2zM9 17H7v-7h2v7zm4 0h-2V7h2v10zm4 0h-2v-4h2v4z\"/>\n",
              "    </g>\n",
              "</svg>\n",
              "      </button>\n",
              "\n",
              "<style>\n",
              "  .colab-df-quickchart {\n",
              "      --bg-color: #E8F0FE;\n",
              "      --fill-color: #1967D2;\n",
              "      --hover-bg-color: #E2EBFA;\n",
              "      --hover-fill-color: #174EA6;\n",
              "      --disabled-fill-color: #AAA;\n",
              "      --disabled-bg-color: #DDD;\n",
              "  }\n",
              "\n",
              "  [theme=dark] .colab-df-quickchart {\n",
              "      --bg-color: #3B4455;\n",
              "      --fill-color: #D2E3FC;\n",
              "      --hover-bg-color: #434B5C;\n",
              "      --hover-fill-color: #FFFFFF;\n",
              "      --disabled-bg-color: #3B4455;\n",
              "      --disabled-fill-color: #666;\n",
              "  }\n",
              "\n",
              "  .colab-df-quickchart {\n",
              "    background-color: var(--bg-color);\n",
              "    border: none;\n",
              "    border-radius: 50%;\n",
              "    cursor: pointer;\n",
              "    display: none;\n",
              "    fill: var(--fill-color);\n",
              "    height: 32px;\n",
              "    padding: 0;\n",
              "    width: 32px;\n",
              "  }\n",
              "\n",
              "  .colab-df-quickchart:hover {\n",
              "    background-color: var(--hover-bg-color);\n",
              "    box-shadow: 0 1px 2px rgba(60, 64, 67, 0.3), 0 1px 3px 1px rgba(60, 64, 67, 0.15);\n",
              "    fill: var(--button-hover-fill-color);\n",
              "  }\n",
              "\n",
              "  .colab-df-quickchart-complete:disabled,\n",
              "  .colab-df-quickchart-complete:disabled:hover {\n",
              "    background-color: var(--disabled-bg-color);\n",
              "    fill: var(--disabled-fill-color);\n",
              "    box-shadow: none;\n",
              "  }\n",
              "\n",
              "  .colab-df-spinner {\n",
              "    border: 2px solid var(--fill-color);\n",
              "    border-color: transparent;\n",
              "    border-bottom-color: var(--fill-color);\n",
              "    animation:\n",
              "      spin 1s steps(1) infinite;\n",
              "  }\n",
              "\n",
              "  @keyframes spin {\n",
              "    0% {\n",
              "      border-color: transparent;\n",
              "      border-bottom-color: var(--fill-color);\n",
              "      border-left-color: var(--fill-color);\n",
              "    }\n",
              "    20% {\n",
              "      border-color: transparent;\n",
              "      border-left-color: var(--fill-color);\n",
              "      border-top-color: var(--fill-color);\n",
              "    }\n",
              "    30% {\n",
              "      border-color: transparent;\n",
              "      border-left-color: var(--fill-color);\n",
              "      border-top-color: var(--fill-color);\n",
              "      border-right-color: var(--fill-color);\n",
              "    }\n",
              "    40% {\n",
              "      border-color: transparent;\n",
              "      border-right-color: var(--fill-color);\n",
              "      border-top-color: var(--fill-color);\n",
              "    }\n",
              "    60% {\n",
              "      border-color: transparent;\n",
              "      border-right-color: var(--fill-color);\n",
              "    }\n",
              "    80% {\n",
              "      border-color: transparent;\n",
              "      border-right-color: var(--fill-color);\n",
              "      border-bottom-color: var(--fill-color);\n",
              "    }\n",
              "    90% {\n",
              "      border-color: transparent;\n",
              "      border-bottom-color: var(--fill-color);\n",
              "    }\n",
              "  }\n",
              "</style>\n",
              "\n",
              "      <script>\n",
              "        async function quickchart(key) {\n",
              "          const quickchartButtonEl =\n",
              "            document.querySelector('#' + key + ' button');\n",
              "          quickchartButtonEl.disabled = true;  // To prevent multiple clicks.\n",
              "          quickchartButtonEl.classList.add('colab-df-spinner');\n",
              "          try {\n",
              "            const charts = await google.colab.kernel.invokeFunction(\n",
              "                'suggestCharts', [key], {});\n",
              "          } catch (error) {\n",
              "            console.error('Error during call to suggestCharts:', error);\n",
              "          }\n",
              "          quickchartButtonEl.classList.remove('colab-df-spinner');\n",
              "          quickchartButtonEl.classList.add('colab-df-quickchart-complete');\n",
              "        }\n",
              "        (() => {\n",
              "          let quickchartButtonEl =\n",
              "            document.querySelector('#df-3cb9b37a-ed4d-45a2-ad38-8583f56f4abd button');\n",
              "          quickchartButtonEl.style.display =\n",
              "            google.colab.kernel.accessAllowed ? 'block' : 'none';\n",
              "        })();\n",
              "      </script>\n",
              "    </div>\n",
              "\n",
              "  <div id=\"id_020e9edf-8a5e-4841-9f7b-3a007fd31981\">\n",
              "    <style>\n",
              "      .colab-df-generate {\n",
              "        background-color: #E8F0FE;\n",
              "        border: none;\n",
              "        border-radius: 50%;\n",
              "        cursor: pointer;\n",
              "        display: none;\n",
              "        fill: #1967D2;\n",
              "        height: 32px;\n",
              "        padding: 0 0 0 0;\n",
              "        width: 32px;\n",
              "      }\n",
              "\n",
              "      .colab-df-generate:hover {\n",
              "        background-color: #E2EBFA;\n",
              "        box-shadow: 0px 1px 2px rgba(60, 64, 67, 0.3), 0px 1px 3px 1px rgba(60, 64, 67, 0.15);\n",
              "        fill: #174EA6;\n",
              "      }\n",
              "\n",
              "      [theme=dark] .colab-df-generate {\n",
              "        background-color: #3B4455;\n",
              "        fill: #D2E3FC;\n",
              "      }\n",
              "\n",
              "      [theme=dark] .colab-df-generate:hover {\n",
              "        background-color: #434B5C;\n",
              "        box-shadow: 0px 1px 3px 1px rgba(0, 0, 0, 0.15);\n",
              "        filter: drop-shadow(0px 1px 2px rgba(0, 0, 0, 0.3));\n",
              "        fill: #FFFFFF;\n",
              "      }\n",
              "    </style>\n",
              "    <button class=\"colab-df-generate\" onclick=\"generateWithVariable('quartaly_balance')\"\n",
              "            title=\"Generate code using this dataframe.\"\n",
              "            style=\"display:none;\">\n",
              "\n",
              "  <svg xmlns=\"http://www.w3.org/2000/svg\" height=\"24px\"viewBox=\"0 0 24 24\"\n",
              "       width=\"24px\">\n",
              "    <path d=\"M7,19H8.4L18.45,9,17,7.55,7,17.6ZM5,21V16.75L18.45,3.32a2,2,0,0,1,2.83,0l1.4,1.43a1.91,1.91,0,0,1,.58,1.4,1.91,1.91,0,0,1-.58,1.4L9.25,21ZM18.45,9,17,7.55Zm-12,3A5.31,5.31,0,0,0,4.9,8.1,5.31,5.31,0,0,0,1,6.5,5.31,5.31,0,0,0,4.9,4.9,5.31,5.31,0,0,0,6.5,1,5.31,5.31,0,0,0,8.1,4.9,5.31,5.31,0,0,0,12,6.5,5.46,5.46,0,0,0,6.5,12Z\"/>\n",
              "  </svg>\n",
              "    </button>\n",
              "    <script>\n",
              "      (() => {\n",
              "      const buttonEl =\n",
              "        document.querySelector('#id_020e9edf-8a5e-4841-9f7b-3a007fd31981 button.colab-df-generate');\n",
              "      buttonEl.style.display =\n",
              "        google.colab.kernel.accessAllowed ? 'block' : 'none';\n",
              "\n",
              "      buttonEl.onclick = () => {\n",
              "        google.colab.notebook.generateWithVariable('quartaly_balance');\n",
              "      }\n",
              "      })();\n",
              "    </script>\n",
              "  </div>\n",
              "\n",
              "    </div>\n",
              "  </div>\n"
            ],
            "application/vnd.google.colaboratory.intrinsic+json": {
              "type": "dataframe",
              "variable_name": "quartaly_balance",
              "repr_error": "Out of range float values are not JSON compliant: nan"
            }
          },
          "metadata": {},
          "execution_count": 25
        }
      ],
      "source": [
        "quartaly_balance = filtered_data_balance.T\n",
        "quartaly_balance"
      ]
    },
    {
      "cell_type": "code",
      "execution_count": 26,
      "metadata": {
        "id": "kk2O9gON9VkA"
      },
      "outputs": [],
      "source": [
        "# quartaly_balance.to_csv('balance sheet.csv')"
      ]
    },
    {
      "cell_type": "markdown",
      "source": [
        "Dokumentasi"
      ],
      "metadata": {
        "id": "E4g6DIOgeqG_"
      }
    },
    {
      "cell_type": "code",
      "source": [
        "# stock = yf.Ticker(ticker)\n",
        "# quartaly_balance = stock.balance_sheet\n",
        "# quartaly_balance = quartaly_balance.T\n",
        "# columns_needed_balaced = [\n",
        "#     'Stockholders Equity',\n",
        "#     'Long Term Debt',\n",
        "#     'Total Assets',\n",
        "#     'Total Liabilities Net Minority Interest'\n",
        "# ]\n",
        "\n",
        "# filtered_data_balance = quartaly_balance[columns_needed_balaced]\n",
        "\n",
        "# print(filtered_data_balance)"
      ],
      "metadata": {
        "id": "3vFiJ8wiVfTZ"
      },
      "execution_count": 27,
      "outputs": []
    },
    {
      "cell_type": "code",
      "source": [
        "# filtered_data_balance.to_csv('dokumentasi.csv')"
      ],
      "metadata": {
        "id": "BPcMaV7JXJku"
      },
      "execution_count": 28,
      "outputs": []
    },
    {
      "cell_type": "markdown",
      "metadata": {
        "id": "y44hAaDj6Krw"
      },
      "source": [
        "### Pegabungan data saham, income statemant dan balance sheet"
      ]
    },
    {
      "cell_type": "code",
      "execution_count": 29,
      "metadata": {
        "colab": {
          "base_uri": "https://localhost:8080/"
        },
        "id": "u4AAqluM6Srg",
        "outputId": "327e345c-7e0f-4fff-a179-7838d5fcfb51"
      },
      "outputs": [
        {
          "output_type": "stream",
          "name": "stdout",
          "text": [
            "                  Close         High          Low         Open       Volume  \\\n",
            "2020-12-31          NaN          NaN          NaN          NaN          NaN   \n",
            "2021-12-31          NaN          NaN          NaN          NaN          NaN   \n",
            "2022-01-03  3380.564453  3380.564453  3275.427281  3283.514756   65937900.0   \n",
            "2022-01-04  3372.476807  3396.739230  3356.301858  3380.564281   42984700.0   \n",
            "2022-01-05  3275.427002  3388.651639  3259.252054  3356.301743  119584700.0   \n",
            "...                 ...          ...          ...          ...          ...   \n",
            "2025-05-05  2502.866211  2512.136086  2475.056586  2512.136086   85592500.0   \n",
            "2025-05-06  2484.326416  2530.675789  2484.326416  2521.405915   76948300.0   \n",
            "2025-05-07  2428.707275  2493.596401  2428.707275  2484.326526  100293700.0   \n",
            "2025-05-08  2382.357910  2447.247036  2382.357910  2437.977161  122965300.0   \n",
            "2025-05-09  2410.167480  2437.977105  2382.357856  2382.357856   59433500.0   \n",
            "\n",
            "           Net Income Stockholders Equity    Long Term Debt  \\\n",
            "2020-12-31        NaN                 NaN               NaN   \n",
            "2021-12-31        NaN   121631000000000.0  36319000000000.0   \n",
            "2022-01-03        NaN                 NaN               NaN   \n",
            "2022-01-04        NaN                 NaN               NaN   \n",
            "2022-01-05        NaN                 NaN               NaN   \n",
            "...               ...                 ...               ...   \n",
            "2025-05-05        NaN                 NaN               NaN   \n",
            "2025-05-06        NaN                 NaN               NaN   \n",
            "2025-05-07        NaN                 NaN               NaN   \n",
            "2025-05-08        NaN                 NaN               NaN   \n",
            "2025-05-09        NaN                 NaN               NaN   \n",
            "\n",
            "                 Total Assets Total Liabilities Net Minority Interest  \n",
            "2020-12-31                NaN                                     NaN  \n",
            "2021-12-31  276158000000000.0                       130986000000000.0  \n",
            "2022-01-03                NaN                                     NaN  \n",
            "2022-01-04                NaN                                     NaN  \n",
            "2022-01-05                NaN                                     NaN  \n",
            "...                       ...                                     ...  \n",
            "2025-05-05                NaN                                     NaN  \n",
            "2025-05-06                NaN                                     NaN  \n",
            "2025-05-07                NaN                                     NaN  \n",
            "2025-05-08                NaN                                     NaN  \n",
            "2025-05-09                NaN                                     NaN  \n",
            "\n",
            "[810 rows x 10 columns]\n"
          ]
        }
      ],
      "source": [
        "merged_data = pd.concat([data_stocks, filtered_data_income, filtered_data_balance], axis=1)\n",
        "\n",
        "print(merged_data)"
      ]
    },
    {
      "cell_type": "code",
      "execution_count": 30,
      "metadata": {
        "colab": {
          "base_uri": "https://localhost:8080/"
        },
        "id": "WJdKBjk17bXU",
        "outputId": "1f6c502a-c99c-44c6-bb84-8a0a40e375db"
      },
      "outputs": [
        {
          "output_type": "stream",
          "name": "stdout",
          "text": [
            "                  Close         High          Low         Open       Volume  \\\n",
            "2021-12-31          NaN          NaN          NaN          NaN          NaN   \n",
            "2022-01-03  3380.564453  3380.564453  3275.427281  3283.514756   65937900.0   \n",
            "2022-01-04  3372.476807  3396.739230  3356.301858  3380.564281   42984700.0   \n",
            "2022-01-05  3275.427002  3388.651639  3259.252054  3356.301743  119584700.0   \n",
            "2022-01-06  3332.039307  3332.039307  3259.252040  3307.776885   89197500.0   \n",
            "...                 ...          ...          ...          ...          ...   \n",
            "2025-05-05  2502.866211  2512.136086  2475.056586  2512.136086   85592500.0   \n",
            "2025-05-06  2484.326416  2530.675789  2484.326416  2521.405915   76948300.0   \n",
            "2025-05-07  2428.707275  2493.596401  2428.707275  2484.326526  100293700.0   \n",
            "2025-05-08  2382.357910  2447.247036  2382.357910  2437.977161  122965300.0   \n",
            "2025-05-09  2410.167480  2437.977105  2382.357856  2382.357856   59433500.0   \n",
            "\n",
            "           Net Income Stockholders Equity    Long Term Debt  \\\n",
            "2021-12-31        NaN   121631000000000.0  36319000000000.0   \n",
            "2022-01-03        NaN                 NaN               NaN   \n",
            "2022-01-04        NaN                 NaN               NaN   \n",
            "2022-01-05        NaN                 NaN               NaN   \n",
            "2022-01-06        NaN                 NaN               NaN   \n",
            "...               ...                 ...               ...   \n",
            "2025-05-05        NaN                 NaN               NaN   \n",
            "2025-05-06        NaN                 NaN               NaN   \n",
            "2025-05-07        NaN                 NaN               NaN   \n",
            "2025-05-08        NaN                 NaN               NaN   \n",
            "2025-05-09        NaN                 NaN               NaN   \n",
            "\n",
            "                 Total Assets Total Liabilities Net Minority Interest  \n",
            "2021-12-31  276158000000000.0                       130986000000000.0  \n",
            "2022-01-03                NaN                                     NaN  \n",
            "2022-01-04                NaN                                     NaN  \n",
            "2022-01-05                NaN                                     NaN  \n",
            "2022-01-06                NaN                                     NaN  \n",
            "...                       ...                                     ...  \n",
            "2025-05-05                NaN                                     NaN  \n",
            "2025-05-06                NaN                                     NaN  \n",
            "2025-05-07                NaN                                     NaN  \n",
            "2025-05-08                NaN                                     NaN  \n",
            "2025-05-09                NaN                                     NaN  \n",
            "\n",
            "[809 rows x 10 columns]\n"
          ]
        }
      ],
      "source": [
        "filtered_data = merged_data[merged_data.index >= '2021-12-31']\n",
        "print(filtered_data)"
      ]
    },
    {
      "cell_type": "code",
      "execution_count": 31,
      "metadata": {
        "id": "X3Iaq-VpbSjk"
      },
      "outputs": [],
      "source": [
        "# filtered_data.fillna(method=\"ffill\", inplace=True)\n",
        "# print(filtered_data)"
      ]
    },
    {
      "cell_type": "code",
      "execution_count": 32,
      "metadata": {
        "colab": {
          "base_uri": "https://localhost:8080/",
          "height": 365
        },
        "id": "nZENwDyDWXPE",
        "outputId": "df867607-da7b-471e-c2a5-dea3f59d0d01"
      },
      "outputs": [
        {
          "output_type": "execute_result",
          "data": {
            "text/plain": [
              "                  Close         High          Low         Open       Volume  \\\n",
              "2021-12-31          NaN          NaN          NaN          NaN          NaN   \n",
              "2022-01-03  3380.564453  3380.564453  3275.427281  3283.514756   65937900.0   \n",
              "2022-01-04  3372.476807  3396.739230  3356.301858  3380.564281   42984700.0   \n",
              "2022-01-05  3275.427002  3388.651639  3259.252054  3356.301743  119584700.0   \n",
              "2022-01-06  3332.039307  3332.039307  3259.252040  3307.776885   89197500.0   \n",
              "\n",
              "           Net Income Stockholders Equity    Long Term Debt  \\\n",
              "2021-12-31        NaN   121631000000000.0  36319000000000.0   \n",
              "2022-01-03        NaN                 NaN               NaN   \n",
              "2022-01-04        NaN                 NaN               NaN   \n",
              "2022-01-05        NaN                 NaN               NaN   \n",
              "2022-01-06        NaN                 NaN               NaN   \n",
              "\n",
              "                 Total Assets Total Liabilities Net Minority Interest  \n",
              "2021-12-31  276158000000000.0                       130986000000000.0  \n",
              "2022-01-03                NaN                                     NaN  \n",
              "2022-01-04                NaN                                     NaN  \n",
              "2022-01-05                NaN                                     NaN  \n",
              "2022-01-06                NaN                                     NaN  "
            ],
            "text/html": [
              "\n",
              "  <div id=\"df-8d3a9927-8c31-4d23-a56a-bf2683cedc39\" class=\"colab-df-container\">\n",
              "    <div>\n",
              "<style scoped>\n",
              "    .dataframe tbody tr th:only-of-type {\n",
              "        vertical-align: middle;\n",
              "    }\n",
              "\n",
              "    .dataframe tbody tr th {\n",
              "        vertical-align: top;\n",
              "    }\n",
              "\n",
              "    .dataframe thead th {\n",
              "        text-align: right;\n",
              "    }\n",
              "</style>\n",
              "<table border=\"1\" class=\"dataframe\">\n",
              "  <thead>\n",
              "    <tr style=\"text-align: right;\">\n",
              "      <th></th>\n",
              "      <th>Close</th>\n",
              "      <th>High</th>\n",
              "      <th>Low</th>\n",
              "      <th>Open</th>\n",
              "      <th>Volume</th>\n",
              "      <th>Net Income</th>\n",
              "      <th>Stockholders Equity</th>\n",
              "      <th>Long Term Debt</th>\n",
              "      <th>Total Assets</th>\n",
              "      <th>Total Liabilities Net Minority Interest</th>\n",
              "    </tr>\n",
              "  </thead>\n",
              "  <tbody>\n",
              "    <tr>\n",
              "      <th>2021-12-31</th>\n",
              "      <td>NaN</td>\n",
              "      <td>NaN</td>\n",
              "      <td>NaN</td>\n",
              "      <td>NaN</td>\n",
              "      <td>NaN</td>\n",
              "      <td>NaN</td>\n",
              "      <td>121631000000000.0</td>\n",
              "      <td>36319000000000.0</td>\n",
              "      <td>276158000000000.0</td>\n",
              "      <td>130986000000000.0</td>\n",
              "    </tr>\n",
              "    <tr>\n",
              "      <th>2022-01-03</th>\n",
              "      <td>3380.564453</td>\n",
              "      <td>3380.564453</td>\n",
              "      <td>3275.427281</td>\n",
              "      <td>3283.514756</td>\n",
              "      <td>65937900.0</td>\n",
              "      <td>NaN</td>\n",
              "      <td>NaN</td>\n",
              "      <td>NaN</td>\n",
              "      <td>NaN</td>\n",
              "      <td>NaN</td>\n",
              "    </tr>\n",
              "    <tr>\n",
              "      <th>2022-01-04</th>\n",
              "      <td>3372.476807</td>\n",
              "      <td>3396.739230</td>\n",
              "      <td>3356.301858</td>\n",
              "      <td>3380.564281</td>\n",
              "      <td>42984700.0</td>\n",
              "      <td>NaN</td>\n",
              "      <td>NaN</td>\n",
              "      <td>NaN</td>\n",
              "      <td>NaN</td>\n",
              "      <td>NaN</td>\n",
              "    </tr>\n",
              "    <tr>\n",
              "      <th>2022-01-05</th>\n",
              "      <td>3275.427002</td>\n",
              "      <td>3388.651639</td>\n",
              "      <td>3259.252054</td>\n",
              "      <td>3356.301743</td>\n",
              "      <td>119584700.0</td>\n",
              "      <td>NaN</td>\n",
              "      <td>NaN</td>\n",
              "      <td>NaN</td>\n",
              "      <td>NaN</td>\n",
              "      <td>NaN</td>\n",
              "    </tr>\n",
              "    <tr>\n",
              "      <th>2022-01-06</th>\n",
              "      <td>3332.039307</td>\n",
              "      <td>3332.039307</td>\n",
              "      <td>3259.252040</td>\n",
              "      <td>3307.776885</td>\n",
              "      <td>89197500.0</td>\n",
              "      <td>NaN</td>\n",
              "      <td>NaN</td>\n",
              "      <td>NaN</td>\n",
              "      <td>NaN</td>\n",
              "      <td>NaN</td>\n",
              "    </tr>\n",
              "  </tbody>\n",
              "</table>\n",
              "</div>\n",
              "    <div class=\"colab-df-buttons\">\n",
              "\n",
              "  <div class=\"colab-df-container\">\n",
              "    <button class=\"colab-df-convert\" onclick=\"convertToInteractive('df-8d3a9927-8c31-4d23-a56a-bf2683cedc39')\"\n",
              "            title=\"Convert this dataframe to an interactive table.\"\n",
              "            style=\"display:none;\">\n",
              "\n",
              "  <svg xmlns=\"http://www.w3.org/2000/svg\" height=\"24px\" viewBox=\"0 -960 960 960\">\n",
              "    <path d=\"M120-120v-720h720v720H120Zm60-500h600v-160H180v160Zm220 220h160v-160H400v160Zm0 220h160v-160H400v160ZM180-400h160v-160H180v160Zm440 0h160v-160H620v160ZM180-180h160v-160H180v160Zm440 0h160v-160H620v160Z\"/>\n",
              "  </svg>\n",
              "    </button>\n",
              "\n",
              "  <style>\n",
              "    .colab-df-container {\n",
              "      display:flex;\n",
              "      gap: 12px;\n",
              "    }\n",
              "\n",
              "    .colab-df-convert {\n",
              "      background-color: #E8F0FE;\n",
              "      border: none;\n",
              "      border-radius: 50%;\n",
              "      cursor: pointer;\n",
              "      display: none;\n",
              "      fill: #1967D2;\n",
              "      height: 32px;\n",
              "      padding: 0 0 0 0;\n",
              "      width: 32px;\n",
              "    }\n",
              "\n",
              "    .colab-df-convert:hover {\n",
              "      background-color: #E2EBFA;\n",
              "      box-shadow: 0px 1px 2px rgba(60, 64, 67, 0.3), 0px 1px 3px 1px rgba(60, 64, 67, 0.15);\n",
              "      fill: #174EA6;\n",
              "    }\n",
              "\n",
              "    .colab-df-buttons div {\n",
              "      margin-bottom: 4px;\n",
              "    }\n",
              "\n",
              "    [theme=dark] .colab-df-convert {\n",
              "      background-color: #3B4455;\n",
              "      fill: #D2E3FC;\n",
              "    }\n",
              "\n",
              "    [theme=dark] .colab-df-convert:hover {\n",
              "      background-color: #434B5C;\n",
              "      box-shadow: 0px 1px 3px 1px rgba(0, 0, 0, 0.15);\n",
              "      filter: drop-shadow(0px 1px 2px rgba(0, 0, 0, 0.3));\n",
              "      fill: #FFFFFF;\n",
              "    }\n",
              "  </style>\n",
              "\n",
              "    <script>\n",
              "      const buttonEl =\n",
              "        document.querySelector('#df-8d3a9927-8c31-4d23-a56a-bf2683cedc39 button.colab-df-convert');\n",
              "      buttonEl.style.display =\n",
              "        google.colab.kernel.accessAllowed ? 'block' : 'none';\n",
              "\n",
              "      async function convertToInteractive(key) {\n",
              "        const element = document.querySelector('#df-8d3a9927-8c31-4d23-a56a-bf2683cedc39');\n",
              "        const dataTable =\n",
              "          await google.colab.kernel.invokeFunction('convertToInteractive',\n",
              "                                                    [key], {});\n",
              "        if (!dataTable) return;\n",
              "\n",
              "        const docLinkHtml = 'Like what you see? Visit the ' +\n",
              "          '<a target=\"_blank\" href=https://colab.research.google.com/notebooks/data_table.ipynb>data table notebook</a>'\n",
              "          + ' to learn more about interactive tables.';\n",
              "        element.innerHTML = '';\n",
              "        dataTable['output_type'] = 'display_data';\n",
              "        await google.colab.output.renderOutput(dataTable, element);\n",
              "        const docLink = document.createElement('div');\n",
              "        docLink.innerHTML = docLinkHtml;\n",
              "        element.appendChild(docLink);\n",
              "      }\n",
              "    </script>\n",
              "  </div>\n",
              "\n",
              "\n",
              "    <div id=\"df-330f1811-f396-4440-8522-c19e403e7d5d\">\n",
              "      <button class=\"colab-df-quickchart\" onclick=\"quickchart('df-330f1811-f396-4440-8522-c19e403e7d5d')\"\n",
              "                title=\"Suggest charts\"\n",
              "                style=\"display:none;\">\n",
              "\n",
              "<svg xmlns=\"http://www.w3.org/2000/svg\" height=\"24px\"viewBox=\"0 0 24 24\"\n",
              "     width=\"24px\">\n",
              "    <g>\n",
              "        <path d=\"M19 3H5c-1.1 0-2 .9-2 2v14c0 1.1.9 2 2 2h14c1.1 0 2-.9 2-2V5c0-1.1-.9-2-2-2zM9 17H7v-7h2v7zm4 0h-2V7h2v10zm4 0h-2v-4h2v4z\"/>\n",
              "    </g>\n",
              "</svg>\n",
              "      </button>\n",
              "\n",
              "<style>\n",
              "  .colab-df-quickchart {\n",
              "      --bg-color: #E8F0FE;\n",
              "      --fill-color: #1967D2;\n",
              "      --hover-bg-color: #E2EBFA;\n",
              "      --hover-fill-color: #174EA6;\n",
              "      --disabled-fill-color: #AAA;\n",
              "      --disabled-bg-color: #DDD;\n",
              "  }\n",
              "\n",
              "  [theme=dark] .colab-df-quickchart {\n",
              "      --bg-color: #3B4455;\n",
              "      --fill-color: #D2E3FC;\n",
              "      --hover-bg-color: #434B5C;\n",
              "      --hover-fill-color: #FFFFFF;\n",
              "      --disabled-bg-color: #3B4455;\n",
              "      --disabled-fill-color: #666;\n",
              "  }\n",
              "\n",
              "  .colab-df-quickchart {\n",
              "    background-color: var(--bg-color);\n",
              "    border: none;\n",
              "    border-radius: 50%;\n",
              "    cursor: pointer;\n",
              "    display: none;\n",
              "    fill: var(--fill-color);\n",
              "    height: 32px;\n",
              "    padding: 0;\n",
              "    width: 32px;\n",
              "  }\n",
              "\n",
              "  .colab-df-quickchart:hover {\n",
              "    background-color: var(--hover-bg-color);\n",
              "    box-shadow: 0 1px 2px rgba(60, 64, 67, 0.3), 0 1px 3px 1px rgba(60, 64, 67, 0.15);\n",
              "    fill: var(--button-hover-fill-color);\n",
              "  }\n",
              "\n",
              "  .colab-df-quickchart-complete:disabled,\n",
              "  .colab-df-quickchart-complete:disabled:hover {\n",
              "    background-color: var(--disabled-bg-color);\n",
              "    fill: var(--disabled-fill-color);\n",
              "    box-shadow: none;\n",
              "  }\n",
              "\n",
              "  .colab-df-spinner {\n",
              "    border: 2px solid var(--fill-color);\n",
              "    border-color: transparent;\n",
              "    border-bottom-color: var(--fill-color);\n",
              "    animation:\n",
              "      spin 1s steps(1) infinite;\n",
              "  }\n",
              "\n",
              "  @keyframes spin {\n",
              "    0% {\n",
              "      border-color: transparent;\n",
              "      border-bottom-color: var(--fill-color);\n",
              "      border-left-color: var(--fill-color);\n",
              "    }\n",
              "    20% {\n",
              "      border-color: transparent;\n",
              "      border-left-color: var(--fill-color);\n",
              "      border-top-color: var(--fill-color);\n",
              "    }\n",
              "    30% {\n",
              "      border-color: transparent;\n",
              "      border-left-color: var(--fill-color);\n",
              "      border-top-color: var(--fill-color);\n",
              "      border-right-color: var(--fill-color);\n",
              "    }\n",
              "    40% {\n",
              "      border-color: transparent;\n",
              "      border-right-color: var(--fill-color);\n",
              "      border-top-color: var(--fill-color);\n",
              "    }\n",
              "    60% {\n",
              "      border-color: transparent;\n",
              "      border-right-color: var(--fill-color);\n",
              "    }\n",
              "    80% {\n",
              "      border-color: transparent;\n",
              "      border-right-color: var(--fill-color);\n",
              "      border-bottom-color: var(--fill-color);\n",
              "    }\n",
              "    90% {\n",
              "      border-color: transparent;\n",
              "      border-bottom-color: var(--fill-color);\n",
              "    }\n",
              "  }\n",
              "</style>\n",
              "\n",
              "      <script>\n",
              "        async function quickchart(key) {\n",
              "          const quickchartButtonEl =\n",
              "            document.querySelector('#' + key + ' button');\n",
              "          quickchartButtonEl.disabled = true;  // To prevent multiple clicks.\n",
              "          quickchartButtonEl.classList.add('colab-df-spinner');\n",
              "          try {\n",
              "            const charts = await google.colab.kernel.invokeFunction(\n",
              "                'suggestCharts', [key], {});\n",
              "          } catch (error) {\n",
              "            console.error('Error during call to suggestCharts:', error);\n",
              "          }\n",
              "          quickchartButtonEl.classList.remove('colab-df-spinner');\n",
              "          quickchartButtonEl.classList.add('colab-df-quickchart-complete');\n",
              "        }\n",
              "        (() => {\n",
              "          let quickchartButtonEl =\n",
              "            document.querySelector('#df-330f1811-f396-4440-8522-c19e403e7d5d button');\n",
              "          quickchartButtonEl.style.display =\n",
              "            google.colab.kernel.accessAllowed ? 'block' : 'none';\n",
              "        })();\n",
              "      </script>\n",
              "    </div>\n",
              "\n",
              "    </div>\n",
              "  </div>\n"
            ],
            "application/vnd.google.colaboratory.intrinsic+json": {
              "type": "dataframe",
              "variable_name": "filtered_data",
              "summary": "{\n  \"name\": \"filtered_data\",\n  \"rows\": 809,\n  \"fields\": [\n    {\n      \"column\": \"Close\",\n      \"properties\": {\n        \"dtype\": \"number\",\n        \"std\": 439.35808063238716,\n        \"min\": 2122.80126953125,\n        \"max\": 3982.061279296875,\n        \"num_unique_values\": 304,\n        \"samples\": [\n          3057.6337890625,\n          3433.285888671875,\n          3319.781494140625\n        ],\n        \"semantic_type\": \"\",\n        \"description\": \"\"\n      }\n    },\n    {\n      \"column\": \"High\",\n      \"properties\": {\n        \"dtype\": \"number\",\n        \"std\": 437.71441581979576,\n        \"min\": 2132.0711440706878,\n        \"max\": 3998.8278531044407,\n        \"num_unique_values\": 688,\n        \"samples\": [\n          3655.113254248272,\n          2289.6591348453444,\n          3202.4157309016323\n        ],\n        \"semantic_type\": \"\",\n        \"description\": \"\"\n      }\n    },\n    {\n      \"column\": \"Low\",\n      \"properties\": {\n        \"dtype\": \"number\",\n        \"std\": 438.22546908412903,\n        \"min\": 1900.3242805847433,\n        \"max\": 3898.2288246966423,\n        \"num_unique_values\": 682,\n        \"samples\": [\n          3386.8480227565074,\n          3797.6289755475573,\n          3135.3493789062504\n        ],\n        \"semantic_type\": \"\",\n        \"description\": \"\"\n      }\n    },\n    {\n      \"column\": \"Open\",\n      \"properties\": {\n        \"dtype\": \"number\",\n        \"std\": 438.36675811061184,\n        \"min\": 1900.3242805847433,\n        \"max\": 3940.145263671875,\n        \"num_unique_values\": 724,\n        \"samples\": [\n          3468.230212341002,\n          2725.343282350352,\n          2595.564932839912\n        ],\n        \"semantic_type\": \"\",\n        \"description\": \"\"\n      }\n    },\n    {\n      \"column\": \"Volume\",\n      \"properties\": {\n        \"dtype\": \"number\",\n        \"std\": 76183233.525943,\n        \"min\": 7959900.0,\n        \"max\": 1155861400.0,\n        \"num_unique_values\": 802,\n        \"samples\": [\n          72516000.0,\n          76136200.0,\n          97919200.0\n        ],\n        \"semantic_type\": \"\",\n        \"description\": \"\"\n      }\n    },\n    {\n      \"column\": \"Net Income\",\n      \"properties\": {\n        \"dtype\": \"date\",\n        \"min\": 5600000000000.0,\n        \"max\": 6053000000000.0,\n        \"num_unique_values\": 6,\n        \"samples\": [\n          5600000000000.0,\n          6053000000000.0,\n          5810000000000.0\n        ],\n        \"semantic_type\": \"\",\n        \"description\": \"\"\n      }\n    },\n    {\n      \"column\": \"Stockholders Equity\",\n      \"properties\": {\n        \"dtype\": \"date\",\n        \"min\": 121631000000000.0,\n        \"max\": 141888000000000.0,\n        \"num_unique_values\": 4,\n        \"samples\": [\n          129224000000000.0,\n          141888000000000.0,\n          121631000000000.0\n        ],\n        \"semantic_type\": \"\",\n        \"description\": \"\"\n      }\n    },\n    {\n      \"column\": \"Long Term Debt\",\n      \"properties\": {\n        \"dtype\": \"date\",\n        \"min\": 25518000000000.0,\n        \"max\": 36319000000000.0,\n        \"num_unique_values\": 4,\n        \"samples\": [\n          27331000000000.0,\n          25518000000000.0,\n          36319000000000.0\n        ],\n        \"semantic_type\": \"\",\n        \"description\": \"\"\n      }\n    },\n    {\n      \"column\": \"Total Assets\",\n      \"properties\": {\n        \"dtype\": \"date\",\n        \"min\": 274817000000000.0,\n        \"max\": 299297000000000.0,\n        \"num_unique_values\": 4,\n        \"samples\": [\n          274817000000000.0,\n          299297000000000.0,\n          276158000000000.0\n        ],\n        \"semantic_type\": \"\",\n        \"description\": \"\"\n      }\n    },\n    {\n      \"column\": \"Total Liabilities Net Minority Interest\",\n      \"properties\": {\n        \"dtype\": \"date\",\n        \"min\": 125742000000000.0,\n        \"max\": 137151000000000.0,\n        \"num_unique_values\": 4,\n        \"samples\": [\n          125742000000000.0,\n          137151000000000.0,\n          130986000000000.0\n        ],\n        \"semantic_type\": \"\",\n        \"description\": \"\"\n      }\n    }\n  ]\n}"
            }
          },
          "metadata": {},
          "execution_count": 32
        }
      ],
      "source": [
        "filtered_data.head()"
      ]
    },
    {
      "cell_type": "code",
      "execution_count": 33,
      "metadata": {
        "id": "LTCq60BUbog2"
      },
      "outputs": [],
      "source": [
        "# filtered_data = filtered_data[filtered_data.index >= '2021-12-31']\n",
        "# print(filtered_data)"
      ]
    },
    {
      "cell_type": "code",
      "execution_count": 34,
      "metadata": {
        "colab": {
          "base_uri": "https://localhost:8080/"
        },
        "id": "QbQ6JXBlBF7w",
        "outputId": "7846bda4-e64f-4303-dbbd-b39e0744e6e4"
      },
      "outputs": [
        {
          "output_type": "execute_result",
          "data": {
            "text/plain": [
              "Index(['Close', 'High', 'Low', 'Open', 'Volume', 'Net Income',\n",
              "       'Stockholders Equity', 'Long Term Debt', 'Total Assets',\n",
              "       'Total Liabilities Net Minority Interest'],\n",
              "      dtype='object')"
            ]
          },
          "metadata": {},
          "execution_count": 34
        }
      ],
      "source": [
        "filtered_data.columns"
      ]
    },
    {
      "cell_type": "code",
      "execution_count": 35,
      "metadata": {
        "colab": {
          "base_uri": "https://localhost:8080/"
        },
        "id": "vTFGHmLt83b2",
        "outputId": "76d8624a-5944-48d9-e767-55986e74f442"
      },
      "outputs": [
        {
          "output_type": "execute_result",
          "data": {
            "text/plain": [
              "Index(['Close', 'High', 'Low', 'Open', 'Volume', 'Net Income',\n",
              "       'Stockholders Equity', 'Long Term Debt', 'Total Assets',\n",
              "       'Total Liabilities Net Minority Interest'],\n",
              "      dtype='object')"
            ]
          },
          "metadata": {},
          "execution_count": 35
        }
      ],
      "source": [
        "filtered_data.columns"
      ]
    },
    {
      "cell_type": "code",
      "execution_count": 36,
      "metadata": {
        "id": "Id5kRYa_GseC"
      },
      "outputs": [],
      "source": [
        "# filtered_data.to_csv('Unnormalisasi_data_sheet_new_fill.csv')"
      ]
    },
    {
      "cell_type": "code",
      "execution_count": 37,
      "metadata": {
        "colab": {
          "base_uri": "https://localhost:8080/"
        },
        "id": "d8MYy6QQioWP",
        "outputId": "50b596f3-fbe8-4388-e628-5e7a99978c7c"
      },
      "outputs": [
        {
          "output_type": "stream",
          "name": "stdout",
          "text": [
            "Drive already mounted at /content/drive; to attempt to forcibly remount, call drive.mount(\"/content/drive\", force_remount=True).\n"
          ]
        }
      ],
      "source": [
        "from google.colab import drive\n",
        "drive.mount('/content/drive')"
      ]
    },
    {
      "cell_type": "markdown",
      "metadata": {
        "id": "cuuL096KqYiQ"
      },
      "source": [
        "### Penggabungan data"
      ]
    },
    {
      "cell_type": "markdown",
      "metadata": {
        "id": "zZGels2P18ns"
      },
      "source": [
        "Ambil data saham dari pihak eksternal net income"
      ]
    },
    {
      "cell_type": "code",
      "execution_count": 38,
      "metadata": {
        "colab": {
          "base_uri": "https://localhost:8080/"
        },
        "id": "tzvNx3_-1bja",
        "outputId": "9d50e5b5-715b-4d75-ac75-ab94978c85bc"
      },
      "outputs": [
        {
          "output_type": "stream",
          "name": "stdout",
          "text": [
            "   Unnamed: 0        Close         High          Low         Open  \\\n",
            "0  12/31/2021          NaN          NaN          NaN          NaN   \n",
            "1    1/3/2022  3646.828613  3646.828613  3533.410499  3542.134969   \n",
            "2    1/4/2022  3638.104004  3664.277414  3620.655064  3646.828474   \n",
            "3    1/5/2022  3533.410400  3655.552982  3515.961460  3620.655102   \n",
            "4    1/6/2022  3594.481689  3594.481689  3515.961458  3568.308279   \n",
            "\n",
            "        Volume    Net Income  Stockholders Equity  Long Term Debt  \\\n",
            "0          NaN  5.890000e+12         1.216310e+14    3.631900e+13   \n",
            "1   65937900.0           NaN                  NaN             NaN   \n",
            "2   42984700.0           NaN                  NaN             NaN   \n",
            "3  119584700.0           NaN                  NaN             NaN   \n",
            "4   89197500.0           NaN                  NaN             NaN   \n",
            "\n",
            "   Total Assets  Total Liabilities Net Minority Interest  \n",
            "0  2.761580e+14                             1.309860e+14  \n",
            "1           NaN                                      NaN  \n",
            "2           NaN                                      NaN  \n",
            "3           NaN                                      NaN  \n",
            "4           NaN                                      NaN  \n"
          ]
        }
      ],
      "source": [
        "import pandas as pd\n",
        "\n",
        "# Membaca file yang diunggah (misalnya CSV)\n",
        "file_path = '/content/drive/MyDrive/Dataset/Skripsi/Unnormalisasi_data_sheet_new_fill.csv'\n",
        "df = pd.read_csv(file_path)\n",
        "\n",
        "# Menampilkan data yang diunggah\n",
        "print(df.head())\n"
      ]
    },
    {
      "cell_type": "code",
      "execution_count": 39,
      "metadata": {
        "colab": {
          "base_uri": "https://localhost:8080/"
        },
        "id": "trFcWtJCl-D3",
        "outputId": "863d300f-3b3e-4610-9c32-5946639f4f5d"
      },
      "outputs": [
        {
          "output_type": "stream",
          "name": "stdout",
          "text": [
            "   Unnamed: 0        Close         High          Low         Open  \\\n",
            "0  12/31/2021          NaN          NaN          NaN          NaN   \n",
            "1    1/3/2022  3646.828613  3646.828613  3533.410499  3542.134969   \n",
            "2    1/4/2022  3638.104004  3664.277414  3620.655064  3646.828474   \n",
            "3    1/5/2022  3533.410400  3655.552982  3515.961460  3620.655102   \n",
            "4    1/6/2022  3594.481689  3594.481689  3515.961458  3568.308279   \n",
            "\n",
            "        Volume    Net Income  Stockholders Equity  Long Term Debt  \\\n",
            "0          NaN  5.890000e+12         1.216310e+14    3.631900e+13   \n",
            "1   65937900.0  5.890000e+12         1.216310e+14    3.631900e+13   \n",
            "2   42984700.0  5.890000e+12         1.216310e+14    3.631900e+13   \n",
            "3  119584700.0  5.890000e+12         1.216310e+14    3.631900e+13   \n",
            "4   89197500.0  5.890000e+12         1.216310e+14    3.631900e+13   \n",
            "\n",
            "   Total Assets  Total Liabilities Net Minority Interest  \n",
            "0  2.761580e+14                             1.309860e+14  \n",
            "1  2.761580e+14                             1.309860e+14  \n",
            "2  2.761580e+14                             1.309860e+14  \n",
            "3  2.761580e+14                             1.309860e+14  \n",
            "4  2.761580e+14                             1.309860e+14  \n"
          ]
        }
      ],
      "source": [
        "df = df.ffill()\n",
        "print(df.head())"
      ]
    },
    {
      "cell_type": "code",
      "execution_count": 40,
      "metadata": {
        "id": "9RfuVQPPKVhG"
      },
      "outputs": [],
      "source": [
        "df.to_csv('filtered_data_sheet_new_fill.csv')"
      ]
    },
    {
      "cell_type": "markdown",
      "metadata": {
        "id": "p93RlBVHqu1R"
      },
      "source": [
        "### Cleanshing\n"
      ]
    },
    {
      "cell_type": "code",
      "execution_count": 41,
      "metadata": {
        "colab": {
          "base_uri": "https://localhost:8080/"
        },
        "id": "GqePj2JrmQUX",
        "outputId": "860e4d3b-a0fa-4b7a-99f5-967d43328674"
      },
      "outputs": [
        {
          "output_type": "stream",
          "name": "stdout",
          "text": [
            "     Unnamed: 0        Close         High          Low         Open  \\\n",
            "0    12/31/2021          NaN          NaN          NaN          NaN   \n",
            "1      1/3/2022  3646.828613  3646.828613  3533.410499  3542.134969   \n",
            "2      1/4/2022  3638.104004  3664.277414  3620.655064  3646.828474   \n",
            "3      1/5/2022  3533.410400  3655.552982  3515.961460  3620.655102   \n",
            "4      1/6/2022  3594.481689  3594.481689  3515.961458  3568.308279   \n",
            "..          ...          ...          ...          ...          ...   \n",
            "804    5/5/2025  2700.000000  2710.000000  2670.000000  2710.000000   \n",
            "805    5/6/2025  2680.000000  2730.000000  2680.000000  2720.000000   \n",
            "806    5/7/2025  2620.000000  2690.000000  2620.000000  2680.000000   \n",
            "807    5/8/2025  2570.000000  2640.000000  2570.000000  2630.000000   \n",
            "808    5/9/2025  2600.000000  2630.000000  2570.000000  2570.000000   \n",
            "\n",
            "          Volume    Net Income  Stockholders Equity  Long Term Debt  \\\n",
            "0            NaN  5.890000e+12         1.216310e+14    3.631900e+13   \n",
            "1     65937900.0  5.890000e+12         1.216310e+14    3.631900e+13   \n",
            "2     42984700.0  5.890000e+12         1.216310e+14    3.631900e+13   \n",
            "3    119584700.0  5.890000e+12         1.216310e+14    3.631900e+13   \n",
            "4     89197500.0  5.890000e+12         1.216310e+14    3.631900e+13   \n",
            "..           ...           ...                  ...             ...   \n",
            "804   85592500.0  5.810000e+12         1.418880e+14    2.551800e+13   \n",
            "805   76948300.0  5.810000e+12         1.418880e+14    2.551800e+13   \n",
            "806  100293700.0  5.810000e+12         1.418880e+14    2.551800e+13   \n",
            "807  122965300.0  5.810000e+12         1.418880e+14    2.551800e+13   \n",
            "808   59433500.0  5.810000e+12         1.418880e+14    2.551800e+13   \n",
            "\n",
            "     Total Assets  Total Liabilities Net Minority Interest  \n",
            "0    2.761580e+14                             1.309860e+14  \n",
            "1    2.761580e+14                             1.309860e+14  \n",
            "2    2.761580e+14                             1.309860e+14  \n",
            "3    2.761580e+14                             1.309860e+14  \n",
            "4    2.761580e+14                             1.309860e+14  \n",
            "..            ...                                      ...  \n",
            "804  2.992970e+14                             1.371510e+14  \n",
            "805  2.992970e+14                             1.371510e+14  \n",
            "806  2.992970e+14                             1.371510e+14  \n",
            "807  2.992970e+14                             1.371510e+14  \n",
            "808  2.992970e+14                             1.371510e+14  \n",
            "\n",
            "[809 rows x 11 columns]\n"
          ]
        }
      ],
      "source": [
        "print(df)"
      ]
    },
    {
      "cell_type": "code",
      "execution_count": 42,
      "metadata": {
        "colab": {
          "base_uri": "https://localhost:8080/"
        },
        "id": "LwIA41_OCSx1",
        "outputId": "54233786-aa95-411f-a9da-b7cf29a0675b"
      },
      "outputs": [
        {
          "output_type": "execute_result",
          "data": {
            "text/plain": [
              "Index(['Unnamed: 0', 'Close', 'High', 'Low', 'Open', 'Volume', 'Net Income',\n",
              "       'Stockholders Equity', 'Long Term Debt', 'Total Assets',\n",
              "       'Total Liabilities Net Minority Interest'],\n",
              "      dtype='object')"
            ]
          },
          "metadata": {},
          "execution_count": 42
        }
      ],
      "source": [
        "df.columns"
      ]
    },
    {
      "cell_type": "code",
      "execution_count": 43,
      "metadata": {
        "colab": {
          "base_uri": "https://localhost:8080/"
        },
        "id": "e8yyoEcjA8wl",
        "outputId": "a523d6e4-0104-4e65-da43-5236d641ccf1"
      },
      "outputs": [
        {
          "output_type": "execute_result",
          "data": {
            "text/plain": [
              "Index(['Unnamed: 0', 'Close', 'High', 'Low', 'Open', 'Net Income',\n",
              "       'Stockholders Equity', 'Long Term Debt', 'Total Assets',\n",
              "       'Total Liabilities Net Minority Interest'],\n",
              "      dtype='object')"
            ]
          },
          "metadata": {},
          "execution_count": 43
        }
      ],
      "source": [
        "# Menghapus kolom tertentu\n",
        "df = df.drop(columns=['Volume'])\n",
        "df.columns"
      ]
    },
    {
      "cell_type": "markdown",
      "metadata": {
        "id": "OhPmM8wiGQ9X"
      },
      "source": [
        "Cek nilai kosong dan nan"
      ]
    },
    {
      "cell_type": "code",
      "execution_count": 44,
      "metadata": {
        "colab": {
          "base_uri": "https://localhost:8080/",
          "height": 503
        },
        "id": "iaS0P9reF5NS",
        "outputId": "4ddf879c-0fbe-4344-c78c-628e167b1708"
      },
      "outputs": [
        {
          "output_type": "stream",
          "name": "stdout",
          "text": [
            "Jumlah nilai NaN per kolom sebelum dihapus:\n",
            "Unnamed: 0                                 0\n",
            "Close                                      1\n",
            "High                                       1\n",
            "Low                                        1\n",
            "Open                                       1\n",
            "Net Income                                 0\n",
            "Stockholders Equity                        0\n",
            "Long Term Debt                             0\n",
            "Total Assets                               0\n",
            "Total Liabilities Net Minority Interest    0\n",
            "dtype: int64\n"
          ]
        },
        {
          "output_type": "execute_result",
          "data": {
            "text/plain": [
              "   Unnamed: 0        Close         High          Low         Open  \\\n",
              "0  12/31/2021          NaN          NaN          NaN          NaN   \n",
              "1    1/3/2022  3646.828613  3646.828613  3533.410499  3542.134969   \n",
              "2    1/4/2022  3638.104004  3664.277414  3620.655064  3646.828474   \n",
              "3    1/5/2022  3533.410400  3655.552982  3515.961460  3620.655102   \n",
              "4    1/6/2022  3594.481689  3594.481689  3515.961458  3568.308279   \n",
              "\n",
              "     Net Income  Stockholders Equity  Long Term Debt  Total Assets  \\\n",
              "0  5.890000e+12         1.216310e+14    3.631900e+13  2.761580e+14   \n",
              "1  5.890000e+12         1.216310e+14    3.631900e+13  2.761580e+14   \n",
              "2  5.890000e+12         1.216310e+14    3.631900e+13  2.761580e+14   \n",
              "3  5.890000e+12         1.216310e+14    3.631900e+13  2.761580e+14   \n",
              "4  5.890000e+12         1.216310e+14    3.631900e+13  2.761580e+14   \n",
              "\n",
              "   Total Liabilities Net Minority Interest  \n",
              "0                             1.309860e+14  \n",
              "1                             1.309860e+14  \n",
              "2                             1.309860e+14  \n",
              "3                             1.309860e+14  \n",
              "4                             1.309860e+14  "
            ],
            "text/html": [
              "\n",
              "  <div id=\"df-a22eff84-56a4-4b2d-8df2-8d01b1e67f8a\" class=\"colab-df-container\">\n",
              "    <div>\n",
              "<style scoped>\n",
              "    .dataframe tbody tr th:only-of-type {\n",
              "        vertical-align: middle;\n",
              "    }\n",
              "\n",
              "    .dataframe tbody tr th {\n",
              "        vertical-align: top;\n",
              "    }\n",
              "\n",
              "    .dataframe thead th {\n",
              "        text-align: right;\n",
              "    }\n",
              "</style>\n",
              "<table border=\"1\" class=\"dataframe\">\n",
              "  <thead>\n",
              "    <tr style=\"text-align: right;\">\n",
              "      <th></th>\n",
              "      <th>Unnamed: 0</th>\n",
              "      <th>Close</th>\n",
              "      <th>High</th>\n",
              "      <th>Low</th>\n",
              "      <th>Open</th>\n",
              "      <th>Net Income</th>\n",
              "      <th>Stockholders Equity</th>\n",
              "      <th>Long Term Debt</th>\n",
              "      <th>Total Assets</th>\n",
              "      <th>Total Liabilities Net Minority Interest</th>\n",
              "    </tr>\n",
              "  </thead>\n",
              "  <tbody>\n",
              "    <tr>\n",
              "      <th>0</th>\n",
              "      <td>12/31/2021</td>\n",
              "      <td>NaN</td>\n",
              "      <td>NaN</td>\n",
              "      <td>NaN</td>\n",
              "      <td>NaN</td>\n",
              "      <td>5.890000e+12</td>\n",
              "      <td>1.216310e+14</td>\n",
              "      <td>3.631900e+13</td>\n",
              "      <td>2.761580e+14</td>\n",
              "      <td>1.309860e+14</td>\n",
              "    </tr>\n",
              "    <tr>\n",
              "      <th>1</th>\n",
              "      <td>1/3/2022</td>\n",
              "      <td>3646.828613</td>\n",
              "      <td>3646.828613</td>\n",
              "      <td>3533.410499</td>\n",
              "      <td>3542.134969</td>\n",
              "      <td>5.890000e+12</td>\n",
              "      <td>1.216310e+14</td>\n",
              "      <td>3.631900e+13</td>\n",
              "      <td>2.761580e+14</td>\n",
              "      <td>1.309860e+14</td>\n",
              "    </tr>\n",
              "    <tr>\n",
              "      <th>2</th>\n",
              "      <td>1/4/2022</td>\n",
              "      <td>3638.104004</td>\n",
              "      <td>3664.277414</td>\n",
              "      <td>3620.655064</td>\n",
              "      <td>3646.828474</td>\n",
              "      <td>5.890000e+12</td>\n",
              "      <td>1.216310e+14</td>\n",
              "      <td>3.631900e+13</td>\n",
              "      <td>2.761580e+14</td>\n",
              "      <td>1.309860e+14</td>\n",
              "    </tr>\n",
              "    <tr>\n",
              "      <th>3</th>\n",
              "      <td>1/5/2022</td>\n",
              "      <td>3533.410400</td>\n",
              "      <td>3655.552982</td>\n",
              "      <td>3515.961460</td>\n",
              "      <td>3620.655102</td>\n",
              "      <td>5.890000e+12</td>\n",
              "      <td>1.216310e+14</td>\n",
              "      <td>3.631900e+13</td>\n",
              "      <td>2.761580e+14</td>\n",
              "      <td>1.309860e+14</td>\n",
              "    </tr>\n",
              "    <tr>\n",
              "      <th>4</th>\n",
              "      <td>1/6/2022</td>\n",
              "      <td>3594.481689</td>\n",
              "      <td>3594.481689</td>\n",
              "      <td>3515.961458</td>\n",
              "      <td>3568.308279</td>\n",
              "      <td>5.890000e+12</td>\n",
              "      <td>1.216310e+14</td>\n",
              "      <td>3.631900e+13</td>\n",
              "      <td>2.761580e+14</td>\n",
              "      <td>1.309860e+14</td>\n",
              "    </tr>\n",
              "  </tbody>\n",
              "</table>\n",
              "</div>\n",
              "    <div class=\"colab-df-buttons\">\n",
              "\n",
              "  <div class=\"colab-df-container\">\n",
              "    <button class=\"colab-df-convert\" onclick=\"convertToInteractive('df-a22eff84-56a4-4b2d-8df2-8d01b1e67f8a')\"\n",
              "            title=\"Convert this dataframe to an interactive table.\"\n",
              "            style=\"display:none;\">\n",
              "\n",
              "  <svg xmlns=\"http://www.w3.org/2000/svg\" height=\"24px\" viewBox=\"0 -960 960 960\">\n",
              "    <path d=\"M120-120v-720h720v720H120Zm60-500h600v-160H180v160Zm220 220h160v-160H400v160Zm0 220h160v-160H400v160ZM180-400h160v-160H180v160Zm440 0h160v-160H620v160ZM180-180h160v-160H180v160Zm440 0h160v-160H620v160Z\"/>\n",
              "  </svg>\n",
              "    </button>\n",
              "\n",
              "  <style>\n",
              "    .colab-df-container {\n",
              "      display:flex;\n",
              "      gap: 12px;\n",
              "    }\n",
              "\n",
              "    .colab-df-convert {\n",
              "      background-color: #E8F0FE;\n",
              "      border: none;\n",
              "      border-radius: 50%;\n",
              "      cursor: pointer;\n",
              "      display: none;\n",
              "      fill: #1967D2;\n",
              "      height: 32px;\n",
              "      padding: 0 0 0 0;\n",
              "      width: 32px;\n",
              "    }\n",
              "\n",
              "    .colab-df-convert:hover {\n",
              "      background-color: #E2EBFA;\n",
              "      box-shadow: 0px 1px 2px rgba(60, 64, 67, 0.3), 0px 1px 3px 1px rgba(60, 64, 67, 0.15);\n",
              "      fill: #174EA6;\n",
              "    }\n",
              "\n",
              "    .colab-df-buttons div {\n",
              "      margin-bottom: 4px;\n",
              "    }\n",
              "\n",
              "    [theme=dark] .colab-df-convert {\n",
              "      background-color: #3B4455;\n",
              "      fill: #D2E3FC;\n",
              "    }\n",
              "\n",
              "    [theme=dark] .colab-df-convert:hover {\n",
              "      background-color: #434B5C;\n",
              "      box-shadow: 0px 1px 3px 1px rgba(0, 0, 0, 0.15);\n",
              "      filter: drop-shadow(0px 1px 2px rgba(0, 0, 0, 0.3));\n",
              "      fill: #FFFFFF;\n",
              "    }\n",
              "  </style>\n",
              "\n",
              "    <script>\n",
              "      const buttonEl =\n",
              "        document.querySelector('#df-a22eff84-56a4-4b2d-8df2-8d01b1e67f8a button.colab-df-convert');\n",
              "      buttonEl.style.display =\n",
              "        google.colab.kernel.accessAllowed ? 'block' : 'none';\n",
              "\n",
              "      async function convertToInteractive(key) {\n",
              "        const element = document.querySelector('#df-a22eff84-56a4-4b2d-8df2-8d01b1e67f8a');\n",
              "        const dataTable =\n",
              "          await google.colab.kernel.invokeFunction('convertToInteractive',\n",
              "                                                    [key], {});\n",
              "        if (!dataTable) return;\n",
              "\n",
              "        const docLinkHtml = 'Like what you see? Visit the ' +\n",
              "          '<a target=\"_blank\" href=https://colab.research.google.com/notebooks/data_table.ipynb>data table notebook</a>'\n",
              "          + ' to learn more about interactive tables.';\n",
              "        element.innerHTML = '';\n",
              "        dataTable['output_type'] = 'display_data';\n",
              "        await google.colab.output.renderOutput(dataTable, element);\n",
              "        const docLink = document.createElement('div');\n",
              "        docLink.innerHTML = docLinkHtml;\n",
              "        element.appendChild(docLink);\n",
              "      }\n",
              "    </script>\n",
              "  </div>\n",
              "\n",
              "\n",
              "    <div id=\"df-18a3bf0a-db9b-4911-adc6-e699ce256549\">\n",
              "      <button class=\"colab-df-quickchart\" onclick=\"quickchart('df-18a3bf0a-db9b-4911-adc6-e699ce256549')\"\n",
              "                title=\"Suggest charts\"\n",
              "                style=\"display:none;\">\n",
              "\n",
              "<svg xmlns=\"http://www.w3.org/2000/svg\" height=\"24px\"viewBox=\"0 0 24 24\"\n",
              "     width=\"24px\">\n",
              "    <g>\n",
              "        <path d=\"M19 3H5c-1.1 0-2 .9-2 2v14c0 1.1.9 2 2 2h14c1.1 0 2-.9 2-2V5c0-1.1-.9-2-2-2zM9 17H7v-7h2v7zm4 0h-2V7h2v10zm4 0h-2v-4h2v4z\"/>\n",
              "    </g>\n",
              "</svg>\n",
              "      </button>\n",
              "\n",
              "<style>\n",
              "  .colab-df-quickchart {\n",
              "      --bg-color: #E8F0FE;\n",
              "      --fill-color: #1967D2;\n",
              "      --hover-bg-color: #E2EBFA;\n",
              "      --hover-fill-color: #174EA6;\n",
              "      --disabled-fill-color: #AAA;\n",
              "      --disabled-bg-color: #DDD;\n",
              "  }\n",
              "\n",
              "  [theme=dark] .colab-df-quickchart {\n",
              "      --bg-color: #3B4455;\n",
              "      --fill-color: #D2E3FC;\n",
              "      --hover-bg-color: #434B5C;\n",
              "      --hover-fill-color: #FFFFFF;\n",
              "      --disabled-bg-color: #3B4455;\n",
              "      --disabled-fill-color: #666;\n",
              "  }\n",
              "\n",
              "  .colab-df-quickchart {\n",
              "    background-color: var(--bg-color);\n",
              "    border: none;\n",
              "    border-radius: 50%;\n",
              "    cursor: pointer;\n",
              "    display: none;\n",
              "    fill: var(--fill-color);\n",
              "    height: 32px;\n",
              "    padding: 0;\n",
              "    width: 32px;\n",
              "  }\n",
              "\n",
              "  .colab-df-quickchart:hover {\n",
              "    background-color: var(--hover-bg-color);\n",
              "    box-shadow: 0 1px 2px rgba(60, 64, 67, 0.3), 0 1px 3px 1px rgba(60, 64, 67, 0.15);\n",
              "    fill: var(--button-hover-fill-color);\n",
              "  }\n",
              "\n",
              "  .colab-df-quickchart-complete:disabled,\n",
              "  .colab-df-quickchart-complete:disabled:hover {\n",
              "    background-color: var(--disabled-bg-color);\n",
              "    fill: var(--disabled-fill-color);\n",
              "    box-shadow: none;\n",
              "  }\n",
              "\n",
              "  .colab-df-spinner {\n",
              "    border: 2px solid var(--fill-color);\n",
              "    border-color: transparent;\n",
              "    border-bottom-color: var(--fill-color);\n",
              "    animation:\n",
              "      spin 1s steps(1) infinite;\n",
              "  }\n",
              "\n",
              "  @keyframes spin {\n",
              "    0% {\n",
              "      border-color: transparent;\n",
              "      border-bottom-color: var(--fill-color);\n",
              "      border-left-color: var(--fill-color);\n",
              "    }\n",
              "    20% {\n",
              "      border-color: transparent;\n",
              "      border-left-color: var(--fill-color);\n",
              "      border-top-color: var(--fill-color);\n",
              "    }\n",
              "    30% {\n",
              "      border-color: transparent;\n",
              "      border-left-color: var(--fill-color);\n",
              "      border-top-color: var(--fill-color);\n",
              "      border-right-color: var(--fill-color);\n",
              "    }\n",
              "    40% {\n",
              "      border-color: transparent;\n",
              "      border-right-color: var(--fill-color);\n",
              "      border-top-color: var(--fill-color);\n",
              "    }\n",
              "    60% {\n",
              "      border-color: transparent;\n",
              "      border-right-color: var(--fill-color);\n",
              "    }\n",
              "    80% {\n",
              "      border-color: transparent;\n",
              "      border-right-color: var(--fill-color);\n",
              "      border-bottom-color: var(--fill-color);\n",
              "    }\n",
              "    90% {\n",
              "      border-color: transparent;\n",
              "      border-bottom-color: var(--fill-color);\n",
              "    }\n",
              "  }\n",
              "</style>\n",
              "\n",
              "      <script>\n",
              "        async function quickchart(key) {\n",
              "          const quickchartButtonEl =\n",
              "            document.querySelector('#' + key + ' button');\n",
              "          quickchartButtonEl.disabled = true;  // To prevent multiple clicks.\n",
              "          quickchartButtonEl.classList.add('colab-df-spinner');\n",
              "          try {\n",
              "            const charts = await google.colab.kernel.invokeFunction(\n",
              "                'suggestCharts', [key], {});\n",
              "          } catch (error) {\n",
              "            console.error('Error during call to suggestCharts:', error);\n",
              "          }\n",
              "          quickchartButtonEl.classList.remove('colab-df-spinner');\n",
              "          quickchartButtonEl.classList.add('colab-df-quickchart-complete');\n",
              "        }\n",
              "        (() => {\n",
              "          let quickchartButtonEl =\n",
              "            document.querySelector('#df-18a3bf0a-db9b-4911-adc6-e699ce256549 button');\n",
              "          quickchartButtonEl.style.display =\n",
              "            google.colab.kernel.accessAllowed ? 'block' : 'none';\n",
              "        })();\n",
              "      </script>\n",
              "    </div>\n",
              "\n",
              "    </div>\n",
              "  </div>\n"
            ],
            "application/vnd.google.colaboratory.intrinsic+json": {
              "type": "dataframe",
              "variable_name": "df",
              "summary": "{\n  \"name\": \"df\",\n  \"rows\": 809,\n  \"fields\": [\n    {\n      \"column\": \"Unnamed: 0\",\n      \"properties\": {\n        \"dtype\": \"object\",\n        \"num_unique_values\": 809,\n        \"samples\": [\n          \"11/15/2024\",\n          \"3/10/2023\",\n          \"12/5/2022\"\n        ],\n        \"semantic_type\": \"\",\n        \"description\": \"\"\n      }\n    },\n    {\n      \"column\": \"Close\",\n      \"properties\": {\n        \"dtype\": \"number\",\n        \"std\": 474.4352009424973,\n        \"min\": 2290.0,\n        \"max\": 4295.701172,\n        \"num_unique_values\": 304,\n        \"samples\": [\n          3298.462891,\n          3703.702637,\n          3581.258545\n        ],\n        \"semantic_type\": \"\",\n        \"description\": \"\"\n      }\n    },\n    {\n      \"column\": \"High\",\n      \"properties\": {\n        \"dtype\": \"number\",\n        \"std\": 472.71136909459716,\n        \"min\": 2300.0,\n        \"max\": 4313.788335,\n        \"num_unique_values\": 563,\n        \"samples\": [\n          3545.083994,\n          2810.0,\n          3554.127576\n        ],\n        \"semantic_type\": \"\",\n        \"description\": \"\"\n      }\n    },\n    {\n      \"column\": \"Low\",\n      \"properties\": {\n        \"dtype\": \"number\",\n        \"std\": 473.2084695309957,\n        \"min\": 2050.0,\n        \"max\": 4205.26549,\n        \"num_unique_values\": 557,\n        \"samples\": [\n          3888.740191,\n          3289.038818,\n          3978.358189\n        ],\n        \"semantic_type\": \"\",\n        \"description\": \"\"\n      }\n    },\n    {\n      \"column\": \"Open\",\n      \"properties\": {\n        \"dtype\": \"number\",\n        \"std\": 473.4143488332492,\n        \"min\": 2050.0,\n        \"max\": 4250.483398,\n        \"num_unique_values\": 587,\n        \"samples\": [\n          3040.0,\n          3698.82507,\n          3100.0\n        ],\n        \"semantic_type\": \"\",\n        \"description\": \"\"\n      }\n    },\n    {\n      \"column\": \"Net Income\",\n      \"properties\": {\n        \"dtype\": \"number\",\n        \"std\": 1007801820595.2128,\n        \"min\": 3270000000000.0,\n        \"max\": 7190000000000.0,\n        \"num_unique_values\": 14,\n        \"samples\": [\n          6053000000000.0,\n          5914000000000.0,\n          5890000000000.0\n        ],\n        \"semantic_type\": \"\",\n        \"description\": \"\"\n      }\n    },\n    {\n      \"column\": \"Stockholders Equity\",\n      \"properties\": {\n        \"dtype\": \"number\",\n        \"std\": 6720247896712.127,\n        \"min\": 121631000000000.0,\n        \"max\": 141888000000000.0,\n        \"num_unique_values\": 4,\n        \"samples\": [\n          129224000000000.0,\n          141888000000000.0,\n          121631000000000.0\n        ],\n        \"semantic_type\": \"\",\n        \"description\": \"\"\n      }\n    },\n    {\n      \"column\": \"Long Term Debt\",\n      \"properties\": {\n        \"dtype\": \"number\",\n        \"std\": 4222966495428.5986,\n        \"min\": 25518000000000.0,\n        \"max\": 36319000000000.0,\n        \"num_unique_values\": 4,\n        \"samples\": [\n          27331000000000.0,\n          25518000000000.0,\n          36319000000000.0\n        ],\n        \"semantic_type\": \"\",\n        \"description\": \"\"\n      }\n    },\n    {\n      \"column\": \"Total Assets\",\n      \"properties\": {\n        \"dtype\": \"number\",\n        \"std\": 7857818778253.617,\n        \"min\": 274817000000000.0,\n        \"max\": 299297000000000.0,\n        \"num_unique_values\": 4,\n        \"samples\": [\n          274817000000000.0,\n          299297000000000.0,\n          276158000000000.0\n        ],\n        \"semantic_type\": \"\",\n        \"description\": \"\"\n      }\n    },\n    {\n      \"column\": \"Total Liabilities Net Minority Interest\",\n      \"properties\": {\n        \"dtype\": \"number\",\n        \"std\": 3300409052546.555,\n        \"min\": 125742000000000.0,\n        \"max\": 137151000000000.0,\n        \"num_unique_values\": 4,\n        \"samples\": [\n          125742000000000.0,\n          137151000000000.0,\n          130986000000000.0\n        ],\n        \"semantic_type\": \"\",\n        \"description\": \"\"\n      }\n    }\n  ]\n}"
            }
          },
          "metadata": {},
          "execution_count": 44
        }
      ],
      "source": [
        "# Cek jumlah nilai NaN per kolom\n",
        "print(\"Jumlah nilai NaN per kolom sebelum dihapus:\")\n",
        "print(df.isnull().sum())\n",
        "\n",
        "df.head()"
      ]
    },
    {
      "cell_type": "code",
      "execution_count": 45,
      "metadata": {
        "colab": {
          "base_uri": "https://localhost:8080/",
          "height": 521
        },
        "id": "jAOASjQyDbIG",
        "outputId": "85e07d16-477b-43a9-eb86-50a1be41f2d3"
      },
      "outputs": [
        {
          "output_type": "stream",
          "name": "stdout",
          "text": [
            "\n",
            "Jumlah nilai NaN per kolom setelah dihapus:\n",
            "Unnamed: 0                                 0\n",
            "Close                                      0\n",
            "High                                       0\n",
            "Low                                        0\n",
            "Open                                       0\n",
            "Net Income                                 0\n",
            "Stockholders Equity                        0\n",
            "Long Term Debt                             0\n",
            "Total Assets                               0\n",
            "Total Liabilities Net Minority Interest    0\n",
            "dtype: int64\n"
          ]
        },
        {
          "output_type": "execute_result",
          "data": {
            "text/plain": [
              "  Unnamed: 0        Close         High          Low         Open  \\\n",
              "1   1/3/2022  3646.828613  3646.828613  3533.410499  3542.134969   \n",
              "2   1/4/2022  3638.104004  3664.277414  3620.655064  3646.828474   \n",
              "3   1/5/2022  3533.410400  3655.552982  3515.961460  3620.655102   \n",
              "4   1/6/2022  3594.481689  3594.481689  3515.961458  3568.308279   \n",
              "5   1/7/2022  3638.104004  3655.552944  3568.308244  3594.481654   \n",
              "\n",
              "     Net Income  Stockholders Equity  Long Term Debt  Total Assets  \\\n",
              "1  5.890000e+12         1.216310e+14    3.631900e+13  2.761580e+14   \n",
              "2  5.890000e+12         1.216310e+14    3.631900e+13  2.761580e+14   \n",
              "3  5.890000e+12         1.216310e+14    3.631900e+13  2.761580e+14   \n",
              "4  5.890000e+12         1.216310e+14    3.631900e+13  2.761580e+14   \n",
              "5  5.890000e+12         1.216310e+14    3.631900e+13  2.761580e+14   \n",
              "\n",
              "   Total Liabilities Net Minority Interest  \n",
              "1                             1.309860e+14  \n",
              "2                             1.309860e+14  \n",
              "3                             1.309860e+14  \n",
              "4                             1.309860e+14  \n",
              "5                             1.309860e+14  "
            ],
            "text/html": [
              "\n",
              "  <div id=\"df-dbfc63be-6ef1-42a2-a7d5-d61ccdf496e1\" class=\"colab-df-container\">\n",
              "    <div>\n",
              "<style scoped>\n",
              "    .dataframe tbody tr th:only-of-type {\n",
              "        vertical-align: middle;\n",
              "    }\n",
              "\n",
              "    .dataframe tbody tr th {\n",
              "        vertical-align: top;\n",
              "    }\n",
              "\n",
              "    .dataframe thead th {\n",
              "        text-align: right;\n",
              "    }\n",
              "</style>\n",
              "<table border=\"1\" class=\"dataframe\">\n",
              "  <thead>\n",
              "    <tr style=\"text-align: right;\">\n",
              "      <th></th>\n",
              "      <th>Unnamed: 0</th>\n",
              "      <th>Close</th>\n",
              "      <th>High</th>\n",
              "      <th>Low</th>\n",
              "      <th>Open</th>\n",
              "      <th>Net Income</th>\n",
              "      <th>Stockholders Equity</th>\n",
              "      <th>Long Term Debt</th>\n",
              "      <th>Total Assets</th>\n",
              "      <th>Total Liabilities Net Minority Interest</th>\n",
              "    </tr>\n",
              "  </thead>\n",
              "  <tbody>\n",
              "    <tr>\n",
              "      <th>1</th>\n",
              "      <td>1/3/2022</td>\n",
              "      <td>3646.828613</td>\n",
              "      <td>3646.828613</td>\n",
              "      <td>3533.410499</td>\n",
              "      <td>3542.134969</td>\n",
              "      <td>5.890000e+12</td>\n",
              "      <td>1.216310e+14</td>\n",
              "      <td>3.631900e+13</td>\n",
              "      <td>2.761580e+14</td>\n",
              "      <td>1.309860e+14</td>\n",
              "    </tr>\n",
              "    <tr>\n",
              "      <th>2</th>\n",
              "      <td>1/4/2022</td>\n",
              "      <td>3638.104004</td>\n",
              "      <td>3664.277414</td>\n",
              "      <td>3620.655064</td>\n",
              "      <td>3646.828474</td>\n",
              "      <td>5.890000e+12</td>\n",
              "      <td>1.216310e+14</td>\n",
              "      <td>3.631900e+13</td>\n",
              "      <td>2.761580e+14</td>\n",
              "      <td>1.309860e+14</td>\n",
              "    </tr>\n",
              "    <tr>\n",
              "      <th>3</th>\n",
              "      <td>1/5/2022</td>\n",
              "      <td>3533.410400</td>\n",
              "      <td>3655.552982</td>\n",
              "      <td>3515.961460</td>\n",
              "      <td>3620.655102</td>\n",
              "      <td>5.890000e+12</td>\n",
              "      <td>1.216310e+14</td>\n",
              "      <td>3.631900e+13</td>\n",
              "      <td>2.761580e+14</td>\n",
              "      <td>1.309860e+14</td>\n",
              "    </tr>\n",
              "    <tr>\n",
              "      <th>4</th>\n",
              "      <td>1/6/2022</td>\n",
              "      <td>3594.481689</td>\n",
              "      <td>3594.481689</td>\n",
              "      <td>3515.961458</td>\n",
              "      <td>3568.308279</td>\n",
              "      <td>5.890000e+12</td>\n",
              "      <td>1.216310e+14</td>\n",
              "      <td>3.631900e+13</td>\n",
              "      <td>2.761580e+14</td>\n",
              "      <td>1.309860e+14</td>\n",
              "    </tr>\n",
              "    <tr>\n",
              "      <th>5</th>\n",
              "      <td>1/7/2022</td>\n",
              "      <td>3638.104004</td>\n",
              "      <td>3655.552944</td>\n",
              "      <td>3568.308244</td>\n",
              "      <td>3594.481654</td>\n",
              "      <td>5.890000e+12</td>\n",
              "      <td>1.216310e+14</td>\n",
              "      <td>3.631900e+13</td>\n",
              "      <td>2.761580e+14</td>\n",
              "      <td>1.309860e+14</td>\n",
              "    </tr>\n",
              "  </tbody>\n",
              "</table>\n",
              "</div>\n",
              "    <div class=\"colab-df-buttons\">\n",
              "\n",
              "  <div class=\"colab-df-container\">\n",
              "    <button class=\"colab-df-convert\" onclick=\"convertToInteractive('df-dbfc63be-6ef1-42a2-a7d5-d61ccdf496e1')\"\n",
              "            title=\"Convert this dataframe to an interactive table.\"\n",
              "            style=\"display:none;\">\n",
              "\n",
              "  <svg xmlns=\"http://www.w3.org/2000/svg\" height=\"24px\" viewBox=\"0 -960 960 960\">\n",
              "    <path d=\"M120-120v-720h720v720H120Zm60-500h600v-160H180v160Zm220 220h160v-160H400v160Zm0 220h160v-160H400v160ZM180-400h160v-160H180v160Zm440 0h160v-160H620v160ZM180-180h160v-160H180v160Zm440 0h160v-160H620v160Z\"/>\n",
              "  </svg>\n",
              "    </button>\n",
              "\n",
              "  <style>\n",
              "    .colab-df-container {\n",
              "      display:flex;\n",
              "      gap: 12px;\n",
              "    }\n",
              "\n",
              "    .colab-df-convert {\n",
              "      background-color: #E8F0FE;\n",
              "      border: none;\n",
              "      border-radius: 50%;\n",
              "      cursor: pointer;\n",
              "      display: none;\n",
              "      fill: #1967D2;\n",
              "      height: 32px;\n",
              "      padding: 0 0 0 0;\n",
              "      width: 32px;\n",
              "    }\n",
              "\n",
              "    .colab-df-convert:hover {\n",
              "      background-color: #E2EBFA;\n",
              "      box-shadow: 0px 1px 2px rgba(60, 64, 67, 0.3), 0px 1px 3px 1px rgba(60, 64, 67, 0.15);\n",
              "      fill: #174EA6;\n",
              "    }\n",
              "\n",
              "    .colab-df-buttons div {\n",
              "      margin-bottom: 4px;\n",
              "    }\n",
              "\n",
              "    [theme=dark] .colab-df-convert {\n",
              "      background-color: #3B4455;\n",
              "      fill: #D2E3FC;\n",
              "    }\n",
              "\n",
              "    [theme=dark] .colab-df-convert:hover {\n",
              "      background-color: #434B5C;\n",
              "      box-shadow: 0px 1px 3px 1px rgba(0, 0, 0, 0.15);\n",
              "      filter: drop-shadow(0px 1px 2px rgba(0, 0, 0, 0.3));\n",
              "      fill: #FFFFFF;\n",
              "    }\n",
              "  </style>\n",
              "\n",
              "    <script>\n",
              "      const buttonEl =\n",
              "        document.querySelector('#df-dbfc63be-6ef1-42a2-a7d5-d61ccdf496e1 button.colab-df-convert');\n",
              "      buttonEl.style.display =\n",
              "        google.colab.kernel.accessAllowed ? 'block' : 'none';\n",
              "\n",
              "      async function convertToInteractive(key) {\n",
              "        const element = document.querySelector('#df-dbfc63be-6ef1-42a2-a7d5-d61ccdf496e1');\n",
              "        const dataTable =\n",
              "          await google.colab.kernel.invokeFunction('convertToInteractive',\n",
              "                                                    [key], {});\n",
              "        if (!dataTable) return;\n",
              "\n",
              "        const docLinkHtml = 'Like what you see? Visit the ' +\n",
              "          '<a target=\"_blank\" href=https://colab.research.google.com/notebooks/data_table.ipynb>data table notebook</a>'\n",
              "          + ' to learn more about interactive tables.';\n",
              "        element.innerHTML = '';\n",
              "        dataTable['output_type'] = 'display_data';\n",
              "        await google.colab.output.renderOutput(dataTable, element);\n",
              "        const docLink = document.createElement('div');\n",
              "        docLink.innerHTML = docLinkHtml;\n",
              "        element.appendChild(docLink);\n",
              "      }\n",
              "    </script>\n",
              "  </div>\n",
              "\n",
              "\n",
              "    <div id=\"df-5fab62a1-aaf4-47ac-9973-6fadc1fce960\">\n",
              "      <button class=\"colab-df-quickchart\" onclick=\"quickchart('df-5fab62a1-aaf4-47ac-9973-6fadc1fce960')\"\n",
              "                title=\"Suggest charts\"\n",
              "                style=\"display:none;\">\n",
              "\n",
              "<svg xmlns=\"http://www.w3.org/2000/svg\" height=\"24px\"viewBox=\"0 0 24 24\"\n",
              "     width=\"24px\">\n",
              "    <g>\n",
              "        <path d=\"M19 3H5c-1.1 0-2 .9-2 2v14c0 1.1.9 2 2 2h14c1.1 0 2-.9 2-2V5c0-1.1-.9-2-2-2zM9 17H7v-7h2v7zm4 0h-2V7h2v10zm4 0h-2v-4h2v4z\"/>\n",
              "    </g>\n",
              "</svg>\n",
              "      </button>\n",
              "\n",
              "<style>\n",
              "  .colab-df-quickchart {\n",
              "      --bg-color: #E8F0FE;\n",
              "      --fill-color: #1967D2;\n",
              "      --hover-bg-color: #E2EBFA;\n",
              "      --hover-fill-color: #174EA6;\n",
              "      --disabled-fill-color: #AAA;\n",
              "      --disabled-bg-color: #DDD;\n",
              "  }\n",
              "\n",
              "  [theme=dark] .colab-df-quickchart {\n",
              "      --bg-color: #3B4455;\n",
              "      --fill-color: #D2E3FC;\n",
              "      --hover-bg-color: #434B5C;\n",
              "      --hover-fill-color: #FFFFFF;\n",
              "      --disabled-bg-color: #3B4455;\n",
              "      --disabled-fill-color: #666;\n",
              "  }\n",
              "\n",
              "  .colab-df-quickchart {\n",
              "    background-color: var(--bg-color);\n",
              "    border: none;\n",
              "    border-radius: 50%;\n",
              "    cursor: pointer;\n",
              "    display: none;\n",
              "    fill: var(--fill-color);\n",
              "    height: 32px;\n",
              "    padding: 0;\n",
              "    width: 32px;\n",
              "  }\n",
              "\n",
              "  .colab-df-quickchart:hover {\n",
              "    background-color: var(--hover-bg-color);\n",
              "    box-shadow: 0 1px 2px rgba(60, 64, 67, 0.3), 0 1px 3px 1px rgba(60, 64, 67, 0.15);\n",
              "    fill: var(--button-hover-fill-color);\n",
              "  }\n",
              "\n",
              "  .colab-df-quickchart-complete:disabled,\n",
              "  .colab-df-quickchart-complete:disabled:hover {\n",
              "    background-color: var(--disabled-bg-color);\n",
              "    fill: var(--disabled-fill-color);\n",
              "    box-shadow: none;\n",
              "  }\n",
              "\n",
              "  .colab-df-spinner {\n",
              "    border: 2px solid var(--fill-color);\n",
              "    border-color: transparent;\n",
              "    border-bottom-color: var(--fill-color);\n",
              "    animation:\n",
              "      spin 1s steps(1) infinite;\n",
              "  }\n",
              "\n",
              "  @keyframes spin {\n",
              "    0% {\n",
              "      border-color: transparent;\n",
              "      border-bottom-color: var(--fill-color);\n",
              "      border-left-color: var(--fill-color);\n",
              "    }\n",
              "    20% {\n",
              "      border-color: transparent;\n",
              "      border-left-color: var(--fill-color);\n",
              "      border-top-color: var(--fill-color);\n",
              "    }\n",
              "    30% {\n",
              "      border-color: transparent;\n",
              "      border-left-color: var(--fill-color);\n",
              "      border-top-color: var(--fill-color);\n",
              "      border-right-color: var(--fill-color);\n",
              "    }\n",
              "    40% {\n",
              "      border-color: transparent;\n",
              "      border-right-color: var(--fill-color);\n",
              "      border-top-color: var(--fill-color);\n",
              "    }\n",
              "    60% {\n",
              "      border-color: transparent;\n",
              "      border-right-color: var(--fill-color);\n",
              "    }\n",
              "    80% {\n",
              "      border-color: transparent;\n",
              "      border-right-color: var(--fill-color);\n",
              "      border-bottom-color: var(--fill-color);\n",
              "    }\n",
              "    90% {\n",
              "      border-color: transparent;\n",
              "      border-bottom-color: var(--fill-color);\n",
              "    }\n",
              "  }\n",
              "</style>\n",
              "\n",
              "      <script>\n",
              "        async function quickchart(key) {\n",
              "          const quickchartButtonEl =\n",
              "            document.querySelector('#' + key + ' button');\n",
              "          quickchartButtonEl.disabled = true;  // To prevent multiple clicks.\n",
              "          quickchartButtonEl.classList.add('colab-df-spinner');\n",
              "          try {\n",
              "            const charts = await google.colab.kernel.invokeFunction(\n",
              "                'suggestCharts', [key], {});\n",
              "          } catch (error) {\n",
              "            console.error('Error during call to suggestCharts:', error);\n",
              "          }\n",
              "          quickchartButtonEl.classList.remove('colab-df-spinner');\n",
              "          quickchartButtonEl.classList.add('colab-df-quickchart-complete');\n",
              "        }\n",
              "        (() => {\n",
              "          let quickchartButtonEl =\n",
              "            document.querySelector('#df-5fab62a1-aaf4-47ac-9973-6fadc1fce960 button');\n",
              "          quickchartButtonEl.style.display =\n",
              "            google.colab.kernel.accessAllowed ? 'block' : 'none';\n",
              "        })();\n",
              "      </script>\n",
              "    </div>\n",
              "\n",
              "    </div>\n",
              "  </div>\n"
            ],
            "application/vnd.google.colaboratory.intrinsic+json": {
              "type": "dataframe",
              "variable_name": "df",
              "repr_error": "0"
            }
          },
          "metadata": {},
          "execution_count": 45
        }
      ],
      "source": [
        "# Hapus baris yang memiliki setidaknya satu nilai NaN\n",
        "df = df.dropna()\n",
        "\n",
        "# Cek jumlah nilai NaN per kolom setelah dihapus\n",
        "print(\"\\nJumlah nilai NaN per kolom setelah dihapus:\")\n",
        "print(df.isnull().sum())\n",
        "\n",
        "df.head()"
      ]
    },
    {
      "cell_type": "code",
      "execution_count": 46,
      "metadata": {
        "colab": {
          "base_uri": "https://localhost:8080/",
          "height": 295
        },
        "id": "E9a3fRb9rubr",
        "outputId": "d7f7ef03-6b76-45b0-e6d9-d3ca4dfcc6d5"
      },
      "outputs": [
        {
          "output_type": "execute_result",
          "data": {
            "text/plain": [
              "  Unnamed: 0        Close         High          Low         Open  \\\n",
              "1   1/3/2022  3646.828613  3646.828613  3533.410499  3542.134969   \n",
              "2   1/4/2022  3638.104004  3664.277414  3620.655064  3646.828474   \n",
              "3   1/5/2022  3533.410400  3655.552982  3515.961460  3620.655102   \n",
              "4   1/6/2022  3594.481689  3594.481689  3515.961458  3568.308279   \n",
              "5   1/7/2022  3638.104004  3655.552944  3568.308244  3594.481654   \n",
              "\n",
              "     Net Income  Stockholders Equity  Long Term Debt  Total Assets  \\\n",
              "1  5.890000e+12         1.216310e+14    3.631900e+13  2.761580e+14   \n",
              "2  5.890000e+12         1.216310e+14    3.631900e+13  2.761580e+14   \n",
              "3  5.890000e+12         1.216310e+14    3.631900e+13  2.761580e+14   \n",
              "4  5.890000e+12         1.216310e+14    3.631900e+13  2.761580e+14   \n",
              "5  5.890000e+12         1.216310e+14    3.631900e+13  2.761580e+14   \n",
              "\n",
              "   Total Liabilities Net Minority Interest  \n",
              "1                             1.309860e+14  \n",
              "2                             1.309860e+14  \n",
              "3                             1.309860e+14  \n",
              "4                             1.309860e+14  \n",
              "5                             1.309860e+14  "
            ],
            "text/html": [
              "\n",
              "  <div id=\"df-b9219130-0f14-46d5-8003-ad4e62718550\" class=\"colab-df-container\">\n",
              "    <div>\n",
              "<style scoped>\n",
              "    .dataframe tbody tr th:only-of-type {\n",
              "        vertical-align: middle;\n",
              "    }\n",
              "\n",
              "    .dataframe tbody tr th {\n",
              "        vertical-align: top;\n",
              "    }\n",
              "\n",
              "    .dataframe thead th {\n",
              "        text-align: right;\n",
              "    }\n",
              "</style>\n",
              "<table border=\"1\" class=\"dataframe\">\n",
              "  <thead>\n",
              "    <tr style=\"text-align: right;\">\n",
              "      <th></th>\n",
              "      <th>Unnamed: 0</th>\n",
              "      <th>Close</th>\n",
              "      <th>High</th>\n",
              "      <th>Low</th>\n",
              "      <th>Open</th>\n",
              "      <th>Net Income</th>\n",
              "      <th>Stockholders Equity</th>\n",
              "      <th>Long Term Debt</th>\n",
              "      <th>Total Assets</th>\n",
              "      <th>Total Liabilities Net Minority Interest</th>\n",
              "    </tr>\n",
              "  </thead>\n",
              "  <tbody>\n",
              "    <tr>\n",
              "      <th>1</th>\n",
              "      <td>1/3/2022</td>\n",
              "      <td>3646.828613</td>\n",
              "      <td>3646.828613</td>\n",
              "      <td>3533.410499</td>\n",
              "      <td>3542.134969</td>\n",
              "      <td>5.890000e+12</td>\n",
              "      <td>1.216310e+14</td>\n",
              "      <td>3.631900e+13</td>\n",
              "      <td>2.761580e+14</td>\n",
              "      <td>1.309860e+14</td>\n",
              "    </tr>\n",
              "    <tr>\n",
              "      <th>2</th>\n",
              "      <td>1/4/2022</td>\n",
              "      <td>3638.104004</td>\n",
              "      <td>3664.277414</td>\n",
              "      <td>3620.655064</td>\n",
              "      <td>3646.828474</td>\n",
              "      <td>5.890000e+12</td>\n",
              "      <td>1.216310e+14</td>\n",
              "      <td>3.631900e+13</td>\n",
              "      <td>2.761580e+14</td>\n",
              "      <td>1.309860e+14</td>\n",
              "    </tr>\n",
              "    <tr>\n",
              "      <th>3</th>\n",
              "      <td>1/5/2022</td>\n",
              "      <td>3533.410400</td>\n",
              "      <td>3655.552982</td>\n",
              "      <td>3515.961460</td>\n",
              "      <td>3620.655102</td>\n",
              "      <td>5.890000e+12</td>\n",
              "      <td>1.216310e+14</td>\n",
              "      <td>3.631900e+13</td>\n",
              "      <td>2.761580e+14</td>\n",
              "      <td>1.309860e+14</td>\n",
              "    </tr>\n",
              "    <tr>\n",
              "      <th>4</th>\n",
              "      <td>1/6/2022</td>\n",
              "      <td>3594.481689</td>\n",
              "      <td>3594.481689</td>\n",
              "      <td>3515.961458</td>\n",
              "      <td>3568.308279</td>\n",
              "      <td>5.890000e+12</td>\n",
              "      <td>1.216310e+14</td>\n",
              "      <td>3.631900e+13</td>\n",
              "      <td>2.761580e+14</td>\n",
              "      <td>1.309860e+14</td>\n",
              "    </tr>\n",
              "    <tr>\n",
              "      <th>5</th>\n",
              "      <td>1/7/2022</td>\n",
              "      <td>3638.104004</td>\n",
              "      <td>3655.552944</td>\n",
              "      <td>3568.308244</td>\n",
              "      <td>3594.481654</td>\n",
              "      <td>5.890000e+12</td>\n",
              "      <td>1.216310e+14</td>\n",
              "      <td>3.631900e+13</td>\n",
              "      <td>2.761580e+14</td>\n",
              "      <td>1.309860e+14</td>\n",
              "    </tr>\n",
              "  </tbody>\n",
              "</table>\n",
              "</div>\n",
              "    <div class=\"colab-df-buttons\">\n",
              "\n",
              "  <div class=\"colab-df-container\">\n",
              "    <button class=\"colab-df-convert\" onclick=\"convertToInteractive('df-b9219130-0f14-46d5-8003-ad4e62718550')\"\n",
              "            title=\"Convert this dataframe to an interactive table.\"\n",
              "            style=\"display:none;\">\n",
              "\n",
              "  <svg xmlns=\"http://www.w3.org/2000/svg\" height=\"24px\" viewBox=\"0 -960 960 960\">\n",
              "    <path d=\"M120-120v-720h720v720H120Zm60-500h600v-160H180v160Zm220 220h160v-160H400v160Zm0 220h160v-160H400v160ZM180-400h160v-160H180v160Zm440 0h160v-160H620v160ZM180-180h160v-160H180v160Zm440 0h160v-160H620v160Z\"/>\n",
              "  </svg>\n",
              "    </button>\n",
              "\n",
              "  <style>\n",
              "    .colab-df-container {\n",
              "      display:flex;\n",
              "      gap: 12px;\n",
              "    }\n",
              "\n",
              "    .colab-df-convert {\n",
              "      background-color: #E8F0FE;\n",
              "      border: none;\n",
              "      border-radius: 50%;\n",
              "      cursor: pointer;\n",
              "      display: none;\n",
              "      fill: #1967D2;\n",
              "      height: 32px;\n",
              "      padding: 0 0 0 0;\n",
              "      width: 32px;\n",
              "    }\n",
              "\n",
              "    .colab-df-convert:hover {\n",
              "      background-color: #E2EBFA;\n",
              "      box-shadow: 0px 1px 2px rgba(60, 64, 67, 0.3), 0px 1px 3px 1px rgba(60, 64, 67, 0.15);\n",
              "      fill: #174EA6;\n",
              "    }\n",
              "\n",
              "    .colab-df-buttons div {\n",
              "      margin-bottom: 4px;\n",
              "    }\n",
              "\n",
              "    [theme=dark] .colab-df-convert {\n",
              "      background-color: #3B4455;\n",
              "      fill: #D2E3FC;\n",
              "    }\n",
              "\n",
              "    [theme=dark] .colab-df-convert:hover {\n",
              "      background-color: #434B5C;\n",
              "      box-shadow: 0px 1px 3px 1px rgba(0, 0, 0, 0.15);\n",
              "      filter: drop-shadow(0px 1px 2px rgba(0, 0, 0, 0.3));\n",
              "      fill: #FFFFFF;\n",
              "    }\n",
              "  </style>\n",
              "\n",
              "    <script>\n",
              "      const buttonEl =\n",
              "        document.querySelector('#df-b9219130-0f14-46d5-8003-ad4e62718550 button.colab-df-convert');\n",
              "      buttonEl.style.display =\n",
              "        google.colab.kernel.accessAllowed ? 'block' : 'none';\n",
              "\n",
              "      async function convertToInteractive(key) {\n",
              "        const element = document.querySelector('#df-b9219130-0f14-46d5-8003-ad4e62718550');\n",
              "        const dataTable =\n",
              "          await google.colab.kernel.invokeFunction('convertToInteractive',\n",
              "                                                    [key], {});\n",
              "        if (!dataTable) return;\n",
              "\n",
              "        const docLinkHtml = 'Like what you see? Visit the ' +\n",
              "          '<a target=\"_blank\" href=https://colab.research.google.com/notebooks/data_table.ipynb>data table notebook</a>'\n",
              "          + ' to learn more about interactive tables.';\n",
              "        element.innerHTML = '';\n",
              "        dataTable['output_type'] = 'display_data';\n",
              "        await google.colab.output.renderOutput(dataTable, element);\n",
              "        const docLink = document.createElement('div');\n",
              "        docLink.innerHTML = docLinkHtml;\n",
              "        element.appendChild(docLink);\n",
              "      }\n",
              "    </script>\n",
              "  </div>\n",
              "\n",
              "\n",
              "    <div id=\"df-313b9c31-d5d1-4e1c-8087-b33db542b139\">\n",
              "      <button class=\"colab-df-quickchart\" onclick=\"quickchart('df-313b9c31-d5d1-4e1c-8087-b33db542b139')\"\n",
              "                title=\"Suggest charts\"\n",
              "                style=\"display:none;\">\n",
              "\n",
              "<svg xmlns=\"http://www.w3.org/2000/svg\" height=\"24px\"viewBox=\"0 0 24 24\"\n",
              "     width=\"24px\">\n",
              "    <g>\n",
              "        <path d=\"M19 3H5c-1.1 0-2 .9-2 2v14c0 1.1.9 2 2 2h14c1.1 0 2-.9 2-2V5c0-1.1-.9-2-2-2zM9 17H7v-7h2v7zm4 0h-2V7h2v10zm4 0h-2v-4h2v4z\"/>\n",
              "    </g>\n",
              "</svg>\n",
              "      </button>\n",
              "\n",
              "<style>\n",
              "  .colab-df-quickchart {\n",
              "      --bg-color: #E8F0FE;\n",
              "      --fill-color: #1967D2;\n",
              "      --hover-bg-color: #E2EBFA;\n",
              "      --hover-fill-color: #174EA6;\n",
              "      --disabled-fill-color: #AAA;\n",
              "      --disabled-bg-color: #DDD;\n",
              "  }\n",
              "\n",
              "  [theme=dark] .colab-df-quickchart {\n",
              "      --bg-color: #3B4455;\n",
              "      --fill-color: #D2E3FC;\n",
              "      --hover-bg-color: #434B5C;\n",
              "      --hover-fill-color: #FFFFFF;\n",
              "      --disabled-bg-color: #3B4455;\n",
              "      --disabled-fill-color: #666;\n",
              "  }\n",
              "\n",
              "  .colab-df-quickchart {\n",
              "    background-color: var(--bg-color);\n",
              "    border: none;\n",
              "    border-radius: 50%;\n",
              "    cursor: pointer;\n",
              "    display: none;\n",
              "    fill: var(--fill-color);\n",
              "    height: 32px;\n",
              "    padding: 0;\n",
              "    width: 32px;\n",
              "  }\n",
              "\n",
              "  .colab-df-quickchart:hover {\n",
              "    background-color: var(--hover-bg-color);\n",
              "    box-shadow: 0 1px 2px rgba(60, 64, 67, 0.3), 0 1px 3px 1px rgba(60, 64, 67, 0.15);\n",
              "    fill: var(--button-hover-fill-color);\n",
              "  }\n",
              "\n",
              "  .colab-df-quickchart-complete:disabled,\n",
              "  .colab-df-quickchart-complete:disabled:hover {\n",
              "    background-color: var(--disabled-bg-color);\n",
              "    fill: var(--disabled-fill-color);\n",
              "    box-shadow: none;\n",
              "  }\n",
              "\n",
              "  .colab-df-spinner {\n",
              "    border: 2px solid var(--fill-color);\n",
              "    border-color: transparent;\n",
              "    border-bottom-color: var(--fill-color);\n",
              "    animation:\n",
              "      spin 1s steps(1) infinite;\n",
              "  }\n",
              "\n",
              "  @keyframes spin {\n",
              "    0% {\n",
              "      border-color: transparent;\n",
              "      border-bottom-color: var(--fill-color);\n",
              "      border-left-color: var(--fill-color);\n",
              "    }\n",
              "    20% {\n",
              "      border-color: transparent;\n",
              "      border-left-color: var(--fill-color);\n",
              "      border-top-color: var(--fill-color);\n",
              "    }\n",
              "    30% {\n",
              "      border-color: transparent;\n",
              "      border-left-color: var(--fill-color);\n",
              "      border-top-color: var(--fill-color);\n",
              "      border-right-color: var(--fill-color);\n",
              "    }\n",
              "    40% {\n",
              "      border-color: transparent;\n",
              "      border-right-color: var(--fill-color);\n",
              "      border-top-color: var(--fill-color);\n",
              "    }\n",
              "    60% {\n",
              "      border-color: transparent;\n",
              "      border-right-color: var(--fill-color);\n",
              "    }\n",
              "    80% {\n",
              "      border-color: transparent;\n",
              "      border-right-color: var(--fill-color);\n",
              "      border-bottom-color: var(--fill-color);\n",
              "    }\n",
              "    90% {\n",
              "      border-color: transparent;\n",
              "      border-bottom-color: var(--fill-color);\n",
              "    }\n",
              "  }\n",
              "</style>\n",
              "\n",
              "      <script>\n",
              "        async function quickchart(key) {\n",
              "          const quickchartButtonEl =\n",
              "            document.querySelector('#' + key + ' button');\n",
              "          quickchartButtonEl.disabled = true;  // To prevent multiple clicks.\n",
              "          quickchartButtonEl.classList.add('colab-df-spinner');\n",
              "          try {\n",
              "            const charts = await google.colab.kernel.invokeFunction(\n",
              "                'suggestCharts', [key], {});\n",
              "          } catch (error) {\n",
              "            console.error('Error during call to suggestCharts:', error);\n",
              "          }\n",
              "          quickchartButtonEl.classList.remove('colab-df-spinner');\n",
              "          quickchartButtonEl.classList.add('colab-df-quickchart-complete');\n",
              "        }\n",
              "        (() => {\n",
              "          let quickchartButtonEl =\n",
              "            document.querySelector('#df-313b9c31-d5d1-4e1c-8087-b33db542b139 button');\n",
              "          quickchartButtonEl.style.display =\n",
              "            google.colab.kernel.accessAllowed ? 'block' : 'none';\n",
              "        })();\n",
              "      </script>\n",
              "    </div>\n",
              "\n",
              "    </div>\n",
              "  </div>\n"
            ],
            "application/vnd.google.colaboratory.intrinsic+json": {
              "type": "dataframe",
              "variable_name": "df",
              "repr_error": "0"
            }
          },
          "metadata": {},
          "execution_count": 46
        }
      ],
      "source": [
        "df.head()"
      ]
    },
    {
      "cell_type": "code",
      "execution_count": 47,
      "metadata": {
        "colab": {
          "base_uri": "https://localhost:8080/"
        },
        "id": "SeW0wga5qiID",
        "outputId": "4c578101-10f4-4eaa-8b30-f0a538418963"
      },
      "outputs": [
        {
          "output_type": "stream",
          "name": "stdout",
          "text": [
            "<class 'pandas.core.frame.DataFrame'>\n",
            "Index: 808 entries, 1 to 808\n",
            "Data columns (total 10 columns):\n",
            " #   Column                                   Non-Null Count  Dtype  \n",
            "---  ------                                   --------------  -----  \n",
            " 0   Unnamed: 0                               808 non-null    object \n",
            " 1   Close                                    808 non-null    float64\n",
            " 2   High                                     808 non-null    float64\n",
            " 3   Low                                      808 non-null    float64\n",
            " 4   Open                                     808 non-null    float64\n",
            " 5   Net Income                               808 non-null    float64\n",
            " 6   Stockholders Equity                      808 non-null    float64\n",
            " 7   Long Term Debt                           808 non-null    float64\n",
            " 8   Total Assets                             808 non-null    float64\n",
            " 9   Total Liabilities Net Minority Interest  808 non-null    float64\n",
            "dtypes: float64(9), object(1)\n",
            "memory usage: 101.7+ KB\n"
          ]
        }
      ],
      "source": [
        "df.info()"
      ]
    },
    {
      "cell_type": "markdown",
      "metadata": {
        "id": "kycU7ZTKsZBq"
      },
      "source": [
        "Ganti tanggal menjadi tipe data tanggal"
      ]
    },
    {
      "cell_type": "code",
      "execution_count": 48,
      "metadata": {
        "id": "g1vjC-nVsYen"
      },
      "outputs": [],
      "source": [
        "df.rename(columns={'Unnamed: 0': 'Date'}, inplace=True)"
      ]
    },
    {
      "cell_type": "code",
      "execution_count": 49,
      "metadata": {
        "colab": {
          "base_uri": "https://localhost:8080/"
        },
        "id": "sul8hhiFsgDo",
        "outputId": "d62bcccd-f012-4734-feb2-508555f0f8f3"
      },
      "outputs": [
        {
          "output_type": "stream",
          "name": "stdout",
          "text": [
            "<class 'pandas.core.frame.DataFrame'>\n",
            "DatetimeIndex: 808 entries, 2022-01-03 to 2025-05-09\n",
            "Data columns (total 9 columns):\n",
            " #   Column                                   Non-Null Count  Dtype  \n",
            "---  ------                                   --------------  -----  \n",
            " 0   Close                                    808 non-null    float64\n",
            " 1   High                                     808 non-null    float64\n",
            " 2   Low                                      808 non-null    float64\n",
            " 3   Open                                     808 non-null    float64\n",
            " 4   Net Income                               808 non-null    float64\n",
            " 5   Stockholders Equity                      808 non-null    float64\n",
            " 6   Long Term Debt                           808 non-null    float64\n",
            " 7   Total Assets                             808 non-null    float64\n",
            " 8   Total Liabilities Net Minority Interest  808 non-null    float64\n",
            "dtypes: float64(9)\n",
            "memory usage: 63.1 KB\n"
          ]
        }
      ],
      "source": [
        "df['Date'] = pd.to_datetime(df['Date'], errors='coerce')\n",
        "df.set_index('Date', inplace=True)\n",
        "df.info()"
      ]
    },
    {
      "cell_type": "markdown",
      "metadata": {
        "id": "eNDnc4jSs3Vi"
      },
      "source": [
        "Ubah net Income ke float"
      ]
    },
    {
      "cell_type": "code",
      "execution_count": 50,
      "metadata": {
        "id": "E2vxBkLZs-uS"
      },
      "outputs": [],
      "source": [
        "df['Net Income'] = pd.to_numeric(df['Net Income'], errors='coerce').astype('float64')\n"
      ]
    },
    {
      "cell_type": "code",
      "execution_count": 51,
      "metadata": {
        "colab": {
          "base_uri": "https://localhost:8080/"
        },
        "id": "3V6_dQOttCF-",
        "outputId": "0d7b9ce7-d057-4c9d-eb21-d65ca2338b21"
      },
      "outputs": [
        {
          "output_type": "stream",
          "name": "stdout",
          "text": [
            "<class 'pandas.core.frame.DataFrame'>\n",
            "DatetimeIndex: 808 entries, 2022-01-03 to 2025-05-09\n",
            "Data columns (total 9 columns):\n",
            " #   Column                                   Non-Null Count  Dtype  \n",
            "---  ------                                   --------------  -----  \n",
            " 0   Close                                    808 non-null    float64\n",
            " 1   High                                     808 non-null    float64\n",
            " 2   Low                                      808 non-null    float64\n",
            " 3   Open                                     808 non-null    float64\n",
            " 4   Net Income                               808 non-null    float64\n",
            " 5   Stockholders Equity                      808 non-null    float64\n",
            " 6   Long Term Debt                           808 non-null    float64\n",
            " 7   Total Assets                             808 non-null    float64\n",
            " 8   Total Liabilities Net Minority Interest  808 non-null    float64\n",
            "dtypes: float64(9)\n",
            "memory usage: 63.1 KB\n"
          ]
        }
      ],
      "source": [
        "df.info()"
      ]
    },
    {
      "cell_type": "code",
      "execution_count": 52,
      "metadata": {
        "colab": {
          "base_uri": "https://localhost:8080/",
          "height": 413
        },
        "id": "zWsuRMlCtibu",
        "outputId": "43f56b41-d092-4e80-d81f-34d3c89674dd"
      },
      "outputs": [
        {
          "output_type": "execute_result",
          "data": {
            "text/plain": [
              "                  Close         High          Low         Open    Net Income  \\\n",
              "Date                                                                           \n",
              "2022-01-03  3646.828613  3646.828613  3533.410499  3542.134969  5.890000e+12   \n",
              "2022-01-04  3638.104004  3664.277414  3620.655064  3646.828474  5.890000e+12   \n",
              "2022-01-05  3533.410400  3655.552982  3515.961460  3620.655102  5.890000e+12   \n",
              "2022-01-06  3594.481689  3594.481689  3515.961458  3568.308279  5.890000e+12   \n",
              "2022-01-07  3638.104004  3655.552944  3568.308244  3594.481654  5.890000e+12   \n",
              "\n",
              "            Stockholders Equity  Long Term Debt  Total Assets  \\\n",
              "Date                                                            \n",
              "2022-01-03         1.216310e+14    3.631900e+13  2.761580e+14   \n",
              "2022-01-04         1.216310e+14    3.631900e+13  2.761580e+14   \n",
              "2022-01-05         1.216310e+14    3.631900e+13  2.761580e+14   \n",
              "2022-01-06         1.216310e+14    3.631900e+13  2.761580e+14   \n",
              "2022-01-07         1.216310e+14    3.631900e+13  2.761580e+14   \n",
              "\n",
              "            Total Liabilities Net Minority Interest  \n",
              "Date                                                 \n",
              "2022-01-03                             1.309860e+14  \n",
              "2022-01-04                             1.309860e+14  \n",
              "2022-01-05                             1.309860e+14  \n",
              "2022-01-06                             1.309860e+14  \n",
              "2022-01-07                             1.309860e+14  "
            ],
            "text/html": [
              "\n",
              "  <div id=\"df-d400f420-8c23-4678-b420-4dde8c8ce3b2\" class=\"colab-df-container\">\n",
              "    <div>\n",
              "<style scoped>\n",
              "    .dataframe tbody tr th:only-of-type {\n",
              "        vertical-align: middle;\n",
              "    }\n",
              "\n",
              "    .dataframe tbody tr th {\n",
              "        vertical-align: top;\n",
              "    }\n",
              "\n",
              "    .dataframe thead th {\n",
              "        text-align: right;\n",
              "    }\n",
              "</style>\n",
              "<table border=\"1\" class=\"dataframe\">\n",
              "  <thead>\n",
              "    <tr style=\"text-align: right;\">\n",
              "      <th></th>\n",
              "      <th>Close</th>\n",
              "      <th>High</th>\n",
              "      <th>Low</th>\n",
              "      <th>Open</th>\n",
              "      <th>Net Income</th>\n",
              "      <th>Stockholders Equity</th>\n",
              "      <th>Long Term Debt</th>\n",
              "      <th>Total Assets</th>\n",
              "      <th>Total Liabilities Net Minority Interest</th>\n",
              "    </tr>\n",
              "    <tr>\n",
              "      <th>Date</th>\n",
              "      <th></th>\n",
              "      <th></th>\n",
              "      <th></th>\n",
              "      <th></th>\n",
              "      <th></th>\n",
              "      <th></th>\n",
              "      <th></th>\n",
              "      <th></th>\n",
              "      <th></th>\n",
              "    </tr>\n",
              "  </thead>\n",
              "  <tbody>\n",
              "    <tr>\n",
              "      <th>2022-01-03</th>\n",
              "      <td>3646.828613</td>\n",
              "      <td>3646.828613</td>\n",
              "      <td>3533.410499</td>\n",
              "      <td>3542.134969</td>\n",
              "      <td>5.890000e+12</td>\n",
              "      <td>1.216310e+14</td>\n",
              "      <td>3.631900e+13</td>\n",
              "      <td>2.761580e+14</td>\n",
              "      <td>1.309860e+14</td>\n",
              "    </tr>\n",
              "    <tr>\n",
              "      <th>2022-01-04</th>\n",
              "      <td>3638.104004</td>\n",
              "      <td>3664.277414</td>\n",
              "      <td>3620.655064</td>\n",
              "      <td>3646.828474</td>\n",
              "      <td>5.890000e+12</td>\n",
              "      <td>1.216310e+14</td>\n",
              "      <td>3.631900e+13</td>\n",
              "      <td>2.761580e+14</td>\n",
              "      <td>1.309860e+14</td>\n",
              "    </tr>\n",
              "    <tr>\n",
              "      <th>2022-01-05</th>\n",
              "      <td>3533.410400</td>\n",
              "      <td>3655.552982</td>\n",
              "      <td>3515.961460</td>\n",
              "      <td>3620.655102</td>\n",
              "      <td>5.890000e+12</td>\n",
              "      <td>1.216310e+14</td>\n",
              "      <td>3.631900e+13</td>\n",
              "      <td>2.761580e+14</td>\n",
              "      <td>1.309860e+14</td>\n",
              "    </tr>\n",
              "    <tr>\n",
              "      <th>2022-01-06</th>\n",
              "      <td>3594.481689</td>\n",
              "      <td>3594.481689</td>\n",
              "      <td>3515.961458</td>\n",
              "      <td>3568.308279</td>\n",
              "      <td>5.890000e+12</td>\n",
              "      <td>1.216310e+14</td>\n",
              "      <td>3.631900e+13</td>\n",
              "      <td>2.761580e+14</td>\n",
              "      <td>1.309860e+14</td>\n",
              "    </tr>\n",
              "    <tr>\n",
              "      <th>2022-01-07</th>\n",
              "      <td>3638.104004</td>\n",
              "      <td>3655.552944</td>\n",
              "      <td>3568.308244</td>\n",
              "      <td>3594.481654</td>\n",
              "      <td>5.890000e+12</td>\n",
              "      <td>1.216310e+14</td>\n",
              "      <td>3.631900e+13</td>\n",
              "      <td>2.761580e+14</td>\n",
              "      <td>1.309860e+14</td>\n",
              "    </tr>\n",
              "  </tbody>\n",
              "</table>\n",
              "</div>\n",
              "    <div class=\"colab-df-buttons\">\n",
              "\n",
              "  <div class=\"colab-df-container\">\n",
              "    <button class=\"colab-df-convert\" onclick=\"convertToInteractive('df-d400f420-8c23-4678-b420-4dde8c8ce3b2')\"\n",
              "            title=\"Convert this dataframe to an interactive table.\"\n",
              "            style=\"display:none;\">\n",
              "\n",
              "  <svg xmlns=\"http://www.w3.org/2000/svg\" height=\"24px\" viewBox=\"0 -960 960 960\">\n",
              "    <path d=\"M120-120v-720h720v720H120Zm60-500h600v-160H180v160Zm220 220h160v-160H400v160Zm0 220h160v-160H400v160ZM180-400h160v-160H180v160Zm440 0h160v-160H620v160ZM180-180h160v-160H180v160Zm440 0h160v-160H620v160Z\"/>\n",
              "  </svg>\n",
              "    </button>\n",
              "\n",
              "  <style>\n",
              "    .colab-df-container {\n",
              "      display:flex;\n",
              "      gap: 12px;\n",
              "    }\n",
              "\n",
              "    .colab-df-convert {\n",
              "      background-color: #E8F0FE;\n",
              "      border: none;\n",
              "      border-radius: 50%;\n",
              "      cursor: pointer;\n",
              "      display: none;\n",
              "      fill: #1967D2;\n",
              "      height: 32px;\n",
              "      padding: 0 0 0 0;\n",
              "      width: 32px;\n",
              "    }\n",
              "\n",
              "    .colab-df-convert:hover {\n",
              "      background-color: #E2EBFA;\n",
              "      box-shadow: 0px 1px 2px rgba(60, 64, 67, 0.3), 0px 1px 3px 1px rgba(60, 64, 67, 0.15);\n",
              "      fill: #174EA6;\n",
              "    }\n",
              "\n",
              "    .colab-df-buttons div {\n",
              "      margin-bottom: 4px;\n",
              "    }\n",
              "\n",
              "    [theme=dark] .colab-df-convert {\n",
              "      background-color: #3B4455;\n",
              "      fill: #D2E3FC;\n",
              "    }\n",
              "\n",
              "    [theme=dark] .colab-df-convert:hover {\n",
              "      background-color: #434B5C;\n",
              "      box-shadow: 0px 1px 3px 1px rgba(0, 0, 0, 0.15);\n",
              "      filter: drop-shadow(0px 1px 2px rgba(0, 0, 0, 0.3));\n",
              "      fill: #FFFFFF;\n",
              "    }\n",
              "  </style>\n",
              "\n",
              "    <script>\n",
              "      const buttonEl =\n",
              "        document.querySelector('#df-d400f420-8c23-4678-b420-4dde8c8ce3b2 button.colab-df-convert');\n",
              "      buttonEl.style.display =\n",
              "        google.colab.kernel.accessAllowed ? 'block' : 'none';\n",
              "\n",
              "      async function convertToInteractive(key) {\n",
              "        const element = document.querySelector('#df-d400f420-8c23-4678-b420-4dde8c8ce3b2');\n",
              "        const dataTable =\n",
              "          await google.colab.kernel.invokeFunction('convertToInteractive',\n",
              "                                                    [key], {});\n",
              "        if (!dataTable) return;\n",
              "\n",
              "        const docLinkHtml = 'Like what you see? Visit the ' +\n",
              "          '<a target=\"_blank\" href=https://colab.research.google.com/notebooks/data_table.ipynb>data table notebook</a>'\n",
              "          + ' to learn more about interactive tables.';\n",
              "        element.innerHTML = '';\n",
              "        dataTable['output_type'] = 'display_data';\n",
              "        await google.colab.output.renderOutput(dataTable, element);\n",
              "        const docLink = document.createElement('div');\n",
              "        docLink.innerHTML = docLinkHtml;\n",
              "        element.appendChild(docLink);\n",
              "      }\n",
              "    </script>\n",
              "  </div>\n",
              "\n",
              "\n",
              "    <div id=\"df-151e94f3-7d83-4767-9598-1345cf007eeb\">\n",
              "      <button class=\"colab-df-quickchart\" onclick=\"quickchart('df-151e94f3-7d83-4767-9598-1345cf007eeb')\"\n",
              "                title=\"Suggest charts\"\n",
              "                style=\"display:none;\">\n",
              "\n",
              "<svg xmlns=\"http://www.w3.org/2000/svg\" height=\"24px\"viewBox=\"0 0 24 24\"\n",
              "     width=\"24px\">\n",
              "    <g>\n",
              "        <path d=\"M19 3H5c-1.1 0-2 .9-2 2v14c0 1.1.9 2 2 2h14c1.1 0 2-.9 2-2V5c0-1.1-.9-2-2-2zM9 17H7v-7h2v7zm4 0h-2V7h2v10zm4 0h-2v-4h2v4z\"/>\n",
              "    </g>\n",
              "</svg>\n",
              "      </button>\n",
              "\n",
              "<style>\n",
              "  .colab-df-quickchart {\n",
              "      --bg-color: #E8F0FE;\n",
              "      --fill-color: #1967D2;\n",
              "      --hover-bg-color: #E2EBFA;\n",
              "      --hover-fill-color: #174EA6;\n",
              "      --disabled-fill-color: #AAA;\n",
              "      --disabled-bg-color: #DDD;\n",
              "  }\n",
              "\n",
              "  [theme=dark] .colab-df-quickchart {\n",
              "      --bg-color: #3B4455;\n",
              "      --fill-color: #D2E3FC;\n",
              "      --hover-bg-color: #434B5C;\n",
              "      --hover-fill-color: #FFFFFF;\n",
              "      --disabled-bg-color: #3B4455;\n",
              "      --disabled-fill-color: #666;\n",
              "  }\n",
              "\n",
              "  .colab-df-quickchart {\n",
              "    background-color: var(--bg-color);\n",
              "    border: none;\n",
              "    border-radius: 50%;\n",
              "    cursor: pointer;\n",
              "    display: none;\n",
              "    fill: var(--fill-color);\n",
              "    height: 32px;\n",
              "    padding: 0;\n",
              "    width: 32px;\n",
              "  }\n",
              "\n",
              "  .colab-df-quickchart:hover {\n",
              "    background-color: var(--hover-bg-color);\n",
              "    box-shadow: 0 1px 2px rgba(60, 64, 67, 0.3), 0 1px 3px 1px rgba(60, 64, 67, 0.15);\n",
              "    fill: var(--button-hover-fill-color);\n",
              "  }\n",
              "\n",
              "  .colab-df-quickchart-complete:disabled,\n",
              "  .colab-df-quickchart-complete:disabled:hover {\n",
              "    background-color: var(--disabled-bg-color);\n",
              "    fill: var(--disabled-fill-color);\n",
              "    box-shadow: none;\n",
              "  }\n",
              "\n",
              "  .colab-df-spinner {\n",
              "    border: 2px solid var(--fill-color);\n",
              "    border-color: transparent;\n",
              "    border-bottom-color: var(--fill-color);\n",
              "    animation:\n",
              "      spin 1s steps(1) infinite;\n",
              "  }\n",
              "\n",
              "  @keyframes spin {\n",
              "    0% {\n",
              "      border-color: transparent;\n",
              "      border-bottom-color: var(--fill-color);\n",
              "      border-left-color: var(--fill-color);\n",
              "    }\n",
              "    20% {\n",
              "      border-color: transparent;\n",
              "      border-left-color: var(--fill-color);\n",
              "      border-top-color: var(--fill-color);\n",
              "    }\n",
              "    30% {\n",
              "      border-color: transparent;\n",
              "      border-left-color: var(--fill-color);\n",
              "      border-top-color: var(--fill-color);\n",
              "      border-right-color: var(--fill-color);\n",
              "    }\n",
              "    40% {\n",
              "      border-color: transparent;\n",
              "      border-right-color: var(--fill-color);\n",
              "      border-top-color: var(--fill-color);\n",
              "    }\n",
              "    60% {\n",
              "      border-color: transparent;\n",
              "      border-right-color: var(--fill-color);\n",
              "    }\n",
              "    80% {\n",
              "      border-color: transparent;\n",
              "      border-right-color: var(--fill-color);\n",
              "      border-bottom-color: var(--fill-color);\n",
              "    }\n",
              "    90% {\n",
              "      border-color: transparent;\n",
              "      border-bottom-color: var(--fill-color);\n",
              "    }\n",
              "  }\n",
              "</style>\n",
              "\n",
              "      <script>\n",
              "        async function quickchart(key) {\n",
              "          const quickchartButtonEl =\n",
              "            document.querySelector('#' + key + ' button');\n",
              "          quickchartButtonEl.disabled = true;  // To prevent multiple clicks.\n",
              "          quickchartButtonEl.classList.add('colab-df-spinner');\n",
              "          try {\n",
              "            const charts = await google.colab.kernel.invokeFunction(\n",
              "                'suggestCharts', [key], {});\n",
              "          } catch (error) {\n",
              "            console.error('Error during call to suggestCharts:', error);\n",
              "          }\n",
              "          quickchartButtonEl.classList.remove('colab-df-spinner');\n",
              "          quickchartButtonEl.classList.add('colab-df-quickchart-complete');\n",
              "        }\n",
              "        (() => {\n",
              "          let quickchartButtonEl =\n",
              "            document.querySelector('#df-151e94f3-7d83-4767-9598-1345cf007eeb button');\n",
              "          quickchartButtonEl.style.display =\n",
              "            google.colab.kernel.accessAllowed ? 'block' : 'none';\n",
              "        })();\n",
              "      </script>\n",
              "    </div>\n",
              "\n",
              "    </div>\n",
              "  </div>\n"
            ],
            "application/vnd.google.colaboratory.intrinsic+json": {
              "type": "dataframe",
              "variable_name": "df",
              "summary": "{\n  \"name\": \"df\",\n  \"rows\": 808,\n  \"fields\": [\n    {\n      \"column\": \"Date\",\n      \"properties\": {\n        \"dtype\": \"date\",\n        \"min\": \"2022-01-03 00:00:00\",\n        \"max\": \"2025-05-09 00:00:00\",\n        \"num_unique_values\": 808,\n        \"samples\": [\n          \"2024-11-15 00:00:00\",\n          \"2023-03-13 00:00:00\",\n          \"2022-12-06 00:00:00\"\n        ],\n        \"semantic_type\": \"\",\n        \"description\": \"\"\n      }\n    },\n    {\n      \"column\": \"Close\",\n      \"properties\": {\n        \"dtype\": \"number\",\n        \"std\": 474.4352009424973,\n        \"min\": 2290.0,\n        \"max\": 4295.701172,\n        \"num_unique_values\": 304,\n        \"samples\": [\n          3298.462891,\n          3703.702637,\n          3581.258545\n        ],\n        \"semantic_type\": \"\",\n        \"description\": \"\"\n      }\n    },\n    {\n      \"column\": \"High\",\n      \"properties\": {\n        \"dtype\": \"number\",\n        \"std\": 472.71136909459716,\n        \"min\": 2300.0,\n        \"max\": 4313.788335,\n        \"num_unique_values\": 563,\n        \"samples\": [\n          3545.083994,\n          2810.0,\n          3554.127576\n        ],\n        \"semantic_type\": \"\",\n        \"description\": \"\"\n      }\n    },\n    {\n      \"column\": \"Low\",\n      \"properties\": {\n        \"dtype\": \"number\",\n        \"std\": 473.2084695309957,\n        \"min\": 2050.0,\n        \"max\": 4205.26549,\n        \"num_unique_values\": 557,\n        \"samples\": [\n          3888.740191,\n          3289.038818,\n          3978.358189\n        ],\n        \"semantic_type\": \"\",\n        \"description\": \"\"\n      }\n    },\n    {\n      \"column\": \"Open\",\n      \"properties\": {\n        \"dtype\": \"number\",\n        \"std\": 473.4143488332492,\n        \"min\": 2050.0,\n        \"max\": 4250.483398,\n        \"num_unique_values\": 587,\n        \"samples\": [\n          3040.0,\n          3698.82507,\n          3100.0\n        ],\n        \"semantic_type\": \"\",\n        \"description\": \"\"\n      }\n    },\n    {\n      \"column\": \"Net Income\",\n      \"properties\": {\n        \"dtype\": \"number\",\n        \"std\": 1008418241722.3113,\n        \"min\": 3270000000000.0,\n        \"max\": 7190000000000.0,\n        \"num_unique_values\": 14,\n        \"samples\": [\n          6053000000000.0,\n          5914000000000.0,\n          5890000000000.0\n        ],\n        \"semantic_type\": \"\",\n        \"description\": \"\"\n      }\n    },\n    {\n      \"column\": \"Stockholders Equity\",\n      \"properties\": {\n        \"dtype\": \"number\",\n        \"std\": 6717831313686.582,\n        \"min\": 121631000000000.0,\n        \"max\": 141888000000000.0,\n        \"num_unique_values\": 4,\n        \"samples\": [\n          129224000000000.0,\n          141888000000000.0,\n          121631000000000.0\n        ],\n        \"semantic_type\": \"\",\n        \"description\": \"\"\n      }\n    },\n    {\n      \"column\": \"Long Term Debt\",\n      \"properties\": {\n        \"dtype\": \"number\",\n        \"std\": 4219757890395.794,\n        \"min\": 25518000000000.0,\n        \"max\": 36319000000000.0,\n        \"num_unique_values\": 4,\n        \"samples\": [\n          27331000000000.0,\n          25518000000000.0,\n          36319000000000.0\n        ],\n        \"semantic_type\": \"\",\n        \"description\": \"\"\n      }\n    },\n    {\n      \"column\": \"Total Assets\",\n      \"properties\": {\n        \"dtype\": \"number\",\n        \"std\": 7860679112959.426,\n        \"min\": 274817000000000.0,\n        \"max\": 299297000000000.0,\n        \"num_unique_values\": 4,\n        \"samples\": [\n          274817000000000.0,\n          299297000000000.0,\n          276158000000000.0\n        ],\n        \"semantic_type\": \"\",\n        \"description\": \"\"\n      }\n    },\n    {\n      \"column\": \"Total Liabilities Net Minority Interest\",\n      \"properties\": {\n        \"dtype\": \"number\",\n        \"std\": 3302218728709.918,\n        \"min\": 125742000000000.0,\n        \"max\": 137151000000000.0,\n        \"num_unique_values\": 4,\n        \"samples\": [\n          125742000000000.0,\n          137151000000000.0,\n          130986000000000.0\n        ],\n        \"semantic_type\": \"\",\n        \"description\": \"\"\n      }\n    }\n  ]\n}"
            }
          },
          "metadata": {},
          "execution_count": 52
        }
      ],
      "source": [
        "df.head(5)"
      ]
    },
    {
      "cell_type": "code",
      "source": [
        "# df.to_csv('data_lama.csv')"
      ],
      "metadata": {
        "id": "NpqKKyT8dWXw"
      },
      "execution_count": 53,
      "outputs": []
    },
    {
      "cell_type": "markdown",
      "metadata": {
        "id": "_AYe5Sy79zAC"
      },
      "source": [
        "### Explatory Data (EDA)"
      ]
    },
    {
      "cell_type": "markdown",
      "metadata": {
        "id": "cNJIcf045t-1"
      },
      "source": [
        "###Perumusan ROA, ROE, DER\n"
      ]
    },
    {
      "cell_type": "code",
      "execution_count": 54,
      "metadata": {
        "id": "ufUcZ6Rbqmku"
      },
      "outputs": [],
      "source": [
        "# Hitung rasio keuangan\n",
        "# df['EPS'] = df['Net Income'] / shares_outstanding\n",
        "# df['PER'] = df['Close'] / df['EPS']\n",
        "df['ROE'] = df['Net Income'] / df['Stockholders Equity']\n",
        "df['ROA'] = df['Net Income'] / df['Total Assets']\n",
        "df['DER'] = df['Long Term Debt'] / df['Stockholders Equity']\n",
        "\n",
        "# 4. Bulatkan hasil ke 4 desimal\n",
        "df[['ROE', 'ROA', 'DER']] = df[['ROE', 'ROA', 'DER']].round(4)"
      ]
    },
    {
      "cell_type": "code",
      "execution_count": 55,
      "metadata": {
        "colab": {
          "base_uri": "https://localhost:8080/"
        },
        "id": "iA17jnQ4vqm-",
        "outputId": "6435a489-0c38-44e1-d369-42afc3075a93"
      },
      "outputs": [
        {
          "output_type": "stream",
          "name": "stdout",
          "text": [
            "                  Close         High          Low         Open    Net Income  \\\n",
            "Date                                                                           \n",
            "2022-01-03  3646.828613  3646.828613  3533.410499  3542.134969  5.890000e+12   \n",
            "2022-01-04  3638.104004  3664.277414  3620.655064  3646.828474  5.890000e+12   \n",
            "2022-01-05  3533.410400  3655.552982  3515.961460  3620.655102  5.890000e+12   \n",
            "2022-01-06  3594.481689  3594.481689  3515.961458  3568.308279  5.890000e+12   \n",
            "2022-01-07  3638.104004  3655.552944  3568.308244  3594.481654  5.890000e+12   \n",
            "\n",
            "            Stockholders Equity  Long Term Debt  Total Assets  \\\n",
            "Date                                                            \n",
            "2022-01-03         1.216310e+14    3.631900e+13  2.761580e+14   \n",
            "2022-01-04         1.216310e+14    3.631900e+13  2.761580e+14   \n",
            "2022-01-05         1.216310e+14    3.631900e+13  2.761580e+14   \n",
            "2022-01-06         1.216310e+14    3.631900e+13  2.761580e+14   \n",
            "2022-01-07         1.216310e+14    3.631900e+13  2.761580e+14   \n",
            "\n",
            "            Total Liabilities Net Minority Interest     ROE     ROA     DER  \n",
            "Date                                                                         \n",
            "2022-01-03                             1.309860e+14  0.0484  0.0213  0.2986  \n",
            "2022-01-04                             1.309860e+14  0.0484  0.0213  0.2986  \n",
            "2022-01-05                             1.309860e+14  0.0484  0.0213  0.2986  \n",
            "2022-01-06                             1.309860e+14  0.0484  0.0213  0.2986  \n",
            "2022-01-07                             1.309860e+14  0.0484  0.0213  0.2986  \n"
          ]
        }
      ],
      "source": [
        "print(df.head())"
      ]
    },
    {
      "cell_type": "markdown",
      "metadata": {
        "id": "UGEWbeb4wNkk"
      },
      "source": [
        "###Data penting berdasarkan analisis fundamental"
      ]
    },
    {
      "cell_type": "code",
      "execution_count": 56,
      "metadata": {
        "colab": {
          "base_uri": "https://localhost:8080/"
        },
        "id": "XDQFP8zEvyqW",
        "outputId": "a2b6f2e6-6f5e-4e29-d931-ea4e64768985"
      },
      "outputs": [
        {
          "output_type": "stream",
          "name": "stdout",
          "text": [
            "                  Close         Open         High          Low     ROA  \\\n",
            "Date                                                                     \n",
            "2022-01-03  3646.828613  3542.134969  3646.828613  3533.410499  0.0213   \n",
            "2022-01-04  3638.104004  3646.828474  3664.277414  3620.655064  0.0213   \n",
            "2022-01-05  3533.410400  3620.655102  3655.552982  3515.961460  0.0213   \n",
            "2022-01-06  3594.481689  3568.308279  3594.481689  3515.961458  0.0213   \n",
            "2022-01-07  3638.104004  3594.481654  3655.552944  3568.308244  0.0213   \n",
            "\n",
            "               ROE     DER  \n",
            "Date                        \n",
            "2022-01-03  0.0484  0.2986  \n",
            "2022-01-04  0.0484  0.2986  \n",
            "2022-01-05  0.0484  0.2986  \n",
            "2022-01-06  0.0484  0.2986  \n",
            "2022-01-07  0.0484  0.2986  \n"
          ]
        }
      ],
      "source": [
        "df_subset = df[['Close','Open', 'High', 'Low','ROA', 'ROE', 'DER']]\n",
        "print(df_subset.head())"
      ]
    },
    {
      "cell_type": "code",
      "execution_count": 57,
      "metadata": {
        "colab": {
          "base_uri": "https://localhost:8080/",
          "height": 663
        },
        "id": "dH0Ej5npLoLb",
        "outputId": "df6dc18f-bb58-4c80-8aaa-9b300a0c854b"
      },
      "outputs": [
        {
          "output_type": "display_data",
          "data": {
            "text/plain": [
              "<Figure size 1500x1200 with 9 Axes>"
            ],
            "image/png": "[encoded data removed]"
          },
          "metadata": {}
        }
      ],
      "source": [
        "# Mengambil informasi Year dan Quarter dari indeks datetime\n",
        "df['Year'] = df.index.year\n",
        "df['Quarter'] = df.index.quarter\n",
        "\n",
        "# Konversi nilai quarter ke string seperti \"Kuartal 1\"\n",
        "df['Quarter_Label'] = df['Quarter'].apply(lambda x: f'Kuartal {x}')\n",
        "\n",
        "# Agregasi rata-rata per kuartal\n",
        "quarterly_avg = df.groupby(['Year', 'Quarter', 'Quarter_Label'])[['Close', 'High', 'Low', 'Open', 'ROA', 'ROE', 'DER']].mean().reset_index()\n",
        "\n",
        "# Fitur yang ingin divisualisasikan\n",
        "features = ['Close', 'High', 'Low', 'Open', 'ROA', 'ROE', 'DER']\n",
        "titles = ['Close', 'High', 'Low', 'Open', 'ROA', 'ROE', 'DER']\n",
        "\n",
        "# Buat subplot 3x3\n",
        "fig, axes = plt.subplots(3, 3, figsize=(15, 12))\n",
        "axes = axes.flatten()  # ubah ke 1 dimensi untuk looping\n",
        "\n",
        "# Loop untuk setiap fitur dan subplot\n",
        "for i, feature in enumerate(features):\n",
        "    sns.barplot(\n",
        "        data=quarterly_avg,\n",
        "        x='Quarter_Label',\n",
        "        y=feature,\n",
        "        hue='Year',\n",
        "        ax=axes[i],\n",
        "        palette='Set2'\n",
        "    )\n",
        "    axes[i].set_title(titles[i])\n",
        "    axes[i].set_xlabel(\"Rentang waktu 3 bulan per 3 bulan\")\n",
        "    axes[i].set_ylabel(feature)\n",
        "    axes[i].legend(title='Tahun')\n",
        "    axes[i].grid(True)\n",
        "\n",
        "# Rapikan layout\n",
        "plt.tight_layout()\n",
        "plt.show()\n"
      ]
    },
    {
      "cell_type": "code",
      "execution_count": 58,
      "metadata": {
        "colab": {
          "base_uri": "https://localhost:8080/"
        },
        "id": "I2hIfVe9LVOc",
        "outputId": "eb4dd6ec-f1bc-43c7-e811-95d349b0fabe"
      },
      "outputs": [
        {
          "output_type": "stream",
          "name": "stdout",
          "text": [
            "                  Close         High          Low         Open    Net Income  \\\n",
            "Date                                                                           \n",
            "2022-01-03  3646.828613  3646.828613  3533.410499  3542.134969  5.890000e+12   \n",
            "2022-01-04  3638.104004  3664.277414  3620.655064  3646.828474  5.890000e+12   \n",
            "2022-01-05  3533.410400  3655.552982  3515.961460  3620.655102  5.890000e+12   \n",
            "2022-01-06  3594.481689  3594.481689  3515.961458  3568.308279  5.890000e+12   \n",
            "2022-01-07  3638.104004  3655.552944  3568.308244  3594.481654  5.890000e+12   \n",
            "\n",
            "            Stockholders Equity  Long Term Debt  Total Assets  \\\n",
            "Date                                                            \n",
            "2022-01-03         1.216310e+14    3.631900e+13  2.761580e+14   \n",
            "2022-01-04         1.216310e+14    3.631900e+13  2.761580e+14   \n",
            "2022-01-05         1.216310e+14    3.631900e+13  2.761580e+14   \n",
            "2022-01-06         1.216310e+14    3.631900e+13  2.761580e+14   \n",
            "2022-01-07         1.216310e+14    3.631900e+13  2.761580e+14   \n",
            "\n",
            "            Total Liabilities Net Minority Interest     ROE     ROA     DER  \n",
            "Date                                                                         \n",
            "2022-01-03                             1.309860e+14  0.0484  0.0213  0.2986  \n",
            "2022-01-04                             1.309860e+14  0.0484  0.0213  0.2986  \n",
            "2022-01-05                             1.309860e+14  0.0484  0.0213  0.2986  \n",
            "2022-01-06                             1.309860e+14  0.0484  0.0213  0.2986  \n",
            "2022-01-07                             1.309860e+14  0.0484  0.0213  0.2986  \n"
          ]
        }
      ],
      "source": [
        "# Assuming 'df' is your DataFrame as defined in the previous code\n",
        "# Drop the 'Quarter' column\n",
        "df = df.drop(columns=['Quarter','Year', 'Quarter_Label'])\n",
        "\n",
        "print(df.head())"
      ]
    },
    {
      "cell_type": "code",
      "execution_count": 59,
      "metadata": {
        "colab": {
          "base_uri": "https://localhost:8080/",
          "height": 389
        },
        "id": "6AagtBohFotI",
        "outputId": "157617cc-5253-4ee9-ba98-113caab92bf3"
      },
      "outputs": [
        {
          "output_type": "execute_result",
          "data": {
            "text/plain": [
              "             Close         High          Low         Open    Net Income  \\\n",
              "count   808.000000   808.000000   808.000000   808.000000  8.080000e+02   \n",
              "mean   3415.080548  3452.638465  3378.734784  3417.984742  5.777271e+12   \n",
              "std     474.435201   472.711369   473.208470   473.414349  1.008418e+12   \n",
              "min    2290.000000  2300.000000  2050.000000  2050.000000  3.270000e+12   \n",
              "25%    3010.000000  3050.000000  2980.000000  3000.000000  5.708000e+12   \n",
              "50%    3563.171143  3608.389174  3525.820140  3571.764199  5.936000e+12   \n",
              "75%    3750.823486  3779.096104  3716.912157  3750.823601  6.330000e+12   \n",
              "max    4295.701172  4313.788335  4205.265490  4250.483398  7.190000e+12   \n",
              "\n",
              "       Stockholders Equity  Long Term Debt  Total Assets  \\\n",
              "count         8.080000e+02    8.080000e+02  8.080000e+02   \n",
              "mean          1.300842e+14    3.001474e+13  2.812072e+14   \n",
              "std           6.717831e+12    4.219758e+12  7.860679e+12   \n",
              "min           1.216310e+14    2.551800e+13  2.748170e+14   \n",
              "25%           1.216310e+14    2.733100e+13  2.748170e+14   \n",
              "50%           1.292240e+14    2.777300e+13  2.761580e+14   \n",
              "75%           1.355760e+14    3.631900e+13  2.865920e+14   \n",
              "max           1.418880e+14    3.631900e+13  2.992970e+14   \n",
              "\n",
              "       Total Liabilities Net Minority Interest         ROE         ROA  \\\n",
              "count                             8.080000e+02  808.000000  808.000000   \n",
              "mean                              1.298672e+14    0.044485    0.020539   \n",
              "std                               3.302219e+12    0.008218    0.003676   \n",
              "min                               1.257420e+14    0.026900    0.011800   \n",
              "25%                               1.257420e+14    0.041300    0.019500   \n",
              "50%                               1.303570e+14    0.044600    0.021100   \n",
              "75%                               1.309860e+14    0.049700    0.023000   \n",
              "max                               1.371510e+14    0.059100    0.026000   \n",
              "\n",
              "              DER  \n",
              "count  808.000000  \n",
              "mean     0.232841  \n",
              "std      0.044403  \n",
              "min      0.179800  \n",
              "25%      0.204900  \n",
              "50%      0.211500  \n",
              "75%      0.298600  \n",
              "max      0.298600  "
            ],
            "text/html": [
              "\n",
              "  <div id=\"df-e278411c-16ab-41a1-a39e-59696c3636a9\" class=\"colab-df-container\">\n",
              "    <div>\n",
              "<style scoped>\n",
              "    .dataframe tbody tr th:only-of-type {\n",
              "        vertical-align: middle;\n",
              "    }\n",
              "\n",
              "    .dataframe tbody tr th {\n",
              "        vertical-align: top;\n",
              "    }\n",
              "\n",
              "    .dataframe thead th {\n",
              "        text-align: right;\n",
              "    }\n",
              "</style>\n",
              "<table border=\"1\" class=\"dataframe\">\n",
              "  <thead>\n",
              "    <tr style=\"text-align: right;\">\n",
              "      <th></th>\n",
              "      <th>Close</th>\n",
              "      <th>High</th>\n",
              "      <th>Low</th>\n",
              "      <th>Open</th>\n",
              "      <th>Net Income</th>\n",
              "      <th>Stockholders Equity</th>\n",
              "      <th>Long Term Debt</th>\n",
              "      <th>Total Assets</th>\n",
              "      <th>Total Liabilities Net Minority Interest</th>\n",
              "      <th>ROE</th>\n",
              "      <th>ROA</th>\n",
              "      <th>DER</th>\n",
              "    </tr>\n",
              "  </thead>\n",
              "  <tbody>\n",
              "    <tr>\n",
              "      <th>count</th>\n",
              "      <td>808.000000</td>\n",
              "      <td>808.000000</td>\n",
              "      <td>808.000000</td>\n",
              "      <td>808.000000</td>\n",
              "      <td>8.080000e+02</td>\n",
              "      <td>8.080000e+02</td>\n",
              "      <td>8.080000e+02</td>\n",
              "      <td>8.080000e+02</td>\n",
              "      <td>8.080000e+02</td>\n",
              "      <td>808.000000</td>\n",
              "      <td>808.000000</td>\n",
              "      <td>808.000000</td>\n",
              "    </tr>\n",
              "    <tr>\n",
              "      <th>mean</th>\n",
              "      <td>3415.080548</td>\n",
              "      <td>3452.638465</td>\n",
              "      <td>3378.734784</td>\n",
              "      <td>3417.984742</td>\n",
              "      <td>5.777271e+12</td>\n",
              "      <td>1.300842e+14</td>\n",
              "      <td>3.001474e+13</td>\n",
              "      <td>2.812072e+14</td>\n",
              "      <td>1.298672e+14</td>\n",
              "      <td>0.044485</td>\n",
              "      <td>0.020539</td>\n",
              "      <td>0.232841</td>\n",
              "    </tr>\n",
              "    <tr>\n",
              "      <th>std</th>\n",
              "      <td>474.435201</td>\n",
              "      <td>472.711369</td>\n",
              "      <td>473.208470</td>\n",
              "      <td>473.414349</td>\n",
              "      <td>1.008418e+12</td>\n",
              "      <td>6.717831e+12</td>\n",
              "      <td>4.219758e+12</td>\n",
              "      <td>7.860679e+12</td>\n",
              "      <td>3.302219e+12</td>\n",
              "      <td>0.008218</td>\n",
              "      <td>0.003676</td>\n",
              "      <td>0.044403</td>\n",
              "    </tr>\n",
              "    <tr>\n",
              "      <th>min</th>\n",
              "      <td>2290.000000</td>\n",
              "      <td>2300.000000</td>\n",
              "      <td>2050.000000</td>\n",
              "      <td>2050.000000</td>\n",
              "      <td>3.270000e+12</td>\n",
              "      <td>1.216310e+14</td>\n",
              "      <td>2.551800e+13</td>\n",
              "      <td>2.748170e+14</td>\n",
              "      <td>1.257420e+14</td>\n",
              "      <td>0.026900</td>\n",
              "      <td>0.011800</td>\n",
              "      <td>0.179800</td>\n",
              "    </tr>\n",
              "    <tr>\n",
              "      <th>25%</th>\n",
              "      <td>3010.000000</td>\n",
              "      <td>3050.000000</td>\n",
              "      <td>2980.000000</td>\n",
              "      <td>3000.000000</td>\n",
              "      <td>5.708000e+12</td>\n",
              "      <td>1.216310e+14</td>\n",
              "      <td>2.733100e+13</td>\n",
              "      <td>2.748170e+14</td>\n",
              "      <td>1.257420e+14</td>\n",
              "      <td>0.041300</td>\n",
              "      <td>0.019500</td>\n",
              "      <td>0.204900</td>\n",
              "    </tr>\n",
              "    <tr>\n",
              "      <th>50%</th>\n",
              "      <td>3563.171143</td>\n",
              "      <td>3608.389174</td>\n",
              "      <td>3525.820140</td>\n",
              "      <td>3571.764199</td>\n",
              "      <td>5.936000e+12</td>\n",
              "      <td>1.292240e+14</td>\n",
              "      <td>2.777300e+13</td>\n",
              "      <td>2.761580e+14</td>\n",
              "      <td>1.303570e+14</td>\n",
              "      <td>0.044600</td>\n",
              "      <td>0.021100</td>\n",
              "      <td>0.211500</td>\n",
              "    </tr>\n",
              "    <tr>\n",
              "      <th>75%</th>\n",
              "      <td>3750.823486</td>\n",
              "      <td>3779.096104</td>\n",
              "      <td>3716.912157</td>\n",
              "      <td>3750.823601</td>\n",
              "      <td>6.330000e+12</td>\n",
              "      <td>1.355760e+14</td>\n",
              "      <td>3.631900e+13</td>\n",
              "      <td>2.865920e+14</td>\n",
              "      <td>1.309860e+14</td>\n",
              "      <td>0.049700</td>\n",
              "      <td>0.023000</td>\n",
              "      <td>0.298600</td>\n",
              "    </tr>\n",
              "    <tr>\n",
              "      <th>max</th>\n",
              "      <td>4295.701172</td>\n",
              "      <td>4313.788335</td>\n",
              "      <td>4205.265490</td>\n",
              "      <td>4250.483398</td>\n",
              "      <td>7.190000e+12</td>\n",
              "      <td>1.418880e+14</td>\n",
              "      <td>3.631900e+13</td>\n",
              "      <td>2.992970e+14</td>\n",
              "      <td>1.371510e+14</td>\n",
              "      <td>0.059100</td>\n",
              "      <td>0.026000</td>\n",
              "      <td>0.298600</td>\n",
              "    </tr>\n",
              "  </tbody>\n",
              "</table>\n",
              "</div>\n",
              "    <div class=\"colab-df-buttons\">\n",
              "\n",
              "  <div class=\"colab-df-container\">\n",
              "    <button class=\"colab-df-convert\" onclick=\"convertToInteractive('df-e278411c-16ab-41a1-a39e-59696c3636a9')\"\n",
              "            title=\"Convert this dataframe to an interactive table.\"\n",
              "            style=\"display:none;\">\n",
              "\n",
              "  <svg xmlns=\"http://www.w3.org/2000/svg\" height=\"24px\" viewBox=\"0 -960 960 960\">\n",
              "    <path d=\"M120-120v-720h720v720H120Zm60-500h600v-160H180v160Zm220 220h160v-160H400v160Zm0 220h160v-160H400v160ZM180-400h160v-160H180v160Zm440 0h160v-160H620v160ZM180-180h160v-160H180v160Zm440 0h160v-160H620v160Z\"/>\n",
              "  </svg>\n",
              "    </button>\n",
              "\n",
              "  <style>\n",
              "    .colab-df-container {\n",
              "      display:flex;\n",
              "      gap: 12px;\n",
              "    }\n",
              "\n",
              "    .colab-df-convert {\n",
              "      background-color: #E8F0FE;\n",
              "      border: none;\n",
              "      border-radius: 50%;\n",
              "      cursor: pointer;\n",
              "      display: none;\n",
              "      fill: #1967D2;\n",
              "      height: 32px;\n",
              "      padding: 0 0 0 0;\n",
              "      width: 32px;\n",
              "    }\n",
              "\n",
              "    .colab-df-convert:hover {\n",
              "      background-color: #E2EBFA;\n",
              "      box-shadow: 0px 1px 2px rgba(60, 64, 67, 0.3), 0px 1px 3px 1px rgba(60, 64, 67, 0.15);\n",
              "      fill: #174EA6;\n",
              "    }\n",
              "\n",
              "    .colab-df-buttons div {\n",
              "      margin-bottom: 4px;\n",
              "    }\n",
              "\n",
              "    [theme=dark] .colab-df-convert {\n",
              "      background-color: #3B4455;\n",
              "      fill: #D2E3FC;\n",
              "    }\n",
              "\n",
              "    [theme=dark] .colab-df-convert:hover {\n",
              "      background-color: #434B5C;\n",
              "      box-shadow: 0px 1px 3px 1px rgba(0, 0, 0, 0.15);\n",
              "      filter: drop-shadow(0px 1px 2px rgba(0, 0, 0, 0.3));\n",
              "      fill: #FFFFFF;\n",
              "    }\n",
              "  </style>\n",
              "\n",
              "    <script>\n",
              "      const buttonEl =\n",
              "        document.querySelector('#df-e278411c-16ab-41a1-a39e-59696c3636a9 button.colab-df-convert');\n",
              "      buttonEl.style.display =\n",
              "        google.colab.kernel.accessAllowed ? 'block' : 'none';\n",
              "\n",
              "      async function convertToInteractive(key) {\n",
              "        const element = document.querySelector('#df-e278411c-16ab-41a1-a39e-59696c3636a9');\n",
              "        const dataTable =\n",
              "          await google.colab.kernel.invokeFunction('convertToInteractive',\n",
              "                                                    [key], {});\n",
              "        if (!dataTable) return;\n",
              "\n",
              "        const docLinkHtml = 'Like what you see? Visit the ' +\n",
              "          '<a target=\"_blank\" href=https://colab.research.google.com/notebooks/data_table.ipynb>data table notebook</a>'\n",
              "          + ' to learn more about interactive tables.';\n",
              "        element.innerHTML = '';\n",
              "        dataTable['output_type'] = 'display_data';\n",
              "        await google.colab.output.renderOutput(dataTable, element);\n",
              "        const docLink = document.createElement('div');\n",
              "        docLink.innerHTML = docLinkHtml;\n",
              "        element.appendChild(docLink);\n",
              "      }\n",
              "    </script>\n",
              "  </div>\n",
              "\n",
              "\n",
              "    <div id=\"df-9789c41d-c1ce-478c-88fe-4fed2e6a3ad3\">\n",
              "      <button class=\"colab-df-quickchart\" onclick=\"quickchart('df-9789c41d-c1ce-478c-88fe-4fed2e6a3ad3')\"\n",
              "                title=\"Suggest charts\"\n",
              "                style=\"display:none;\">\n",
              "\n",
              "<svg xmlns=\"http://www.w3.org/2000/svg\" height=\"24px\"viewBox=\"0 0 24 24\"\n",
              "     width=\"24px\">\n",
              "    <g>\n",
              "        <path d=\"M19 3H5c-1.1 0-2 .9-2 2v14c0 1.1.9 2 2 2h14c1.1 0 2-.9 2-2V5c0-1.1-.9-2-2-2zM9 17H7v-7h2v7zm4 0h-2V7h2v10zm4 0h-2v-4h2v4z\"/>\n",
              "    </g>\n",
              "</svg>\n",
              "      </button>\n",
              "\n",
              "<style>\n",
              "  .colab-df-quickchart {\n",
              "      --bg-color: #E8F0FE;\n",
              "      --fill-color: #1967D2;\n",
              "      --hover-bg-color: #E2EBFA;\n",
              "      --hover-fill-color: #174EA6;\n",
              "      --disabled-fill-color: #AAA;\n",
              "      --disabled-bg-color: #DDD;\n",
              "  }\n",
              "\n",
              "  [theme=dark] .colab-df-quickchart {\n",
              "      --bg-color: #3B4455;\n",
              "      --fill-color: #D2E3FC;\n",
              "      --hover-bg-color: #434B5C;\n",
              "      --hover-fill-color: #FFFFFF;\n",
              "      --disabled-bg-color: #3B4455;\n",
              "      --disabled-fill-color: #666;\n",
              "  }\n",
              "\n",
              "  .colab-df-quickchart {\n",
              "    background-color: var(--bg-color);\n",
              "    border: none;\n",
              "    border-radius: 50%;\n",
              "    cursor: pointer;\n",
              "    display: none;\n",
              "    fill: var(--fill-color);\n",
              "    height: 32px;\n",
              "    padding: 0;\n",
              "    width: 32px;\n",
              "  }\n",
              "\n",
              "  .colab-df-quickchart:hover {\n",
              "    background-color: var(--hover-bg-color);\n",
              "    box-shadow: 0 1px 2px rgba(60, 64, 67, 0.3), 0 1px 3px 1px rgba(60, 64, 67, 0.15);\n",
              "    fill: var(--button-hover-fill-color);\n",
              "  }\n",
              "\n",
              "  .colab-df-quickchart-complete:disabled,\n",
              "  .colab-df-quickchart-complete:disabled:hover {\n",
              "    background-color: var(--disabled-bg-color);\n",
              "    fill: var(--disabled-fill-color);\n",
              "    box-shadow: none;\n",
              "  }\n",
              "\n",
              "  .colab-df-spinner {\n",
              "    border: 2px solid var(--fill-color);\n",
              "    border-color: transparent;\n",
              "    border-bottom-color: var(--fill-color);\n",
              "    animation:\n",
              "      spin 1s steps(1) infinite;\n",
              "  }\n",
              "\n",
              "  @keyframes spin {\n",
              "    0% {\n",
              "      border-color: transparent;\n",
              "      border-bottom-color: var(--fill-color);\n",
              "      border-left-color: var(--fill-color);\n",
              "    }\n",
              "    20% {\n",
              "      border-color: transparent;\n",
              "      border-left-color: var(--fill-color);\n",
              "      border-top-color: var(--fill-color);\n",
              "    }\n",
              "    30% {\n",
              "      border-color: transparent;\n",
              "      border-left-color: var(--fill-color);\n",
              "      border-top-color: var(--fill-color);\n",
              "      border-right-color: var(--fill-color);\n",
              "    }\n",
              "    40% {\n",
              "      border-color: transparent;\n",
              "      border-right-color: var(--fill-color);\n",
              "      border-top-color: var(--fill-color);\n",
              "    }\n",
              "    60% {\n",
              "      border-color: transparent;\n",
              "      border-right-color: var(--fill-color);\n",
              "    }\n",
              "    80% {\n",
              "      border-color: transparent;\n",
              "      border-right-color: var(--fill-color);\n",
              "      border-bottom-color: var(--fill-color);\n",
              "    }\n",
              "    90% {\n",
              "      border-color: transparent;\n",
              "      border-bottom-color: var(--fill-color);\n",
              "    }\n",
              "  }\n",
              "</style>\n",
              "\n",
              "      <script>\n",
              "        async function quickchart(key) {\n",
              "          const quickchartButtonEl =\n",
              "            document.querySelector('#' + key + ' button');\n",
              "          quickchartButtonEl.disabled = true;  // To prevent multiple clicks.\n",
              "          quickchartButtonEl.classList.add('colab-df-spinner');\n",
              "          try {\n",
              "            const charts = await google.colab.kernel.invokeFunction(\n",
              "                'suggestCharts', [key], {});\n",
              "          } catch (error) {\n",
              "            console.error('Error during call to suggestCharts:', error);\n",
              "          }\n",
              "          quickchartButtonEl.classList.remove('colab-df-spinner');\n",
              "          quickchartButtonEl.classList.add('colab-df-quickchart-complete');\n",
              "        }\n",
              "        (() => {\n",
              "          let quickchartButtonEl =\n",
              "            document.querySelector('#df-9789c41d-c1ce-478c-88fe-4fed2e6a3ad3 button');\n",
              "          quickchartButtonEl.style.display =\n",
              "            google.colab.kernel.accessAllowed ? 'block' : 'none';\n",
              "        })();\n",
              "      </script>\n",
              "    </div>\n",
              "\n",
              "    </div>\n",
              "  </div>\n"
            ],
            "application/vnd.google.colaboratory.intrinsic+json": {
              "type": "dataframe",
              "summary": "{\n  \"name\": \"df\",\n  \"rows\": 8,\n  \"fields\": [\n    {\n      \"column\": \"Close\",\n      \"properties\": {\n        \"dtype\": \"number\",\n        \"std\": 1399.1779737115708,\n        \"min\": 474.4352009424973,\n        \"max\": 4295.701172,\n        \"num_unique_values\": 8,\n        \"samples\": [\n          3415.0805476868813,\n          3563.171143,\n          808.0\n        ],\n        \"semantic_type\": \"\",\n        \"description\": \"\"\n      }\n    },\n    {\n      \"column\": \"High\",\n      \"properties\": {\n        \"dtype\": \"number\",\n        \"std\": 1413.1582996998384,\n        \"min\": 472.71136909459716,\n        \"max\": 4313.788335,\n        \"num_unique_values\": 8,\n        \"samples\": [\n          3452.6384647103964,\n          3608.389174,\n          808.0\n        ],\n        \"semantic_type\": \"\",\n        \"description\": \"\"\n      }\n    },\n    {\n      \"column\": \"Low\",\n      \"properties\": {\n        \"dtype\": \"number\",\n        \"std\": 1386.4173537230138,\n        \"min\": 473.2084695309957,\n        \"max\": 4205.26549,\n        \"num_unique_values\": 8,\n        \"samples\": [\n          3378.734784190594,\n          3525.8201395,\n          808.0\n        ],\n        \"semantic_type\": \"\",\n        \"description\": \"\"\n      }\n    },\n    {\n      \"column\": \"Open\",\n      \"properties\": {\n        \"dtype\": \"number\",\n        \"std\": 1405.2922287634003,\n        \"min\": 473.4143488332492,\n        \"max\": 4250.483398,\n        \"num_unique_values\": 8,\n        \"samples\": [\n          3417.9847422698017,\n          3571.7641995,\n          808.0\n        ],\n        \"semantic_type\": \"\",\n        \"description\": \"\"\n      }\n    },\n    {\n      \"column\": \"Net Income\",\n      \"properties\": {\n        \"dtype\": \"number\",\n        \"std\": 2662322130182.717,\n        \"min\": 808.0,\n        \"max\": 7190000000000.0,\n        \"num_unique_values\": 8,\n        \"samples\": [\n          5777271039603.96,\n          5936000000000.0,\n          808.0\n        ],\n        \"semantic_type\": \"\",\n        \"description\": \"\"\n      }\n    },\n    {\n      \"column\": \"Stockholders Equity\",\n      \"properties\": {\n        \"dtype\": \"number\",\n        \"std\": 59033625984274.516,\n        \"min\": 808.0,\n        \"max\": 141888000000000.0,\n        \"num_unique_values\": 7,\n        \"samples\": [\n          808.0,\n          130084210396039.61,\n          135576000000000.0\n        ],\n        \"semantic_type\": \"\",\n        \"description\": \"\"\n      }\n    },\n    {\n      \"column\": \"Long Term Debt\",\n      \"properties\": {\n        \"dtype\": \"number\",\n        \"std\": 13794660296078.28,\n        \"min\": 808.0,\n        \"max\": 36319000000000.0,\n        \"num_unique_values\": 7,\n        \"samples\": [\n          808.0,\n          30014740099009.902,\n          27773000000000.0\n        ],\n        \"semantic_type\": \"\",\n        \"description\": \"\"\n      }\n    },\n    {\n      \"column\": \"Total Assets\",\n      \"properties\": {\n        \"dtype\": \"number\",\n        \"std\": 129060675902553.98,\n        \"min\": 808.0,\n        \"max\": 299297000000000.0,\n        \"num_unique_values\": 7,\n        \"samples\": [\n          808.0,\n          281207155940594.06,\n          286592000000000.0\n        ],\n        \"semantic_type\": \"\",\n        \"description\": \"\"\n      }\n    },\n    {\n      \"column\": \"Total Liabilities Net Minority Interest\",\n      \"properties\": {\n        \"dtype\": \"number\",\n        \"std\": 59514928447996.59,\n        \"min\": 808.0,\n        \"max\": 137151000000000.0,\n        \"num_unique_values\": 7,\n        \"samples\": [\n          808.0,\n          129867200495049.5,\n          130986000000000.0\n        ],\n        \"semantic_type\": \"\",\n        \"description\": \"\"\n      }\n    },\n    {\n      \"column\": \"ROE\",\n      \"properties\": {\n        \"dtype\": \"number\",\n        \"std\": 285.6572856107735,\n        \"min\": 0.00821826695668749,\n        \"max\": 808.0,\n        \"num_unique_values\": 8,\n        \"samples\": [\n          0.04448502475247525,\n          0.0446,\n          808.0\n        ],\n        \"semantic_type\": \"\",\n        \"description\": \"\"\n      }\n    },\n    {\n      \"column\": \"ROA\",\n      \"properties\": {\n        \"dtype\": \"number\",\n        \"std\": 285.664795153614,\n        \"min\": 0.003676369155944898,\n        \"max\": 808.0,\n        \"num_unique_values\": 8,\n        \"samples\": [\n          0.020538985148514852,\n          0.0211,\n          808.0\n        ],\n        \"semantic_type\": \"\",\n        \"description\": \"\"\n      }\n    },\n    {\n      \"column\": \"DER\",\n      \"properties\": {\n        \"dtype\": \"number\",\n        \"std\": 285.5968720106768,\n        \"min\": 0.044403412973120976,\n        \"max\": 808.0,\n        \"num_unique_values\": 7,\n        \"samples\": [\n          808.0,\n          0.23284059405940594,\n          0.2115\n        ],\n        \"semantic_type\": \"\",\n        \"description\": \"\"\n      }\n    }\n  ]\n}"
            }
          },
          "metadata": {},
          "execution_count": 59
        }
      ],
      "source": [
        "df.describe(include='all')"
      ]
    },
    {
      "cell_type": "markdown",
      "metadata": {
        "id": "1t-VJbfmjHGw"
      },
      "source": [
        "### Penjelasan Hasil Analisis Statistik Deskriptif\n",
        "\n",
        "print(\"\"\"\n",
        "Hasil analisis deskriptif dari data saham dan kinerja keuangan menunjukkan beberapa poin penting:\n",
        "\n",
        "1. **Harga Saham:**\n",
        "   - Rata-rata harga penutupan (Close) adalah sekitar Rp 3.415, dengan nilai minimum Rp 2.290 dan maksimum Rp 4.295.\n",
        "   - Deviasi standar sebesar Rp 474 mengindikasikan bahwa fluktuasi harga masih dalam batas wajar dan tidak terlalu ekstrem.\n",
        "   - Harga tertinggi (High), terendah (Low), dan pembukaan (Open) juga memiliki nilai rata-rata yang serupa, menunjukkan pergerakan harian saham relatif stabil.\n",
        "\n",
        "2. **Kinerja Keuangan:**\n",
        "   - Rata-rata laba bersih (Net Income) adalah Rp 5,77 triliun dengan standar deviasi Rp 1 triliun, mencerminkan adanya variasi laba antar periode namun tetap dalam tren positif.\n",
        "   - Ekuitas pemegang saham (Stockholders Equity) memiliki rata-rata sekitar Rp 130 triliun, menunjukkan struktur permodalan perusahaan yang kuat dan stabil.\n",
        "\n",
        "3. **Struktur Pendanaan:**\n",
        "   - Utang jangka panjang (Long Term Debt) rata-rata Rp 30 triliun, jauh lebih kecil dibandingkan total ekuitas.\n",
        "   - Hal ini menghasilkan rasio DER (Debt to Equity Ratio) sebesar 0,23 yang tergolong rendah, mengindikasikan perusahaan lebih mengandalkan modal sendiri dan memiliki risiko keuangan yang lebih rendah.\n",
        "\n",
        "4. **Profitabilitas dan Efisiensi:**\n",
        "   - Return on Equity (ROE) rata-rata berada di 4,45%, menunjukkan tingkat pengembalian yang layak atas modal pemegang saham.\n",
        "   - Return on Assets (ROA) sebesar 2,05% menunjukkan bahwa masih ada ruang untuk meningkatkan efisiensi penggunaan aset dalam menghasilkan keuntungan.\n",
        "\n",
        "🧾 **Kesimpulan:**\n",
        "Secara keseluruhan, data menunjukkan bahwa perusahaan berada dalam kondisi keuangan yang sehat dan stabil. Struktur modal yang konservatif serta laba bersih yang konsisten mendukung kepercayaan investor. Namun, ROA yang relatif rendah menjadi catatan penting untuk meningkatkan efisiensi dalam pemanfaatan aset di masa depan.\n",
        "\"\"\")\n"
      ]
    },
    {
      "cell_type": "code",
      "source": [
        "df_subset.to_csv('Hasil perhitungan.csv')"
      ],
      "metadata": {
        "id": "OgXiZi0-fWhU"
      },
      "execution_count": 60,
      "outputs": []
    },
    {
      "cell_type": "code",
      "execution_count": 61,
      "metadata": {
        "id": "g1LgR8E3LvWQ"
      },
      "outputs": [],
      "source": [
        "df_subset.to_csv('Cleaning_data.csv')"
      ]
    },
    {
      "cell_type": "markdown",
      "metadata": {
        "id": "HGm7dIcJ2mc6"
      },
      "source": [
        "#Preprocessing\n"
      ]
    },
    {
      "cell_type": "markdown",
      "metadata": {
        "id": "aQsa5bjRztf0"
      },
      "source": [
        "###Normalisasi"
      ]
    },
    {
      "cell_type": "code",
      "execution_count": 62,
      "metadata": {
        "id": "ue6wmPyKxBj6"
      },
      "outputs": [],
      "source": [
        "from joblib import dump\n",
        "\n",
        "# --- [1] Normalisasi Data ---\n",
        "features = ['Open', 'High', 'Low' ,'ROA', 'ROE', 'DER']\n",
        "target = ['Close']\n",
        "\n",
        "\n"
      ]
    },
    {
      "cell_type": "code",
      "source": [
        "# prompt: simpan ke csv pada variable feature\n",
        "\n",
        "df[features].to_csv('features.csv', index=False)"
      ],
      "metadata": {
        "id": "cTezIAQR61ag"
      },
      "execution_count": 63,
      "outputs": []
    },
    {
      "cell_type": "code",
      "source": [
        "df[target].to_csv('target.csv', index=False)"
      ],
      "metadata": {
        "id": "HmfOpgGA79Pp"
      },
      "execution_count": 64,
      "outputs": []
    },
    {
      "cell_type": "code",
      "source": [
        "input_scaler = MinMaxScaler()\n",
        "target_scaler = MinMaxScaler()\n",
        "\n",
        "scaled_features = input_scaler.fit_transform(df[features])\n",
        "scaled_target = target_scaler.fit_transform(df[target])\n",
        "\n",
        "# Gabungkan target + fitur → Close di index 0\n",
        "# scaled_data = np.hstack([scaled_target, scaled_features])\n",
        "\n",
        "# Simpan scaler\n",
        "dump(input_scaler, 'scaler_input_3.pkl')\n",
        "dump(target_scaler, 'scaler_close_3.pkl')\n",
        "print(\"Scaler disimpan sebagai 'scaler_input.pkl' dan 'scaler_close.pkl'\")"
      ],
      "metadata": {
        "id": "Q-eB6gvp6gSX",
        "colab": {
          "base_uri": "https://localhost:8080/"
        },
        "outputId": "cf5300d2-20da-426e-f745-67bc0acca0c4"
      },
      "execution_count": 65,
      "outputs": [
        {
          "output_type": "stream",
          "name": "stdout",
          "text": [
            "Scaler disimpan sebagai 'scaler_input.pkl' dan 'scaler_close.pkl'\n"
          ]
        }
      ]
    },
    {
      "cell_type": "code",
      "execution_count": 66,
      "metadata": {
        "id": "9UDagESy5iqr",
        "colab": {
          "base_uri": "https://localhost:8080/"
        },
        "outputId": "4cf83940-14da-4c99-a41b-dcb971d98380"
      },
      "outputs": [
        {
          "output_type": "stream",
          "name": "stdout",
          "text": [
            "[[0.67809417 0.66880346 0.68827275 0.66901408 0.66770186 1.        ]\n",
            " [0.72567168 0.67746813 0.72875248 0.66901408 0.66770186 1.        ]\n",
            " [0.7137773  0.67313578 0.68017674 0.66901408 0.66770186 1.        ]\n",
            " [0.68998852 0.64280921 0.68017674 0.66901408 0.66770186 1.        ]\n",
            " [0.70188289 0.67313576 0.7044646  0.66901408 0.66770186 1.        ]]\n",
            "[[0.67648593]\n",
            " [0.67213602]\n",
            " [0.61993801]\n",
            " [0.65038686]\n",
            " [0.67213602]]\n"
          ]
        }
      ],
      "source": [
        "print(scaled_features[:5])\n",
        "print(scaled_target[:5])"
      ]
    },
    {
      "cell_type": "markdown",
      "metadata": {
        "id": "oUm9rc2A-olY"
      },
      "source": [
        "###windowing\n"
      ]
    },
    {
      "cell_type": "code",
      "execution_count": 67,
      "metadata": {
        "colab": {
          "base_uri": "https://localhost:8080/"
        },
        "id": "nAqoJ0wMzxUW",
        "outputId": "5413cc81-f71b-4ddf-a390-4e85de5c5f7a"
      },
      "outputs": [
        {
          "output_type": "stream",
          "name": "stdout",
          "text": [
            "✅ Shape X: (778, 30, 6), Shape y: (778, 1)\n"
          ]
        }
      ],
      "source": [
        "def create_sequences(features, target, window_size):\n",
        "    X, y = [], []\n",
        "    for i in range(len(features) - window_size):\n",
        "        X.append(features[i:i + window_size])  # Hanya fitur\n",
        "        y.append(target[i + window_size])  # Target (Close)\n",
        "    return np.array(X), np.array(y)\n",
        "\n",
        "# Buat sequence dataset\n",
        "window_size = 30\n",
        "X, y = create_sequences(scaled_features, scaled_target, window_size)\n",
        "\n",
        "print(f\"✅ Shape X: {X.shape}, Shape y: {y.shape}\")"
      ]
    },
    {
      "cell_type": "markdown",
      "metadata": {
        "id": "69-N0A30_B_E"
      },
      "source": [
        "#Pengujian data split 80:20"
      ]
    },
    {
      "cell_type": "code",
      "execution_count": null,
      "metadata": {
        "id": "kZhd6DIx4PSZ"
      },
      "outputs": [],
      "source": [
        "# --- Split  80:20\n",
        "split = int(0.8 * len(X))\n",
        "X_train, X_test = X[:split], X[split:]\n",
        "y_train, y_test = y[:split], y[split:]"
      ]
    },
    {
      "cell_type": "code",
      "execution_count": null,
      "metadata": {
        "colab": {
          "base_uri": "https://localhost:8080/"
        },
        "id": "FnLEtVfUby9A",
        "outputId": "37d5b6f2-c801-42db-cafa-52c4c169f953"
      },
      "outputs": [
        {
          "output_type": "stream",
          "name": "stdout",
          "text": [
            "X_train shape: (622, 30, 6)\n",
            "y_train shape: (622, 1)\n",
            "X_test shape: (156, 30, 6)\n",
            "y_test shape: (156, 1)\n"
          ]
        }
      ],
      "source": [
        "print(\"X_train shape:\", X_train.shape)\n",
        "print(\"y_train shape:\", y_train.shape)\n",
        "print(\"X_test shape:\", X_test.shape)\n",
        "print(\"y_test shape:\", y_test.shape)"
      ]
    },
    {
      "cell_type": "markdown",
      "metadata": {
        "id": "r4qnM6D4wwsK"
      },
      "source": [
        "### Model BI-LSTM"
      ]
    },
    {
      "cell_type": "code",
      "execution_count": null,
      "metadata": {
        "colab": {
          "base_uri": "https://localhost:8080/"
        },
        "id": "Up27ty6vze7b",
        "outputId": "34971afc-7a15-46ec-a0e4-26e0fb2cbe7b"
      },
      "outputs": [
        {
          "output_type": "stream",
          "name": "stdout",
          "text": [
            "(778, 30, 6)\n",
            "(778, 1)\n"
          ]
        }
      ],
      "source": [
        "print(X.shape)\n",
        "print(y.shape)"
      ]
    },
    {
      "cell_type": "code",
      "execution_count": null,
      "metadata": {
        "colab": {
          "base_uri": "https://localhost:8080/"
        },
        "id": "B4BrHaIC9ExM",
        "outputId": "a77f5bf8-a5c9-4e5f-a411-999b470dfc1c"
      },
      "outputs": [
        {
          "output_type": "stream",
          "name": "stderr",
          "text": [
            "/usr/local/lib/python3.11/dist-packages/keras/src/layers/rnn/bidirectional.py:107: UserWarning: Do not pass an `input_shape`/`input_dim` argument to a layer. When using Sequential models, prefer using an `Input(shape)` object as the first layer in the model instead.\n",
            "  super().__init__(**kwargs)\n"
          ]
        }
      ],
      "source": [
        "\n",
        "model = Sequential()\n",
        "model.add(Bidirectional(LSTM(128, return_sequences=True), input_shape=(window_size, len(features))))\n",
        "model.add(Dropout(0.2))\n",
        "model.add(Bidirectional(LSTM(50)))\n",
        "model.add(Dropout(0.2))\n",
        "model.add(Dense(1))  # Output: Prediksi Close price\n",
        "\n",
        "model.compile(optimizer='adam', loss='mean_squared_error', metrics=['mean_absolute_error'])\n",
        "\n"
      ]
    },
    {
      "cell_type": "code",
      "execution_count": null,
      "metadata": {
        "colab": {
          "base_uri": "https://localhost:8080/"
        },
        "id": "RsiaWSr9i2eX",
        "outputId": "0c05be5a-9a2d-45d2-f594-17fc43dbd5e2"
      },
      "outputs": [
        {
          "output_type": "stream",
          "name": "stdout",
          "text": [
            "✅ Shape X: (778, 30, 6)\n",
            "✅ Shape y: (778, 1)\n"
          ]
        }
      ],
      "source": [
        "print(\"✅ Shape X:\", X.shape)\n",
        "print(\"✅ Shape y:\", y.shape)"
      ]
    },
    {
      "cell_type": "code",
      "execution_count": null,
      "metadata": {
        "colab": {
          "base_uri": "https://localhost:8080/",
          "height": 1000
        },
        "collapsed": true,
        "id": "IFzQte-Y4VVs",
        "outputId": "a8178310-94f6-4edf-cf4c-5d2118736faf"
      },
      "outputs": [
        {
          "output_type": "stream",
          "name": "stdout",
          "text": [
            "Epoch 1/50\n",
            "\u001b[1m20/20\u001b[0m \u001b[32m━━━━━━━━━━━━━━━━━━━━\u001b[0m\u001b[37m\u001b[0m \u001b[1m7s\u001b[0m 44ms/step - loss: 0.1554 - mean_absolute_error: 0.3118 - val_loss: 0.0518 - val_mean_absolute_error: 0.2194\n",
            "Epoch 2/50\n",
            "\u001b[1m20/20\u001b[0m \u001b[32m━━━━━━━━━━━━━━━━━━━━\u001b[0m\u001b[37m\u001b[0m \u001b[1m3s\u001b[0m 18ms/step - loss: 0.0179 - mean_absolute_error: 0.1055 - val_loss: 0.0273 - val_mean_absolute_error: 0.1544\n",
            "Epoch 3/50\n",
            "\u001b[1m20/20\u001b[0m \u001b[32m━━━━━━━━━━━━━━━━━━━━\u001b[0m\u001b[37m\u001b[0m \u001b[1m0s\u001b[0m 14ms/step - loss: 0.0105 - mean_absolute_error: 0.0816 - val_loss: 0.0159 - val_mean_absolute_error: 0.1132\n",
            "Epoch 4/50\n",
            "\u001b[1m20/20\u001b[0m \u001b[32m━━━━━━━━━━━━━━━━━━━━\u001b[0m\u001b[37m\u001b[0m \u001b[1m0s\u001b[0m 14ms/step - loss: 0.0080 - mean_absolute_error: 0.0715 - val_loss: 0.0088 - val_mean_absolute_error: 0.0803\n",
            "Epoch 5/50\n",
            "\u001b[1m20/20\u001b[0m \u001b[32m━━━━━━━━━━━━━━━━━━━━\u001b[0m\u001b[37m\u001b[0m \u001b[1m0s\u001b[0m 16ms/step - loss: 0.0073 - mean_absolute_error: 0.0660 - val_loss: 0.0077 - val_mean_absolute_error: 0.0743\n",
            "Epoch 6/50\n",
            "\u001b[1m20/20\u001b[0m \u001b[32m━━━━━━━━━━━━━━━━━━━━\u001b[0m\u001b[37m\u001b[0m \u001b[1m1s\u001b[0m 14ms/step - loss: 0.0059 - mean_absolute_error: 0.0606 - val_loss: 0.0047 - val_mean_absolute_error: 0.0570\n",
            "Epoch 7/50\n",
            "\u001b[1m20/20\u001b[0m \u001b[32m━━━━━━━━━━━━━━━━━━━━\u001b[0m\u001b[37m\u001b[0m \u001b[1m0s\u001b[0m 14ms/step - loss: 0.0052 - mean_absolute_error: 0.0571 - val_loss: 0.0035 - val_mean_absolute_error: 0.0486\n",
            "Epoch 8/50\n",
            "\u001b[1m20/20\u001b[0m \u001b[32m━━━━━━━━━━━━━━━━━━━━\u001b[0m\u001b[37m\u001b[0m \u001b[1m0s\u001b[0m 16ms/step - loss: 0.0047 - mean_absolute_error: 0.0533 - val_loss: 0.0028 - val_mean_absolute_error: 0.0436\n",
            "Epoch 9/50\n",
            "\u001b[1m20/20\u001b[0m \u001b[32m━━━━━━━━━━━━━━━━━━━━\u001b[0m\u001b[37m\u001b[0m \u001b[1m0s\u001b[0m 18ms/step - loss: 0.0044 - mean_absolute_error: 0.0527 - val_loss: 0.0035 - val_mean_absolute_error: 0.0491\n",
            "Epoch 10/50\n",
            "\u001b[1m20/20\u001b[0m \u001b[32m━━━━━━━━━━━━━━━━━━━━\u001b[0m\u001b[37m\u001b[0m \u001b[1m0s\u001b[0m 21ms/step - loss: 0.0046 - mean_absolute_error: 0.0523 - val_loss: 0.0027 - val_mean_absolute_error: 0.0432\n",
            "Epoch 11/50\n",
            "\u001b[1m20/20\u001b[0m \u001b[32m━━━━━━━━━━━━━━━━━━━━\u001b[0m\u001b[37m\u001b[0m \u001b[1m1s\u001b[0m 22ms/step - loss: 0.0051 - mean_absolute_error: 0.0571 - val_loss: 0.0025 - val_mean_absolute_error: 0.0407\n",
            "Epoch 12/50\n",
            "\u001b[1m20/20\u001b[0m \u001b[32m━━━━━━━━━━━━━━━━━━━━\u001b[0m\u001b[37m\u001b[0m \u001b[1m0s\u001b[0m 22ms/step - loss: 0.0042 - mean_absolute_error: 0.0511 - val_loss: 0.0024 - val_mean_absolute_error: 0.0407\n",
            "Epoch 13/50\n",
            "\u001b[1m20/20\u001b[0m \u001b[32m━━━━━━━━━━━━━━━━━━━━\u001b[0m\u001b[37m\u001b[0m \u001b[1m1s\u001b[0m 22ms/step - loss: 0.0041 - mean_absolute_error: 0.0511 - val_loss: 0.0028 - val_mean_absolute_error: 0.0433\n",
            "Epoch 14/50\n",
            "\u001b[1m20/20\u001b[0m \u001b[32m━━━━━━━━━━━━━━━━━━━━\u001b[0m\u001b[37m\u001b[0m \u001b[1m1s\u001b[0m 18ms/step - loss: 0.0044 - mean_absolute_error: 0.0525 - val_loss: 0.0024 - val_mean_absolute_error: 0.0402\n",
            "Epoch 15/50\n",
            "\u001b[1m20/20\u001b[0m \u001b[32m━━━━━━━━━━━━━━━━━━━━\u001b[0m\u001b[37m\u001b[0m \u001b[1m1s\u001b[0m 16ms/step - loss: 0.0041 - mean_absolute_error: 0.0510 - val_loss: 0.0023 - val_mean_absolute_error: 0.0396\n",
            "Epoch 16/50\n",
            "\u001b[1m20/20\u001b[0m \u001b[32m━━━━━━━━━━━━━━━━━━━━\u001b[0m\u001b[37m\u001b[0m \u001b[1m1s\u001b[0m 14ms/step - loss: 0.0049 - mean_absolute_error: 0.0552 - val_loss: 0.0027 - val_mean_absolute_error: 0.0429\n",
            "Epoch 17/50\n",
            "\u001b[1m20/20\u001b[0m \u001b[32m━━━━━━━━━━━━━━━━━━━━\u001b[0m\u001b[37m\u001b[0m \u001b[1m0s\u001b[0m 14ms/step - loss: 0.0040 - mean_absolute_error: 0.0505 - val_loss: 0.0026 - val_mean_absolute_error: 0.0418\n",
            "Epoch 18/50\n",
            "\u001b[1m20/20\u001b[0m \u001b[32m━━━━━━━━━━━━━━━━━━━━\u001b[0m\u001b[37m\u001b[0m \u001b[1m0s\u001b[0m 14ms/step - loss: 0.0037 - mean_absolute_error: 0.0485 - val_loss: 0.0023 - val_mean_absolute_error: 0.0389\n",
            "Epoch 19/50\n",
            "\u001b[1m20/20\u001b[0m \u001b[32m━━━━━━━━━━━━━━━━━━━━\u001b[0m\u001b[37m\u001b[0m \u001b[1m0s\u001b[0m 15ms/step - loss: 0.0036 - mean_absolute_error: 0.0468 - val_loss: 0.0023 - val_mean_absolute_error: 0.0392\n",
            "Epoch 20/50\n",
            "\u001b[1m20/20\u001b[0m \u001b[32m━━━━━━━━━━━━━━━━━━━━\u001b[0m\u001b[37m\u001b[0m \u001b[1m0s\u001b[0m 16ms/step - loss: 0.0035 - mean_absolute_error: 0.0463 - val_loss: 0.0022 - val_mean_absolute_error: 0.0381\n",
            "Epoch 21/50\n",
            "\u001b[1m20/20\u001b[0m \u001b[32m━━━━━━━━━━━━━━━━━━━━\u001b[0m\u001b[37m\u001b[0m \u001b[1m1s\u001b[0m 16ms/step - loss: 0.0038 - mean_absolute_error: 0.0493 - val_loss: 0.0027 - val_mean_absolute_error: 0.0426\n",
            "Epoch 22/50\n",
            "\u001b[1m20/20\u001b[0m \u001b[32m━━━━━━━━━━━━━━━━━━━━\u001b[0m\u001b[37m\u001b[0m \u001b[1m1s\u001b[0m 14ms/step - loss: 0.0036 - mean_absolute_error: 0.0460 - val_loss: 0.0027 - val_mean_absolute_error: 0.0427\n",
            "Epoch 23/50\n",
            "\u001b[1m20/20\u001b[0m \u001b[32m━━━━━━━━━━━━━━━━━━━━\u001b[0m\u001b[37m\u001b[0m \u001b[1m0s\u001b[0m 15ms/step - loss: 0.0039 - mean_absolute_error: 0.0486 - val_loss: 0.0048 - val_mean_absolute_error: 0.0576\n",
            "Epoch 24/50\n",
            "\u001b[1m20/20\u001b[0m \u001b[32m━━━━━━━━━━━━━━━━━━━━\u001b[0m\u001b[37m\u001b[0m \u001b[1m1s\u001b[0m 16ms/step - loss: 0.0043 - mean_absolute_error: 0.0522 - val_loss: 0.0025 - val_mean_absolute_error: 0.0412\n",
            "Epoch 25/50\n",
            "\u001b[1m20/20\u001b[0m \u001b[32m━━━━━━━━━━━━━━━━━━━━\u001b[0m\u001b[37m\u001b[0m \u001b[1m0s\u001b[0m 16ms/step - loss: 0.0033 - mean_absolute_error: 0.0462 - val_loss: 0.0024 - val_mean_absolute_error: 0.0399\n",
            "Epoch 26/50\n",
            "\u001b[1m20/20\u001b[0m \u001b[32m━━━━━━━━━━━━━━━━━━━━\u001b[0m\u001b[37m\u001b[0m \u001b[1m0s\u001b[0m 16ms/step - loss: 0.0034 - mean_absolute_error: 0.0464 - val_loss: 0.0034 - val_mean_absolute_error: 0.0480\n",
            "Epoch 27/50\n",
            "\u001b[1m20/20\u001b[0m \u001b[32m━━━━━━━━━━━━━━━━━━━━\u001b[0m\u001b[37m\u001b[0m \u001b[1m1s\u001b[0m 15ms/step - loss: 0.0039 - mean_absolute_error: 0.0479 - val_loss: 0.0026 - val_mean_absolute_error: 0.0422\n",
            "Epoch 28/50\n",
            "\u001b[1m20/20\u001b[0m \u001b[32m━━━━━━━━━━━━━━━━━━━━\u001b[0m\u001b[37m\u001b[0m \u001b[1m0s\u001b[0m 15ms/step - loss: 0.0034 - mean_absolute_error: 0.0459 - val_loss: 0.0023 - val_mean_absolute_error: 0.0386\n",
            "Epoch 29/50\n",
            "\u001b[1m20/20\u001b[0m \u001b[32m━━━━━━━━━━━━━━━━━━━━\u001b[0m\u001b[37m\u001b[0m \u001b[1m0s\u001b[0m 14ms/step - loss: 0.0033 - mean_absolute_error: 0.0464 - val_loss: 0.0026 - val_mean_absolute_error: 0.0418\n",
            "Epoch 30/50\n",
            "\u001b[1m20/20\u001b[0m \u001b[32m━━━━━━━━━━━━━━━━━━━━\u001b[0m\u001b[37m\u001b[0m \u001b[1m0s\u001b[0m 15ms/step - loss: 0.0029 - mean_absolute_error: 0.0426 - val_loss: 0.0030 - val_mean_absolute_error: 0.0460\n",
            "Epoch 31/50\n",
            "\u001b[1m20/20\u001b[0m \u001b[32m━━━━━━━━━━━━━━━━━━━━\u001b[0m\u001b[37m\u001b[0m \u001b[1m1s\u001b[0m 16ms/step - loss: 0.0038 - mean_absolute_error: 0.0496 - val_loss: 0.0020 - val_mean_absolute_error: 0.0358\n",
            "Epoch 32/50\n",
            "\u001b[1m20/20\u001b[0m \u001b[32m━━━━━━━━━━━━━━━━━━━━\u001b[0m\u001b[37m\u001b[0m \u001b[1m1s\u001b[0m 16ms/step - loss: 0.0040 - mean_absolute_error: 0.0495 - val_loss: 0.0021 - val_mean_absolute_error: 0.0365\n",
            "Epoch 33/50\n",
            "\u001b[1m20/20\u001b[0m \u001b[32m━━━━━━━━━━━━━━━━━━━━\u001b[0m\u001b[37m\u001b[0m \u001b[1m1s\u001b[0m 15ms/step - loss: 0.0034 - mean_absolute_error: 0.0452 - val_loss: 0.0023 - val_mean_absolute_error: 0.0380\n",
            "Epoch 34/50\n",
            "\u001b[1m20/20\u001b[0m \u001b[32m━━━━━━━━━━━━━━━━━━━━\u001b[0m\u001b[37m\u001b[0m \u001b[1m1s\u001b[0m 15ms/step - loss: 0.0035 - mean_absolute_error: 0.0461 - val_loss: 0.0022 - val_mean_absolute_error: 0.0387\n",
            "Epoch 35/50\n",
            "\u001b[1m20/20\u001b[0m \u001b[32m━━━━━━━━━━━━━━━━━━━━\u001b[0m\u001b[37m\u001b[0m \u001b[1m1s\u001b[0m 18ms/step - loss: 0.0030 - mean_absolute_error: 0.0438 - val_loss: 0.0031 - val_mean_absolute_error: 0.0454\n",
            "Epoch 36/50\n",
            "\u001b[1m20/20\u001b[0m \u001b[32m━━━━━━━━━━━━━━━━━━━━\u001b[0m\u001b[37m\u001b[0m \u001b[1m1s\u001b[0m 21ms/step - loss: 0.0033 - mean_absolute_error: 0.0444 - val_loss: 0.0036 - val_mean_absolute_error: 0.0496\n",
            "Epoch 37/50\n",
            "\u001b[1m20/20\u001b[0m \u001b[32m━━━━━━━━━━━━━━━━━━━━\u001b[0m\u001b[37m\u001b[0m \u001b[1m0s\u001b[0m 20ms/step - loss: 0.0033 - mean_absolute_error: 0.0454 - val_loss: 0.0022 - val_mean_absolute_error: 0.0380\n",
            "Epoch 38/50\n",
            "\u001b[1m20/20\u001b[0m \u001b[32m━━━━━━━━━━━━━━━━━━━━\u001b[0m\u001b[37m\u001b[0m \u001b[1m1s\u001b[0m 21ms/step - loss: 0.0029 - mean_absolute_error: 0.0435 - val_loss: 0.0024 - val_mean_absolute_error: 0.0398\n",
            "Epoch 39/50\n",
            "\u001b[1m20/20\u001b[0m \u001b[32m━━━━━━━━━━━━━━━━━━━━\u001b[0m\u001b[37m\u001b[0m \u001b[1m0s\u001b[0m 22ms/step - loss: 0.0030 - mean_absolute_error: 0.0424 - val_loss: 0.0023 - val_mean_absolute_error: 0.0390\n",
            "Epoch 40/50\n",
            "\u001b[1m20/20\u001b[0m \u001b[32m━━━━━━━━━━━━━━━━━━━━\u001b[0m\u001b[37m\u001b[0m \u001b[1m1s\u001b[0m 18ms/step - loss: 0.0029 - mean_absolute_error: 0.0430 - val_loss: 0.0021 - val_mean_absolute_error: 0.0370\n",
            "Epoch 41/50\n",
            "\u001b[1m20/20\u001b[0m \u001b[32m━━━━━━━━━━━━━━━━━━━━\u001b[0m\u001b[37m\u001b[0m \u001b[1m0s\u001b[0m 16ms/step - loss: 0.0032 - mean_absolute_error: 0.0428 - val_loss: 0.0031 - val_mean_absolute_error: 0.0445\n",
            "Epoch 42/50\n",
            "\u001b[1m20/20\u001b[0m \u001b[32m━━━━━━━━━━━━━━━━━━━━\u001b[0m\u001b[37m\u001b[0m \u001b[1m0s\u001b[0m 16ms/step - loss: 0.0031 - mean_absolute_error: 0.0440 - val_loss: 0.0026 - val_mean_absolute_error: 0.0419\n",
            "Epoch 43/50\n",
            "\u001b[1m20/20\u001b[0m \u001b[32m━━━━━━━━━━━━━━━━━━━━\u001b[0m\u001b[37m\u001b[0m \u001b[1m0s\u001b[0m 15ms/step - loss: 0.0032 - mean_absolute_error: 0.0439 - val_loss: 0.0027 - val_mean_absolute_error: 0.0414\n",
            "Epoch 44/50\n",
            "\u001b[1m20/20\u001b[0m \u001b[32m━━━━━━━━━━━━━━━━━━━━\u001b[0m\u001b[37m\u001b[0m \u001b[1m1s\u001b[0m 15ms/step - loss: 0.0030 - mean_absolute_error: 0.0429 - val_loss: 0.0021 - val_mean_absolute_error: 0.0374\n",
            "Epoch 45/50\n",
            "\u001b[1m20/20\u001b[0m \u001b[32m━━━━━━━━━━━━━━━━━━━━\u001b[0m\u001b[37m\u001b[0m \u001b[1m1s\u001b[0m 14ms/step - loss: 0.0029 - mean_absolute_error: 0.0431 - val_loss: 0.0022 - val_mean_absolute_error: 0.0379\n",
            "Epoch 46/50\n",
            "\u001b[1m20/20\u001b[0m \u001b[32m━━━━━━━━━━━━━━━━━━━━\u001b[0m\u001b[37m\u001b[0m \u001b[1m0s\u001b[0m 15ms/step - loss: 0.0029 - mean_absolute_error: 0.0432 - val_loss: 0.0023 - val_mean_absolute_error: 0.0385\n",
            "Epoch 47/50\n",
            "\u001b[1m20/20\u001b[0m \u001b[32m━━━━━━━━━━━━━━━━━━━━\u001b[0m\u001b[37m\u001b[0m \u001b[1m0s\u001b[0m 15ms/step - loss: 0.0036 - mean_absolute_error: 0.0464 - val_loss: 0.0031 - val_mean_absolute_error: 0.0447\n",
            "Epoch 48/50\n",
            "\u001b[1m20/20\u001b[0m \u001b[32m━━━━━━━━━━━━━━━━━━━━\u001b[0m\u001b[37m\u001b[0m \u001b[1m0s\u001b[0m 14ms/step - loss: 0.0028 - mean_absolute_error: 0.0420 - val_loss: 0.0023 - val_mean_absolute_error: 0.0392\n",
            "Epoch 49/50\n",
            "\u001b[1m20/20\u001b[0m \u001b[32m━━━━━━━━━━━━━━━━━━━━\u001b[0m\u001b[37m\u001b[0m \u001b[1m0s\u001b[0m 15ms/step - loss: 0.0032 - mean_absolute_error: 0.0443 - val_loss: 0.0025 - val_mean_absolute_error: 0.0395\n",
            "Epoch 50/50\n",
            "\u001b[1m20/20\u001b[0m \u001b[32m━━━━━━━━━━━━━━━━━━━━\u001b[0m\u001b[37m\u001b[0m \u001b[1m1s\u001b[0m 14ms/step - loss: 0.0034 - mean_absolute_error: 0.0458 - val_loss: 0.0025 - val_mean_absolute_error: 0.0393\n",
            "\u001b[1m5/5\u001b[0m \u001b[32m━━━━━━━━━━━━━━━━━━━━\u001b[0m\u001b[37m\u001b[0m \u001b[1m1s\u001b[0m 86ms/step\n",
            "Model input shape: (None, 30, 6)\n",
            "Model summary:\n"
          ]
        },
        {
          "output_type": "display_data",
          "data": {
            "text/plain": [
              "\u001b[1mModel: \"sequential\"\u001b[0m\n"
            ],
            "text/html": [
              "<pre style=\"white-space:pre;overflow-x:auto;line-height:normal;font-family:Menlo,'DejaVu Sans Mono',consolas,'Courier New',monospace\"><span style=\"font-weight: bold\">Model: \"sequential\"</span>\n",
              "</pre>\n"
            ]
          },
          "metadata": {}
        },
        {
          "output_type": "display_data",
          "data": {
            "text/plain": [
              "┏━━━━━━━━━━━━━━━━━━━━━━━━━━━━━━━━━┳━━━━━━━━━━━━━━━━━━━━━━━━┳━━━━━━━━━━━━━━━┓\n",
              "┃\u001b[1m \u001b[0m\u001b[1mLayer (type)                   \u001b[0m\u001b[1m \u001b[0m┃\u001b[1m \u001b[0m\u001b[1mOutput Shape          \u001b[0m\u001b[1m \u001b[0m┃\u001b[1m \u001b[0m\u001b[1m      Param #\u001b[0m\u001b[1m \u001b[0m┃\n",
              "┡━━━━━━━━━━━━━━━━━━━━━━━━━━━━━━━━━╇━━━━━━━━━━━━━━━━━━━━━━━━╇━━━━━━━━━━━━━━━┩\n",
              "│ bidirectional (\u001b[38;5;33mBidirectional\u001b[0m)   │ (\u001b[38;5;45mNone\u001b[0m, \u001b[38;5;34m30\u001b[0m, \u001b[38;5;34m256\u001b[0m)        │       \u001b[38;5;34m138,240\u001b[0m │\n",
              "├─────────────────────────────────┼────────────────────────┼───────────────┤\n",
              "│ dropout (\u001b[38;5;33mDropout\u001b[0m)               │ (\u001b[38;5;45mNone\u001b[0m, \u001b[38;5;34m30\u001b[0m, \u001b[38;5;34m256\u001b[0m)        │             \u001b[38;5;34m0\u001b[0m │\n",
              "├─────────────────────────────────┼────────────────────────┼───────────────┤\n",
              "│ bidirectional_1 (\u001b[38;5;33mBidirectional\u001b[0m) │ (\u001b[38;5;45mNone\u001b[0m, \u001b[38;5;34m100\u001b[0m)            │       \u001b[38;5;34m122,800\u001b[0m │\n",
              "├─────────────────────────────────┼────────────────────────┼───────────────┤\n",
              "│ dropout_1 (\u001b[38;5;33mDropout\u001b[0m)             │ (\u001b[38;5;45mNone\u001b[0m, \u001b[38;5;34m100\u001b[0m)            │             \u001b[38;5;34m0\u001b[0m │\n",
              "├─────────────────────────────────┼────────────────────────┼───────────────┤\n",
              "│ dense (\u001b[38;5;33mDense\u001b[0m)                   │ (\u001b[38;5;45mNone\u001b[0m, \u001b[38;5;34m1\u001b[0m)              │           \u001b[38;5;34m101\u001b[0m │\n",
              "└─────────────────────────────────┴────────────────────────┴───────────────┘\n"
            ],
            "text/html": [
              "<pre style=\"white-space:pre;overflow-x:auto;line-height:normal;font-family:Menlo,'DejaVu Sans Mono',consolas,'Courier New',monospace\">┏━━━━━━━━━━━━━━━━━━━━━━━━━━━━━━━━━┳━━━━━━━━━━━━━━━━━━━━━━━━┳━━━━━━━━━━━━━━━┓\n",
              "┃<span style=\"font-weight: bold\"> Layer (type)                    </span>┃<span style=\"font-weight: bold\"> Output Shape           </span>┃<span style=\"font-weight: bold\">       Param # </span>┃\n",
              "┡━━━━━━━━━━━━━━━━━━━━━━━━━━━━━━━━━╇━━━━━━━━━━━━━━━━━━━━━━━━╇━━━━━━━━━━━━━━━┩\n",
              "│ bidirectional (<span style=\"color: #0087ff; text-decoration-color: #0087ff\">Bidirectional</span>)   │ (<span style=\"color: #00d7ff; text-decoration-color: #00d7ff\">None</span>, <span style=\"color: #00af00; text-decoration-color: #00af00\">30</span>, <span style=\"color: #00af00; text-decoration-color: #00af00\">256</span>)        │       <span style=\"color: #00af00; text-decoration-color: #00af00\">138,240</span> │\n",
              "├─────────────────────────────────┼────────────────────────┼───────────────┤\n",
              "│ dropout (<span style=\"color: #0087ff; text-decoration-color: #0087ff\">Dropout</span>)               │ (<span style=\"color: #00d7ff; text-decoration-color: #00d7ff\">None</span>, <span style=\"color: #00af00; text-decoration-color: #00af00\">30</span>, <span style=\"color: #00af00; text-decoration-color: #00af00\">256</span>)        │             <span style=\"color: #00af00; text-decoration-color: #00af00\">0</span> │\n",
              "├─────────────────────────────────┼────────────────────────┼───────────────┤\n",
              "│ bidirectional_1 (<span style=\"color: #0087ff; text-decoration-color: #0087ff\">Bidirectional</span>) │ (<span style=\"color: #00d7ff; text-decoration-color: #00d7ff\">None</span>, <span style=\"color: #00af00; text-decoration-color: #00af00\">100</span>)            │       <span style=\"color: #00af00; text-decoration-color: #00af00\">122,800</span> │\n",
              "├─────────────────────────────────┼────────────────────────┼───────────────┤\n",
              "│ dropout_1 (<span style=\"color: #0087ff; text-decoration-color: #0087ff\">Dropout</span>)             │ (<span style=\"color: #00d7ff; text-decoration-color: #00d7ff\">None</span>, <span style=\"color: #00af00; text-decoration-color: #00af00\">100</span>)            │             <span style=\"color: #00af00; text-decoration-color: #00af00\">0</span> │\n",
              "├─────────────────────────────────┼────────────────────────┼───────────────┤\n",
              "│ dense (<span style=\"color: #0087ff; text-decoration-color: #0087ff\">Dense</span>)                   │ (<span style=\"color: #00d7ff; text-decoration-color: #00d7ff\">None</span>, <span style=\"color: #00af00; text-decoration-color: #00af00\">1</span>)              │           <span style=\"color: #00af00; text-decoration-color: #00af00\">101</span> │\n",
              "└─────────────────────────────────┴────────────────────────┴───────────────┘\n",
              "</pre>\n"
            ]
          },
          "metadata": {}
        },
        {
          "output_type": "display_data",
          "data": {
            "text/plain": [
              "\u001b[1m Total params: \u001b[0m\u001b[38;5;34m783,425\u001b[0m (2.99 MB)\n"
            ],
            "text/html": [
              "<pre style=\"white-space:pre;overflow-x:auto;line-height:normal;font-family:Menlo,'DejaVu Sans Mono',consolas,'Courier New',monospace\"><span style=\"font-weight: bold\"> Total params: </span><span style=\"color: #00af00; text-decoration-color: #00af00\">783,425</span> (2.99 MB)\n",
              "</pre>\n"
            ]
          },
          "metadata": {}
        },
        {
          "output_type": "display_data",
          "data": {
            "text/plain": [
              "\u001b[1m Trainable params: \u001b[0m\u001b[38;5;34m261,141\u001b[0m (1020.08 KB)\n"
            ],
            "text/html": [
              "<pre style=\"white-space:pre;overflow-x:auto;line-height:normal;font-family:Menlo,'DejaVu Sans Mono',consolas,'Courier New',monospace\"><span style=\"font-weight: bold\"> Trainable params: </span><span style=\"color: #00af00; text-decoration-color: #00af00\">261,141</span> (1020.08 KB)\n",
              "</pre>\n"
            ]
          },
          "metadata": {}
        },
        {
          "output_type": "display_data",
          "data": {
            "text/plain": [
              "\u001b[1m Non-trainable params: \u001b[0m\u001b[38;5;34m0\u001b[0m (0.00 B)\n"
            ],
            "text/html": [
              "<pre style=\"white-space:pre;overflow-x:auto;line-height:normal;font-family:Menlo,'DejaVu Sans Mono',consolas,'Courier New',monospace\"><span style=\"font-weight: bold\"> Non-trainable params: </span><span style=\"color: #00af00; text-decoration-color: #00af00\">0</span> (0.00 B)\n",
              "</pre>\n"
            ]
          },
          "metadata": {}
        },
        {
          "output_type": "display_data",
          "data": {
            "text/plain": [
              "\u001b[1m Optimizer params: \u001b[0m\u001b[38;5;34m522,284\u001b[0m (1.99 MB)\n"
            ],
            "text/html": [
              "<pre style=\"white-space:pre;overflow-x:auto;line-height:normal;font-family:Menlo,'DejaVu Sans Mono',consolas,'Courier New',monospace\"><span style=\"font-weight: bold\"> Optimizer params: </span><span style=\"color: #00af00; text-decoration-color: #00af00\">522,284</span> (1.99 MB)\n",
              "</pre>\n"
            ]
          },
          "metadata": {}
        },
        {
          "output_type": "stream",
          "name": "stdout",
          "text": [
            "RMSE: 99.50896465876035\n",
            "MAE : 78.75482960236378\n",
            "MAPE: 2.95%\n"
          ]
        }
      ],
      "source": [
        "\n",
        "history = model.fit(X_train, y_train, epochs=50, batch_size=32, validation_data=(X_test, y_test))\n",
        "\n",
        "# Prediksi\n",
        "y_pred = model.predict(X_test)\n",
        "\n",
        "# Inverse transform\n",
        "close_scaler = load('scaler_close_3.pkl')\n",
        "y_pred_inv = close_scaler.inverse_transform(y_pred)\n",
        "y_test_inv = close_scaler.inverse_transform(y_test.reshape(-1, 1))\n",
        "\n",
        "\n",
        "\n",
        "print(\"Model input shape:\", model.input_shape)\n",
        "print(\"Model summary:\")\n",
        "model.summary()\n",
        "\n",
        "# Hitung metrik\n",
        "rmse = np.sqrt(mean_squared_error(y_test_inv, y_pred_inv))\n",
        "mae = mean_absolute_error(y_test_inv, y_pred_inv)\n",
        "\n",
        "print(f\"RMSE: {rmse}\")\n",
        "print(f\"MAE : {mae}\")\n",
        "\n",
        "mape = np.mean(np.abs((y_test_inv - y_pred_inv) / y_test_inv)) * 100\n",
        "print(f\"MAPE: {mape:.2f}%\")\n",
        "\n",
        "\n"
      ]
    },
    {
      "cell_type": "markdown",
      "metadata": {
        "id": "bN-51lVr6qCW"
      },
      "source": [
        "#Pengujian data split 70 : 30"
      ]
    },
    {
      "cell_type": "code",
      "execution_count": null,
      "metadata": {
        "id": "pUjeyZr86vP5"
      },
      "outputs": [],
      "source": [
        "# --- Split  70:30\n",
        "split = int(0.7 * len(X))\n",
        "X_train, X_test = X[:split], X[split:]\n",
        "y_train, y_test = y[:split], y[split:]"
      ]
    },
    {
      "cell_type": "code",
      "execution_count": null,
      "metadata": {
        "colab": {
          "base_uri": "https://localhost:8080/"
        },
        "id": "92du2dGS61b3",
        "outputId": "a9179a7a-b27d-458d-e665-f198ab5b125d"
      },
      "outputs": [
        {
          "output_type": "stream",
          "name": "stdout",
          "text": [
            "X_train shape: (544, 30, 6)\n",
            "y_train shape: (544, 1)\n",
            "X_test shape: (234, 30, 6)\n",
            "y_test shape: (234, 1)\n"
          ]
        }
      ],
      "source": [
        "print(\"X_train shape:\", X_train.shape)\n",
        "print(\"y_train shape:\", y_train.shape)\n",
        "print(\"X_test shape:\", X_test.shape)\n",
        "print(\"y_test shape:\", y_test.shape)"
      ]
    },
    {
      "cell_type": "code",
      "execution_count": null,
      "metadata": {
        "colab": {
          "base_uri": "https://localhost:8080/",
          "height": 1000
        },
        "id": "ytXwWrC566YC",
        "outputId": "b133a479-7ff7-400a-ad2a-37750d634570"
      },
      "outputs": [
        {
          "output_type": "stream",
          "name": "stderr",
          "text": [
            "/usr/local/lib/python3.11/dist-packages/keras/src/layers/rnn/bidirectional.py:107: UserWarning: Do not pass an `input_shape`/`input_dim` argument to a layer. When using Sequential models, prefer using an `Input(shape)` object as the first layer in the model instead.\n",
            "  super().__init__(**kwargs)\n"
          ]
        },
        {
          "output_type": "stream",
          "name": "stdout",
          "text": [
            "Epoch 1/50\n",
            "\u001b[1m17/17\u001b[0m \u001b[32m━━━━━━━━━━━━━━━━━━━━\u001b[0m\u001b[37m\u001b[0m \u001b[1m6s\u001b[0m 64ms/step - loss: 0.1511 - mean_absolute_error: 0.3103 - val_loss: 0.0505 - val_mean_absolute_error: 0.2149\n",
            "Epoch 2/50\n",
            "\u001b[1m17/17\u001b[0m \u001b[32m━━━━━━━━━━━━━━━━━━━━\u001b[0m\u001b[37m\u001b[0m \u001b[1m3s\u001b[0m 29ms/step - loss: 0.0229 - mean_absolute_error: 0.1247 - val_loss: 0.0232 - val_mean_absolute_error: 0.1383\n",
            "Epoch 3/50\n",
            "\u001b[1m17/17\u001b[0m \u001b[32m━━━━━━━━━━━━━━━━━━━━\u001b[0m\u001b[37m\u001b[0m \u001b[1m0s\u001b[0m 17ms/step - loss: 0.0112 - mean_absolute_error: 0.0825 - val_loss: 0.0188 - val_mean_absolute_error: 0.1222\n",
            "Epoch 4/50\n",
            "\u001b[1m17/17\u001b[0m \u001b[32m━━━━━━━━━━━━━━━━━━━━\u001b[0m\u001b[37m\u001b[0m \u001b[1m0s\u001b[0m 28ms/step - loss: 0.0097 - mean_absolute_error: 0.0769 - val_loss: 0.0173 - val_mean_absolute_error: 0.1175\n",
            "Epoch 5/50\n",
            "\u001b[1m17/17\u001b[0m \u001b[32m━━━━━━━━━━━━━━━━━━━━\u001b[0m\u001b[37m\u001b[0m \u001b[1m1s\u001b[0m 28ms/step - loss: 0.0075 - mean_absolute_error: 0.0678 - val_loss: 0.0175 - val_mean_absolute_error: 0.1194\n",
            "Epoch 6/50\n",
            "\u001b[1m17/17\u001b[0m \u001b[32m━━━━━━━━━━━━━━━━━━━━\u001b[0m\u001b[37m\u001b[0m \u001b[1m1s\u001b[0m 29ms/step - loss: 0.0063 - mean_absolute_error: 0.0637 - val_loss: 0.0161 - val_mean_absolute_error: 0.1139\n",
            "Epoch 7/50\n",
            "\u001b[1m17/17\u001b[0m \u001b[32m━━━━━━━━━━━━━━━━━━━━\u001b[0m\u001b[37m\u001b[0m \u001b[1m1s\u001b[0m 28ms/step - loss: 0.0070 - mean_absolute_error: 0.0676 - val_loss: 0.0097 - val_mean_absolute_error: 0.0837\n",
            "Epoch 8/50\n",
            "\u001b[1m17/17\u001b[0m \u001b[32m━━━━━━━━━━━━━━━━━━━━\u001b[0m\u001b[37m\u001b[0m \u001b[1m1s\u001b[0m 27ms/step - loss: 0.0058 - mean_absolute_error: 0.0604 - val_loss: 0.0052 - val_mean_absolute_error: 0.0581\n",
            "Epoch 9/50\n",
            "\u001b[1m17/17\u001b[0m \u001b[32m━━━━━━━━━━━━━━━━━━━━\u001b[0m\u001b[37m\u001b[0m \u001b[1m0s\u001b[0m 20ms/step - loss: 0.0064 - mean_absolute_error: 0.0641 - val_loss: 0.0090 - val_mean_absolute_error: 0.0801\n",
            "Epoch 10/50\n",
            "\u001b[1m17/17\u001b[0m \u001b[32m━━━━━━━━━━━━━━━━━━━━\u001b[0m\u001b[37m\u001b[0m \u001b[1m1s\u001b[0m 32ms/step - loss: 0.0051 - mean_absolute_error: 0.0574 - val_loss: 0.0054 - val_mean_absolute_error: 0.0593\n",
            "Epoch 11/50\n",
            "\u001b[1m17/17\u001b[0m \u001b[32m━━━━━━━━━━━━━━━━━━━━\u001b[0m\u001b[37m\u001b[0m \u001b[1m1s\u001b[0m 26ms/step - loss: 0.0049 - mean_absolute_error: 0.0550 - val_loss: 0.0052 - val_mean_absolute_error: 0.0580\n",
            "Epoch 12/50\n",
            "\u001b[1m17/17\u001b[0m \u001b[32m━━━━━━━━━━━━━━━━━━━━\u001b[0m\u001b[37m\u001b[0m \u001b[1m1s\u001b[0m 22ms/step - loss: 0.0054 - mean_absolute_error: 0.0603 - val_loss: 0.0063 - val_mean_absolute_error: 0.0650\n",
            "Epoch 13/50\n",
            "\u001b[1m17/17\u001b[0m \u001b[32m━━━━━━━━━━━━━━━━━━━━\u001b[0m\u001b[37m\u001b[0m \u001b[1m0s\u001b[0m 16ms/step - loss: 0.0046 - mean_absolute_error: 0.0538 - val_loss: 0.0053 - val_mean_absolute_error: 0.0586\n",
            "Epoch 14/50\n",
            "\u001b[1m17/17\u001b[0m \u001b[32m━━━━━━━━━━━━━━━━━━━━\u001b[0m\u001b[37m\u001b[0m \u001b[1m0s\u001b[0m 16ms/step - loss: 0.0044 - mean_absolute_error: 0.0510 - val_loss: 0.0067 - val_mean_absolute_error: 0.0673\n",
            "Epoch 15/50\n",
            "\u001b[1m17/17\u001b[0m \u001b[32m━━━━━━━━━━━━━━━━━━━━\u001b[0m\u001b[37m\u001b[0m \u001b[1m0s\u001b[0m 15ms/step - loss: 0.0046 - mean_absolute_error: 0.0538 - val_loss: 0.0054 - val_mean_absolute_error: 0.0596\n",
            "Epoch 16/50\n",
            "\u001b[1m17/17\u001b[0m \u001b[32m━━━━━━━━━━━━━━━━━━━━\u001b[0m\u001b[37m\u001b[0m \u001b[1m0s\u001b[0m 16ms/step - loss: 0.0043 - mean_absolute_error: 0.0517 - val_loss: 0.0049 - val_mean_absolute_error: 0.0565\n",
            "Epoch 17/50\n",
            "\u001b[1m17/17\u001b[0m \u001b[32m━━━━━━━━━━━━━━━━━━━━\u001b[0m\u001b[37m\u001b[0m \u001b[1m0s\u001b[0m 18ms/step - loss: 0.0048 - mean_absolute_error: 0.0552 - val_loss: 0.0047 - val_mean_absolute_error: 0.0553\n",
            "Epoch 18/50\n",
            "\u001b[1m17/17\u001b[0m \u001b[32m━━━━━━━━━━━━━━━━━━━━\u001b[0m\u001b[37m\u001b[0m \u001b[1m0s\u001b[0m 24ms/step - loss: 0.0047 - mean_absolute_error: 0.0546 - val_loss: 0.0035 - val_mean_absolute_error: 0.0478\n",
            "Epoch 19/50\n",
            "\u001b[1m17/17\u001b[0m \u001b[32m━━━━━━━━━━━━━━━━━━━━\u001b[0m\u001b[37m\u001b[0m \u001b[1m1s\u001b[0m 36ms/step - loss: 0.0046 - mean_absolute_error: 0.0548 - val_loss: 0.0039 - val_mean_absolute_error: 0.0502\n",
            "Epoch 20/50\n",
            "\u001b[1m17/17\u001b[0m \u001b[32m━━━━━━━━━━━━━━━━━━━━\u001b[0m\u001b[37m\u001b[0m \u001b[1m1s\u001b[0m 31ms/step - loss: 0.0049 - mean_absolute_error: 0.0548 - val_loss: 0.0040 - val_mean_absolute_error: 0.0507\n",
            "Epoch 21/50\n",
            "\u001b[1m17/17\u001b[0m \u001b[32m━━━━━━━━━━━━━━━━━━━━\u001b[0m\u001b[37m\u001b[0m \u001b[1m1s\u001b[0m 54ms/step - loss: 0.0041 - mean_absolute_error: 0.0512 - val_loss: 0.0043 - val_mean_absolute_error: 0.0526\n",
            "Epoch 22/50\n",
            "\u001b[1m17/17\u001b[0m \u001b[32m━━━━━━━━━━━━━━━━━━━━\u001b[0m\u001b[37m\u001b[0m \u001b[1m1s\u001b[0m 52ms/step - loss: 0.0040 - mean_absolute_error: 0.0508 - val_loss: 0.0055 - val_mean_absolute_error: 0.0607\n",
            "Epoch 23/50\n",
            "\u001b[1m17/17\u001b[0m \u001b[32m━━━━━━━━━━━━━━━━━━━━\u001b[0m\u001b[37m\u001b[0m \u001b[1m0s\u001b[0m 22ms/step - loss: 0.0044 - mean_absolute_error: 0.0545 - val_loss: 0.0041 - val_mean_absolute_error: 0.0517\n",
            "Epoch 24/50\n",
            "\u001b[1m17/17\u001b[0m \u001b[32m━━━━━━━━━━━━━━━━━━━━\u001b[0m\u001b[37m\u001b[0m \u001b[1m1s\u001b[0m 17ms/step - loss: 0.0035 - mean_absolute_error: 0.0466 - val_loss: 0.0040 - val_mean_absolute_error: 0.0511\n",
            "Epoch 25/50\n",
            "\u001b[1m17/17\u001b[0m \u001b[32m━━━━━━━━━━━━━━━━━━━━\u001b[0m\u001b[37m\u001b[0m \u001b[1m0s\u001b[0m 15ms/step - loss: 0.0037 - mean_absolute_error: 0.0473 - val_loss: 0.0041 - val_mean_absolute_error: 0.0517\n",
            "Epoch 26/50\n",
            "\u001b[1m17/17\u001b[0m \u001b[32m━━━━━━━━━━━━━━━━━━━━\u001b[0m\u001b[37m\u001b[0m \u001b[1m0s\u001b[0m 23ms/step - loss: 0.0040 - mean_absolute_error: 0.0504 - val_loss: 0.0048 - val_mean_absolute_error: 0.0563\n",
            "Epoch 27/50\n",
            "\u001b[1m17/17\u001b[0m \u001b[32m━━━━━━━━━━━━━━━━━━━━\u001b[0m\u001b[37m\u001b[0m \u001b[1m1s\u001b[0m 22ms/step - loss: 0.0038 - mean_absolute_error: 0.0490 - val_loss: 0.0066 - val_mean_absolute_error: 0.0687\n",
            "Epoch 28/50\n",
            "\u001b[1m17/17\u001b[0m \u001b[32m━━━━━━━━━━━━━━━━━━━━\u001b[0m\u001b[37m\u001b[0m \u001b[1m0s\u001b[0m 16ms/step - loss: 0.0050 - mean_absolute_error: 0.0582 - val_loss: 0.0042 - val_mean_absolute_error: 0.0524\n",
            "Epoch 29/50\n",
            "\u001b[1m17/17\u001b[0m \u001b[32m━━━━━━━━━━━━━━━━━━━━\u001b[0m\u001b[37m\u001b[0m \u001b[1m0s\u001b[0m 16ms/step - loss: 0.0038 - mean_absolute_error: 0.0490 - val_loss: 0.0043 - val_mean_absolute_error: 0.0530\n",
            "Epoch 30/50\n",
            "\u001b[1m17/17\u001b[0m \u001b[32m━━━━━━━━━━━━━━━━━━━━\u001b[0m\u001b[37m\u001b[0m \u001b[1m0s\u001b[0m 17ms/step - loss: 0.0044 - mean_absolute_error: 0.0539 - val_loss: 0.0044 - val_mean_absolute_error: 0.0536\n",
            "Epoch 31/50\n",
            "\u001b[1m17/17\u001b[0m \u001b[32m━━━━━━━━━━━━━━━━━━━━\u001b[0m\u001b[37m\u001b[0m \u001b[1m0s\u001b[0m 17ms/step - loss: 0.0034 - mean_absolute_error: 0.0450 - val_loss: 0.0040 - val_mean_absolute_error: 0.0512\n",
            "Epoch 32/50\n",
            "\u001b[1m17/17\u001b[0m \u001b[32m━━━━━━━━━━━━━━━━━━━━\u001b[0m\u001b[37m\u001b[0m \u001b[1m0s\u001b[0m 21ms/step - loss: 0.0035 - mean_absolute_error: 0.0481 - val_loss: 0.0052 - val_mean_absolute_error: 0.0598\n",
            "Epoch 33/50\n",
            "\u001b[1m17/17\u001b[0m \u001b[32m━━━━━━━━━━━━━━━━━━━━\u001b[0m\u001b[37m\u001b[0m \u001b[1m0s\u001b[0m 20ms/step - loss: 0.0038 - mean_absolute_error: 0.0487 - val_loss: 0.0054 - val_mean_absolute_error: 0.0608\n",
            "Epoch 34/50\n",
            "\u001b[1m17/17\u001b[0m \u001b[32m━━━━━━━━━━━━━━━━━━━━\u001b[0m\u001b[37m\u001b[0m \u001b[1m0s\u001b[0m 17ms/step - loss: 0.0035 - mean_absolute_error: 0.0474 - val_loss: 0.0048 - val_mean_absolute_error: 0.0565\n",
            "Epoch 35/50\n",
            "\u001b[1m17/17\u001b[0m \u001b[32m━━━━━━━━━━━━━━━━━━━━\u001b[0m\u001b[37m\u001b[0m \u001b[1m0s\u001b[0m 15ms/step - loss: 0.0029 - mean_absolute_error: 0.0423 - val_loss: 0.0037 - val_mean_absolute_error: 0.0491\n",
            "Epoch 36/50\n",
            "\u001b[1m17/17\u001b[0m \u001b[32m━━━━━━━━━━━━━━━━━━━━\u001b[0m\u001b[37m\u001b[0m \u001b[1m0s\u001b[0m 15ms/step - loss: 0.0036 - mean_absolute_error: 0.0483 - val_loss: 0.0031 - val_mean_absolute_error: 0.0450\n",
            "Epoch 37/50\n",
            "\u001b[1m17/17\u001b[0m \u001b[32m━━━━━━━━━━━━━━━━━━━━\u001b[0m\u001b[37m\u001b[0m \u001b[1m0s\u001b[0m 16ms/step - loss: 0.0038 - mean_absolute_error: 0.0489 - val_loss: 0.0052 - val_mean_absolute_error: 0.0600\n",
            "Epoch 38/50\n",
            "\u001b[1m17/17\u001b[0m \u001b[32m━━━━━━━━━━━━━━━━━━━━\u001b[0m\u001b[37m\u001b[0m \u001b[1m1s\u001b[0m 32ms/step - loss: 0.0038 - mean_absolute_error: 0.0477 - val_loss: 0.0041 - val_mean_absolute_error: 0.0520\n",
            "Epoch 39/50\n",
            "\u001b[1m17/17\u001b[0m \u001b[32m━━━━━━━━━━━━━━━━━━━━\u001b[0m\u001b[37m\u001b[0m \u001b[1m0s\u001b[0m 26ms/step - loss: 0.0034 - mean_absolute_error: 0.0469 - val_loss: 0.0035 - val_mean_absolute_error: 0.0474\n",
            "Epoch 40/50\n",
            "\u001b[1m17/17\u001b[0m \u001b[32m━━━━━━━━━━━━━━━━━━━━\u001b[0m\u001b[37m\u001b[0m \u001b[1m1s\u001b[0m 31ms/step - loss: 0.0030 - mean_absolute_error: 0.0427 - val_loss: 0.0039 - val_mean_absolute_error: 0.0504\n",
            "Epoch 41/50\n",
            "\u001b[1m17/17\u001b[0m \u001b[32m━━━━━━━━━━━━━━━━━━━━\u001b[0m\u001b[37m\u001b[0m \u001b[1m0s\u001b[0m 22ms/step - loss: 0.0031 - mean_absolute_error: 0.0432 - val_loss: 0.0045 - val_mean_absolute_error: 0.0551\n",
            "Epoch 42/50\n",
            "\u001b[1m17/17\u001b[0m \u001b[32m━━━━━━━━━━━━━━━━━━━━\u001b[0m\u001b[37m\u001b[0m \u001b[1m1s\u001b[0m 22ms/step - loss: 0.0036 - mean_absolute_error: 0.0479 - val_loss: 0.0058 - val_mean_absolute_error: 0.0643\n",
            "Epoch 43/50\n",
            "\u001b[1m17/17\u001b[0m \u001b[32m━━━━━━━━━━━━━━━━━━━━\u001b[0m\u001b[37m\u001b[0m \u001b[1m0s\u001b[0m 18ms/step - loss: 0.0036 - mean_absolute_error: 0.0465 - val_loss: 0.0034 - val_mean_absolute_error: 0.0465\n",
            "Epoch 44/50\n",
            "\u001b[1m17/17\u001b[0m \u001b[32m━━━━━━━━━━━━━━━━━━━━\u001b[0m\u001b[37m\u001b[0m \u001b[1m1s\u001b[0m 16ms/step - loss: 0.0034 - mean_absolute_error: 0.0466 - val_loss: 0.0030 - val_mean_absolute_error: 0.0440\n",
            "Epoch 45/50\n",
            "\u001b[1m17/17\u001b[0m \u001b[32m━━━━━━━━━━━━━━━━━━━━\u001b[0m\u001b[37m\u001b[0m \u001b[1m1s\u001b[0m 15ms/step - loss: 0.0030 - mean_absolute_error: 0.0439 - val_loss: 0.0026 - val_mean_absolute_error: 0.0415\n",
            "Epoch 46/50\n",
            "\u001b[1m17/17\u001b[0m \u001b[32m━━━━━━━━━━━━━━━━━━━━\u001b[0m\u001b[37m\u001b[0m \u001b[1m0s\u001b[0m 17ms/step - loss: 0.0031 - mean_absolute_error: 0.0431 - val_loss: 0.0028 - val_mean_absolute_error: 0.0426\n",
            "Epoch 47/50\n",
            "\u001b[1m17/17\u001b[0m \u001b[32m━━━━━━━━━━━━━━━━━━━━\u001b[0m\u001b[37m\u001b[0m \u001b[1m1s\u001b[0m 21ms/step - loss: 0.0032 - mean_absolute_error: 0.0446 - val_loss: 0.0049 - val_mean_absolute_error: 0.0578\n",
            "Epoch 48/50\n",
            "\u001b[1m17/17\u001b[0m \u001b[32m━━━━━━━━━━━━━━━━━━━━\u001b[0m\u001b[37m\u001b[0m \u001b[1m0s\u001b[0m 27ms/step - loss: 0.0030 - mean_absolute_error: 0.0426 - val_loss: 0.0034 - val_mean_absolute_error: 0.0467\n",
            "Epoch 49/50\n",
            "\u001b[1m17/17\u001b[0m \u001b[32m━━━━━━━━━━━━━━━━━━━━\u001b[0m\u001b[37m\u001b[0m \u001b[1m0s\u001b[0m 25ms/step - loss: 0.0030 - mean_absolute_error: 0.0431 - val_loss: 0.0043 - val_mean_absolute_error: 0.0537\n",
            "Epoch 50/50\n",
            "\u001b[1m17/17\u001b[0m \u001b[32m━━━━━━━━━━━━━━━━━━━━\u001b[0m\u001b[37m\u001b[0m \u001b[1m1s\u001b[0m 40ms/step - loss: 0.0028 - mean_absolute_error: 0.0406 - val_loss: 0.0041 - val_mean_absolute_error: 0.0523\n",
            "Model input shape: (None, 30, 6)\n",
            "Model summary:\n"
          ]
        },
        {
          "output_type": "display_data",
          "data": {
            "text/plain": [
              "\u001b[1mModel: \"sequential\"\u001b[0m\n"
            ],
            "text/html": [
              "<pre style=\"white-space:pre;overflow-x:auto;line-height:normal;font-family:Menlo,'DejaVu Sans Mono',consolas,'Courier New',monospace\"><span style=\"font-weight: bold\">Model: \"sequential\"</span>\n",
              "</pre>\n"
            ]
          },
          "metadata": {}
        },
        {
          "output_type": "display_data",
          "data": {
            "text/plain": [
              "┏━━━━━━━━━━━━━━━━━━━━━━━━━━━━━━━━━┳━━━━━━━━━━━━━━━━━━━━━━━━┳━━━━━━━━━━━━━━━┓\n",
              "┃\u001b[1m \u001b[0m\u001b[1mLayer (type)                   \u001b[0m\u001b[1m \u001b[0m┃\u001b[1m \u001b[0m\u001b[1mOutput Shape          \u001b[0m\u001b[1m \u001b[0m┃\u001b[1m \u001b[0m\u001b[1m      Param #\u001b[0m\u001b[1m \u001b[0m┃\n",
              "┡━━━━━━━━━━━━━━━━━━━━━━━━━━━━━━━━━╇━━━━━━━━━━━━━━━━━━━━━━━━╇━━━━━━━━━━━━━━━┩\n",
              "│ bidirectional (\u001b[38;5;33mBidirectional\u001b[0m)   │ (\u001b[38;5;45mNone\u001b[0m, \u001b[38;5;34m30\u001b[0m, \u001b[38;5;34m256\u001b[0m)        │       \u001b[38;5;34m138,240\u001b[0m │\n",
              "├─────────────────────────────────┼────────────────────────┼───────────────┤\n",
              "│ dropout (\u001b[38;5;33mDropout\u001b[0m)               │ (\u001b[38;5;45mNone\u001b[0m, \u001b[38;5;34m30\u001b[0m, \u001b[38;5;34m256\u001b[0m)        │             \u001b[38;5;34m0\u001b[0m │\n",
              "├─────────────────────────────────┼────────────────────────┼───────────────┤\n",
              "│ bidirectional_1 (\u001b[38;5;33mBidirectional\u001b[0m) │ (\u001b[38;5;45mNone\u001b[0m, \u001b[38;5;34m100\u001b[0m)            │       \u001b[38;5;34m122,800\u001b[0m │\n",
              "├─────────────────────────────────┼────────────────────────┼───────────────┤\n",
              "│ dropout_1 (\u001b[38;5;33mDropout\u001b[0m)             │ (\u001b[38;5;45mNone\u001b[0m, \u001b[38;5;34m100\u001b[0m)            │             \u001b[38;5;34m0\u001b[0m │\n",
              "├─────────────────────────────────┼────────────────────────┼───────────────┤\n",
              "│ dense (\u001b[38;5;33mDense\u001b[0m)                   │ (\u001b[38;5;45mNone\u001b[0m, \u001b[38;5;34m1\u001b[0m)              │           \u001b[38;5;34m101\u001b[0m │\n",
              "└─────────────────────────────────┴────────────────────────┴───────────────┘\n"
            ],
            "text/html": [
              "<pre style=\"white-space:pre;overflow-x:auto;line-height:normal;font-family:Menlo,'DejaVu Sans Mono',consolas,'Courier New',monospace\">┏━━━━━━━━━━━━━━━━━━━━━━━━━━━━━━━━━┳━━━━━━━━━━━━━━━━━━━━━━━━┳━━━━━━━━━━━━━━━┓\n",
              "┃<span style=\"font-weight: bold\"> Layer (type)                    </span>┃<span style=\"font-weight: bold\"> Output Shape           </span>┃<span style=\"font-weight: bold\">       Param # </span>┃\n",
              "┡━━━━━━━━━━━━━━━━━━━━━━━━━━━━━━━━━╇━━━━━━━━━━━━━━━━━━━━━━━━╇━━━━━━━━━━━━━━━┩\n",
              "│ bidirectional (<span style=\"color: #0087ff; text-decoration-color: #0087ff\">Bidirectional</span>)   │ (<span style=\"color: #00d7ff; text-decoration-color: #00d7ff\">None</span>, <span style=\"color: #00af00; text-decoration-color: #00af00\">30</span>, <span style=\"color: #00af00; text-decoration-color: #00af00\">256</span>)        │       <span style=\"color: #00af00; text-decoration-color: #00af00\">138,240</span> │\n",
              "├─────────────────────────────────┼────────────────────────┼───────────────┤\n",
              "│ dropout (<span style=\"color: #0087ff; text-decoration-color: #0087ff\">Dropout</span>)               │ (<span style=\"color: #00d7ff; text-decoration-color: #00d7ff\">None</span>, <span style=\"color: #00af00; text-decoration-color: #00af00\">30</span>, <span style=\"color: #00af00; text-decoration-color: #00af00\">256</span>)        │             <span style=\"color: #00af00; text-decoration-color: #00af00\">0</span> │\n",
              "├─────────────────────────────────┼────────────────────────┼───────────────┤\n",
              "│ bidirectional_1 (<span style=\"color: #0087ff; text-decoration-color: #0087ff\">Bidirectional</span>) │ (<span style=\"color: #00d7ff; text-decoration-color: #00d7ff\">None</span>, <span style=\"color: #00af00; text-decoration-color: #00af00\">100</span>)            │       <span style=\"color: #00af00; text-decoration-color: #00af00\">122,800</span> │\n",
              "├─────────────────────────────────┼────────────────────────┼───────────────┤\n",
              "│ dropout_1 (<span style=\"color: #0087ff; text-decoration-color: #0087ff\">Dropout</span>)             │ (<span style=\"color: #00d7ff; text-decoration-color: #00d7ff\">None</span>, <span style=\"color: #00af00; text-decoration-color: #00af00\">100</span>)            │             <span style=\"color: #00af00; text-decoration-color: #00af00\">0</span> │\n",
              "├─────────────────────────────────┼────────────────────────┼───────────────┤\n",
              "│ dense (<span style=\"color: #0087ff; text-decoration-color: #0087ff\">Dense</span>)                   │ (<span style=\"color: #00d7ff; text-decoration-color: #00d7ff\">None</span>, <span style=\"color: #00af00; text-decoration-color: #00af00\">1</span>)              │           <span style=\"color: #00af00; text-decoration-color: #00af00\">101</span> │\n",
              "└─────────────────────────────────┴────────────────────────┴───────────────┘\n",
              "</pre>\n"
            ]
          },
          "metadata": {}
        },
        {
          "output_type": "display_data",
          "data": {
            "text/plain": [
              "\u001b[1m Total params: \u001b[0m\u001b[38;5;34m783,425\u001b[0m (2.99 MB)\n"
            ],
            "text/html": [
              "<pre style=\"white-space:pre;overflow-x:auto;line-height:normal;font-family:Menlo,'DejaVu Sans Mono',consolas,'Courier New',monospace\"><span style=\"font-weight: bold\"> Total params: </span><span style=\"color: #00af00; text-decoration-color: #00af00\">783,425</span> (2.99 MB)\n",
              "</pre>\n"
            ]
          },
          "metadata": {}
        },
        {
          "output_type": "display_data",
          "data": {
            "text/plain": [
              "\u001b[1m Trainable params: \u001b[0m\u001b[38;5;34m261,141\u001b[0m (1020.08 KB)\n"
            ],
            "text/html": [
              "<pre style=\"white-space:pre;overflow-x:auto;line-height:normal;font-family:Menlo,'DejaVu Sans Mono',consolas,'Courier New',monospace\"><span style=\"font-weight: bold\"> Trainable params: </span><span style=\"color: #00af00; text-decoration-color: #00af00\">261,141</span> (1020.08 KB)\n",
              "</pre>\n"
            ]
          },
          "metadata": {}
        },
        {
          "output_type": "display_data",
          "data": {
            "text/plain": [
              "\u001b[1m Non-trainable params: \u001b[0m\u001b[38;5;34m0\u001b[0m (0.00 B)\n"
            ],
            "text/html": [
              "<pre style=\"white-space:pre;overflow-x:auto;line-height:normal;font-family:Menlo,'DejaVu Sans Mono',consolas,'Courier New',monospace\"><span style=\"font-weight: bold\"> Non-trainable params: </span><span style=\"color: #00af00; text-decoration-color: #00af00\">0</span> (0.00 B)\n",
              "</pre>\n"
            ]
          },
          "metadata": {}
        },
        {
          "output_type": "display_data",
          "data": {
            "text/plain": [
              "\u001b[1m Optimizer params: \u001b[0m\u001b[38;5;34m522,284\u001b[0m (1.99 MB)\n"
            ],
            "text/html": [
              "<pre style=\"white-space:pre;overflow-x:auto;line-height:normal;font-family:Menlo,'DejaVu Sans Mono',consolas,'Courier New',monospace\"><span style=\"font-weight: bold\"> Optimizer params: </span><span style=\"color: #00af00; text-decoration-color: #00af00\">522,284</span> (1.99 MB)\n",
              "</pre>\n"
            ]
          },
          "metadata": {}
        },
        {
          "output_type": "stream",
          "name": "stdout",
          "text": [
            "\u001b[1m8/8\u001b[0m \u001b[32m━━━━━━━━━━━━━━━━━━━━\u001b[0m\u001b[37m\u001b[0m \u001b[1m2s\u001b[0m 104ms/step\n",
            "RMSE: 128.52955762217803\n",
            "MAE : 104.9570051665999\n",
            "MAPE: 3.87%\n"
          ]
        }
      ],
      "source": [
        "\n",
        "model = Sequential()\n",
        "model.add(Bidirectional(LSTM(128, return_sequences=True), input_shape=(window_size, len(features))))\n",
        "model.add(Dropout(0.2))\n",
        "model.add(Bidirectional(LSTM(50)))\n",
        "model.add(Dropout(0.2))\n",
        "model.add(Dense(1))  # Output: Prediksi Close price\n",
        "\n",
        "model.compile(optimizer='adam', loss='mean_squared_error', metrics=['mean_absolute_error'])\n",
        "\n",
        "\n",
        "history = model.fit(X_train, y_train, epochs=50, batch_size=32, validation_data=(X_test, y_test))\n",
        "\n",
        "print(\"Model input shape:\", model.input_shape)\n",
        "print(\"Model summary:\")\n",
        "model.summary()\n",
        "\n",
        "# Prediksi\n",
        "y_pred = model.predict(X_test)\n",
        "\n",
        "# Inverse transform\n",
        "close_scaler = load('scaler_close_3.pkl')\n",
        "y_pred_inv = close_scaler.inverse_transform(y_pred)\n",
        "y_test_inv = close_scaler.inverse_transform(y_test.reshape(-1, 1))\n",
        "\n",
        "# Hitung metrik\n",
        "rmse = np.sqrt(mean_squared_error(y_test_inv, y_pred_inv))\n",
        "mae = mean_absolute_error(y_test_inv, y_pred_inv)\n",
        "\n",
        "print(f\"RMSE: {rmse}\")\n",
        "print(f\"MAE : {mae}\")\n",
        "\n",
        "mape = np.mean(np.abs((y_test_inv - y_pred_inv) / y_test_inv)) * 100\n",
        "print(f\"MAPE: {mape:.2f}%\")\n",
        "\n"
      ]
    },
    {
      "cell_type": "markdown",
      "metadata": {
        "id": "D69uJUCM7k3w"
      },
      "source": [
        "#Pengujian data split 90 : 10"
      ]
    },
    {
      "cell_type": "code",
      "execution_count": null,
      "metadata": {
        "id": "-6nbY05x7k3x"
      },
      "outputs": [],
      "source": [
        "# --- Split  70:30\n",
        "split = int(0.9 * len(X))\n",
        "X_train, X_test = X[:split], X[split:]\n",
        "y_train, y_test = y[:split], y[split:]"
      ]
    },
    {
      "cell_type": "code",
      "execution_count": null,
      "metadata": {
        "colab": {
          "base_uri": "https://localhost:8080/"
        },
        "id": "katTtGhBBBly",
        "outputId": "b3fe813a-7a9c-40cb-cf98-e016e7a5cc48"
      },
      "outputs": [
        {
          "output_type": "stream",
          "name": "stdout",
          "text": [
            "X_train shape: (700, 30, 6)\n",
            "y_train shape: (700, 1)\n",
            "X_test shape: (78, 30, 6)\n",
            "y_test shape: (78, 1)\n"
          ]
        }
      ],
      "source": [
        "print(\"X_train shape:\", X_train.shape)\n",
        "print(\"y_train shape:\", y_train.shape)\n",
        "print(\"X_test shape:\", X_test.shape)\n",
        "print(\"y_test shape:\", y_test.shape)"
      ]
    },
    {
      "cell_type": "code",
      "execution_count": null,
      "metadata": {
        "colab": {
          "base_uri": "https://localhost:8080/"
        },
        "id": "HWqI6VC57k3y",
        "outputId": "28589392-b7bd-427d-f7b8-0c8ef11de07e"
      },
      "outputs": [
        {
          "output_type": "stream",
          "name": "stdout",
          "text": [
            "(778, 30, 6)\n",
            "(778, 1)\n"
          ]
        }
      ],
      "source": [
        "print(X.shape)\n",
        "print(y.shape)"
      ]
    },
    {
      "cell_type": "code",
      "execution_count": null,
      "metadata": {
        "colab": {
          "base_uri": "https://localhost:8080/",
          "height": 1000
        },
        "id": "arzdAzl47k3y",
        "outputId": "f1489a2d-2030-4fdc-8663-6b6a1735655b"
      },
      "outputs": [
        {
          "output_type": "stream",
          "name": "stderr",
          "text": [
            "/usr/local/lib/python3.11/dist-packages/keras/src/layers/rnn/bidirectional.py:107: UserWarning: Do not pass an `input_shape`/`input_dim` argument to a layer. When using Sequential models, prefer using an `Input(shape)` object as the first layer in the model instead.\n",
            "  super().__init__(**kwargs)\n"
          ]
        },
        {
          "output_type": "stream",
          "name": "stdout",
          "text": [
            "Epoch 1/50\n",
            "\u001b[1m22/22\u001b[0m \u001b[32m━━━━━━━━━━━━━━━━━━━━\u001b[0m\u001b[37m\u001b[0m \u001b[1m12s\u001b[0m 87ms/step - loss: 0.1044 - mean_absolute_error: 0.2426 - val_loss: 0.0117 - val_mean_absolute_error: 0.0948\n",
            "Epoch 2/50\n",
            "\u001b[1m22/22\u001b[0m \u001b[32m━━━━━━━━━━━━━━━━━━━━\u001b[0m\u001b[37m\u001b[0m \u001b[1m5s\u001b[0m 21ms/step - loss: 0.0124 - mean_absolute_error: 0.0908 - val_loss: 0.0058 - val_mean_absolute_error: 0.0647\n",
            "Epoch 3/50\n",
            "\u001b[1m22/22\u001b[0m \u001b[32m━━━━━━━━━━━━━━━━━━━━\u001b[0m\u001b[37m\u001b[0m \u001b[1m1s\u001b[0m 29ms/step - loss: 0.0076 - mean_absolute_error: 0.0684 - val_loss: 0.0032 - val_mean_absolute_error: 0.0481\n",
            "Epoch 4/50\n",
            "\u001b[1m22/22\u001b[0m \u001b[32m━━━━━━━━━━━━━━━━━━━━\u001b[0m\u001b[37m\u001b[0m \u001b[1m1s\u001b[0m 25ms/step - loss: 0.0070 - mean_absolute_error: 0.0660 - val_loss: 0.0028 - val_mean_absolute_error: 0.0431\n",
            "Epoch 5/50\n",
            "\u001b[1m22/22\u001b[0m \u001b[32m━━━━━━━━━━━━━━━━━━━━\u001b[0m\u001b[37m\u001b[0m \u001b[1m0s\u001b[0m 19ms/step - loss: 0.0058 - mean_absolute_error: 0.0588 - val_loss: 0.0028 - val_mean_absolute_error: 0.0425\n",
            "Epoch 6/50\n",
            "\u001b[1m22/22\u001b[0m \u001b[32m━━━━━━━━━━━━━━━━━━━━\u001b[0m\u001b[37m\u001b[0m \u001b[1m1s\u001b[0m 23ms/step - loss: 0.0054 - mean_absolute_error: 0.0556 - val_loss: 0.0029 - val_mean_absolute_error: 0.0438\n",
            "Epoch 7/50\n",
            "\u001b[1m22/22\u001b[0m \u001b[32m━━━━━━━━━━━━━━━━━━━━\u001b[0m\u001b[37m\u001b[0m \u001b[1m1s\u001b[0m 25ms/step - loss: 0.0049 - mean_absolute_error: 0.0544 - val_loss: 0.0027 - val_mean_absolute_error: 0.0430\n",
            "Epoch 8/50\n",
            "\u001b[1m22/22\u001b[0m \u001b[32m━━━━━━━━━━━━━━━━━━━━\u001b[0m\u001b[37m\u001b[0m \u001b[1m0s\u001b[0m 19ms/step - loss: 0.0045 - mean_absolute_error: 0.0519 - val_loss: 0.0030 - val_mean_absolute_error: 0.0430\n",
            "Epoch 9/50\n",
            "\u001b[1m22/22\u001b[0m \u001b[32m━━━━━━━━━━━━━━━━━━━━\u001b[0m\u001b[37m\u001b[0m \u001b[1m1s\u001b[0m 28ms/step - loss: 0.0044 - mean_absolute_error: 0.0538 - val_loss: 0.0030 - val_mean_absolute_error: 0.0422\n",
            "Epoch 10/50\n",
            "\u001b[1m22/22\u001b[0m \u001b[32m━━━━━━━━━━━━━━━━━━━━\u001b[0m\u001b[37m\u001b[0m \u001b[1m1s\u001b[0m 52ms/step - loss: 0.0043 - mean_absolute_error: 0.0522 - val_loss: 0.0029 - val_mean_absolute_error: 0.0426\n",
            "Epoch 11/50\n",
            "\u001b[1m22/22\u001b[0m \u001b[32m━━━━━━━━━━━━━━━━━━━━\u001b[0m\u001b[37m\u001b[0m \u001b[1m1s\u001b[0m 45ms/step - loss: 0.0041 - mean_absolute_error: 0.0512 - val_loss: 0.0028 - val_mean_absolute_error: 0.0438\n",
            "Epoch 12/50\n",
            "\u001b[1m22/22\u001b[0m \u001b[32m━━━━━━━━━━━━━━━━━━━━\u001b[0m\u001b[37m\u001b[0m \u001b[1m1s\u001b[0m 40ms/step - loss: 0.0038 - mean_absolute_error: 0.0480 - val_loss: 0.0028 - val_mean_absolute_error: 0.0422\n",
            "Epoch 13/50\n",
            "\u001b[1m22/22\u001b[0m \u001b[32m━━━━━━━━━━━━━━━━━━━━\u001b[0m\u001b[37m\u001b[0m \u001b[1m1s\u001b[0m 20ms/step - loss: 0.0038 - mean_absolute_error: 0.0490 - val_loss: 0.0028 - val_mean_absolute_error: 0.0410\n",
            "Epoch 14/50\n",
            "\u001b[1m22/22\u001b[0m \u001b[32m━━━━━━━━━━━━━━━━━━━━\u001b[0m\u001b[37m\u001b[0m \u001b[1m0s\u001b[0m 19ms/step - loss: 0.0040 - mean_absolute_error: 0.0491 - val_loss: 0.0029 - val_mean_absolute_error: 0.0427\n",
            "Epoch 15/50\n",
            "\u001b[1m22/22\u001b[0m \u001b[32m━━━━━━━━━━━━━━━━━━━━\u001b[0m\u001b[37m\u001b[0m \u001b[1m1s\u001b[0m 27ms/step - loss: 0.0036 - mean_absolute_error: 0.0466 - val_loss: 0.0033 - val_mean_absolute_error: 0.0437\n",
            "Epoch 16/50\n",
            "\u001b[1m22/22\u001b[0m \u001b[32m━━━━━━━━━━━━━━━━━━━━\u001b[0m\u001b[37m\u001b[0m \u001b[1m0s\u001b[0m 20ms/step - loss: 0.0034 - mean_absolute_error: 0.0456 - val_loss: 0.0032 - val_mean_absolute_error: 0.0435\n",
            "Epoch 17/50\n",
            "\u001b[1m22/22\u001b[0m \u001b[32m━━━━━━━━━━━━━━━━━━━━\u001b[0m\u001b[37m\u001b[0m \u001b[1m0s\u001b[0m 16ms/step - loss: 0.0036 - mean_absolute_error: 0.0468 - val_loss: 0.0023 - val_mean_absolute_error: 0.0387\n",
            "Epoch 18/50\n",
            "\u001b[1m22/22\u001b[0m \u001b[32m━━━━━━━━━━━━━━━━━━━━\u001b[0m\u001b[37m\u001b[0m \u001b[1m1s\u001b[0m 14ms/step - loss: 0.0042 - mean_absolute_error: 0.0511 - val_loss: 0.0026 - val_mean_absolute_error: 0.0420\n",
            "Epoch 19/50\n",
            "\u001b[1m22/22\u001b[0m \u001b[32m━━━━━━━━━━━━━━━━━━━━\u001b[0m\u001b[37m\u001b[0m \u001b[1m0s\u001b[0m 14ms/step - loss: 0.0041 - mean_absolute_error: 0.0499 - val_loss: 0.0025 - val_mean_absolute_error: 0.0404\n",
            "Epoch 20/50\n",
            "\u001b[1m22/22\u001b[0m \u001b[32m━━━━━━━━━━━━━━━━━━━━\u001b[0m\u001b[37m\u001b[0m \u001b[1m0s\u001b[0m 14ms/step - loss: 0.0033 - mean_absolute_error: 0.0450 - val_loss: 0.0027 - val_mean_absolute_error: 0.0410\n",
            "Epoch 21/50\n",
            "\u001b[1m22/22\u001b[0m \u001b[32m━━━━━━━━━━━━━━━━━━━━\u001b[0m\u001b[37m\u001b[0m \u001b[1m1s\u001b[0m 14ms/step - loss: 0.0033 - mean_absolute_error: 0.0437 - val_loss: 0.0035 - val_mean_absolute_error: 0.0457\n",
            "Epoch 22/50\n",
            "\u001b[1m22/22\u001b[0m \u001b[32m━━━━━━━━━━━━━━━━━━━━\u001b[0m\u001b[37m\u001b[0m \u001b[1m0s\u001b[0m 20ms/step - loss: 0.0028 - mean_absolute_error: 0.0411 - val_loss: 0.0026 - val_mean_absolute_error: 0.0406\n",
            "Epoch 23/50\n",
            "\u001b[1m22/22\u001b[0m \u001b[32m━━━━━━━━━━━━━━━━━━━━\u001b[0m\u001b[37m\u001b[0m \u001b[1m1s\u001b[0m 30ms/step - loss: 0.0032 - mean_absolute_error: 0.0446 - val_loss: 0.0024 - val_mean_absolute_error: 0.0396\n",
            "Epoch 24/50\n",
            "\u001b[1m22/22\u001b[0m \u001b[32m━━━━━━━━━━━━━━━━━━━━\u001b[0m\u001b[37m\u001b[0m \u001b[1m1s\u001b[0m 25ms/step - loss: 0.0032 - mean_absolute_error: 0.0440 - val_loss: 0.0044 - val_mean_absolute_error: 0.0530\n",
            "Epoch 25/50\n",
            "\u001b[1m22/22\u001b[0m \u001b[32m━━━━━━━━━━━━━━━━━━━━\u001b[0m\u001b[37m\u001b[0m \u001b[1m0s\u001b[0m 15ms/step - loss: 0.0032 - mean_absolute_error: 0.0447 - val_loss: 0.0034 - val_mean_absolute_error: 0.0452\n",
            "Epoch 26/50\n",
            "\u001b[1m22/22\u001b[0m \u001b[32m━━━━━━━━━━━━━━━━━━━━\u001b[0m\u001b[37m\u001b[0m \u001b[1m0s\u001b[0m 16ms/step - loss: 0.0029 - mean_absolute_error: 0.0420 - val_loss: 0.0032 - val_mean_absolute_error: 0.0437\n",
            "Epoch 27/50\n",
            "\u001b[1m22/22\u001b[0m \u001b[32m━━━━━━━━━━━━━━━━━━━━\u001b[0m\u001b[37m\u001b[0m \u001b[1m1s\u001b[0m 16ms/step - loss: 0.0034 - mean_absolute_error: 0.0461 - val_loss: 0.0026 - val_mean_absolute_error: 0.0414\n",
            "Epoch 28/50\n",
            "\u001b[1m22/22\u001b[0m \u001b[32m━━━━━━━━━━━━━━━━━━━━\u001b[0m\u001b[37m\u001b[0m \u001b[1m1s\u001b[0m 22ms/step - loss: 0.0035 - mean_absolute_error: 0.0462 - val_loss: 0.0025 - val_mean_absolute_error: 0.0385\n",
            "Epoch 29/50\n",
            "\u001b[1m22/22\u001b[0m \u001b[32m━━━━━━━━━━━━━━━━━━━━\u001b[0m\u001b[37m\u001b[0m \u001b[1m1s\u001b[0m 25ms/step - loss: 0.0035 - mean_absolute_error: 0.0466 - val_loss: 0.0024 - val_mean_absolute_error: 0.0392\n",
            "Epoch 30/50\n",
            "\u001b[1m22/22\u001b[0m \u001b[32m━━━━━━━━━━━━━━━━━━━━\u001b[0m\u001b[37m\u001b[0m \u001b[1m0s\u001b[0m 14ms/step - loss: 0.0032 - mean_absolute_error: 0.0454 - val_loss: 0.0031 - val_mean_absolute_error: 0.0429\n",
            "Epoch 31/50\n",
            "\u001b[1m22/22\u001b[0m \u001b[32m━━━━━━━━━━━━━━━━━━━━\u001b[0m\u001b[37m\u001b[0m \u001b[1m0s\u001b[0m 20ms/step - loss: 0.0036 - mean_absolute_error: 0.0489 - val_loss: 0.0024 - val_mean_absolute_error: 0.0388\n",
            "Epoch 32/50\n",
            "\u001b[1m22/22\u001b[0m \u001b[32m━━━━━━━━━━━━━━━━━━━━\u001b[0m\u001b[37m\u001b[0m \u001b[1m1s\u001b[0m 30ms/step - loss: 0.0029 - mean_absolute_error: 0.0427 - val_loss: 0.0022 - val_mean_absolute_error: 0.0374\n",
            "Epoch 33/50\n",
            "\u001b[1m22/22\u001b[0m \u001b[32m━━━━━━━━━━━━━━━━━━━━\u001b[0m\u001b[37m\u001b[0m \u001b[1m1s\u001b[0m 34ms/step - loss: 0.0031 - mean_absolute_error: 0.0441 - val_loss: 0.0024 - val_mean_absolute_error: 0.0393\n",
            "Epoch 34/50\n",
            "\u001b[1m22/22\u001b[0m \u001b[32m━━━━━━━━━━━━━━━━━━━━\u001b[0m\u001b[37m\u001b[0m \u001b[1m1s\u001b[0m 25ms/step - loss: 0.0029 - mean_absolute_error: 0.0413 - val_loss: 0.0025 - val_mean_absolute_error: 0.0393\n",
            "Epoch 35/50\n",
            "\u001b[1m22/22\u001b[0m \u001b[32m━━━━━━━━━━━━━━━━━━━━\u001b[0m\u001b[37m\u001b[0m \u001b[1m1s\u001b[0m 38ms/step - loss: 0.0032 - mean_absolute_error: 0.0443 - val_loss: 0.0024 - val_mean_absolute_error: 0.0391\n",
            "Epoch 36/50\n",
            "\u001b[1m22/22\u001b[0m \u001b[32m━━━━━━━━━━━━━━━━━━━━\u001b[0m\u001b[37m\u001b[0m \u001b[1m1s\u001b[0m 17ms/step - loss: 0.0030 - mean_absolute_error: 0.0426 - val_loss: 0.0050 - val_mean_absolute_error: 0.0575\n",
            "Epoch 37/50\n",
            "\u001b[1m22/22\u001b[0m \u001b[32m━━━━━━━━━━━━━━━━━━━━\u001b[0m\u001b[37m\u001b[0m \u001b[1m1s\u001b[0m 14ms/step - loss: 0.0035 - mean_absolute_error: 0.0460 - val_loss: 0.0028 - val_mean_absolute_error: 0.0415\n",
            "Epoch 38/50\n",
            "\u001b[1m22/22\u001b[0m \u001b[32m━━━━━━━━━━━━━━━━━━━━\u001b[0m\u001b[37m\u001b[0m \u001b[1m0s\u001b[0m 16ms/step - loss: 0.0030 - mean_absolute_error: 0.0433 - val_loss: 0.0031 - val_mean_absolute_error: 0.0437\n",
            "Epoch 39/50\n",
            "\u001b[1m22/22\u001b[0m \u001b[32m━━━━━━━━━━━━━━━━━━━━\u001b[0m\u001b[37m\u001b[0m \u001b[1m1s\u001b[0m 14ms/step - loss: 0.0031 - mean_absolute_error: 0.0440 - val_loss: 0.0024 - val_mean_absolute_error: 0.0390\n",
            "Epoch 40/50\n",
            "\u001b[1m22/22\u001b[0m \u001b[32m━━━━━━━━━━━━━━━━━━━━\u001b[0m\u001b[37m\u001b[0m \u001b[1m0s\u001b[0m 16ms/step - loss: 0.0027 - mean_absolute_error: 0.0426 - val_loss: 0.0026 - val_mean_absolute_error: 0.0395\n",
            "Epoch 41/50\n",
            "\u001b[1m22/22\u001b[0m \u001b[32m━━━━━━━━━━━━━━━━━━━━\u001b[0m\u001b[37m\u001b[0m \u001b[1m1s\u001b[0m 22ms/step - loss: 0.0028 - mean_absolute_error: 0.0409 - val_loss: 0.0030 - val_mean_absolute_error: 0.0426\n",
            "Epoch 42/50\n",
            "\u001b[1m22/22\u001b[0m \u001b[32m━━━━━━━━━━━━━━━━━━━━\u001b[0m\u001b[37m\u001b[0m \u001b[1m0s\u001b[0m 17ms/step - loss: 0.0025 - mean_absolute_error: 0.0402 - val_loss: 0.0034 - val_mean_absolute_error: 0.0455\n",
            "Epoch 43/50\n",
            "\u001b[1m22/22\u001b[0m \u001b[32m━━━━━━━━━━━━━━━━━━━━\u001b[0m\u001b[37m\u001b[0m \u001b[1m1s\u001b[0m 16ms/step - loss: 0.0029 - mean_absolute_error: 0.0421 - val_loss: 0.0024 - val_mean_absolute_error: 0.0389\n",
            "Epoch 44/50\n",
            "\u001b[1m22/22\u001b[0m \u001b[32m━━━━━━━━━━━━━━━━━━━━\u001b[0m\u001b[37m\u001b[0m \u001b[1m0s\u001b[0m 15ms/step - loss: 0.0028 - mean_absolute_error: 0.0426 - val_loss: 0.0037 - val_mean_absolute_error: 0.0485\n",
            "Epoch 45/50\n",
            "\u001b[1m22/22\u001b[0m \u001b[32m━━━━━━━━━━━━━━━━━━━━\u001b[0m\u001b[37m\u001b[0m \u001b[1m0s\u001b[0m 14ms/step - loss: 0.0024 - mean_absolute_error: 0.0394 - val_loss: 0.0035 - val_mean_absolute_error: 0.0465\n",
            "Epoch 46/50\n",
            "\u001b[1m22/22\u001b[0m \u001b[32m━━━━━━━━━━━━━━━━━━━━\u001b[0m\u001b[37m\u001b[0m \u001b[1m1s\u001b[0m 24ms/step - loss: 0.0023 - mean_absolute_error: 0.0388 - val_loss: 0.0024 - val_mean_absolute_error: 0.0385\n",
            "Epoch 47/50\n",
            "\u001b[1m22/22\u001b[0m \u001b[32m━━━━━━━━━━━━━━━━━━━━\u001b[0m\u001b[37m\u001b[0m \u001b[1m0s\u001b[0m 19ms/step - loss: 0.0026 - mean_absolute_error: 0.0409 - val_loss: 0.0033 - val_mean_absolute_error: 0.0452\n",
            "Epoch 48/50\n",
            "\u001b[1m22/22\u001b[0m \u001b[32m━━━━━━━━━━━━━━━━━━━━\u001b[0m\u001b[37m\u001b[0m \u001b[1m0s\u001b[0m 14ms/step - loss: 0.0027 - mean_absolute_error: 0.0411 - val_loss: 0.0035 - val_mean_absolute_error: 0.0470\n",
            "Epoch 49/50\n",
            "\u001b[1m22/22\u001b[0m \u001b[32m━━━━━━━━━━━━━━━━━━━━\u001b[0m\u001b[37m\u001b[0m \u001b[1m0s\u001b[0m 14ms/step - loss: 0.0026 - mean_absolute_error: 0.0399 - val_loss: 0.0033 - val_mean_absolute_error: 0.0456\n",
            "Epoch 50/50\n",
            "\u001b[1m22/22\u001b[0m \u001b[32m━━━━━━━━━━━━━━━━━━━━\u001b[0m\u001b[37m\u001b[0m \u001b[1m0s\u001b[0m 21ms/step - loss: 0.0024 - mean_absolute_error: 0.0389 - val_loss: 0.0031 - val_mean_absolute_error: 0.0442\n",
            "Model input shape: (None, 30, 6)\n",
            "Model summary:\n"
          ]
        },
        {
          "output_type": "display_data",
          "data": {
            "text/plain": [
              "\u001b[1mModel: \"sequential\"\u001b[0m\n"
            ],
            "text/html": [
              "<pre style=\"white-space:pre;overflow-x:auto;line-height:normal;font-family:Menlo,'DejaVu Sans Mono',consolas,'Courier New',monospace\"><span style=\"font-weight: bold\">Model: \"sequential\"</span>\n",
              "</pre>\n"
            ]
          },
          "metadata": {}
        },
        {
          "output_type": "display_data",
          "data": {
            "text/plain": [
              "┏━━━━━━━━━━━━━━━━━━━━━━━━━━━━━━━━━┳━━━━━━━━━━━━━━━━━━━━━━━━┳━━━━━━━━━━━━━━━┓\n",
              "┃\u001b[1m \u001b[0m\u001b[1mLayer (type)                   \u001b[0m\u001b[1m \u001b[0m┃\u001b[1m \u001b[0m\u001b[1mOutput Shape          \u001b[0m\u001b[1m \u001b[0m┃\u001b[1m \u001b[0m\u001b[1m      Param #\u001b[0m\u001b[1m \u001b[0m┃\n",
              "┡━━━━━━━━━━━━━━━━━━━━━━━━━━━━━━━━━╇━━━━━━━━━━━━━━━━━━━━━━━━╇━━━━━━━━━━━━━━━┩\n",
              "│ bidirectional (\u001b[38;5;33mBidirectional\u001b[0m)   │ (\u001b[38;5;45mNone\u001b[0m, \u001b[38;5;34m30\u001b[0m, \u001b[38;5;34m256\u001b[0m)        │       \u001b[38;5;34m138,240\u001b[0m │\n",
              "├─────────────────────────────────┼────────────────────────┼───────────────┤\n",
              "│ dropout (\u001b[38;5;33mDropout\u001b[0m)               │ (\u001b[38;5;45mNone\u001b[0m, \u001b[38;5;34m30\u001b[0m, \u001b[38;5;34m256\u001b[0m)        │             \u001b[38;5;34m0\u001b[0m │\n",
              "├─────────────────────────────────┼────────────────────────┼───────────────┤\n",
              "│ bidirectional_1 (\u001b[38;5;33mBidirectional\u001b[0m) │ (\u001b[38;5;45mNone\u001b[0m, \u001b[38;5;34m100\u001b[0m)            │       \u001b[38;5;34m122,800\u001b[0m │\n",
              "├─────────────────────────────────┼────────────────────────┼───────────────┤\n",
              "│ dropout_1 (\u001b[38;5;33mDropout\u001b[0m)             │ (\u001b[38;5;45mNone\u001b[0m, \u001b[38;5;34m100\u001b[0m)            │             \u001b[38;5;34m0\u001b[0m │\n",
              "├─────────────────────────────────┼────────────────────────┼───────────────┤\n",
              "│ dense (\u001b[38;5;33mDense\u001b[0m)                   │ (\u001b[38;5;45mNone\u001b[0m, \u001b[38;5;34m1\u001b[0m)              │           \u001b[38;5;34m101\u001b[0m │\n",
              "└─────────────────────────────────┴────────────────────────┴───────────────┘\n"
            ],
            "text/html": [
              "<pre style=\"white-space:pre;overflow-x:auto;line-height:normal;font-family:Menlo,'DejaVu Sans Mono',consolas,'Courier New',monospace\">┏━━━━━━━━━━━━━━━━━━━━━━━━━━━━━━━━━┳━━━━━━━━━━━━━━━━━━━━━━━━┳━━━━━━━━━━━━━━━┓\n",
              "┃<span style=\"font-weight: bold\"> Layer (type)                    </span>┃<span style=\"font-weight: bold\"> Output Shape           </span>┃<span style=\"font-weight: bold\">       Param # </span>┃\n",
              "┡━━━━━━━━━━━━━━━━━━━━━━━━━━━━━━━━━╇━━━━━━━━━━━━━━━━━━━━━━━━╇━━━━━━━━━━━━━━━┩\n",
              "│ bidirectional (<span style=\"color: #0087ff; text-decoration-color: #0087ff\">Bidirectional</span>)   │ (<span style=\"color: #00d7ff; text-decoration-color: #00d7ff\">None</span>, <span style=\"color: #00af00; text-decoration-color: #00af00\">30</span>, <span style=\"color: #00af00; text-decoration-color: #00af00\">256</span>)        │       <span style=\"color: #00af00; text-decoration-color: #00af00\">138,240</span> │\n",
              "├─────────────────────────────────┼────────────────────────┼───────────────┤\n",
              "│ dropout (<span style=\"color: #0087ff; text-decoration-color: #0087ff\">Dropout</span>)               │ (<span style=\"color: #00d7ff; text-decoration-color: #00d7ff\">None</span>, <span style=\"color: #00af00; text-decoration-color: #00af00\">30</span>, <span style=\"color: #00af00; text-decoration-color: #00af00\">256</span>)        │             <span style=\"color: #00af00; text-decoration-color: #00af00\">0</span> │\n",
              "├─────────────────────────────────┼────────────────────────┼───────────────┤\n",
              "│ bidirectional_1 (<span style=\"color: #0087ff; text-decoration-color: #0087ff\">Bidirectional</span>) │ (<span style=\"color: #00d7ff; text-decoration-color: #00d7ff\">None</span>, <span style=\"color: #00af00; text-decoration-color: #00af00\">100</span>)            │       <span style=\"color: #00af00; text-decoration-color: #00af00\">122,800</span> │\n",
              "├─────────────────────────────────┼────────────────────────┼───────────────┤\n",
              "│ dropout_1 (<span style=\"color: #0087ff; text-decoration-color: #0087ff\">Dropout</span>)             │ (<span style=\"color: #00d7ff; text-decoration-color: #00d7ff\">None</span>, <span style=\"color: #00af00; text-decoration-color: #00af00\">100</span>)            │             <span style=\"color: #00af00; text-decoration-color: #00af00\">0</span> │\n",
              "├─────────────────────────────────┼────────────────────────┼───────────────┤\n",
              "│ dense (<span style=\"color: #0087ff; text-decoration-color: #0087ff\">Dense</span>)                   │ (<span style=\"color: #00d7ff; text-decoration-color: #00d7ff\">None</span>, <span style=\"color: #00af00; text-decoration-color: #00af00\">1</span>)              │           <span style=\"color: #00af00; text-decoration-color: #00af00\">101</span> │\n",
              "└─────────────────────────────────┴────────────────────────┴───────────────┘\n",
              "</pre>\n"
            ]
          },
          "metadata": {}
        },
        {
          "output_type": "display_data",
          "data": {
            "text/plain": [
              "\u001b[1m Total params: \u001b[0m\u001b[38;5;34m783,425\u001b[0m (2.99 MB)\n"
            ],
            "text/html": [
              "<pre style=\"white-space:pre;overflow-x:auto;line-height:normal;font-family:Menlo,'DejaVu Sans Mono',consolas,'Courier New',monospace\"><span style=\"font-weight: bold\"> Total params: </span><span style=\"color: #00af00; text-decoration-color: #00af00\">783,425</span> (2.99 MB)\n",
              "</pre>\n"
            ]
          },
          "metadata": {}
        },
        {
          "output_type": "display_data",
          "data": {
            "text/plain": [
              "\u001b[1m Trainable params: \u001b[0m\u001b[38;5;34m261,141\u001b[0m (1020.08 KB)\n"
            ],
            "text/html": [
              "<pre style=\"white-space:pre;overflow-x:auto;line-height:normal;font-family:Menlo,'DejaVu Sans Mono',consolas,'Courier New',monospace\"><span style=\"font-weight: bold\"> Trainable params: </span><span style=\"color: #00af00; text-decoration-color: #00af00\">261,141</span> (1020.08 KB)\n",
              "</pre>\n"
            ]
          },
          "metadata": {}
        },
        {
          "output_type": "display_data",
          "data": {
            "text/plain": [
              "\u001b[1m Non-trainable params: \u001b[0m\u001b[38;5;34m0\u001b[0m (0.00 B)\n"
            ],
            "text/html": [
              "<pre style=\"white-space:pre;overflow-x:auto;line-height:normal;font-family:Menlo,'DejaVu Sans Mono',consolas,'Courier New',monospace\"><span style=\"font-weight: bold\"> Non-trainable params: </span><span style=\"color: #00af00; text-decoration-color: #00af00\">0</span> (0.00 B)\n",
              "</pre>\n"
            ]
          },
          "metadata": {}
        },
        {
          "output_type": "display_data",
          "data": {
            "text/plain": [
              "\u001b[1m Optimizer params: \u001b[0m\u001b[38;5;34m522,284\u001b[0m (1.99 MB)\n"
            ],
            "text/html": [
              "<pre style=\"white-space:pre;overflow-x:auto;line-height:normal;font-family:Menlo,'DejaVu Sans Mono',consolas,'Courier New',monospace\"><span style=\"font-weight: bold\"> Optimizer params: </span><span style=\"color: #00af00; text-decoration-color: #00af00\">522,284</span> (1.99 MB)\n",
              "</pre>\n"
            ]
          },
          "metadata": {}
        },
        {
          "output_type": "stream",
          "name": "stdout",
          "text": [
            "\u001b[1m3/3\u001b[0m \u001b[32m━━━━━━━━━━━━━━━━━━━━\u001b[0m\u001b[37m\u001b[0m \u001b[1m1s\u001b[0m 248ms/step\n",
            "RMSE: 112.454750426408\n",
            "MAE : 88.58160243890224\n",
            "MAPE: 3.49%\n"
          ]
        }
      ],
      "source": [
        "\n",
        "model = Sequential()\n",
        "model.add(Bidirectional(LSTM(128, return_sequences=True), input_shape=(window_size, len(features))))\n",
        "model.add(Dropout(0.2))\n",
        "model.add(Bidirectional(LSTM(50)))\n",
        "model.add(Dropout(0.2))\n",
        "model.add(Dense(1))  # Output: Prediksi Close price\n",
        "\n",
        "model.compile(optimizer='adam', loss='mean_squared_error', metrics=['mean_absolute_error'])\n",
        "\n",
        "\n",
        "history = model.fit(X_train, y_train, epochs=50, batch_size=32, validation_data=(X_test, y_test))\n",
        "\n",
        "print(\"Model input shape:\", model.input_shape)\n",
        "print(\"Model summary:\")\n",
        "model.summary()\n",
        "\n",
        "# Prediksi\n",
        "y_pred = model.predict(X_test)\n",
        "\n",
        "# Inverse transform\n",
        "close_scaler = load('scaler_close_3.pkl')\n",
        "y_pred_inv = close_scaler.inverse_transform(y_pred)\n",
        "y_test_inv = close_scaler.inverse_transform(y_test.reshape(-1, 1))\n",
        "\n",
        "# Hitung metrik\n",
        "rmse = np.sqrt(mean_squared_error(y_test_inv, y_pred_inv))\n",
        "mae = mean_absolute_error(y_test_inv, y_pred_inv)\n",
        "\n",
        "print(f\"RMSE: {rmse}\")\n",
        "print(f\"MAE : {mae}\")\n",
        "\n",
        "mape = np.mean(np.abs((y_test_inv - y_pred_inv) / y_test_inv)) * 100\n",
        "print(f\"MAPE: {mape:.2f}%\")\n",
        "\n"
      ]
    },
    {
      "cell_type": "markdown",
      "metadata": {
        "id": "8lCYARhc-LJH"
      },
      "source": [
        "#Pengujian data split 85 : 15"
      ]
    },
    {
      "cell_type": "code",
      "execution_count": null,
      "metadata": {
        "id": "q0OQEFkv-LJH"
      },
      "outputs": [],
      "source": [
        "# --- Split  85:15\n",
        "split = int(0.85 * len(X))\n",
        "X_train, X_test = X[:split], X[split:]\n",
        "y_train, y_test = y[:split], y[split:]"
      ]
    },
    {
      "cell_type": "code",
      "execution_count": null,
      "metadata": {
        "colab": {
          "base_uri": "https://localhost:8080/"
        },
        "id": "XOUrWZm5BDHC",
        "outputId": "a43d5635-5557-4bca-f896-0d0f89845be5"
      },
      "outputs": [
        {
          "output_type": "stream",
          "name": "stdout",
          "text": [
            "X_train shape: (661, 30, 6)\n",
            "y_train shape: (661, 1)\n",
            "X_test shape: (117, 30, 6)\n",
            "y_test shape: (117, 1)\n"
          ]
        }
      ],
      "source": [
        "print(\"X_train shape:\", X_train.shape)\n",
        "print(\"y_train shape:\", y_train.shape)\n",
        "print(\"X_test shape:\", X_test.shape)\n",
        "print(\"y_test shape:\", y_test.shape)"
      ]
    },
    {
      "cell_type": "code",
      "execution_count": null,
      "metadata": {
        "colab": {
          "base_uri": "https://localhost:8080/"
        },
        "id": "24H60wiM-LJI",
        "outputId": "1cf6eef6-f90d-42e2-c2e0-790c755115b2"
      },
      "outputs": [
        {
          "output_type": "stream",
          "name": "stdout",
          "text": [
            "(778, 30, 6)\n",
            "(778, 1)\n"
          ]
        }
      ],
      "source": [
        "print(X.shape)\n",
        "print(y.shape)"
      ]
    },
    {
      "cell_type": "code",
      "execution_count": null,
      "metadata": {
        "colab": {
          "base_uri": "https://localhost:8080/",
          "height": 1000
        },
        "id": "8gSvH-iY-LJI",
        "outputId": "0a686acb-2c1e-4d4b-a9b4-2d54ca99e021"
      },
      "outputs": [
        {
          "output_type": "stream",
          "name": "stderr",
          "text": [
            "/usr/local/lib/python3.11/dist-packages/keras/src/layers/rnn/bidirectional.py:107: UserWarning: Do not pass an `input_shape`/`input_dim` argument to a layer. When using Sequential models, prefer using an `Input(shape)` object as the first layer in the model instead.\n",
            "  super().__init__(**kwargs)\n"
          ]
        },
        {
          "output_type": "stream",
          "name": "stdout",
          "text": [
            "Epoch 1/50\n",
            "\u001b[1m21/21\u001b[0m \u001b[32m━━━━━━━━━━━━━━━━━━━━\u001b[0m\u001b[37m\u001b[0m \u001b[1m15s\u001b[0m 41ms/step - loss: 0.0835 - mean_absolute_error: 0.2178 - val_loss: 0.0088 - val_mean_absolute_error: 0.0808\n",
            "Epoch 2/50\n",
            "\u001b[1m21/21\u001b[0m \u001b[32m━━━━━━━━━━━━━━━━━━━━\u001b[0m\u001b[37m\u001b[0m \u001b[1m0s\u001b[0m 14ms/step - loss: 0.0111 - mean_absolute_error: 0.0834 - val_loss: 0.0088 - val_mean_absolute_error: 0.0807\n",
            "Epoch 3/50\n",
            "\u001b[1m21/21\u001b[0m \u001b[32m━━━━━━━━━━━━━━━━━━━━\u001b[0m\u001b[37m\u001b[0m \u001b[1m1s\u001b[0m 15ms/step - loss: 0.0077 - mean_absolute_error: 0.0704 - val_loss: 0.0067 - val_mean_absolute_error: 0.0690\n",
            "Epoch 4/50\n",
            "\u001b[1m21/21\u001b[0m \u001b[32m━━━━━━━━━━━━━━━━━━━━\u001b[0m\u001b[37m\u001b[0m \u001b[1m0s\u001b[0m 14ms/step - loss: 0.0064 - mean_absolute_error: 0.0631 - val_loss: 0.0042 - val_mean_absolute_error: 0.0534\n",
            "Epoch 5/50\n",
            "\u001b[1m21/21\u001b[0m \u001b[32m━━━━━━━━━━━━━━━━━━━━\u001b[0m\u001b[37m\u001b[0m \u001b[1m0s\u001b[0m 15ms/step - loss: 0.0062 - mean_absolute_error: 0.0618 - val_loss: 0.0034 - val_mean_absolute_error: 0.0472\n",
            "Epoch 6/50\n",
            "\u001b[1m21/21\u001b[0m \u001b[32m━━━━━━━━━━━━━━━━━━━━\u001b[0m\u001b[37m\u001b[0m \u001b[1m1s\u001b[0m 15ms/step - loss: 0.0055 - mean_absolute_error: 0.0587 - val_loss: 0.0027 - val_mean_absolute_error: 0.0418\n",
            "Epoch 7/50\n",
            "\u001b[1m21/21\u001b[0m \u001b[32m━━━━━━━━━━━━━━━━━━━━\u001b[0m\u001b[37m\u001b[0m \u001b[1m0s\u001b[0m 15ms/step - loss: 0.0053 - mean_absolute_error: 0.0583 - val_loss: 0.0028 - val_mean_absolute_error: 0.0425\n",
            "Epoch 8/50\n",
            "\u001b[1m21/21\u001b[0m \u001b[32m━━━━━━━━━━━━━━━━━━━━\u001b[0m\u001b[37m\u001b[0m \u001b[1m0s\u001b[0m 14ms/step - loss: 0.0046 - mean_absolute_error: 0.0536 - val_loss: 0.0038 - val_mean_absolute_error: 0.0509\n",
            "Epoch 9/50\n",
            "\u001b[1m21/21\u001b[0m \u001b[32m━━━━━━━━━━━━━━━━━━━━\u001b[0m\u001b[37m\u001b[0m \u001b[1m1s\u001b[0m 15ms/step - loss: 0.0048 - mean_absolute_error: 0.0550 - val_loss: 0.0029 - val_mean_absolute_error: 0.0430\n",
            "Epoch 10/50\n",
            "\u001b[1m21/21\u001b[0m \u001b[32m━━━━━━━━━━━━━━━━━━━━\u001b[0m\u001b[37m\u001b[0m \u001b[1m0s\u001b[0m 14ms/step - loss: 0.0039 - mean_absolute_error: 0.0501 - val_loss: 0.0033 - val_mean_absolute_error: 0.0467\n",
            "Epoch 11/50\n",
            "\u001b[1m21/21\u001b[0m \u001b[32m━━━━━━━━━━━━━━━━━━━━\u001b[0m\u001b[37m\u001b[0m \u001b[1m1s\u001b[0m 16ms/step - loss: 0.0044 - mean_absolute_error: 0.0529 - val_loss: 0.0025 - val_mean_absolute_error: 0.0402\n",
            "Epoch 12/50\n",
            "\u001b[1m21/21\u001b[0m \u001b[32m━━━━━━━━━━━━━━━━━━━━\u001b[0m\u001b[37m\u001b[0m \u001b[1m1s\u001b[0m 14ms/step - loss: 0.0051 - mean_absolute_error: 0.0562 - val_loss: 0.0024 - val_mean_absolute_error: 0.0398\n",
            "Epoch 13/50\n",
            "\u001b[1m21/21\u001b[0m \u001b[32m━━━━━━━━━━━━━━━━━━━━\u001b[0m\u001b[37m\u001b[0m \u001b[1m0s\u001b[0m 14ms/step - loss: 0.0039 - mean_absolute_error: 0.0495 - val_loss: 0.0025 - val_mean_absolute_error: 0.0405\n",
            "Epoch 14/50\n",
            "\u001b[1m21/21\u001b[0m \u001b[32m━━━━━━━━━━━━━━━━━━━━\u001b[0m\u001b[37m\u001b[0m \u001b[1m1s\u001b[0m 15ms/step - loss: 0.0041 - mean_absolute_error: 0.0502 - val_loss: 0.0026 - val_mean_absolute_error: 0.0404\n",
            "Epoch 15/50\n",
            "\u001b[1m21/21\u001b[0m \u001b[32m━━━━━━━━━━━━━━━━━━━━\u001b[0m\u001b[37m\u001b[0m \u001b[1m1s\u001b[0m 23ms/step - loss: 0.0036 - mean_absolute_error: 0.0480 - val_loss: 0.0024 - val_mean_absolute_error: 0.0399\n",
            "Epoch 16/50\n",
            "\u001b[1m21/21\u001b[0m \u001b[32m━━━━━━━━━━━━━━━━━━━━\u001b[0m\u001b[37m\u001b[0m \u001b[1m0s\u001b[0m 20ms/step - loss: 0.0038 - mean_absolute_error: 0.0501 - val_loss: 0.0026 - val_mean_absolute_error: 0.0408\n",
            "Epoch 17/50\n",
            "\u001b[1m21/21\u001b[0m \u001b[32m━━━━━━━━━━━━━━━━━━━━\u001b[0m\u001b[37m\u001b[0m \u001b[1m0s\u001b[0m 21ms/step - loss: 0.0035 - mean_absolute_error: 0.0462 - val_loss: 0.0026 - val_mean_absolute_error: 0.0410\n",
            "Epoch 18/50\n",
            "\u001b[1m21/21\u001b[0m \u001b[32m━━━━━━━━━━━━━━━━━━━━\u001b[0m\u001b[37m\u001b[0m \u001b[1m1s\u001b[0m 21ms/step - loss: 0.0036 - mean_absolute_error: 0.0476 - val_loss: 0.0026 - val_mean_absolute_error: 0.0406\n",
            "Epoch 19/50\n",
            "\u001b[1m21/21\u001b[0m \u001b[32m━━━━━━━━━━━━━━━━━━━━\u001b[0m\u001b[37m\u001b[0m \u001b[1m0s\u001b[0m 22ms/step - loss: 0.0036 - mean_absolute_error: 0.0458 - val_loss: 0.0030 - val_mean_absolute_error: 0.0433\n",
            "Epoch 20/50\n",
            "\u001b[1m21/21\u001b[0m \u001b[32m━━━━━━━━━━━━━━━━━━━━\u001b[0m\u001b[37m\u001b[0m \u001b[1m0s\u001b[0m 22ms/step - loss: 0.0040 - mean_absolute_error: 0.0506 - val_loss: 0.0028 - val_mean_absolute_error: 0.0421\n",
            "Epoch 21/50\n",
            "\u001b[1m21/21\u001b[0m \u001b[32m━━━━━━━━━━━━━━━━━━━━\u001b[0m\u001b[37m\u001b[0m \u001b[1m0s\u001b[0m 15ms/step - loss: 0.0039 - mean_absolute_error: 0.0489 - val_loss: 0.0025 - val_mean_absolute_error: 0.0406\n",
            "Epoch 22/50\n",
            "\u001b[1m21/21\u001b[0m \u001b[32m━━━━━━━━━━━━━━━━━━━━\u001b[0m\u001b[37m\u001b[0m \u001b[1m1s\u001b[0m 14ms/step - loss: 0.0038 - mean_absolute_error: 0.0492 - val_loss: 0.0024 - val_mean_absolute_error: 0.0381\n",
            "Epoch 23/50\n",
            "\u001b[1m21/21\u001b[0m \u001b[32m━━━━━━━━━━━━━━━━━━━━\u001b[0m\u001b[37m\u001b[0m \u001b[1m1s\u001b[0m 15ms/step - loss: 0.0037 - mean_absolute_error: 0.0473 - val_loss: 0.0023 - val_mean_absolute_error: 0.0386\n",
            "Epoch 24/50\n",
            "\u001b[1m21/21\u001b[0m \u001b[32m━━━━━━━━━━━━━━━━━━━━\u001b[0m\u001b[37m\u001b[0m \u001b[1m0s\u001b[0m 14ms/step - loss: 0.0035 - mean_absolute_error: 0.0470 - val_loss: 0.0023 - val_mean_absolute_error: 0.0390\n",
            "Epoch 25/50\n",
            "\u001b[1m21/21\u001b[0m \u001b[32m━━━━━━━━━━━━━━━━━━━━\u001b[0m\u001b[37m\u001b[0m \u001b[1m1s\u001b[0m 15ms/step - loss: 0.0034 - mean_absolute_error: 0.0452 - val_loss: 0.0025 - val_mean_absolute_error: 0.0407\n",
            "Epoch 26/50\n",
            "\u001b[1m21/21\u001b[0m \u001b[32m━━━━━━━━━━━━━━━━━━━━\u001b[0m\u001b[37m\u001b[0m \u001b[1m0s\u001b[0m 14ms/step - loss: 0.0037 - mean_absolute_error: 0.0474 - val_loss: 0.0025 - val_mean_absolute_error: 0.0405\n",
            "Epoch 27/50\n",
            "\u001b[1m21/21\u001b[0m \u001b[32m━━━━━━━━━━━━━━━━━━━━\u001b[0m\u001b[37m\u001b[0m \u001b[1m0s\u001b[0m 15ms/step - loss: 0.0032 - mean_absolute_error: 0.0448 - val_loss: 0.0025 - val_mean_absolute_error: 0.0400\n",
            "Epoch 28/50\n",
            "\u001b[1m21/21\u001b[0m \u001b[32m━━━━━━━━━━━━━━━━━━━━\u001b[0m\u001b[37m\u001b[0m \u001b[1m0s\u001b[0m 15ms/step - loss: 0.0032 - mean_absolute_error: 0.0462 - val_loss: 0.0028 - val_mean_absolute_error: 0.0413\n",
            "Epoch 29/50\n",
            "\u001b[1m21/21\u001b[0m \u001b[32m━━━━━━━━━━━━━━━━━━━━\u001b[0m\u001b[37m\u001b[0m \u001b[1m1s\u001b[0m 14ms/step - loss: 0.0028 - mean_absolute_error: 0.0408 - val_loss: 0.0024 - val_mean_absolute_error: 0.0398\n",
            "Epoch 30/50\n",
            "\u001b[1m21/21\u001b[0m \u001b[32m━━━━━━━━━━━━━━━━━━━━\u001b[0m\u001b[37m\u001b[0m \u001b[1m0s\u001b[0m 16ms/step - loss: 0.0027 - mean_absolute_error: 0.0414 - val_loss: 0.0034 - val_mean_absolute_error: 0.0457\n",
            "Epoch 31/50\n",
            "\u001b[1m21/21\u001b[0m \u001b[32m━━━━━━━━━━━━━━━━━━━━\u001b[0m\u001b[37m\u001b[0m \u001b[1m1s\u001b[0m 16ms/step - loss: 0.0029 - mean_absolute_error: 0.0431 - val_loss: 0.0036 - val_mean_absolute_error: 0.0482\n",
            "Epoch 32/50\n",
            "\u001b[1m21/21\u001b[0m \u001b[32m━━━━━━━━━━━━━━━━━━━━\u001b[0m\u001b[37m\u001b[0m \u001b[1m1s\u001b[0m 15ms/step - loss: 0.0031 - mean_absolute_error: 0.0442 - val_loss: 0.0025 - val_mean_absolute_error: 0.0407\n",
            "Epoch 33/50\n",
            "\u001b[1m21/21\u001b[0m \u001b[32m━━━━━━━━━━━━━━━━━━━━\u001b[0m\u001b[37m\u001b[0m \u001b[1m0s\u001b[0m 14ms/step - loss: 0.0030 - mean_absolute_error: 0.0429 - val_loss: 0.0024 - val_mean_absolute_error: 0.0379\n",
            "Epoch 34/50\n",
            "\u001b[1m21/21\u001b[0m \u001b[32m━━━━━━━━━━━━━━━━━━━━\u001b[0m\u001b[37m\u001b[0m \u001b[1m1s\u001b[0m 15ms/step - loss: 0.0030 - mean_absolute_error: 0.0435 - val_loss: 0.0024 - val_mean_absolute_error: 0.0398\n",
            "Epoch 35/50\n",
            "\u001b[1m21/21\u001b[0m \u001b[32m━━━━━━━━━━━━━━━━━━━━\u001b[0m\u001b[37m\u001b[0m \u001b[1m0s\u001b[0m 14ms/step - loss: 0.0028 - mean_absolute_error: 0.0409 - val_loss: 0.0026 - val_mean_absolute_error: 0.0412\n",
            "Epoch 36/50\n",
            "\u001b[1m21/21\u001b[0m \u001b[32m━━━━━━━━━━━━━━━━━━━━\u001b[0m\u001b[37m\u001b[0m \u001b[1m0s\u001b[0m 15ms/step - loss: 0.0036 - mean_absolute_error: 0.0474 - val_loss: 0.0034 - val_mean_absolute_error: 0.0465\n",
            "Epoch 37/50\n",
            "\u001b[1m21/21\u001b[0m \u001b[32m━━━━━━━━━━━━━━━━━━━━\u001b[0m\u001b[37m\u001b[0m \u001b[1m0s\u001b[0m 15ms/step - loss: 0.0037 - mean_absolute_error: 0.0488 - val_loss: 0.0026 - val_mean_absolute_error: 0.0404\n",
            "Epoch 38/50\n",
            "\u001b[1m21/21\u001b[0m \u001b[32m━━━━━━━━━━━━━━━━━━━━\u001b[0m\u001b[37m\u001b[0m \u001b[1m0s\u001b[0m 14ms/step - loss: 0.0033 - mean_absolute_error: 0.0439 - val_loss: 0.0026 - val_mean_absolute_error: 0.0412\n",
            "Epoch 39/50\n",
            "\u001b[1m21/21\u001b[0m \u001b[32m━━━━━━━━━━━━━━━━━━━━\u001b[0m\u001b[37m\u001b[0m \u001b[1m0s\u001b[0m 14ms/step - loss: 0.0031 - mean_absolute_error: 0.0438 - val_loss: 0.0035 - val_mean_absolute_error: 0.0470\n",
            "Epoch 40/50\n",
            "\u001b[1m21/21\u001b[0m \u001b[32m━━━━━━━━━━━━━━━━━━━━\u001b[0m\u001b[37m\u001b[0m \u001b[1m0s\u001b[0m 15ms/step - loss: 0.0026 - mean_absolute_error: 0.0409 - val_loss: 0.0026 - val_mean_absolute_error: 0.0406\n",
            "Epoch 41/50\n",
            "\u001b[1m21/21\u001b[0m \u001b[32m━━━━━━━━━━━━━━━━━━━━\u001b[0m\u001b[37m\u001b[0m \u001b[1m0s\u001b[0m 14ms/step - loss: 0.0027 - mean_absolute_error: 0.0411 - val_loss: 0.0028 - val_mean_absolute_error: 0.0415\n",
            "Epoch 42/50\n",
            "\u001b[1m21/21\u001b[0m \u001b[32m━━━━━━━━━━━━━━━━━━━━\u001b[0m\u001b[37m\u001b[0m \u001b[1m0s\u001b[0m 14ms/step - loss: 0.0025 - mean_absolute_error: 0.0396 - val_loss: 0.0031 - val_mean_absolute_error: 0.0441\n",
            "Epoch 43/50\n",
            "\u001b[1m21/21\u001b[0m \u001b[32m━━━━━━━━━━━━━━━━━━━━\u001b[0m\u001b[37m\u001b[0m \u001b[1m0s\u001b[0m 14ms/step - loss: 0.0025 - mean_absolute_error: 0.0387 - val_loss: 0.0030 - val_mean_absolute_error: 0.0433\n",
            "Epoch 44/50\n",
            "\u001b[1m21/21\u001b[0m \u001b[32m━━━━━━━━━━━━━━━━━━━━\u001b[0m\u001b[37m\u001b[0m \u001b[1m1s\u001b[0m 21ms/step - loss: 0.0027 - mean_absolute_error: 0.0415 - val_loss: 0.0032 - val_mean_absolute_error: 0.0448\n",
            "Epoch 45/50\n",
            "\u001b[1m21/21\u001b[0m \u001b[32m━━━━━━━━━━━━━━━━━━━━\u001b[0m\u001b[37m\u001b[0m \u001b[1m1s\u001b[0m 23ms/step - loss: 0.0028 - mean_absolute_error: 0.0408 - val_loss: 0.0031 - val_mean_absolute_error: 0.0443\n",
            "Epoch 46/50\n",
            "\u001b[1m21/21\u001b[0m \u001b[32m━━━━━━━━━━━━━━━━━━━━\u001b[0m\u001b[37m\u001b[0m \u001b[1m0s\u001b[0m 21ms/step - loss: 0.0029 - mean_absolute_error: 0.0425 - val_loss: 0.0043 - val_mean_absolute_error: 0.0531\n",
            "Epoch 47/50\n",
            "\u001b[1m21/21\u001b[0m \u001b[32m━━━━━━━━━━━━━━━━━━━━\u001b[0m\u001b[37m\u001b[0m \u001b[1m0s\u001b[0m 20ms/step - loss: 0.0026 - mean_absolute_error: 0.0400 - val_loss: 0.0024 - val_mean_absolute_error: 0.0399\n",
            "Epoch 48/50\n",
            "\u001b[1m21/21\u001b[0m \u001b[32m━━━━━━━━━━━━━━━━━━━━\u001b[0m\u001b[37m\u001b[0m \u001b[1m0s\u001b[0m 20ms/step - loss: 0.0025 - mean_absolute_error: 0.0386 - val_loss: 0.0026 - val_mean_absolute_error: 0.0403\n",
            "Epoch 49/50\n",
            "\u001b[1m21/21\u001b[0m \u001b[32m━━━━━━━━━━━━━━━━━━━━\u001b[0m\u001b[37m\u001b[0m \u001b[1m0s\u001b[0m 22ms/step - loss: 0.0033 - mean_absolute_error: 0.0455 - val_loss: 0.0024 - val_mean_absolute_error: 0.0401\n",
            "Epoch 50/50\n",
            "\u001b[1m21/21\u001b[0m \u001b[32m━━━━━━━━━━━━━━━━━━━━\u001b[0m\u001b[37m\u001b[0m \u001b[1m0s\u001b[0m 16ms/step - loss: 0.0027 - mean_absolute_error: 0.0404 - val_loss: 0.0024 - val_mean_absolute_error: 0.0395\n",
            "Model input shape: (None, 30, 6)\n",
            "Model summary:\n"
          ]
        },
        {
          "output_type": "display_data",
          "data": {
            "text/plain": [
              "\u001b[1mModel: \"sequential\"\u001b[0m\n"
            ],
            "text/html": [
              "<pre style=\"white-space:pre;overflow-x:auto;line-height:normal;font-family:Menlo,'DejaVu Sans Mono',consolas,'Courier New',monospace\"><span style=\"font-weight: bold\">Model: \"sequential\"</span>\n",
              "</pre>\n"
            ]
          },
          "metadata": {}
        },
        {
          "output_type": "display_data",
          "data": {
            "text/plain": [
              "┏━━━━━━━━━━━━━━━━━━━━━━━━━━━━━━━━━┳━━━━━━━━━━━━━━━━━━━━━━━━┳━━━━━━━━━━━━━━━┓\n",
              "┃\u001b[1m \u001b[0m\u001b[1mLayer (type)                   \u001b[0m\u001b[1m \u001b[0m┃\u001b[1m \u001b[0m\u001b[1mOutput Shape          \u001b[0m\u001b[1m \u001b[0m┃\u001b[1m \u001b[0m\u001b[1m      Param #\u001b[0m\u001b[1m \u001b[0m┃\n",
              "┡━━━━━━━━━━━━━━━━━━━━━━━━━━━━━━━━━╇━━━━━━━━━━━━━━━━━━━━━━━━╇━━━━━━━━━━━━━━━┩\n",
              "│ bidirectional (\u001b[38;5;33mBidirectional\u001b[0m)   │ (\u001b[38;5;45mNone\u001b[0m, \u001b[38;5;34m30\u001b[0m, \u001b[38;5;34m256\u001b[0m)        │       \u001b[38;5;34m138,240\u001b[0m │\n",
              "├─────────────────────────────────┼────────────────────────┼───────────────┤\n",
              "│ dropout (\u001b[38;5;33mDropout\u001b[0m)               │ (\u001b[38;5;45mNone\u001b[0m, \u001b[38;5;34m30\u001b[0m, \u001b[38;5;34m256\u001b[0m)        │             \u001b[38;5;34m0\u001b[0m │\n",
              "├─────────────────────────────────┼────────────────────────┼───────────────┤\n",
              "│ bidirectional_1 (\u001b[38;5;33mBidirectional\u001b[0m) │ (\u001b[38;5;45mNone\u001b[0m, \u001b[38;5;34m100\u001b[0m)            │       \u001b[38;5;34m122,800\u001b[0m │\n",
              "├─────────────────────────────────┼────────────────────────┼───────────────┤\n",
              "│ dropout_1 (\u001b[38;5;33mDropout\u001b[0m)             │ (\u001b[38;5;45mNone\u001b[0m, \u001b[38;5;34m100\u001b[0m)            │             \u001b[38;5;34m0\u001b[0m │\n",
              "├─────────────────────────────────┼────────────────────────┼───────────────┤\n",
              "│ dense (\u001b[38;5;33mDense\u001b[0m)                   │ (\u001b[38;5;45mNone\u001b[0m, \u001b[38;5;34m1\u001b[0m)              │           \u001b[38;5;34m101\u001b[0m │\n",
              "└─────────────────────────────────┴────────────────────────┴───────────────┘\n"
            ],
            "text/html": [
              "<pre style=\"white-space:pre;overflow-x:auto;line-height:normal;font-family:Menlo,'DejaVu Sans Mono',consolas,'Courier New',monospace\">┏━━━━━━━━━━━━━━━━━━━━━━━━━━━━━━━━━┳━━━━━━━━━━━━━━━━━━━━━━━━┳━━━━━━━━━━━━━━━┓\n",
              "┃<span style=\"font-weight: bold\"> Layer (type)                    </span>┃<span style=\"font-weight: bold\"> Output Shape           </span>┃<span style=\"font-weight: bold\">       Param # </span>┃\n",
              "┡━━━━━━━━━━━━━━━━━━━━━━━━━━━━━━━━━╇━━━━━━━━━━━━━━━━━━━━━━━━╇━━━━━━━━━━━━━━━┩\n",
              "│ bidirectional (<span style=\"color: #0087ff; text-decoration-color: #0087ff\">Bidirectional</span>)   │ (<span style=\"color: #00d7ff; text-decoration-color: #00d7ff\">None</span>, <span style=\"color: #00af00; text-decoration-color: #00af00\">30</span>, <span style=\"color: #00af00; text-decoration-color: #00af00\">256</span>)        │       <span style=\"color: #00af00; text-decoration-color: #00af00\">138,240</span> │\n",
              "├─────────────────────────────────┼────────────────────────┼───────────────┤\n",
              "│ dropout (<span style=\"color: #0087ff; text-decoration-color: #0087ff\">Dropout</span>)               │ (<span style=\"color: #00d7ff; text-decoration-color: #00d7ff\">None</span>, <span style=\"color: #00af00; text-decoration-color: #00af00\">30</span>, <span style=\"color: #00af00; text-decoration-color: #00af00\">256</span>)        │             <span style=\"color: #00af00; text-decoration-color: #00af00\">0</span> │\n",
              "├─────────────────────────────────┼────────────────────────┼───────────────┤\n",
              "│ bidirectional_1 (<span style=\"color: #0087ff; text-decoration-color: #0087ff\">Bidirectional</span>) │ (<span style=\"color: #00d7ff; text-decoration-color: #00d7ff\">None</span>, <span style=\"color: #00af00; text-decoration-color: #00af00\">100</span>)            │       <span style=\"color: #00af00; text-decoration-color: #00af00\">122,800</span> │\n",
              "├─────────────────────────────────┼────────────────────────┼───────────────┤\n",
              "│ dropout_1 (<span style=\"color: #0087ff; text-decoration-color: #0087ff\">Dropout</span>)             │ (<span style=\"color: #00d7ff; text-decoration-color: #00d7ff\">None</span>, <span style=\"color: #00af00; text-decoration-color: #00af00\">100</span>)            │             <span style=\"color: #00af00; text-decoration-color: #00af00\">0</span> │\n",
              "├─────────────────────────────────┼────────────────────────┼───────────────┤\n",
              "│ dense (<span style=\"color: #0087ff; text-decoration-color: #0087ff\">Dense</span>)                   │ (<span style=\"color: #00d7ff; text-decoration-color: #00d7ff\">None</span>, <span style=\"color: #00af00; text-decoration-color: #00af00\">1</span>)              │           <span style=\"color: #00af00; text-decoration-color: #00af00\">101</span> │\n",
              "└─────────────────────────────────┴────────────────────────┴───────────────┘\n",
              "</pre>\n"
            ]
          },
          "metadata": {}
        },
        {
          "output_type": "display_data",
          "data": {
            "text/plain": [
              "\u001b[1m Total params: \u001b[0m\u001b[38;5;34m783,425\u001b[0m (2.99 MB)\n"
            ],
            "text/html": [
              "<pre style=\"white-space:pre;overflow-x:auto;line-height:normal;font-family:Menlo,'DejaVu Sans Mono',consolas,'Courier New',monospace\"><span style=\"font-weight: bold\"> Total params: </span><span style=\"color: #00af00; text-decoration-color: #00af00\">783,425</span> (2.99 MB)\n",
              "</pre>\n"
            ]
          },
          "metadata": {}
        },
        {
          "output_type": "display_data",
          "data": {
            "text/plain": [
              "\u001b[1m Trainable params: \u001b[0m\u001b[38;5;34m261,141\u001b[0m (1020.08 KB)\n"
            ],
            "text/html": [
              "<pre style=\"white-space:pre;overflow-x:auto;line-height:normal;font-family:Menlo,'DejaVu Sans Mono',consolas,'Courier New',monospace\"><span style=\"font-weight: bold\"> Trainable params: </span><span style=\"color: #00af00; text-decoration-color: #00af00\">261,141</span> (1020.08 KB)\n",
              "</pre>\n"
            ]
          },
          "metadata": {}
        },
        {
          "output_type": "display_data",
          "data": {
            "text/plain": [
              "\u001b[1m Non-trainable params: \u001b[0m\u001b[38;5;34m0\u001b[0m (0.00 B)\n"
            ],
            "text/html": [
              "<pre style=\"white-space:pre;overflow-x:auto;line-height:normal;font-family:Menlo,'DejaVu Sans Mono',consolas,'Courier New',monospace\"><span style=\"font-weight: bold\"> Non-trainable params: </span><span style=\"color: #00af00; text-decoration-color: #00af00\">0</span> (0.00 B)\n",
              "</pre>\n"
            ]
          },
          "metadata": {}
        },
        {
          "output_type": "display_data",
          "data": {
            "text/plain": [
              "\u001b[1m Optimizer params: \u001b[0m\u001b[38;5;34m522,284\u001b[0m (1.99 MB)\n"
            ],
            "text/html": [
              "<pre style=\"white-space:pre;overflow-x:auto;line-height:normal;font-family:Menlo,'DejaVu Sans Mono',consolas,'Courier New',monospace\"><span style=\"font-weight: bold\"> Optimizer params: </span><span style=\"color: #00af00; text-decoration-color: #00af00\">522,284</span> (1.99 MB)\n",
              "</pre>\n"
            ]
          },
          "metadata": {}
        },
        {
          "output_type": "stream",
          "name": "stdout",
          "text": [
            "\u001b[1m4/4\u001b[0m \u001b[32m━━━━━━━━━━━━━━━━━━━━\u001b[0m\u001b[37m\u001b[0m \u001b[1m1s\u001b[0m 119ms/step\n",
            "RMSE: 98.07633649003084\n",
            "MAE : 79.26027268629808\n",
            "MAPE: 3.07%\n"
          ]
        }
      ],
      "source": [
        "\n",
        "model = Sequential()\n",
        "model.add(Bidirectional(LSTM(128, return_sequences=True), input_shape=(window_size, len(features))))\n",
        "model.add(Dropout(0.2))\n",
        "model.add(Bidirectional(LSTM(50)))\n",
        "model.add(Dropout(0.2))\n",
        "model.add(Dense(1))  # Output: Prediksi Close price\n",
        "\n",
        "model.compile(optimizer='adam', loss='mean_squared_error', metrics=['mean_absolute_error'])\n",
        "\n",
        "\n",
        "history = model.fit(X_train, y_train, epochs=50, batch_size=32, validation_data=(X_test, y_test))\n",
        "\n",
        "print(\"Model input shape:\", model.input_shape)\n",
        "print(\"Model summary:\")\n",
        "model.summary()\n",
        "\n",
        "# Prediksi\n",
        "y_pred = model.predict(X_test)\n",
        "\n",
        "# Inverse transform\n",
        "close_scaler = load('scaler_close_3.pkl')\n",
        "y_pred_inv = close_scaler.inverse_transform(y_pred)\n",
        "y_test_inv = close_scaler.inverse_transform(y_test.reshape(-1, 1))\n",
        "\n",
        "# Hitung metrik\n",
        "rmse = np.sqrt(mean_squared_error(y_test_inv, y_pred_inv))\n",
        "mae = mean_absolute_error(y_test_inv, y_pred_inv)\n",
        "\n",
        "print(f\"RMSE: {rmse}\")\n",
        "print(f\"MAE : {mae}\")\n",
        "\n",
        "mape = np.mean(np.abs((y_test_inv - y_pred_inv) / y_test_inv)) * 100\n",
        "print(f\"MAPE: {mape:.2f}%\")\n",
        "\n"
      ]
    },
    {
      "cell_type": "markdown",
      "metadata": {
        "id": "KHsM8LXP-gy9"
      },
      "source": [
        "#Pengujian data split 75 : 25"
      ]
    },
    {
      "cell_type": "code",
      "execution_count": 70,
      "metadata": {
        "id": "iQu4TG5d-gy9"
      },
      "outputs": [],
      "source": [
        "# --- Split  75:25\n",
        "split = int(0.75 * len(X))\n",
        "X_train, X_test = X[:split], X[split:]\n",
        "y_train, y_test = y[:split], y[split:]"
      ]
    },
    {
      "cell_type": "code",
      "execution_count": 71,
      "metadata": {
        "colab": {
          "base_uri": "https://localhost:8080/"
        },
        "id": "MZNOQbffBEBr",
        "outputId": "3379098e-9491-4fb9-c0e4-84af79a8e02b"
      },
      "outputs": [
        {
          "output_type": "stream",
          "name": "stdout",
          "text": [
            "X_train shape: (583, 30, 6)\n",
            "y_train shape: (583, 1)\n",
            "X_test shape: (195, 30, 6)\n",
            "y_test shape: (195, 1)\n"
          ]
        }
      ],
      "source": [
        "print(\"X_train shape:\", X_train.shape)\n",
        "print(\"y_train shape:\", y_train.shape)\n",
        "print(\"X_test shape:\", X_test.shape)\n",
        "print(\"y_test shape:\", y_test.shape)"
      ]
    },
    {
      "cell_type": "code",
      "execution_count": 72,
      "metadata": {
        "colab": {
          "base_uri": "https://localhost:8080/"
        },
        "id": "PvRliHEv-gy-",
        "outputId": "a62a3629-70b8-4731-c62c-385bbc87eb47"
      },
      "outputs": [
        {
          "output_type": "stream",
          "name": "stdout",
          "text": [
            "(778, 30, 6)\n",
            "(778, 1)\n"
          ]
        }
      ],
      "source": [
        "print(X.shape)\n",
        "print(y.shape)"
      ]
    },
    {
      "cell_type": "code",
      "execution_count": 72,
      "metadata": {
        "colab": {
          "base_uri": "https://localhost:8080/",
          "height": 1000
        },
        "id": "frbO-ibI-gy-",
        "outputId": "ad1a4377-aa6f-4d7a-8251-8621fdce0373"
      },
      "outputs": [
        {
          "output_type": "stream",
          "name": "stderr",
          "text": [
            "/usr/local/lib/python3.11/dist-packages/keras/src/layers/rnn/bidirectional.py:107: UserWarning: Do not pass an `input_shape`/`input_dim` argument to a layer. When using Sequential models, prefer using an `Input(shape)` object as the first layer in the model instead.\n",
            "  super().__init__(**kwargs)\n"
          ]
        },
        {
          "output_type": "stream",
          "name": "stdout",
          "text": [
            "Epoch 1/50\n",
            "\u001b[1m19/19\u001b[0m \u001b[32m━━━━━━━━━━━━━━━━━━━━\u001b[0m\u001b[37m\u001b[0m \u001b[1m7s\u001b[0m 45ms/step - loss: 0.1593 - mean_absolute_error: 0.3183 - val_loss: 0.0486 - val_mean_absolute_error: 0.2125\n",
            "Epoch 2/50\n",
            "\u001b[1m19/19\u001b[0m \u001b[32m━━━━━━━━━━━━━━━━━━━━\u001b[0m\u001b[37m\u001b[0m \u001b[1m0s\u001b[0m 15ms/step - loss: 0.0172 - mean_absolute_error: 0.1053 - val_loss: 0.0263 - val_mean_absolute_error: 0.1521\n",
            "Epoch 3/50\n",
            "\u001b[1m19/19\u001b[0m \u001b[32m━━━━━━━━━━━━━━━━━━━━\u001b[0m\u001b[37m\u001b[0m \u001b[1m1s\u001b[0m 16ms/step - loss: 0.0095 - mean_absolute_error: 0.0766 - val_loss: 0.0147 - val_mean_absolute_error: 0.1082\n",
            "Epoch 4/50\n",
            "\u001b[1m19/19\u001b[0m \u001b[32m━━━━━━━━━━━━━━━━━━━━\u001b[0m\u001b[37m\u001b[0m \u001b[1m0s\u001b[0m 15ms/step - loss: 0.0090 - mean_absolute_error: 0.0744 - val_loss: 0.0117 - val_mean_absolute_error: 0.0945\n",
            "Epoch 5/50\n",
            "\u001b[1m19/19\u001b[0m \u001b[32m━━━━━━━━━━━━━━━━━━━━\u001b[0m\u001b[37m\u001b[0m \u001b[1m0s\u001b[0m 15ms/step - loss: 0.0075 - mean_absolute_error: 0.0688 - val_loss: 0.0117 - val_mean_absolute_error: 0.0953\n",
            "Epoch 6/50\n",
            "\u001b[1m19/19\u001b[0m \u001b[32m━━━━━━━━━━━━━━━━━━━━\u001b[0m\u001b[37m\u001b[0m \u001b[1m0s\u001b[0m 16ms/step - loss: 0.0062 - mean_absolute_error: 0.0607 - val_loss: 0.0073 - val_mean_absolute_error: 0.0713\n",
            "Epoch 7/50\n",
            "\u001b[1m19/19\u001b[0m \u001b[32m━━━━━━━━━━━━━━━━━━━━\u001b[0m\u001b[37m\u001b[0m \u001b[1m0s\u001b[0m 16ms/step - loss: 0.0052 - mean_absolute_error: 0.0570 - val_loss: 0.0044 - val_mean_absolute_error: 0.0542\n",
            "Epoch 8/50\n",
            "\u001b[1m19/19\u001b[0m \u001b[32m━━━━━━━━━━━━━━━━━━━━\u001b[0m\u001b[37m\u001b[0m \u001b[1m0s\u001b[0m 16ms/step - loss: 0.0063 - mean_absolute_error: 0.0634 - val_loss: 0.0030 - val_mean_absolute_error: 0.0446\n",
            "Epoch 9/50\n",
            "\u001b[1m19/19\u001b[0m \u001b[32m━━━━━━━━━━━━━━━━━━━━\u001b[0m\u001b[37m\u001b[0m \u001b[1m0s\u001b[0m 15ms/step - loss: 0.0052 - mean_absolute_error: 0.0576 - val_loss: 0.0054 - val_mean_absolute_error: 0.0604\n",
            "Epoch 10/50\n",
            "\u001b[1m19/19\u001b[0m \u001b[32m━━━━━━━━━━━━━━━━━━━━\u001b[0m\u001b[37m\u001b[0m \u001b[1m0s\u001b[0m 15ms/step - loss: 0.0060 - mean_absolute_error: 0.0611 - val_loss: 0.0046 - val_mean_absolute_error: 0.0553\n",
            "Epoch 11/50\n",
            "\u001b[1m19/19\u001b[0m \u001b[32m━━━━━━━━━━━━━━━━━━━━\u001b[0m\u001b[37m\u001b[0m \u001b[1m0s\u001b[0m 16ms/step - loss: 0.0052 - mean_absolute_error: 0.0571 - val_loss: 0.0040 - val_mean_absolute_error: 0.0516\n",
            "Epoch 12/50\n",
            "\u001b[1m19/19\u001b[0m \u001b[32m━━━━━━━━━━━━━━━━━━━━\u001b[0m\u001b[37m\u001b[0m \u001b[1m0s\u001b[0m 16ms/step - loss: 0.0042 - mean_absolute_error: 0.0509 - val_loss: 0.0054 - val_mean_absolute_error: 0.0600\n",
            "Epoch 13/50\n",
            "\u001b[1m19/19\u001b[0m \u001b[32m━━━━━━━━━━━━━━━━━━━━\u001b[0m\u001b[37m\u001b[0m \u001b[1m1s\u001b[0m 16ms/step - loss: 0.0047 - mean_absolute_error: 0.0541 - val_loss: 0.0027 - val_mean_absolute_error: 0.0419\n",
            "Epoch 14/50\n",
            "\u001b[1m19/19\u001b[0m \u001b[32m━━━━━━━━━━━━━━━━━━━━\u001b[0m\u001b[37m\u001b[0m \u001b[1m1s\u001b[0m 16ms/step - loss: 0.0043 - mean_absolute_error: 0.0504 - val_loss: 0.0034 - val_mean_absolute_error: 0.0474\n",
            "Epoch 15/50\n",
            "\u001b[1m19/19\u001b[0m \u001b[32m━━━━━━━━━━━━━━━━━━━━\u001b[0m\u001b[37m\u001b[0m \u001b[1m1s\u001b[0m 16ms/step - loss: 0.0041 - mean_absolute_error: 0.0499 - val_loss: 0.0044 - val_mean_absolute_error: 0.0538\n",
            "Epoch 16/50\n",
            "\u001b[1m19/19\u001b[0m \u001b[32m━━━━━━━━━━━━━━━━━━━━\u001b[0m\u001b[37m\u001b[0m \u001b[1m0s\u001b[0m 16ms/step - loss: 0.0044 - mean_absolute_error: 0.0527 - val_loss: 0.0026 - val_mean_absolute_error: 0.0412\n",
            "Epoch 17/50\n",
            "\u001b[1m19/19\u001b[0m \u001b[32m━━━━━━━━━━━━━━━━━━━━\u001b[0m\u001b[37m\u001b[0m \u001b[1m0s\u001b[0m 15ms/step - loss: 0.0050 - mean_absolute_error: 0.0570 - val_loss: 0.0053 - val_mean_absolute_error: 0.0601\n",
            "Epoch 18/50\n",
            "\u001b[1m19/19\u001b[0m \u001b[32m━━━━━━━━━━━━━━━━━━━━\u001b[0m\u001b[37m\u001b[0m \u001b[1m0s\u001b[0m 15ms/step - loss: 0.0048 - mean_absolute_error: 0.0548 - val_loss: 0.0024 - val_mean_absolute_error: 0.0397\n",
            "Epoch 19/50\n",
            "\u001b[1m19/19\u001b[0m \u001b[32m━━━━━━━━━━━━━━━━━━━━\u001b[0m\u001b[37m\u001b[0m \u001b[1m1s\u001b[0m 26ms/step - loss: 0.0045 - mean_absolute_error: 0.0524 - val_loss: 0.0035 - val_mean_absolute_error: 0.0481\n",
            "Epoch 20/50\n",
            "\u001b[1m19/19\u001b[0m \u001b[32m━━━━━━━━━━━━━━━━━━━━\u001b[0m\u001b[37m\u001b[0m \u001b[1m1s\u001b[0m 26ms/step - loss: 0.0043 - mean_absolute_error: 0.0526 - val_loss: 0.0032 - val_mean_absolute_error: 0.0455\n",
            "Epoch 21/50\n",
            "\u001b[1m19/19\u001b[0m \u001b[32m━━━━━━━━━━━━━━━━━━━━\u001b[0m\u001b[37m\u001b[0m \u001b[1m1s\u001b[0m 27ms/step - loss: 0.0039 - mean_absolute_error: 0.0487 - val_loss: 0.0028 - val_mean_absolute_error: 0.0421\n",
            "Epoch 22/50\n",
            "\u001b[1m19/19\u001b[0m \u001b[32m━━━━━━━━━━━━━━━━━━━━\u001b[0m\u001b[37m\u001b[0m \u001b[1m1s\u001b[0m 28ms/step - loss: 0.0036 - mean_absolute_error: 0.0480 - val_loss: 0.0037 - val_mean_absolute_error: 0.0488\n",
            "Epoch 23/50\n",
            "\u001b[1m19/19\u001b[0m \u001b[32m━━━━━━━━━━━━━━━━━━━━\u001b[0m\u001b[37m\u001b[0m \u001b[1m0s\u001b[0m 15ms/step - loss: 0.0052 - mean_absolute_error: 0.0562 - val_loss: 0.0046 - val_mean_absolute_error: 0.0557\n",
            "Epoch 24/50\n",
            "\u001b[1m19/19\u001b[0m \u001b[32m━━━━━━━━━━━━━━━━━━━━\u001b[0m\u001b[37m\u001b[0m \u001b[1m0s\u001b[0m 16ms/step - loss: 0.0043 - mean_absolute_error: 0.0521 - val_loss: 0.0024 - val_mean_absolute_error: 0.0391\n",
            "Epoch 25/50\n",
            "\u001b[1m19/19\u001b[0m \u001b[32m━━━━━━━━━━━━━━━━━━━━\u001b[0m\u001b[37m\u001b[0m \u001b[1m0s\u001b[0m 16ms/step - loss: 0.0033 - mean_absolute_error: 0.0461 - val_loss: 0.0024 - val_mean_absolute_error: 0.0392\n",
            "Epoch 26/50\n",
            "\u001b[1m19/19\u001b[0m \u001b[32m━━━━━━━━━━━━━━━━━━━━\u001b[0m\u001b[37m\u001b[0m \u001b[1m0s\u001b[0m 15ms/step - loss: 0.0036 - mean_absolute_error: 0.0478 - val_loss: 0.0021 - val_mean_absolute_error: 0.0374\n",
            "Epoch 27/50\n",
            "\u001b[1m19/19\u001b[0m \u001b[32m━━━━━━━━━━━━━━━━━━━━\u001b[0m\u001b[37m\u001b[0m \u001b[1m0s\u001b[0m 15ms/step - loss: 0.0037 - mean_absolute_error: 0.0468 - val_loss: 0.0039 - val_mean_absolute_error: 0.0511\n",
            "Epoch 28/50\n",
            "\u001b[1m19/19\u001b[0m \u001b[32m━━━━━━━━━━━━━━━━━━━━\u001b[0m\u001b[37m\u001b[0m \u001b[1m0s\u001b[0m 16ms/step - loss: 0.0040 - mean_absolute_error: 0.0501 - val_loss: 0.0026 - val_mean_absolute_error: 0.0408\n",
            "Epoch 29/50\n",
            "\u001b[1m19/19\u001b[0m \u001b[32m━━━━━━━━━━━━━━━━━━━━\u001b[0m\u001b[37m\u001b[0m \u001b[1m0s\u001b[0m 15ms/step - loss: 0.0034 - mean_absolute_error: 0.0456 - val_loss: 0.0035 - val_mean_absolute_error: 0.0480\n",
            "Epoch 30/50\n",
            "\u001b[1m19/19\u001b[0m \u001b[32m━━━━━━━━━━━━━━━━━━━━\u001b[0m\u001b[37m\u001b[0m \u001b[1m0s\u001b[0m 15ms/step - loss: 0.0038 - mean_absolute_error: 0.0486 - val_loss: 0.0026 - val_mean_absolute_error: 0.0409\n",
            "Epoch 31/50\n",
            "\u001b[1m19/19\u001b[0m \u001b[32m━━━━━━━━━━━━━━━━━━━━\u001b[0m\u001b[37m\u001b[0m \u001b[1m0s\u001b[0m 15ms/step - loss: 0.0038 - mean_absolute_error: 0.0482 - val_loss: 0.0029 - val_mean_absolute_error: 0.0431\n",
            "Epoch 32/50\n",
            "\u001b[1m19/19\u001b[0m \u001b[32m━━━━━━━━━━━━━━━━━━━━\u001b[0m\u001b[37m\u001b[0m \u001b[1m0s\u001b[0m 15ms/step - loss: 0.0036 - mean_absolute_error: 0.0476 - val_loss: 0.0022 - val_mean_absolute_error: 0.0373\n",
            "Epoch 33/50\n",
            "\u001b[1m19/19\u001b[0m \u001b[32m━━━━━━━━━━━━━━━━━━━━\u001b[0m\u001b[37m\u001b[0m \u001b[1m0s\u001b[0m 15ms/step - loss: 0.0035 - mean_absolute_error: 0.0455 - val_loss: 0.0025 - val_mean_absolute_error: 0.0398\n",
            "Epoch 34/50\n",
            "\u001b[1m19/19\u001b[0m \u001b[32m━━━━━━━━━━━━━━━━━━━━\u001b[0m\u001b[37m\u001b[0m \u001b[1m0s\u001b[0m 16ms/step - loss: 0.0040 - mean_absolute_error: 0.0506 - val_loss: 0.0023 - val_mean_absolute_error: 0.0388\n",
            "Epoch 35/50\n",
            "\u001b[1m19/19\u001b[0m \u001b[32m━━━━━━━━━━━━━━━━━━━━\u001b[0m\u001b[37m\u001b[0m \u001b[1m0s\u001b[0m 16ms/step - loss: 0.0043 - mean_absolute_error: 0.0516 - val_loss: 0.0022 - val_mean_absolute_error: 0.0375\n",
            "Epoch 36/50\n",
            "\u001b[1m19/19\u001b[0m \u001b[32m━━━━━━━━━━━━━━━━━━━━\u001b[0m\u001b[37m\u001b[0m \u001b[1m0s\u001b[0m 15ms/step - loss: 0.0035 - mean_absolute_error: 0.0458 - val_loss: 0.0024 - val_mean_absolute_error: 0.0388\n",
            "Epoch 37/50\n",
            "\u001b[1m19/19\u001b[0m \u001b[32m━━━━━━━━━━━━━━━━━━━━\u001b[0m\u001b[37m\u001b[0m \u001b[1m0s\u001b[0m 16ms/step - loss: 0.0036 - mean_absolute_error: 0.0469 - val_loss: 0.0021 - val_mean_absolute_error: 0.0371\n",
            "Epoch 38/50\n",
            "\u001b[1m19/19\u001b[0m \u001b[32m━━━━━━━━━━━━━━━━━━━━\u001b[0m\u001b[37m\u001b[0m \u001b[1m0s\u001b[0m 16ms/step - loss: 0.0027 - mean_absolute_error: 0.0415 - val_loss: 0.0027 - val_mean_absolute_error: 0.0416\n",
            "Epoch 39/50\n",
            "\u001b[1m19/19\u001b[0m \u001b[32m━━━━━━━━━━━━━━━━━━━━\u001b[0m\u001b[37m\u001b[0m \u001b[1m1s\u001b[0m 16ms/step - loss: 0.0029 - mean_absolute_error: 0.0421 - val_loss: 0.0024 - val_mean_absolute_error: 0.0392\n",
            "Epoch 40/50\n",
            "\u001b[1m19/19\u001b[0m \u001b[32m━━━━━━━━━━━━━━━━━━━━\u001b[0m\u001b[37m\u001b[0m \u001b[1m1s\u001b[0m 16ms/step - loss: 0.0031 - mean_absolute_error: 0.0446 - val_loss: 0.0038 - val_mean_absolute_error: 0.0505\n",
            "Epoch 41/50\n",
            "\u001b[1m19/19\u001b[0m \u001b[32m━━━━━━━━━━━━━━━━━━━━\u001b[0m\u001b[37m\u001b[0m \u001b[1m0s\u001b[0m 15ms/step - loss: 0.0041 - mean_absolute_error: 0.0508 - val_loss: 0.0027 - val_mean_absolute_error: 0.0411\n",
            "Epoch 42/50\n",
            "\u001b[1m19/19\u001b[0m \u001b[32m━━━━━━━━━━━━━━━━━━━━\u001b[0m\u001b[37m\u001b[0m \u001b[1m0s\u001b[0m 15ms/step - loss: 0.0031 - mean_absolute_error: 0.0450 - val_loss: 0.0030 - val_mean_absolute_error: 0.0443\n",
            "Epoch 43/50\n",
            "\u001b[1m19/19\u001b[0m \u001b[32m━━━━━━━━━━━━━━━━━━━━\u001b[0m\u001b[37m\u001b[0m \u001b[1m0s\u001b[0m 17ms/step - loss: 0.0038 - mean_absolute_error: 0.0487 - val_loss: 0.0027 - val_mean_absolute_error: 0.0419\n",
            "Epoch 44/50\n",
            "\u001b[1m19/19\u001b[0m \u001b[32m━━━━━━━━━━━━━━━━━━━━\u001b[0m\u001b[37m\u001b[0m \u001b[1m1s\u001b[0m 15ms/step - loss: 0.0035 - mean_absolute_error: 0.0458 - val_loss: 0.0027 - val_mean_absolute_error: 0.0416\n",
            "Epoch 45/50\n",
            "\u001b[1m19/19\u001b[0m \u001b[32m━━━━━━━━━━━━━━━━━━━━\u001b[0m\u001b[37m\u001b[0m \u001b[1m0s\u001b[0m 16ms/step - loss: 0.0036 - mean_absolute_error: 0.0485 - val_loss: 0.0024 - val_mean_absolute_error: 0.0392\n",
            "Epoch 46/50\n",
            "\u001b[1m19/19\u001b[0m \u001b[32m━━━━━━━━━━━━━━━━━━━━\u001b[0m\u001b[37m\u001b[0m \u001b[1m1s\u001b[0m 16ms/step - loss: 0.0031 - mean_absolute_error: 0.0435 - val_loss: 0.0023 - val_mean_absolute_error: 0.0388\n",
            "Epoch 47/50\n",
            "\u001b[1m19/19\u001b[0m \u001b[32m━━━━━━━━━━━━━━━━━━━━\u001b[0m\u001b[37m\u001b[0m \u001b[1m0s\u001b[0m 16ms/step - loss: 0.0032 - mean_absolute_error: 0.0445 - val_loss: 0.0021 - val_mean_absolute_error: 0.0368\n",
            "Epoch 48/50\n",
            "\u001b[1m19/19\u001b[0m \u001b[32m━━━━━━━━━━━━━━━━━━━━\u001b[0m\u001b[37m\u001b[0m \u001b[1m1s\u001b[0m 16ms/step - loss: 0.0032 - mean_absolute_error: 0.0454 - val_loss: 0.0022 - val_mean_absolute_error: 0.0375\n",
            "Epoch 49/50\n",
            "\u001b[1m19/19\u001b[0m \u001b[32m━━━━━━━━━━━━━━━━━━━━\u001b[0m\u001b[37m\u001b[0m \u001b[1m0s\u001b[0m 20ms/step - loss: 0.0026 - mean_absolute_error: 0.0414 - val_loss: 0.0023 - val_mean_absolute_error: 0.0380\n",
            "Epoch 50/50\n",
            "\u001b[1m19/19\u001b[0m \u001b[32m━━━━━━━━━━━━━━━━━━━━\u001b[0m\u001b[37m\u001b[0m \u001b[1m1s\u001b[0m 25ms/step - loss: 0.0036 - mean_absolute_error: 0.0483 - val_loss: 0.0023 - val_mean_absolute_error: 0.0385\n",
            "Model input shape: (None, 30, 6)\n",
            "Model summary:\n"
          ]
        },
        {
          "output_type": "display_data",
          "data": {
            "text/plain": [
              "\u001b[1mModel: \"sequential\"\u001b[0m\n"
            ],
            "text/html": [
              "<pre style=\"white-space:pre;overflow-x:auto;line-height:normal;font-family:Menlo,'DejaVu Sans Mono',consolas,'Courier New',monospace\"><span style=\"font-weight: bold\">Model: \"sequential\"</span>\n",
              "</pre>\n"
            ]
          },
          "metadata": {}
        },
        {
          "output_type": "display_data",
          "data": {
            "text/plain": [
              "┏━━━━━━━━━━━━━━━━━━━━━━━━━━━━━━━━━┳━━━━━━━━━━━━━━━━━━━━━━━━┳━━━━━━━━━━━━━━━┓\n",
              "┃\u001b[1m \u001b[0m\u001b[1mLayer (type)                   \u001b[0m\u001b[1m \u001b[0m┃\u001b[1m \u001b[0m\u001b[1mOutput Shape          \u001b[0m\u001b[1m \u001b[0m┃\u001b[1m \u001b[0m\u001b[1m      Param #\u001b[0m\u001b[1m \u001b[0m┃\n",
              "┡━━━━━━━━━━━━━━━━━━━━━━━━━━━━━━━━━╇━━━━━━━━━━━━━━━━━━━━━━━━╇━━━━━━━━━━━━━━━┩\n",
              "│ bidirectional (\u001b[38;5;33mBidirectional\u001b[0m)   │ (\u001b[38;5;45mNone\u001b[0m, \u001b[38;5;34m30\u001b[0m, \u001b[38;5;34m256\u001b[0m)        │       \u001b[38;5;34m138,240\u001b[0m │\n",
              "├─────────────────────────────────┼────────────────────────┼───────────────┤\n",
              "│ dropout (\u001b[38;5;33mDropout\u001b[0m)               │ (\u001b[38;5;45mNone\u001b[0m, \u001b[38;5;34m30\u001b[0m, \u001b[38;5;34m256\u001b[0m)        │             \u001b[38;5;34m0\u001b[0m │\n",
              "├─────────────────────────────────┼────────────────────────┼───────────────┤\n",
              "│ bidirectional_1 (\u001b[38;5;33mBidirectional\u001b[0m) │ (\u001b[38;5;45mNone\u001b[0m, \u001b[38;5;34m100\u001b[0m)            │       \u001b[38;5;34m122,800\u001b[0m │\n",
              "├─────────────────────────────────┼────────────────────────┼───────────────┤\n",
              "│ dropout_1 (\u001b[38;5;33mDropout\u001b[0m)             │ (\u001b[38;5;45mNone\u001b[0m, \u001b[38;5;34m100\u001b[0m)            │             \u001b[38;5;34m0\u001b[0m │\n",
              "├─────────────────────────────────┼────────────────────────┼───────────────┤\n",
              "│ dense (\u001b[38;5;33mDense\u001b[0m)                   │ (\u001b[38;5;45mNone\u001b[0m, \u001b[38;5;34m1\u001b[0m)              │           \u001b[38;5;34m101\u001b[0m │\n",
              "└─────────────────────────────────┴────────────────────────┴───────────────┘\n"
            ],
            "text/html": [
              "<pre style=\"white-space:pre;overflow-x:auto;line-height:normal;font-family:Menlo,'DejaVu Sans Mono',consolas,'Courier New',monospace\">┏━━━━━━━━━━━━━━━━━━━━━━━━━━━━━━━━━┳━━━━━━━━━━━━━━━━━━━━━━━━┳━━━━━━━━━━━━━━━┓\n",
              "┃<span style=\"font-weight: bold\"> Layer (type)                    </span>┃<span style=\"font-weight: bold\"> Output Shape           </span>┃<span style=\"font-weight: bold\">       Param # </span>┃\n",
              "┡━━━━━━━━━━━━━━━━━━━━━━━━━━━━━━━━━╇━━━━━━━━━━━━━━━━━━━━━━━━╇━━━━━━━━━━━━━━━┩\n",
              "│ bidirectional (<span style=\"color: #0087ff; text-decoration-color: #0087ff\">Bidirectional</span>)   │ (<span style=\"color: #00d7ff; text-decoration-color: #00d7ff\">None</span>, <span style=\"color: #00af00; text-decoration-color: #00af00\">30</span>, <span style=\"color: #00af00; text-decoration-color: #00af00\">256</span>)        │       <span style=\"color: #00af00; text-decoration-color: #00af00\">138,240</span> │\n",
              "├─────────────────────────────────┼────────────────────────┼───────────────┤\n",
              "│ dropout (<span style=\"color: #0087ff; text-decoration-color: #0087ff\">Dropout</span>)               │ (<span style=\"color: #00d7ff; text-decoration-color: #00d7ff\">None</span>, <span style=\"color: #00af00; text-decoration-color: #00af00\">30</span>, <span style=\"color: #00af00; text-decoration-color: #00af00\">256</span>)        │             <span style=\"color: #00af00; text-decoration-color: #00af00\">0</span> │\n",
              "├─────────────────────────────────┼────────────────────────┼───────────────┤\n",
              "│ bidirectional_1 (<span style=\"color: #0087ff; text-decoration-color: #0087ff\">Bidirectional</span>) │ (<span style=\"color: #00d7ff; text-decoration-color: #00d7ff\">None</span>, <span style=\"color: #00af00; text-decoration-color: #00af00\">100</span>)            │       <span style=\"color: #00af00; text-decoration-color: #00af00\">122,800</span> │\n",
              "├─────────────────────────────────┼────────────────────────┼───────────────┤\n",
              "│ dropout_1 (<span style=\"color: #0087ff; text-decoration-color: #0087ff\">Dropout</span>)             │ (<span style=\"color: #00d7ff; text-decoration-color: #00d7ff\">None</span>, <span style=\"color: #00af00; text-decoration-color: #00af00\">100</span>)            │             <span style=\"color: #00af00; text-decoration-color: #00af00\">0</span> │\n",
              "├─────────────────────────────────┼────────────────────────┼───────────────┤\n",
              "│ dense (<span style=\"color: #0087ff; text-decoration-color: #0087ff\">Dense</span>)                   │ (<span style=\"color: #00d7ff; text-decoration-color: #00d7ff\">None</span>, <span style=\"color: #00af00; text-decoration-color: #00af00\">1</span>)              │           <span style=\"color: #00af00; text-decoration-color: #00af00\">101</span> │\n",
              "└─────────────────────────────────┴────────────────────────┴───────────────┘\n",
              "</pre>\n"
            ]
          },
          "metadata": {}
        },
        {
          "output_type": "display_data",
          "data": {
            "text/plain": [
              "\u001b[1m Total params: \u001b[0m\u001b[38;5;34m783,425\u001b[0m (2.99 MB)\n"
            ],
            "text/html": [
              "<pre style=\"white-space:pre;overflow-x:auto;line-height:normal;font-family:Menlo,'DejaVu Sans Mono',consolas,'Courier New',monospace\"><span style=\"font-weight: bold\"> Total params: </span><span style=\"color: #00af00; text-decoration-color: #00af00\">783,425</span> (2.99 MB)\n",
              "</pre>\n"
            ]
          },
          "metadata": {}
        },
        {
          "output_type": "display_data",
          "data": {
            "text/plain": [
              "\u001b[1m Trainable params: \u001b[0m\u001b[38;5;34m261,141\u001b[0m (1020.08 KB)\n"
            ],
            "text/html": [
              "<pre style=\"white-space:pre;overflow-x:auto;line-height:normal;font-family:Menlo,'DejaVu Sans Mono',consolas,'Courier New',monospace\"><span style=\"font-weight: bold\"> Trainable params: </span><span style=\"color: #00af00; text-decoration-color: #00af00\">261,141</span> (1020.08 KB)\n",
              "</pre>\n"
            ]
          },
          "metadata": {}
        },
        {
          "output_type": "display_data",
          "data": {
            "text/plain": [
              "\u001b[1m Non-trainable params: \u001b[0m\u001b[38;5;34m0\u001b[0m (0.00 B)\n"
            ],
            "text/html": [
              "<pre style=\"white-space:pre;overflow-x:auto;line-height:normal;font-family:Menlo,'DejaVu Sans Mono',consolas,'Courier New',monospace\"><span style=\"font-weight: bold\"> Non-trainable params: </span><span style=\"color: #00af00; text-decoration-color: #00af00\">0</span> (0.00 B)\n",
              "</pre>\n"
            ]
          },
          "metadata": {}
        },
        {
          "output_type": "display_data",
          "data": {
            "text/plain": [
              "\u001b[1m Optimizer params: \u001b[0m\u001b[38;5;34m522,284\u001b[0m (1.99 MB)\n"
            ],
            "text/html": [
              "<pre style=\"white-space:pre;overflow-x:auto;line-height:normal;font-family:Menlo,'DejaVu Sans Mono',consolas,'Courier New',monospace\"><span style=\"font-weight: bold\"> Optimizer params: </span><span style=\"color: #00af00; text-decoration-color: #00af00\">522,284</span> (1.99 MB)\n",
              "</pre>\n"
            ]
          },
          "metadata": {}
        },
        {
          "output_type": "stream",
          "name": "stdout",
          "text": [
            "\u001b[1m7/7\u001b[0m \u001b[32m━━━━━━━━━━━━━━━━━━━━\u001b[0m\u001b[37m\u001b[0m \u001b[1m1s\u001b[0m 77ms/step\n",
            "RMSE: 96.5030833599686\n",
            "MAE : 77.16225085136217\n",
            "MAPE: 2.86%\n"
          ]
        }
      ],
      "source": [
        "model = Sequential()\n",
        "model.add(Bidirectional(LSTM(128, return_sequences=True), input_shape=(window_size, len(features))))\n",
        "model.add(Dropout(0.2))\n",
        "model.add(Bidirectional(LSTM(50)))\n",
        "model.add(Dropout(0.2))\n",
        "model.add(Dense(1))  # Output: Prediksi Close price\n",
        "\n",
        "model.compile(optimizer='adam', loss='mean_squared_error', metrics=['mean_absolute_error'])\n",
        "\n",
        "\n",
        "history = model.fit(X_train, y_train, epochs=50, batch_size=32, validation_data=(X_test, y_test))\n",
        "\n",
        "print(\"Model input shape:\", model.input_shape)\n",
        "print(\"Model summary:\")\n",
        "model.summary()\n",
        "\n",
        "# Prediksi\n",
        "y_pred = model.predict(X_test)\n",
        "\n",
        "# Inverse transform\n",
        "close_scaler = load('scaler_close_3.pkl')\n",
        "y_pred_inv = close_scaler.inverse_transform(y_pred)\n",
        "y_test_inv = close_scaler.inverse_transform(y_test.reshape(-1, 1))\n",
        "\n",
        "# Hitung metrik\n",
        "rmse = np.sqrt(mean_squared_error(y_test_inv, y_pred_inv))\n",
        "mae = mean_absolute_error(y_test_inv, y_pred_inv)\n",
        "\n",
        "print(f\"RMSE: {rmse}\")\n",
        "print(f\"MAE : {mae}\")\n",
        "\n",
        "mape = np.mean(np.abs((y_test_inv - y_pred_inv) / y_test_inv)) * 100\n",
        "print(f\"MAPE: {mape:.2f}%\")\n",
        "\n"
      ]
    },
    {
      "cell_type": "code",
      "source": [
        "plt.figure(figsize=(12, 6))\n",
        "plt.plot(y_test_inv, label='Actual Close Price')\n",
        "plt.plot(y_pred_inv, label='Predicted Close Price')\n",
        "plt.title('BI-LSTM Prediction vs Actual')\n",
        "plt.xlabel('Time')\n",
        "plt.ylabel('Close Price')\n",
        "plt.legend()\n",
        "plt.grid(True)\n",
        "plt.show()"
      ],
      "metadata": {
        "colab": {
          "base_uri": "https://localhost:8080/",
          "height": 453
        },
        "id": "Ed5U9MBbgSfs",
        "outputId": "3bca23c7-b660-4ae9-b8f0-342d6e50ecf5"
      },
      "execution_count": 73,
      "outputs": [
        {
          "output_type": "display_data",
          "data": {
            "text/plain": [
              "<Figure size 1200x600 with 1 Axes>"
            ],
            "image/png": "[encoded data removed]"
          },
          "metadata": {}
        }
      ]
    },
    {
      "cell_type": "markdown",
      "metadata": {
        "id": "EARtiBoeqfM1"
      },
      "source": [
        "## Model LSTM"
      ]
    },
    {
      "cell_type": "code",
      "execution_count": 73,
      "metadata": {
        "colab": {
          "base_uri": "https://localhost:8080/",
          "height": 289
        },
        "id": "dLS4-mqVqfM1",
        "outputId": "75356674-7df8-4be9-d11d-40a402f251d7"
      },
      "outputs": [
        {
          "output_type": "display_data",
          "data": {
            "text/plain": [
              "\u001b[1mModel: \"sequential_1\"\u001b[0m\n"
            ],
            "text/html": [
              "<pre style=\"white-space:pre;overflow-x:auto;line-height:normal;font-family:Menlo,'DejaVu Sans Mono',consolas,'Courier New',monospace\"><span style=\"font-weight: bold\">Model: \"sequential_1\"</span>\n",
              "</pre>\n"
            ]
          },
          "metadata": {}
        },
        {
          "output_type": "display_data",
          "data": {
            "text/plain": [
              "┏━━━━━━━━━━━━━━━━━━━━━━━━━━━━━━━━━┳━━━━━━━━━━━━━━━━━━━━━━━━┳━━━━━━━━━━━━━━━┓\n",
              "┃\u001b[1m \u001b[0m\u001b[1mLayer (type)                   \u001b[0m\u001b[1m \u001b[0m┃\u001b[1m \u001b[0m\u001b[1mOutput Shape          \u001b[0m\u001b[1m \u001b[0m┃\u001b[1m \u001b[0m\u001b[1m      Param #\u001b[0m\u001b[1m \u001b[0m┃\n",
              "┡━━━━━━━━━━━━━━━━━━━━━━━━━━━━━━━━━╇━━━━━━━━━━━━━━━━━━━━━━━━╇━━━━━━━━━━━━━━━┩\n",
              "│ lstm_2 (\u001b[38;5;33mLSTM\u001b[0m)                   │ (\u001b[38;5;45mNone\u001b[0m, \u001b[38;5;34m30\u001b[0m, \u001b[38;5;34m128\u001b[0m)        │        \u001b[38;5;34m69,120\u001b[0m │\n",
              "├─────────────────────────────────┼────────────────────────┼───────────────┤\n",
              "│ dropout_2 (\u001b[38;5;33mDropout\u001b[0m)             │ (\u001b[38;5;45mNone\u001b[0m, \u001b[38;5;34m30\u001b[0m, \u001b[38;5;34m128\u001b[0m)        │             \u001b[38;5;34m0\u001b[0m │\n",
              "├─────────────────────────────────┼────────────────────────┼───────────────┤\n",
              "│ lstm_3 (\u001b[38;5;33mLSTM\u001b[0m)                   │ (\u001b[38;5;45mNone\u001b[0m, \u001b[38;5;34m50\u001b[0m)             │        \u001b[38;5;34m35,800\u001b[0m │\n",
              "├─────────────────────────────────┼────────────────────────┼───────────────┤\n",
              "│ dropout_3 (\u001b[38;5;33mDropout\u001b[0m)             │ (\u001b[38;5;45mNone\u001b[0m, \u001b[38;5;34m50\u001b[0m)             │             \u001b[38;5;34m0\u001b[0m │\n",
              "├─────────────────────────────────┼────────────────────────┼───────────────┤\n",
              "│ dense_1 (\u001b[38;5;33mDense\u001b[0m)                 │ (\u001b[38;5;45mNone\u001b[0m, \u001b[38;5;34m1\u001b[0m)              │            \u001b[38;5;34m51\u001b[0m │\n",
              "└─────────────────────────────────┴────────────────────────┴───────────────┘\n"
            ],
            "text/html": [
              "<pre style=\"white-space:pre;overflow-x:auto;line-height:normal;font-family:Menlo,'DejaVu Sans Mono',consolas,'Courier New',monospace\">┏━━━━━━━━━━━━━━━━━━━━━━━━━━━━━━━━━┳━━━━━━━━━━━━━━━━━━━━━━━━┳━━━━━━━━━━━━━━━┓\n",
              "┃<span style=\"font-weight: bold\"> Layer (type)                    </span>┃<span style=\"font-weight: bold\"> Output Shape           </span>┃<span style=\"font-weight: bold\">       Param # </span>┃\n",
              "┡━━━━━━━━━━━━━━━━━━━━━━━━━━━━━━━━━╇━━━━━━━━━━━━━━━━━━━━━━━━╇━━━━━━━━━━━━━━━┩\n",
              "│ lstm_2 (<span style=\"color: #0087ff; text-decoration-color: #0087ff\">LSTM</span>)                   │ (<span style=\"color: #00d7ff; text-decoration-color: #00d7ff\">None</span>, <span style=\"color: #00af00; text-decoration-color: #00af00\">30</span>, <span style=\"color: #00af00; text-decoration-color: #00af00\">128</span>)        │        <span style=\"color: #00af00; text-decoration-color: #00af00\">69,120</span> │\n",
              "├─────────────────────────────────┼────────────────────────┼───────────────┤\n",
              "│ dropout_2 (<span style=\"color: #0087ff; text-decoration-color: #0087ff\">Dropout</span>)             │ (<span style=\"color: #00d7ff; text-decoration-color: #00d7ff\">None</span>, <span style=\"color: #00af00; text-decoration-color: #00af00\">30</span>, <span style=\"color: #00af00; text-decoration-color: #00af00\">128</span>)        │             <span style=\"color: #00af00; text-decoration-color: #00af00\">0</span> │\n",
              "├─────────────────────────────────┼────────────────────────┼───────────────┤\n",
              "│ lstm_3 (<span style=\"color: #0087ff; text-decoration-color: #0087ff\">LSTM</span>)                   │ (<span style=\"color: #00d7ff; text-decoration-color: #00d7ff\">None</span>, <span style=\"color: #00af00; text-decoration-color: #00af00\">50</span>)             │        <span style=\"color: #00af00; text-decoration-color: #00af00\">35,800</span> │\n",
              "├─────────────────────────────────┼────────────────────────┼───────────────┤\n",
              "│ dropout_3 (<span style=\"color: #0087ff; text-decoration-color: #0087ff\">Dropout</span>)             │ (<span style=\"color: #00d7ff; text-decoration-color: #00d7ff\">None</span>, <span style=\"color: #00af00; text-decoration-color: #00af00\">50</span>)             │             <span style=\"color: #00af00; text-decoration-color: #00af00\">0</span> │\n",
              "├─────────────────────────────────┼────────────────────────┼───────────────┤\n",
              "│ dense_1 (<span style=\"color: #0087ff; text-decoration-color: #0087ff\">Dense</span>)                 │ (<span style=\"color: #00d7ff; text-decoration-color: #00d7ff\">None</span>, <span style=\"color: #00af00; text-decoration-color: #00af00\">1</span>)              │            <span style=\"color: #00af00; text-decoration-color: #00af00\">51</span> │\n",
              "└─────────────────────────────────┴────────────────────────┴───────────────┘\n",
              "</pre>\n"
            ]
          },
          "metadata": {}
        },
        {
          "output_type": "display_data",
          "data": {
            "text/plain": [
              "\u001b[1m Total params: \u001b[0m\u001b[38;5;34m104,971\u001b[0m (410.04 KB)\n"
            ],
            "text/html": [
              "<pre style=\"white-space:pre;overflow-x:auto;line-height:normal;font-family:Menlo,'DejaVu Sans Mono',consolas,'Courier New',monospace\"><span style=\"font-weight: bold\"> Total params: </span><span style=\"color: #00af00; text-decoration-color: #00af00\">104,971</span> (410.04 KB)\n",
              "</pre>\n"
            ]
          },
          "metadata": {}
        },
        {
          "output_type": "display_data",
          "data": {
            "text/plain": [
              "\u001b[1m Trainable params: \u001b[0m\u001b[38;5;34m104,971\u001b[0m (410.04 KB)\n"
            ],
            "text/html": [
              "<pre style=\"white-space:pre;overflow-x:auto;line-height:normal;font-family:Menlo,'DejaVu Sans Mono',consolas,'Courier New',monospace\"><span style=\"font-weight: bold\"> Trainable params: </span><span style=\"color: #00af00; text-decoration-color: #00af00\">104,971</span> (410.04 KB)\n",
              "</pre>\n"
            ]
          },
          "metadata": {}
        },
        {
          "output_type": "display_data",
          "data": {
            "text/plain": [
              "\u001b[1m Non-trainable params: \u001b[0m\u001b[38;5;34m0\u001b[0m (0.00 B)\n"
            ],
            "text/html": [
              "<pre style=\"white-space:pre;overflow-x:auto;line-height:normal;font-family:Menlo,'DejaVu Sans Mono',consolas,'Courier New',monospace\"><span style=\"font-weight: bold\"> Non-trainable params: </span><span style=\"color: #00af00; text-decoration-color: #00af00\">0</span> (0.00 B)\n",
              "</pre>\n"
            ]
          },
          "metadata": {}
        }
      ],
      "source": [
        "from sklearn.metrics import mean_squared_error, mean_absolute_error\n",
        "\n",
        "# --- [4] Buat Model LSTM ---\n",
        "model = Sequential()\n",
        "model.add(LSTM(128, return_sequences=True, input_shape=(X.shape[1], X.shape[2])))\n",
        "model.add(Dropout(0.2))\n",
        "model.add(LSTM(50))\n",
        "model.add(Dropout(0.2))\n",
        "model.add(Dense(1))  # Output: 1 nilai (Close price)\n",
        "\n",
        "model.compile(optimizer='adam', loss='mse', metrics=['mean_absolute_error'])\n",
        "model.summary()\n"
      ]
    },
    {
      "cell_type": "code",
      "execution_count": 74,
      "metadata": {
        "colab": {
          "base_uri": "https://localhost:8080/",
          "height": 1000
        },
        "id": "2frWIf1mqfM1",
        "outputId": "e445a3f7-e74b-4125-bac3-b29bccbc6386"
      },
      "outputs": [
        {
          "output_type": "stream",
          "name": "stdout",
          "text": [
            "Epoch 1/50\n",
            "\u001b[1m19/19\u001b[0m \u001b[32m━━━━━━━━━━━━━━━━━━━━\u001b[0m\u001b[37m\u001b[0m \u001b[1m4s\u001b[0m 31ms/step - loss: 0.1573 - mean_absolute_error: 0.2989 - val_loss: 0.0275 - val_mean_absolute_error: 0.1552\n",
            "Epoch 2/50\n",
            "\u001b[1m19/19\u001b[0m \u001b[32m━━━━━━━━━━━━━━━━━━━━\u001b[0m\u001b[37m\u001b[0m \u001b[1m0s\u001b[0m 12ms/step - loss: 0.0153 - mean_absolute_error: 0.0995 - val_loss: 0.0244 - val_mean_absolute_error: 0.1458\n",
            "Epoch 3/50\n",
            "\u001b[1m19/19\u001b[0m \u001b[32m━━━━━━━━━━━━━━━━━━━━\u001b[0m\u001b[37m\u001b[0m \u001b[1m0s\u001b[0m 12ms/step - loss: 0.0116 - mean_absolute_error: 0.0869 - val_loss: 0.0150 - val_mean_absolute_error: 0.1103\n",
            "Epoch 4/50\n",
            "\u001b[1m19/19\u001b[0m \u001b[32m━━━━━━━━━━━━━━━━━━━━\u001b[0m\u001b[37m\u001b[0m \u001b[1m0s\u001b[0m 12ms/step - loss: 0.0089 - mean_absolute_error: 0.0746 - val_loss: 0.0107 - val_mean_absolute_error: 0.0898\n",
            "Epoch 5/50\n",
            "\u001b[1m19/19\u001b[0m \u001b[32m━━━━━━━━━━━━━━━━━━━━\u001b[0m\u001b[37m\u001b[0m \u001b[1m0s\u001b[0m 11ms/step - loss: 0.0074 - mean_absolute_error: 0.0677 - val_loss: 0.0055 - val_mean_absolute_error: 0.0598\n",
            "Epoch 6/50\n",
            "\u001b[1m19/19\u001b[0m \u001b[32m━━━━━━━━━━━━━━━━━━━━\u001b[0m\u001b[37m\u001b[0m \u001b[1m0s\u001b[0m 11ms/step - loss: 0.0080 - mean_absolute_error: 0.0711 - val_loss: 0.0061 - val_mean_absolute_error: 0.0629\n",
            "Epoch 7/50\n",
            "\u001b[1m19/19\u001b[0m \u001b[32m━━━━━━━━━━━━━━━━━━━━\u001b[0m\u001b[37m\u001b[0m \u001b[1m0s\u001b[0m 14ms/step - loss: 0.0063 - mean_absolute_error: 0.0604 - val_loss: 0.0042 - val_mean_absolute_error: 0.0519\n",
            "Epoch 8/50\n",
            "\u001b[1m19/19\u001b[0m \u001b[32m━━━━━━━━━━━━━━━━━━━━\u001b[0m\u001b[37m\u001b[0m \u001b[1m0s\u001b[0m 14ms/step - loss: 0.0064 - mean_absolute_error: 0.0648 - val_loss: 0.0039 - val_mean_absolute_error: 0.0499\n",
            "Epoch 9/50\n",
            "\u001b[1m19/19\u001b[0m \u001b[32m━━━━━━━━━━━━━━━━━━━━\u001b[0m\u001b[37m\u001b[0m \u001b[1m0s\u001b[0m 11ms/step - loss: 0.0058 - mean_absolute_error: 0.0613 - val_loss: 0.0045 - val_mean_absolute_error: 0.0537\n",
            "Epoch 10/50\n",
            "\u001b[1m19/19\u001b[0m \u001b[32m━━━━━━━━━━━━━━━━━━━━\u001b[0m\u001b[37m\u001b[0m \u001b[1m0s\u001b[0m 11ms/step - loss: 0.0065 - mean_absolute_error: 0.0623 - val_loss: 0.0050 - val_mean_absolute_error: 0.0569\n",
            "Epoch 11/50\n",
            "\u001b[1m19/19\u001b[0m \u001b[32m━━━━━━━━━━━━━━━━━━━━\u001b[0m\u001b[37m\u001b[0m \u001b[1m0s\u001b[0m 11ms/step - loss: 0.0064 - mean_absolute_error: 0.0615 - val_loss: 0.0046 - val_mean_absolute_error: 0.0543\n",
            "Epoch 12/50\n",
            "\u001b[1m19/19\u001b[0m \u001b[32m━━━━━━━━━━━━━━━━━━━━\u001b[0m\u001b[37m\u001b[0m \u001b[1m0s\u001b[0m 12ms/step - loss: 0.0089 - mean_absolute_error: 0.0761 - val_loss: 0.0031 - val_mean_absolute_error: 0.0448\n",
            "Epoch 13/50\n",
            "\u001b[1m19/19\u001b[0m \u001b[32m━━━━━━━━━━━━━━━━━━━━\u001b[0m\u001b[37m\u001b[0m \u001b[1m0s\u001b[0m 11ms/step - loss: 0.0069 - mean_absolute_error: 0.0651 - val_loss: 0.0063 - val_mean_absolute_error: 0.0653\n",
            "Epoch 14/50\n",
            "\u001b[1m19/19\u001b[0m \u001b[32m━━━━━━━━━━━━━━━━━━━━\u001b[0m\u001b[37m\u001b[0m \u001b[1m0s\u001b[0m 11ms/step - loss: 0.0066 - mean_absolute_error: 0.0650 - val_loss: 0.0049 - val_mean_absolute_error: 0.0566\n",
            "Epoch 15/50\n",
            "\u001b[1m19/19\u001b[0m \u001b[32m━━━━━━━━━━━━━━━━━━━━\u001b[0m\u001b[37m\u001b[0m \u001b[1m0s\u001b[0m 12ms/step - loss: 0.0059 - mean_absolute_error: 0.0594 - val_loss: 0.0056 - val_mean_absolute_error: 0.0609\n",
            "Epoch 16/50\n",
            "\u001b[1m19/19\u001b[0m \u001b[32m━━━━━━━━━━━━━━━━━━━━\u001b[0m\u001b[37m\u001b[0m \u001b[1m0s\u001b[0m 11ms/step - loss: 0.0056 - mean_absolute_error: 0.0568 - val_loss: 0.0031 - val_mean_absolute_error: 0.0443\n",
            "Epoch 17/50\n",
            "\u001b[1m19/19\u001b[0m \u001b[32m━━━━━━━━━━━━━━━━━━━━\u001b[0m\u001b[37m\u001b[0m \u001b[1m0s\u001b[0m 12ms/step - loss: 0.0057 - mean_absolute_error: 0.0589 - val_loss: 0.0035 - val_mean_absolute_error: 0.0473\n",
            "Epoch 18/50\n",
            "\u001b[1m19/19\u001b[0m \u001b[32m━━━━━━━━━━━━━━━━━━━━\u001b[0m\u001b[37m\u001b[0m \u001b[1m0s\u001b[0m 11ms/step - loss: 0.0057 - mean_absolute_error: 0.0572 - val_loss: 0.0051 - val_mean_absolute_error: 0.0581\n",
            "Epoch 19/50\n",
            "\u001b[1m19/19\u001b[0m \u001b[32m━━━━━━━━━━━━━━━━━━━━\u001b[0m\u001b[37m\u001b[0m \u001b[1m0s\u001b[0m 11ms/step - loss: 0.0052 - mean_absolute_error: 0.0582 - val_loss: 0.0062 - val_mean_absolute_error: 0.0655\n",
            "Epoch 20/50\n",
            "\u001b[1m19/19\u001b[0m \u001b[32m━━━━━━━━━━━━━━━━━━━━\u001b[0m\u001b[37m\u001b[0m \u001b[1m0s\u001b[0m 17ms/step - loss: 0.0061 - mean_absolute_error: 0.0619 - val_loss: 0.0058 - val_mean_absolute_error: 0.0628\n",
            "Epoch 21/50\n",
            "\u001b[1m19/19\u001b[0m \u001b[32m━━━━━━━━━━━━━━━━━━━━\u001b[0m\u001b[37m\u001b[0m \u001b[1m1s\u001b[0m 17ms/step - loss: 0.0054 - mean_absolute_error: 0.0586 - val_loss: 0.0030 - val_mean_absolute_error: 0.0440\n",
            "Epoch 22/50\n",
            "\u001b[1m19/19\u001b[0m \u001b[32m━━━━━━━━━━━━━━━━━━━━\u001b[0m\u001b[37m\u001b[0m \u001b[1m0s\u001b[0m 17ms/step - loss: 0.0051 - mean_absolute_error: 0.0534 - val_loss: 0.0054 - val_mean_absolute_error: 0.0600\n",
            "Epoch 23/50\n",
            "\u001b[1m19/19\u001b[0m \u001b[32m━━━━━━━━━━━━━━━━━━━━\u001b[0m\u001b[37m\u001b[0m \u001b[1m1s\u001b[0m 16ms/step - loss: 0.0052 - mean_absolute_error: 0.0578 - val_loss: 0.0028 - val_mean_absolute_error: 0.0421\n",
            "Epoch 24/50\n",
            "\u001b[1m19/19\u001b[0m \u001b[32m━━━━━━━━━━━━━━━━━━━━\u001b[0m\u001b[37m\u001b[0m \u001b[1m1s\u001b[0m 18ms/step - loss: 0.0045 - mean_absolute_error: 0.0531 - val_loss: 0.0027 - val_mean_absolute_error: 0.0415\n",
            "Epoch 25/50\n",
            "\u001b[1m19/19\u001b[0m \u001b[32m━━━━━━━━━━━━━━━━━━━━\u001b[0m\u001b[37m\u001b[0m \u001b[1m0s\u001b[0m 12ms/step - loss: 0.0059 - mean_absolute_error: 0.0618 - val_loss: 0.0037 - val_mean_absolute_error: 0.0487\n",
            "Epoch 26/50\n",
            "\u001b[1m19/19\u001b[0m \u001b[32m━━━━━━━━━━━━━━━━━━━━\u001b[0m\u001b[37m\u001b[0m \u001b[1m0s\u001b[0m 12ms/step - loss: 0.0047 - mean_absolute_error: 0.0543 - val_loss: 0.0039 - val_mean_absolute_error: 0.0502\n",
            "Epoch 27/50\n",
            "\u001b[1m19/19\u001b[0m \u001b[32m━━━━━━━━━━━━━━━━━━━━\u001b[0m\u001b[37m\u001b[0m \u001b[1m0s\u001b[0m 11ms/step - loss: 0.0054 - mean_absolute_error: 0.0575 - val_loss: 0.0025 - val_mean_absolute_error: 0.0405\n",
            "Epoch 28/50\n",
            "\u001b[1m19/19\u001b[0m \u001b[32m━━━━━━━━━━━━━━━━━━━━\u001b[0m\u001b[37m\u001b[0m \u001b[1m0s\u001b[0m 12ms/step - loss: 0.0056 - mean_absolute_error: 0.0573 - val_loss: 0.0024 - val_mean_absolute_error: 0.0396\n",
            "Epoch 29/50\n",
            "\u001b[1m19/19\u001b[0m \u001b[32m━━━━━━━━━━━━━━━━━━━━\u001b[0m\u001b[37m\u001b[0m \u001b[1m0s\u001b[0m 11ms/step - loss: 0.0053 - mean_absolute_error: 0.0567 - val_loss: 0.0045 - val_mean_absolute_error: 0.0539\n",
            "Epoch 30/50\n",
            "\u001b[1m19/19\u001b[0m \u001b[32m━━━━━━━━━━━━━━━━━━━━\u001b[0m\u001b[37m\u001b[0m \u001b[1m0s\u001b[0m 11ms/step - loss: 0.0049 - mean_absolute_error: 0.0557 - val_loss: 0.0043 - val_mean_absolute_error: 0.0529\n",
            "Epoch 31/50\n",
            "\u001b[1m19/19\u001b[0m \u001b[32m━━━━━━━━━━━━━━━━━━━━\u001b[0m\u001b[37m\u001b[0m \u001b[1m0s\u001b[0m 13ms/step - loss: 0.0044 - mean_absolute_error: 0.0521 - val_loss: 0.0036 - val_mean_absolute_error: 0.0478\n",
            "Epoch 32/50\n",
            "\u001b[1m19/19\u001b[0m \u001b[32m━━━━━━━━━━━━━━━━━━━━\u001b[0m\u001b[37m\u001b[0m \u001b[1m0s\u001b[0m 12ms/step - loss: 0.0055 - mean_absolute_error: 0.0575 - val_loss: 0.0036 - val_mean_absolute_error: 0.0479\n",
            "Epoch 33/50\n",
            "\u001b[1m19/19\u001b[0m \u001b[32m━━━━━━━━━━━━━━━━━━━━\u001b[0m\u001b[37m\u001b[0m \u001b[1m0s\u001b[0m 13ms/step - loss: 0.0041 - mean_absolute_error: 0.0508 - val_loss: 0.0034 - val_mean_absolute_error: 0.0463\n",
            "Epoch 34/50\n",
            "\u001b[1m19/19\u001b[0m \u001b[32m━━━━━━━━━━━━━━━━━━━━\u001b[0m\u001b[37m\u001b[0m \u001b[1m0s\u001b[0m 13ms/step - loss: 0.0046 - mean_absolute_error: 0.0528 - val_loss: 0.0028 - val_mean_absolute_error: 0.0422\n",
            "Epoch 35/50\n",
            "\u001b[1m19/19\u001b[0m \u001b[32m━━━━━━━━━━━━━━━━━━━━\u001b[0m\u001b[37m\u001b[0m \u001b[1m0s\u001b[0m 13ms/step - loss: 0.0042 - mean_absolute_error: 0.0512 - val_loss: 0.0029 - val_mean_absolute_error: 0.0426\n",
            "Epoch 36/50\n",
            "\u001b[1m19/19\u001b[0m \u001b[32m━━━━━━━━━━━━━━━━━━━━\u001b[0m\u001b[37m\u001b[0m \u001b[1m0s\u001b[0m 12ms/step - loss: 0.0055 - mean_absolute_error: 0.0569 - val_loss: 0.0038 - val_mean_absolute_error: 0.0493\n",
            "Epoch 37/50\n",
            "\u001b[1m19/19\u001b[0m \u001b[32m━━━━━━━━━━━━━━━━━━━━\u001b[0m\u001b[37m\u001b[0m \u001b[1m0s\u001b[0m 11ms/step - loss: 0.0051 - mean_absolute_error: 0.0559 - val_loss: 0.0030 - val_mean_absolute_error: 0.0432\n",
            "Epoch 38/50\n",
            "\u001b[1m19/19\u001b[0m \u001b[32m━━━━━━━━━━━━━━━━━━━━\u001b[0m\u001b[37m\u001b[0m \u001b[1m0s\u001b[0m 12ms/step - loss: 0.0047 - mean_absolute_error: 0.0533 - val_loss: 0.0027 - val_mean_absolute_error: 0.0412\n",
            "Epoch 39/50\n",
            "\u001b[1m19/19\u001b[0m \u001b[32m━━━━━━━━━━━━━━━━━━━━\u001b[0m\u001b[37m\u001b[0m \u001b[1m0s\u001b[0m 12ms/step - loss: 0.0039 - mean_absolute_error: 0.0486 - val_loss: 0.0027 - val_mean_absolute_error: 0.0416\n",
            "Epoch 40/50\n",
            "\u001b[1m19/19\u001b[0m \u001b[32m━━━━━━━━━━━━━━━━━━━━\u001b[0m\u001b[37m\u001b[0m \u001b[1m0s\u001b[0m 11ms/step - loss: 0.0042 - mean_absolute_error: 0.0518 - val_loss: 0.0024 - val_mean_absolute_error: 0.0399\n",
            "Epoch 41/50\n",
            "\u001b[1m19/19\u001b[0m \u001b[32m━━━━━━━━━━━━━━━━━━━━\u001b[0m\u001b[37m\u001b[0m \u001b[1m0s\u001b[0m 13ms/step - loss: 0.0045 - mean_absolute_error: 0.0530 - val_loss: 0.0024 - val_mean_absolute_error: 0.0395\n",
            "Epoch 42/50\n",
            "\u001b[1m19/19\u001b[0m \u001b[32m━━━━━━━━━━━━━━━━━━━━\u001b[0m\u001b[37m\u001b[0m \u001b[1m0s\u001b[0m 12ms/step - loss: 0.0048 - mean_absolute_error: 0.0536 - val_loss: 0.0027 - val_mean_absolute_error: 0.0416\n",
            "Epoch 43/50\n",
            "\u001b[1m19/19\u001b[0m \u001b[32m━━━━━━━━━━━━━━━━━━━━\u001b[0m\u001b[37m\u001b[0m \u001b[1m0s\u001b[0m 11ms/step - loss: 0.0050 - mean_absolute_error: 0.0557 - val_loss: 0.0035 - val_mean_absolute_error: 0.0466\n",
            "Epoch 44/50\n",
            "\u001b[1m19/19\u001b[0m \u001b[32m━━━━━━━━━━━━━━━━━━━━\u001b[0m\u001b[37m\u001b[0m \u001b[1m0s\u001b[0m 12ms/step - loss: 0.0045 - mean_absolute_error: 0.0535 - val_loss: 0.0032 - val_mean_absolute_error: 0.0449\n",
            "Epoch 45/50\n",
            "\u001b[1m19/19\u001b[0m \u001b[32m━━━━━━━━━━━━━━━━━━━━\u001b[0m\u001b[37m\u001b[0m \u001b[1m0s\u001b[0m 11ms/step - loss: 0.0043 - mean_absolute_error: 0.0523 - val_loss: 0.0024 - val_mean_absolute_error: 0.0396\n",
            "Epoch 46/50\n",
            "\u001b[1m19/19\u001b[0m \u001b[32m━━━━━━━━━━━━━━━━━━━━\u001b[0m\u001b[37m\u001b[0m \u001b[1m0s\u001b[0m 12ms/step - loss: 0.0046 - mean_absolute_error: 0.0546 - val_loss: 0.0026 - val_mean_absolute_error: 0.0407\n",
            "Epoch 47/50\n",
            "\u001b[1m19/19\u001b[0m \u001b[32m━━━━━━━━━━━━━━━━━━━━\u001b[0m\u001b[37m\u001b[0m \u001b[1m0s\u001b[0m 11ms/step - loss: 0.0042 - mean_absolute_error: 0.0505 - val_loss: 0.0025 - val_mean_absolute_error: 0.0399\n",
            "Epoch 48/50\n",
            "\u001b[1m19/19\u001b[0m \u001b[32m━━━━━━━━━━━━━━━━━━━━\u001b[0m\u001b[37m\u001b[0m \u001b[1m0s\u001b[0m 11ms/step - loss: 0.0047 - mean_absolute_error: 0.0543 - val_loss: 0.0029 - val_mean_absolute_error: 0.0424\n",
            "Epoch 49/50\n",
            "\u001b[1m19/19\u001b[0m \u001b[32m━━━━━━━━━━━━━━━━━━━━\u001b[0m\u001b[37m\u001b[0m \u001b[1m0s\u001b[0m 13ms/step - loss: 0.0050 - mean_absolute_error: 0.0558 - val_loss: 0.0024 - val_mean_absolute_error: 0.0398\n",
            "Epoch 50/50\n",
            "\u001b[1m19/19\u001b[0m \u001b[32m━━━━━━━━━━━━━━━━━━━━\u001b[0m\u001b[37m\u001b[0m \u001b[1m0s\u001b[0m 13ms/step - loss: 0.0053 - mean_absolute_error: 0.0566 - val_loss: 0.0030 - val_mean_absolute_error: 0.0430\n"
          ]
        },
        {
          "output_type": "display_data",
          "data": {
            "text/plain": [
              "<Figure size 640x480 with 1 Axes>"
            ],
            "image/png": "[encoded data removed]"
          },
          "metadata": {}
        },
        {
          "output_type": "stream",
          "name": "stdout",
          "text": [
            "\u001b[1m7/7\u001b[0m \u001b[32m━━━━━━━━━━━━━━━━━━━━\u001b[0m\u001b[37m\u001b[0m \u001b[1m0s\u001b[0m 29ms/step\n",
            "RMSE: 109.1036881398154\n",
            "MAE: 86.19593850160257\n",
            "MAPE: 3.18%\n"
          ]
        }
      ],
      "source": [
        "# --- [5] Training Model ---\n",
        "history = model.fit(X_train, y_train, epochs=50, batch_size=32, validation_data=(X_test, y_test))\n",
        "\n",
        "# --- [6] Plot Loss ---\n",
        "plt.plot(history.history['loss'], label='Training Loss')\n",
        "plt.plot(history.history['val_loss'], label='Validation Loss')\n",
        "plt.legend()\n",
        "plt.show()\n",
        "\n",
        "# --- [7] Evaluasi Model ---\n",
        "y_pred = model.predict(X_test)\n",
        "\n",
        "# reshape ke 2 dimensi\n",
        "y_pred_2d = y_pred.reshape(-1, 1)\n",
        "y_test_2d = y_test.reshape(-1, 1)\n",
        "\n",
        "# inverse transform\n",
        "from joblib import load\n",
        "close_scaler = load('scaler_close_3.pkl')\n",
        "\n",
        "y_pred_orig = close_scaler.inverse_transform(y_pred_2d)\n",
        "y_test_orig = close_scaler.inverse_transform(y_test_2d)\n",
        "\n",
        "# hitung metrik evaluasi\n",
        "\n",
        "rmse = np.sqrt(mean_squared_error(y_test_orig, y_pred_orig))\n",
        "mae = mean_absolute_error(y_test_orig, y_pred_orig)\n",
        "mape = np.mean(np.abs((y_test_orig - y_pred_orig) / y_test_orig)) * 100\n",
        "\n",
        "print(f'RMSE: {rmse}')\n",
        "print(f'MAE: {mae}')\n",
        "print(f'MAPE: {mape:.2f}%')"
      ]
    },
    {
      "cell_type": "markdown",
      "source": [
        "#Summary"
      ],
      "metadata": {
        "id": "88X3OiQTpHJF"
      }
    },
    {
      "cell_type": "markdown",
      "source": [
        "Pengujian data\n",
        "\n",
        "\n",
        "*   Data split dengan 80:20 BILSTM mendapatkan hasil Mape 2.95\n",
        "*   Data split dengan 70:30 BILSTM mendapatkan hasil Mape 3.87\n",
        "*   Data split dengan 90:10 BILSTM mendapatkan hasil Mape 3.49\n",
        "*   Data split dengan 85:15 BILSTM mendapatkan hasil Mape 3.07\n",
        "*   Data split dengan 75:25 BILSTM mendapatkan hasil Mape 2.74\n",
        "\n",
        "*   Data split dengan 75:2 LSTM mendapatkan hasil Mape 2.90\n",
        "\n",
        "\n"
      ],
      "metadata": {
        "id": "0K69t8CEpKNF"
      }
    },
    {
      "cell_type": "markdown",
      "metadata": {
        "id": "so6rSWpww2N0"
      },
      "source": [
        "#Deploy Model"
      ]
    },
    {
      "cell_type": "code",
      "execution_count": 74,
      "metadata": {
        "id": "27UtoOFJgvZZ",
        "colab": {
          "base_uri": "https://localhost:8080/"
        },
        "outputId": "43f19b62-069a-44ab-e036-d9b7f2390960"
      },
      "outputs": [
        {
          "output_type": "execute_result",
          "data": {
            "text/plain": [
              "(None, 30, 6)"
            ]
          },
          "metadata": {},
          "execution_count": 74
        }
      ],
      "source": [
        "model.input_shape"
      ]
    },
    {
      "cell_type": "code",
      "execution_count": 75,
      "metadata": {
        "id": "ri38hTnx0ZNN",
        "colab": {
          "base_uri": "https://localhost:8080/"
        },
        "outputId": "394a45f6-f29f-4cc1-cfdf-4e0089739f7e"
      },
      "outputs": [
        {
          "output_type": "stream",
          "name": "stderr",
          "text": [
            "WARNING:absl:You are saving your model as an HDF5 file via `model.save()` or `keras.saving.save_model(model)`. This file format is considered legacy. We recommend using instead the native Keras format, e.g. `model.save('my_model.keras')` or `keras.saving.save_model(model, 'my_model.keras')`. \n"
          ]
        }
      ],
      "source": [
        "model.save('bilstm_model_3.h5')"
      ]
    },
    {
      "cell_type": "code",
      "execution_count": 76,
      "metadata": {
        "id": "2zp7Qwx99NNO"
      },
      "outputs": [],
      "source": [
        "model.save(\"BILSTM_model.keras\")  # format baru"
      ]
    },
    {
      "cell_type": "markdown",
      "source": [
        "#Dependency library"
      ],
      "metadata": {
        "id": "sbTEQL8UgEBW"
      }
    },
    {
      "cell_type": "code",
      "source": [
        "!pip freeze > requirements_3.txt"
      ],
      "metadata": {
        "id": "05CMtO70fb2k"
      },
      "execution_count": 77,
      "outputs": []
    },
    {
      "cell_type": "code",
      "source": [
        "%%writefile requirements_3.txt\n",
        "pandas==2.2.2   # Ganti dengan versi Pandas yang Anda dapat\n",
        "numpy==2.0.2     # Ganti dengan versi NumPy yang Anda dapat\n",
        "tensorflow==2.19.0 # Ganti dengan versi TensorFlow yang Anda dapat (misal 2.15.0 atau 2.16.1)\n",
        "# Jika Anda menggunakan Keras 3.x terpisah (bukan tf.keras)\n",
        "# keras==3.8.0     # Ganti dengan versi Keras yang Anda dapat\n",
        "yfinance==0.2.XX   # Ganti dengan versi yfinance yang Anda dapat\n",
        "scikit-learn== 1.6.1 # Ganti dengan versi scikit-learn\n",
        "joblib==1.5.1    # Ganti dengan versi joblib"
      ],
      "metadata": {
        "colab": {
          "base_uri": "https://localhost:8080/"
        },
        "id": "tW_yr_FRgJOr",
        "outputId": "9d4d7fd4-2024-4ab1-fef0-d68e9050a0b1"
      },
      "execution_count": 78,
      "outputs": [
        {
          "output_type": "stream",
          "name": "stdout",
          "text": [
            "Overwriting requirements_3.txt\n"
          ]
        }
      ]
    },
    {
      "cell_type": "code",
      "source": [
        "from google.colab import files\n",
        "files.download('requirements_3.txt')"
      ],
      "metadata": {
        "colab": {
          "base_uri": "https://localhost:8080/",
          "height": 17
        },
        "id": "FXe6uLTygLB2",
        "outputId": "7ba0ebe8-48e6-4cdd-a2e2-15b4dde9f9b9"
      },
      "execution_count": 79,
      "outputs": [
        {
          "output_type": "display_data",
          "data": {
            "text/plain": [
              "<IPython.core.display.Javascript object>"
            ],
            "application/javascript": [
              "\n",
              "    async function download(id, filename, size) {\n",
              "      if (!google.colab.kernel.accessAllowed) {\n",
              "        return;\n",
              "      }\n",
              "      const div = document.createElement('div');\n",
              "      const label = document.createElement('label');\n",
              "      label.textContent = `Downloading \"${filename}\": `;\n",
              "      div.appendChild(label);\n",
              "      const progress = document.createElement('progress');\n",
              "      progress.max = size;\n",
              "      div.appendChild(progress);\n",
              "      document.body.appendChild(div);\n",
              "\n",
              "      const buffers = [];\n",
              "      let downloaded = 0;\n",
              "\n",
              "      const channel = await google.colab.kernel.comms.open(id);\n",
              "      // Send a message to notify the kernel that we're ready.\n",
              "      channel.send({})\n",
              "\n",
              "      for await (const message of channel.messages) {\n",
              "        // Send a message to notify the kernel that we're ready.\n",
              "        channel.send({})\n",
              "        if (message.buffers) {\n",
              "          for (const buffer of message.buffers) {\n",
              "            buffers.push(buffer);\n",
              "            downloaded += buffer.byteLength;\n",
              "            progress.value = downloaded;\n",
              "          }\n",
              "        }\n",
              "      }\n",
              "      const blob = new Blob(buffers, {type: 'application/binary'});\n",
              "      const a = document.createElement('a');\n",
              "      a.href = window.URL.createObjectURL(blob);\n",
              "      a.download = filename;\n",
              "      div.appendChild(a);\n",
              "      a.click();\n",
              "      div.remove();\n",
              "    }\n",
              "  "
            ]
          },
          "metadata": {}
        },
        {
          "output_type": "display_data",
          "data": {
            "text/plain": [
              "<IPython.core.display.Javascript object>"
            ],
            "application/javascript": [
              "download(\"download_adc74806-4400-476d-a605-f1a2b9e6359b\", \"requirements_3.txt\", 501)"
            ]
          },
          "metadata": {}
        }
      ]
    }
  ],
  "metadata": {
    "accelerator": "GPU",
    "colab": {
      "gpuType": "T4",
      "provenance": [],
      "toc_visible": true
    },
    "kernelspec": {
      "display_name": "Python 3",
      "name": "python3"
    },
    "language_info": {
      "name": "python"
    }
  },
  "nbformat": 4,
  "nbformat_minor": 0
}